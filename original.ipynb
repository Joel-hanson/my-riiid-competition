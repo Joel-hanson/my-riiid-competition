{
 "cells": [
  {
   "cell_type": "markdown",
   "metadata": {},
   "source": [
    "#### Imports"
   ]
  },
  {
   "cell_type": "code",
   "execution_count": 1,
   "metadata": {},
   "outputs": [],
   "source": [
    "import pandas as pd\n",
    "import numpy as np\n",
    "import lightgbm as lgb\n",
    "import matplotlib.pyplot as plt\n",
    "import seaborn as sns\n",
    "\n",
    "from cairosvg import svg2png\n",
    "from PIL import Image\n",
    "from io import BytesIO\n",
    "from tqdm import tqdm\n",
    "# from sklearn.metrics import roc_auc_score\n",
    "\n",
    "pd.set_option('display.max_rows', 100)\n",
    "pd.set_option('display.float_format', lambda x: '%.5f' % x)\n",
    "\n",
    "KAGGLE = 0"
   ]
  },
  {
   "cell_type": "markdown",
   "metadata": {},
   "source": [
    "#### Global Variables"
   ]
  },
  {
   "cell_type": "code",
   "execution_count": 2,
   "metadata": {},
   "outputs": [],
   "source": [
    "TRAIN_CSV_PATH = 'train.feather'\n",
    "QUESTIONS_CSV_PATH = 'questions.csv'\n",
    "LECTURES_CSV_PATH = 'lectures.csv'\n",
    "TEST_CSV_PATH = 'test.csv'\n",
    "SAMPLE_CSV_PATH = 'example_sample_submission.csv'\n",
    "\n",
    "if KAGGLE:\n",
    "    TRAIN_CSV_PATH = '/kaggle/input/riiid-test-answer-prediction/train.csv'\n",
    "    QUESTIONS_CSV_PATH = '/kaggle/input/riiid-test-answer-prediction/questions.csv'\n",
    "    LECTURES_CSV_PATH = '/kaggle/input/riiid-test-answer-prediction/lectures.csv'\n",
    "    TEST_CSV_PATH = '/kaggle/input/riiid-test-answer-prediction/test.csv'\n",
    "    SAMPLE_CSV_PATH = '/kaggle/input/riiid-test-answer-prediction/example_sample_submission.csv'\n",
    "\n",
    "COLUMN_TYPES = {\n",
    "    'row_id': 'int64',\n",
    "    'timestamp': 'int64',\n",
    "    'user_id': 'int32',\n",
    "    'content_id': 'int16',\n",
    "    'content_type_id': 'int8',\n",
    "    'task_container_id': 'int16',\n",
    "    'user_answer': 'int8',\n",
    "    'answered_correctly': 'int8',\n",
    "    'prior_question_elapsed_time': 'float32',\n",
    "    'prior_question_had_explanation': 'boolean'\n",
    "}"
   ]
  },
  {
   "cell_type": "code",
   "execution_count": 3,
   "metadata": {},
   "outputs": [],
   "source": [
    "# train_df = pd.read_csv(TRAIN_CSV_PATH, nrows=10**5, dtype=COLUMN_TYPES)\n",
    "train_df = pd.read_feather(TRAIN_CSV_PATH)\n",
    "train_df = train_df.iloc[:3 * (10 ** 5)]\n",
    "questions_df = pd.read_csv(QUESTIONS_CSV_PATH)\n",
    "lectures_df = pd.read_csv(LECTURES_CSV_PATH)"
   ]
  },
  {
   "cell_type": "markdown",
   "metadata": {},
   "source": [
    "### Check for question specific features"
   ]
  },
  {
   "cell_type": "code",
   "execution_count": 4,
   "metadata": {},
   "outputs": [
    {
     "output_type": "execute_result",
     "data": {
      "text/plain": [
       "        row_id  timestamp  user_id  content_id  content_type_id  \\\n",
       "0            0          0      115        5692                0   \n",
       "1            1      56943      115        5716                0   \n",
       "2            2     118363      115         128                0   \n",
       "3            3     131167      115        7860                0   \n",
       "4            4     137965      115        7922                0   \n",
       "...        ...        ...      ...         ...              ...   \n",
       "299995  299995     410223  5615405        2946                0   \n",
       "299996  299996     528172  5615405        2594                0   \n",
       "299997  299997     528172  5615405        2593                0   \n",
       "299998  299998     528172  5615405        2595                0   \n",
       "299999  299999     553634  5615405        4492                0   \n",
       "\n",
       "        task_container_id  user_answer  answered_correctly  \\\n",
       "0                       1            3                   1   \n",
       "1                       2            2                   1   \n",
       "2                       0            0                   1   \n",
       "3                       3            0                   1   \n",
       "4                       4            1                   1   \n",
       "...                   ...          ...                 ...   \n",
       "299995                  6            0                   0   \n",
       "299996                  7            2                   1   \n",
       "299997                  7            3                   1   \n",
       "299998                  7            3                   0   \n",
       "299999                  8            0                   0   \n",
       "\n",
       "        prior_question_elapsed_time  prior_question_had_explanation  \n",
       "0                               nan                            <NA>  \n",
       "1                       37000.00000                           False  \n",
       "2                       55000.00000                           False  \n",
       "3                       19000.00000                           False  \n",
       "4                       11000.00000                           False  \n",
       "...                             ...                             ...  \n",
       "299995                  39000.00000                           False  \n",
       "299996                  27666.00000                           False  \n",
       "299997                  27666.00000                           False  \n",
       "299998                  27666.00000                           False  \n",
       "299999                  38000.00000                           False  \n",
       "\n",
       "[300000 rows x 10 columns]"
      ],
      "text/html": "<div>\n<style scoped>\n    .dataframe tbody tr th:only-of-type {\n        vertical-align: middle;\n    }\n\n    .dataframe tbody tr th {\n        vertical-align: top;\n    }\n\n    .dataframe thead th {\n        text-align: right;\n    }\n</style>\n<table border=\"1\" class=\"dataframe\">\n  <thead>\n    <tr style=\"text-align: right;\">\n      <th></th>\n      <th>row_id</th>\n      <th>timestamp</th>\n      <th>user_id</th>\n      <th>content_id</th>\n      <th>content_type_id</th>\n      <th>task_container_id</th>\n      <th>user_answer</th>\n      <th>answered_correctly</th>\n      <th>prior_question_elapsed_time</th>\n      <th>prior_question_had_explanation</th>\n    </tr>\n  </thead>\n  <tbody>\n    <tr>\n      <th>0</th>\n      <td>0</td>\n      <td>0</td>\n      <td>115</td>\n      <td>5692</td>\n      <td>0</td>\n      <td>1</td>\n      <td>3</td>\n      <td>1</td>\n      <td>nan</td>\n      <td>&lt;NA&gt;</td>\n    </tr>\n    <tr>\n      <th>1</th>\n      <td>1</td>\n      <td>56943</td>\n      <td>115</td>\n      <td>5716</td>\n      <td>0</td>\n      <td>2</td>\n      <td>2</td>\n      <td>1</td>\n      <td>37000.00000</td>\n      <td>False</td>\n    </tr>\n    <tr>\n      <th>2</th>\n      <td>2</td>\n      <td>118363</td>\n      <td>115</td>\n      <td>128</td>\n      <td>0</td>\n      <td>0</td>\n      <td>0</td>\n      <td>1</td>\n      <td>55000.00000</td>\n      <td>False</td>\n    </tr>\n    <tr>\n      <th>3</th>\n      <td>3</td>\n      <td>131167</td>\n      <td>115</td>\n      <td>7860</td>\n      <td>0</td>\n      <td>3</td>\n      <td>0</td>\n      <td>1</td>\n      <td>19000.00000</td>\n      <td>False</td>\n    </tr>\n    <tr>\n      <th>4</th>\n      <td>4</td>\n      <td>137965</td>\n      <td>115</td>\n      <td>7922</td>\n      <td>0</td>\n      <td>4</td>\n      <td>1</td>\n      <td>1</td>\n      <td>11000.00000</td>\n      <td>False</td>\n    </tr>\n    <tr>\n      <th>...</th>\n      <td>...</td>\n      <td>...</td>\n      <td>...</td>\n      <td>...</td>\n      <td>...</td>\n      <td>...</td>\n      <td>...</td>\n      <td>...</td>\n      <td>...</td>\n      <td>...</td>\n    </tr>\n    <tr>\n      <th>299995</th>\n      <td>299995</td>\n      <td>410223</td>\n      <td>5615405</td>\n      <td>2946</td>\n      <td>0</td>\n      <td>6</td>\n      <td>0</td>\n      <td>0</td>\n      <td>39000.00000</td>\n      <td>False</td>\n    </tr>\n    <tr>\n      <th>299996</th>\n      <td>299996</td>\n      <td>528172</td>\n      <td>5615405</td>\n      <td>2594</td>\n      <td>0</td>\n      <td>7</td>\n      <td>2</td>\n      <td>1</td>\n      <td>27666.00000</td>\n      <td>False</td>\n    </tr>\n    <tr>\n      <th>299997</th>\n      <td>299997</td>\n      <td>528172</td>\n      <td>5615405</td>\n      <td>2593</td>\n      <td>0</td>\n      <td>7</td>\n      <td>3</td>\n      <td>1</td>\n      <td>27666.00000</td>\n      <td>False</td>\n    </tr>\n    <tr>\n      <th>299998</th>\n      <td>299998</td>\n      <td>528172</td>\n      <td>5615405</td>\n      <td>2595</td>\n      <td>0</td>\n      <td>7</td>\n      <td>3</td>\n      <td>0</td>\n      <td>27666.00000</td>\n      <td>False</td>\n    </tr>\n    <tr>\n      <th>299999</th>\n      <td>299999</td>\n      <td>553634</td>\n      <td>5615405</td>\n      <td>4492</td>\n      <td>0</td>\n      <td>8</td>\n      <td>0</td>\n      <td>0</td>\n      <td>38000.00000</td>\n      <td>False</td>\n    </tr>\n  </tbody>\n</table>\n<p>300000 rows × 10 columns</p>\n</div>"
     },
     "metadata": {},
     "execution_count": 4
    }
   ],
   "source": [
    "train_df"
   ]
  },
  {
   "cell_type": "code",
   "execution_count": 5,
   "metadata": {},
   "outputs": [
    {
     "output_type": "execute_result",
     "data": {
      "text/plain": [
       "Empty DataFrame\n",
       "Columns: [question_id, bundle_id, correct_answer, part, tags]\n",
       "Index: []"
      ],
      "text/html": "<div>\n<style scoped>\n    .dataframe tbody tr th:only-of-type {\n        vertical-align: middle;\n    }\n\n    .dataframe tbody tr th {\n        vertical-align: top;\n    }\n\n    .dataframe thead th {\n        text-align: right;\n    }\n</style>\n<table border=\"1\" class=\"dataframe\">\n  <thead>\n    <tr style=\"text-align: right;\">\n      <th></th>\n      <th>question_id</th>\n      <th>bundle_id</th>\n      <th>correct_answer</th>\n      <th>part</th>\n      <th>tags</th>\n    </tr>\n  </thead>\n  <tbody>\n  </tbody>\n</table>\n</div>"
     },
     "metadata": {},
     "execution_count": 5
    }
   ],
   "source": [
    "questions_df[questions_df.tags.isna()] = questions_df[questions_df.tags.isna()].fillna(\"\")\n",
    "questions_df[questions_df.tags.isna()]"
   ]
  },
  {
   "cell_type": "code",
   "execution_count": 6,
   "metadata": {},
   "outputs": [],
   "source": [
    "tag_counts = questions_df[['tags', 'question_id']].groupby('tags')['tags'].count()\n",
    "tag_counts_list = list(tag_counts.sort_values().index.values)\n",
    "questions_df['tag_count_wise_id'] = questions_df.apply(lambda row: tag_counts_list.index(row.tags), axis=1)"
   ]
  },
  {
   "cell_type": "code",
   "execution_count": 7,
   "metadata": {},
   "outputs": [],
   "source": [
    "questions_df['number_of_tags'] = questions_df.apply(lambda row: len(row.tags.split(\" \")), axis=1)\n"
   ]
  },
  {
   "source": [
    "### The lecture specific data creation"
   ],
   "cell_type": "markdown",
   "metadata": {}
  },
  {
   "cell_type": "code",
   "execution_count": 8,
   "metadata": {},
   "outputs": [],
   "source": [
    "# The lecture based dict for type of and part\n",
    "lecture_dict = lectures_df.set_index(\"lecture_id\").to_dict(orient=\"index\")\n",
    "lecture_comprehensive_type_of_dict = lectures_df.set_index('type_of').groupby(level=0).apply(lambda row: row.to_dict('list')).to_dict()\n",
    "lecture_comprehensive_part_dict = lectures_df.set_index('part').groupby(level=0).apply(lambda row: row.to_dict('list')).to_dict()"
   ]
  },
  {
   "cell_type": "code",
   "execution_count": 9,
   "metadata": {},
   "outputs": [],
   "source": [
    "for key in lecture_comprehensive_part_dict:\n",
    "    lecture_comprehensive_part_dict[key]['tag'] = list(set(lecture_comprehensive_part_dict[key]['tag']))\n",
    "    lecture_comprehensive_part_dict[key]['type_of'] = list(set(lecture_comprehensive_part_dict[key]['type_of']))\n",
    "\n",
    "for key in lecture_comprehensive_type_of_dict:\n",
    "    lecture_comprehensive_type_of_dict[key]['tag'] = list(set(lecture_comprehensive_type_of_dict[key]['tag']))\n",
    "    lecture_comprehensive_type_of_dict[key]['part'] = list(set(lecture_comprehensive_type_of_dict[key]['part']))"
   ]
  },
  {
   "source": [
    "### common function"
   ],
   "cell_type": "markdown",
   "metadata": {}
  },
  {
   "cell_type": "code",
   "execution_count": 10,
   "metadata": {},
   "outputs": [],
   "source": [
    "def convert_timestamp_in_parts(millis):\n",
    "    seconds = (millis / 1000)\n",
    "    minutes = (seconds / 60)\n",
    "    hours = (minutes / 60)\n",
    "    days = (hours / 24)\n",
    "    return days, hours, minutes, seconds\n",
    "\n",
    "def get_timestamp_in_parts(row):\n",
    "    millis = row.timestamp\n",
    "    seconds = (millis / 1000)\n",
    "    minutes = (seconds / 60)\n",
    "    hours = (minutes / 60)\n",
    "    days = (hours / 24)\n",
    "    return days, hours\n",
    "\n",
    "def get_prior_elasped_time_in_parts(row):\n",
    "    prior_millis = row.prior_question_elapsed_time\n",
    "    prior_seconds = (prior_millis / 1000)\n",
    "    prior_minutes = (prior_seconds / 60)\n",
    "    return prior_minutes"
   ]
  },
  {
   "cell_type": "markdown",
   "metadata": {},
   "source": [
    "### Set User specific features"
   ]
  },
  {
   "cell_type": "markdown",
   "metadata": {},
   "source": [
    "##### 1. Get timestamp as hours and minutes"
   ]
  },
  {
   "cell_type": "code",
   "execution_count": 11,
   "metadata": {},
   "outputs": [],
   "source": [
    "train_df[['days', 'hours']] = [*train_df.apply(lambda row: get_timestamp_in_parts(row), axis=1)]\n",
    "train_df['prior_minutes'] = train_df.apply(lambda row: get_prior_elasped_time_in_parts(row), axis=1)"
   ]
  },
  {
   "cell_type": "markdown",
   "metadata": {},
   "source": [
    "##### 2. Find the intro rows."
   ]
  },
  {
   "cell_type": "code",
   "execution_count": 13,
   "metadata": {},
   "outputs": [
    {
     "output_type": "execute_result",
     "data": {
      "text/plain": [
       "   row_id  timestamp  user_id  content_id  content_type_id  task_container_id  \\\n",
       "0       0          0      115        5692                0                  1   \n",
       "1       1      56943      115        5716                0                  2   \n",
       "2       2     118363      115         128                0                  0   \n",
       "3       3     131167      115        7860                0                  3   \n",
       "4       4     137965      115        7922                0                  4   \n",
       "\n",
       "   user_answer  answered_correctly  prior_question_elapsed_time  \\\n",
       "0            3                   1                          nan   \n",
       "1            2                   1                  37000.00000   \n",
       "2            0                   1                  55000.00000   \n",
       "3            0                   1                  19000.00000   \n",
       "4            1                   1                  11000.00000   \n",
       "\n",
       "   prior_question_had_explanation    days   hours  prior_minutes  \\\n",
       "0                            <NA> 0.00000 0.00000            nan   \n",
       "1                           False 0.00066 0.01582        0.61667   \n",
       "2                           False 0.00137 0.03288        0.91667   \n",
       "3                           False 0.00152 0.03644        0.31667   \n",
       "4                           False 0.00160 0.03832        0.18333   \n",
       "\n",
       "   intro_section  \n",
       "0           True  \n",
       "1          False  \n",
       "2           True  \n",
       "3          False  \n",
       "4          False  "
      ],
      "text/html": "<div>\n<style scoped>\n    .dataframe tbody tr th:only-of-type {\n        vertical-align: middle;\n    }\n\n    .dataframe tbody tr th {\n        vertical-align: top;\n    }\n\n    .dataframe thead th {\n        text-align: right;\n    }\n</style>\n<table border=\"1\" class=\"dataframe\">\n  <thead>\n    <tr style=\"text-align: right;\">\n      <th></th>\n      <th>row_id</th>\n      <th>timestamp</th>\n      <th>user_id</th>\n      <th>content_id</th>\n      <th>content_type_id</th>\n      <th>task_container_id</th>\n      <th>user_answer</th>\n      <th>answered_correctly</th>\n      <th>prior_question_elapsed_time</th>\n      <th>prior_question_had_explanation</th>\n      <th>days</th>\n      <th>hours</th>\n      <th>prior_minutes</th>\n      <th>intro_section</th>\n    </tr>\n  </thead>\n  <tbody>\n    <tr>\n      <th>0</th>\n      <td>0</td>\n      <td>0</td>\n      <td>115</td>\n      <td>5692</td>\n      <td>0</td>\n      <td>1</td>\n      <td>3</td>\n      <td>1</td>\n      <td>nan</td>\n      <td>&lt;NA&gt;</td>\n      <td>0.00000</td>\n      <td>0.00000</td>\n      <td>nan</td>\n      <td>True</td>\n    </tr>\n    <tr>\n      <th>1</th>\n      <td>1</td>\n      <td>56943</td>\n      <td>115</td>\n      <td>5716</td>\n      <td>0</td>\n      <td>2</td>\n      <td>2</td>\n      <td>1</td>\n      <td>37000.00000</td>\n      <td>False</td>\n      <td>0.00066</td>\n      <td>0.01582</td>\n      <td>0.61667</td>\n      <td>False</td>\n    </tr>\n    <tr>\n      <th>2</th>\n      <td>2</td>\n      <td>118363</td>\n      <td>115</td>\n      <td>128</td>\n      <td>0</td>\n      <td>0</td>\n      <td>0</td>\n      <td>1</td>\n      <td>55000.00000</td>\n      <td>False</td>\n      <td>0.00137</td>\n      <td>0.03288</td>\n      <td>0.91667</td>\n      <td>True</td>\n    </tr>\n    <tr>\n      <th>3</th>\n      <td>3</td>\n      <td>131167</td>\n      <td>115</td>\n      <td>7860</td>\n      <td>0</td>\n      <td>3</td>\n      <td>0</td>\n      <td>1</td>\n      <td>19000.00000</td>\n      <td>False</td>\n      <td>0.00152</td>\n      <td>0.03644</td>\n      <td>0.31667</td>\n      <td>False</td>\n    </tr>\n    <tr>\n      <th>4</th>\n      <td>4</td>\n      <td>137965</td>\n      <td>115</td>\n      <td>7922</td>\n      <td>0</td>\n      <td>4</td>\n      <td>1</td>\n      <td>1</td>\n      <td>11000.00000</td>\n      <td>False</td>\n      <td>0.00160</td>\n      <td>0.03832</td>\n      <td>0.18333</td>\n      <td>False</td>\n    </tr>\n  </tbody>\n</table>\n</div>"
     },
     "metadata": {},
     "execution_count": 13
    }
   ],
   "source": [
    "starter_ids = train_df[(train_df.timestamp == 0)].task_container_id.unique()\n",
    "train_df['intro_section'] = train_df.apply(lambda row: (row.task_container_id in starter_ids or row.task_container_id == 0), axis=1)\n",
    "train_df.head()"
   ]
  },
  {
   "cell_type": "markdown",
   "metadata": {},
   "source": [
    "##### 3. The actions after the lectures should be tagged with something."
   ]
  },
  {
   "cell_type": "code",
   "execution_count": 14,
   "metadata": {},
   "outputs": [],
   "source": [
    "question_dict = questions_df.set_index(\"question_id\").to_dict(orient=\"index\")"
   ]
  },
  {
   "cell_type": "code",
   "execution_count": 15,
   "metadata": {},
   "outputs": [],
   "source": [
    "# https://en.wikipedia.org/wiki/Forgetting_curve\n",
    "# https://psychology.stackexchange.com/questions/5199/which-equation-is-ebbinghauss-forgetting-curve-and-what-do-the-constants-repres\n",
    "def apply_filter_based_on_previous_row(func):\n",
    "    prev_row = {\n",
    "        \"has_seen_lecture\": False,\n",
    "        \"previous_lecture_hours\": 0,\n",
    "        \"previous_lecture\": {},\n",
    "        \"user_id\": \"\"\n",
    "    }\n",
    "    def wrapper(curr_row, **kwargs):\n",
    "        content_id = curr_row['content_id']\n",
    "        tag_of_prev_lecture = \"\"\n",
    "        part_of_prev_lecture = \"\"\n",
    "        has_seen_same_tag_as_lecture = False\n",
    "        has_seen_same_part_as_lecture = False\n",
    "        has_part_common_with_type_of = False\n",
    "        has_tag_common_with_type_of = False\n",
    "        has_tag_common_with_part_dict = False\n",
    "        has_type_of_common_with_part_dict = False\n",
    "        if prev_row['user_id'] == curr_row['user_id']:\n",
    "            if curr_row['content_type_id'] != 0:\n",
    "                prev_row['has_seen_lecture'] = True\n",
    "                prev_row['previous_lecture_hours'] = curr_row['hours']\n",
    "                prev_row['previous_lecture'] = lecture_dict[content_id]\n",
    "            else:\n",
    "                has_seen_same_tag_as_lecture = (str(prev_row['previous_lecture'].get(\"tag\", \"\")) in str(question_dict[content_id]['tags']).split())\n",
    "                has_seen_same_part_as_lecture = (prev_row['previous_lecture'].get(\"part\") == question_dict[content_id]['part'])\n",
    "                prev_type_of = prev_row['previous_lecture'].get(\"type_of\")\n",
    "                prev_part = prev_row['previous_lecture'].get(\"part\")\n",
    "                has_part_common_with_type_of = question_dict[content_id]['part'] in  lecture_comprehensive_type_of_dict.get(prev_type_of, {}).get('part', [])\n",
    "                has_tag_common_with_type_of = bool(set(map(int, str(question_dict[content_id]['tags']).split())).intersection(lecture_comprehensive_type_of_dict.get(prev_type_of, {}).get('tag', [])))\n",
    "                has_tag_common_with_part_dict = bool(set(map(int, str(question_dict[content_id]['tags']).split())).intersection(lecture_comprehensive_part_dict.get(prev_part, {}).get('tag', [])))\n",
    "                has_type_of_common_with_part_dict = prev_type_of in lecture_comprehensive_part_dict[question_dict[content_id]['part']]['type_of']\n",
    "                tag_of_prev_lecture = prev_row['previous_lecture'].get('tag', '')\n",
    "                part_of_prev_lecture = prev_row['previous_lecture'].get('part')\n",
    "        else:\n",
    "            prev_row['user_id'] = curr_row['user_id']\n",
    "            if curr_row['content_type_id'] != 0:\n",
    "                prev_row['has_seen_lecture'] = True\n",
    "                prev_row['previous_lecture_hours'] = curr_row['hours']\n",
    "                prev_row['previous_lecture'] = lecture_dict[content_id]\n",
    "            else:\n",
    "                prev_row['has_seen_lecture'] = False\n",
    "                prev_row['previous_lecture_hours'] = 0\n",
    "                prev_row['previous_lecture'] = {}\n",
    "\n",
    "        timestamp_difference = curr_row['hours'] - prev_row['previous_lecture_hours']\n",
    "        retention = func(timestamp_difference)\n",
    "        return retention, tag_of_prev_lecture, part_of_prev_lecture, prev_row['has_seen_lecture'], has_seen_same_tag_as_lecture, has_seen_same_part_as_lecture, has_part_common_with_type_of, has_tag_common_with_type_of, has_tag_common_with_part_dict, has_type_of_common_with_part_dict\n",
    "    return wrapper\n",
    "\n",
    "@apply_filter_based_on_previous_row\n",
    "def running_retention(timestamp_difference):\n",
    "    retention = 1.48 / ((1.25 * timestamp_difference) + 1.48)\n",
    "    return retention\n",
    "\n",
    "train_df[\"retention\"], train_df[\"previous_lecture_tag\"], train_df[\"previous_lecture_part\"], train_df[\"has_seen_lecture_before\"], train_df[\"has_seen_same_tag_as_lecture\"], train_df[\"has_seen_same_part_as_lecture\"], train_df[\"has_part_common_with_type_of\"], train_df[\"has_tag_common_with_type_of\"], train_df[\"has_tag_common_with_part_dict\"], train_df[\"has_type_of_common_with_part_dict\"] = zip(*train_df.apply(running_retention, axis=1))"
   ]
  },
  {
   "cell_type": "code",
   "execution_count": 16,
   "metadata": {},
   "outputs": [],
   "source": [
    "train_df = train_df[train_df['content_type_id'] == 0]"
   ]
  },
  {
   "cell_type": "markdown",
   "metadata": {},
   "source": [
    "##### 4. Now lets find out the lag time"
   ]
  },
  {
   "cell_type": "code",
   "execution_count": 17,
   "metadata": {},
   "outputs": [],
   "source": [
    "# lag time\n",
    "train_df['event_time'] = train_df[['user_id', 'timestamp']].groupby('user_id')['timestamp'].diff()\n",
    "train_df['shift_event_time'] = train_df[['event_time', 'user_id']].groupby('user_id').event_time.shift(-1)\n",
    "train_df['shift_elapsed_time'] = train_df[['prior_question_elapsed_time', 'user_id']].groupby('user_id').prior_question_elapsed_time.shift(-1)\n",
    "train_df['event_lag_time'] = train_df['shift_event_time'] - train_df['shift_elapsed_time']"
   ]
  },
  {
   "cell_type": "code",
   "execution_count": 18,
   "metadata": {},
   "outputs": [],
   "source": [
    "train_df_elapsed_time_groupby = train_df[['content_id', 'shift_elapsed_time']].groupby(['content_id']).shift_elapsed_time\n",
    "individual_question_min_time_dict = train_df_elapsed_time_groupby.min().to_dict()\n",
    "individual_question_mean_time_dict = train_df_elapsed_time_groupby.mean().to_dict()\n",
    "\n",
    "del train_df_elapsed_time_groupby"
   ]
  },
  {
   "cell_type": "code",
   "execution_count": 19,
   "metadata": {},
   "outputs": [],
   "source": [
    "# def get_lag_time(content_id, shift_event_time):\n",
    "#     question_min_time = individual_question_min_time_dict[content_id]\n",
    "#     return shift_event_time - question_min_time\n",
    "\n",
    "# train_df['lag_time'] = train_df[train_df['content_type_id'] == 0].apply(lambda row: get_lag_time(row.content_id, row.shift_event_time), axis=1)\n",
    "\n",
    "def get_prior_elapsed_time_difference(content_id, shift_elapsed_time):\n",
    "    question_min_time = individual_question_min_time_dict[content_id]\n",
    "    return shift_elapsed_time - question_min_time\n",
    "\n",
    "train_df['lag_time'] = train_df.apply(lambda row: get_prior_elapsed_time_difference(row.content_id, row.shift_elapsed_time), axis=1)"
   ]
  },
  {
   "cell_type": "code",
   "execution_count": 20,
   "metadata": {},
   "outputs": [],
   "source": [
    "def has_elapsed_time_greater_than_average_time(content_id, shift_elapsed_time):\n",
    "    question_min_time = individual_question_mean_time_dict[content_id]\n",
    "    return shift_elapsed_time > question_min_time\n",
    "\n",
    "train_df['question_answered_late'] = train_df.apply(lambda row: has_elapsed_time_greater_than_average_time(row.content_id, row.shift_elapsed_time), axis=1)"
   ]
  },
  {
   "cell_type": "code",
   "execution_count": 21,
   "metadata": {},
   "outputs": [],
   "source": [
    "average_question_timestamp_difference_dict = train_df[(train_df['shift_event_time'] < 3600000)][['content_id', 'shift_event_time']].groupby('content_id').shift_event_time.mean().to_dict()"
   ]
  },
  {
   "cell_type": "code",
   "execution_count": 22,
   "metadata": {},
   "outputs": [],
   "source": [
    "def has_event_time_greater_than_average(content_id, event_time):\n",
    "    average_question_time = average_question_timestamp_difference_dict.get(content_id, 0)\n",
    "    return event_time > average_question_time\n",
    "\n",
    "train_df['event_time_greater_than_average'] = train_df.apply(lambda row: has_event_time_greater_than_average(row.content_id, row.shift_event_time), axis=1)"
   ]
  },
  {
   "cell_type": "markdown",
   "metadata": {},
   "source": [
    "##### 5. lets find the average time took for each question"
   ]
  },
  {
   "cell_type": "code",
   "execution_count": 23,
   "metadata": {},
   "outputs": [],
   "source": [
    "# The average time per question can be considered based on the every candidate or based on the current candidate previous question answering time."
   ]
  },
  {
   "cell_type": "code",
   "execution_count": 24,
   "metadata": {},
   "outputs": [],
   "source": [
    "user_average_time_to_elapsed_dict = train_df.groupby(\"user_id\").prior_question_elapsed_time.mean().to_dict()"
   ]
  },
  {
   "cell_type": "code",
   "execution_count": 25,
   "metadata": {},
   "outputs": [],
   "source": [
    "train_df['question_took_more_than_average_user_time'] = train_df.apply(lambda row: row.prior_question_elapsed_time > user_average_time_to_elapsed_dict[row.user_id], axis=1)"
   ]
  },
  {
   "cell_type": "code",
   "execution_count": 26,
   "metadata": {},
   "outputs": [],
   "source": [
    "# check average question answering time\n",
    "average_question_prior_question_elapsed_time_dict = train_df.groupby([\"content_id\"]).prior_question_elapsed_time.mean().to_dict()"
   ]
  },
  {
   "cell_type": "code",
   "execution_count": 27,
   "metadata": {},
   "outputs": [],
   "source": [
    "train_df.sort_values(['user_id', 'timestamp'], inplace=True)\n",
    "bundle_time_relation_dict = {}\n",
    "\n",
    "prev_row = {\n",
    "    \"user_id\": \"\",\n",
    "    \"bundle_id\": \"\",\n",
    "    \"previous_bundle_elapsed_time\": \"\"\n",
    "}\n",
    "\n",
    "\n",
    "def get_question_time_taken(curr_row):\n",
    "    current_bundle_id = question_dict[curr_row.content_id]['bundle_id']\n",
    "    if prev_row['user_id'] == curr_row['user_id']:\n",
    "        if prev_row['bundle_id'] == current_bundle_id:\n",
    "            time_taken_for_question = prev_row['previous_bundle_elapsed_time']\n",
    "        else:\n",
    "            time_taken_for_question = curr_row['prior_question_elapsed_time']\n",
    "            prev_row['previous_bundle_elapsed_time'] = curr_row['prior_question_elapsed_time']\n",
    "            prev_row['bundle_id'] = current_bundle_id\n",
    "    else:\n",
    "        prev_row['bundle_id'] = current_bundle_id\n",
    "        prev_row['previous_bundle_elapsed_time'] = curr_row['prior_question_elapsed_time']\n",
    "        time_taken_for_question = 0\n",
    "    prev_row['user_id'] = curr_row.user_id\n",
    "    return time_taken_for_question\n",
    "\n",
    "\n",
    "for index, row in train_df.iloc[::-1].iterrows():\n",
    "    if row.content_id in bundle_time_relation_dict and bundle_time_relation_dict:\n",
    "        bundle_time_relation_dict[row.content_id]['question_time_list'].append(get_question_time_taken(row))\n",
    "    else:\n",
    "        bundle_time_relation_dict[row.content_id] = {\n",
    "            \"question_time_list\": [get_question_time_taken(row)]\n",
    "        }"
   ]
  },
  {
   "cell_type": "code",
   "execution_count": 28,
   "metadata": {},
   "outputs": [],
   "source": [
    "for content_id in bundle_time_relation_dict.keys():\n",
    "    bundle_time_relation_dict[content_id]['minimum_time'] = min(bundle_time_relation_dict[content_id]['question_time_list'])\n",
    "    bundle_time_relation_dict[content_id]['average_time'] = np.mean(bundle_time_relation_dict[content_id]['question_time_list'])"
   ]
  },
  {
   "cell_type": "code",
   "execution_count": 29,
   "metadata": {},
   "outputs": [],
   "source": [
    "train_df['has_more_than_average_bundle_time'] = train_df.apply(lambda row: row.shift_elapsed_time < bundle_time_relation_dict[row.content_id]['average_time'], axis=1)\n",
    "\n",
    "def get_bundle_lag_time(row):\n",
    "    if row.shift_elapsed_time > bundle_time_relation_dict[row.content_id]['minimum_time']:\n",
    "        return row.shift_elapsed_time - bundle_time_relation_dict[row.content_id]['minimum_time']\n",
    "    return 0\n",
    "\n",
    "train_df['bundle_lag_time'] = train_df.apply(lambda row: get_bundle_lag_time(row), axis=1)"
   ]
  },
  {
   "cell_type": "markdown",
   "metadata": {},
   "source": [
    "##### 6. Find the toughest questions"
   ]
  },
  {
   "cell_type": "code",
   "execution_count": 30,
   "metadata": {},
   "outputs": [
    {
     "output_type": "stream",
     "name": "stdout",
     "text": [
      "There are 188 different tags\n"
     ]
    }
   ],
   "source": [
    "# get all the complete tags of the question\n",
    "questions_df['tags'] = questions_df['tags'].astype(str)\n",
    "\n",
    "tags = [value.split() for value in questions_df[questions_df.tags != \"nan\"].tags.values]\n",
    "tags = [item for elem in tags for item in elem]\n",
    "tags = set(tags)\n",
    "tags = list(tags)\n",
    "print(f'There are {len(tags)} different tags')"
   ]
  },
  {
   "cell_type": "code",
   "execution_count": 31,
   "metadata": {},
   "outputs": [
    {
     "output_type": "execute_result",
     "data": {
      "text/plain": [
       "   question_id  bundle_id  correct_answer  part            tags  \\\n",
       "0            0          0               0     1   51 131 162 38   \n",
       "1            1          1               1     1       131 36 81   \n",
       "2            2          2               0     1  131 101 162 92   \n",
       "3            3          3               0     1  131 149 162 29   \n",
       "4            4          4               3     1    131 5 162 38   \n",
       "\n",
       "   tag_count_wise_id  number_of_tags    wrong    right  percentage_correct  \n",
       "0               1055               4  1.00000 23.00000             0.95833  \n",
       "1                963               3  1.00000 16.00000             0.94118  \n",
       "2                574               4 58.00000 77.00000             0.57037  \n",
       "3                651               4 14.00000 53.00000             0.79104  \n",
       "4                910               4 42.00000 47.00000             0.52809  "
      ],
      "text/html": "<div>\n<style scoped>\n    .dataframe tbody tr th:only-of-type {\n        vertical-align: middle;\n    }\n\n    .dataframe tbody tr th {\n        vertical-align: top;\n    }\n\n    .dataframe thead th {\n        text-align: right;\n    }\n</style>\n<table border=\"1\" class=\"dataframe\">\n  <thead>\n    <tr style=\"text-align: right;\">\n      <th></th>\n      <th>question_id</th>\n      <th>bundle_id</th>\n      <th>correct_answer</th>\n      <th>part</th>\n      <th>tags</th>\n      <th>tag_count_wise_id</th>\n      <th>number_of_tags</th>\n      <th>wrong</th>\n      <th>right</th>\n      <th>percentage_correct</th>\n    </tr>\n  </thead>\n  <tbody>\n    <tr>\n      <th>0</th>\n      <td>0</td>\n      <td>0</td>\n      <td>0</td>\n      <td>1</td>\n      <td>51 131 162 38</td>\n      <td>1055</td>\n      <td>4</td>\n      <td>1.00000</td>\n      <td>23.00000</td>\n      <td>0.95833</td>\n    </tr>\n    <tr>\n      <th>1</th>\n      <td>1</td>\n      <td>1</td>\n      <td>1</td>\n      <td>1</td>\n      <td>131 36 81</td>\n      <td>963</td>\n      <td>3</td>\n      <td>1.00000</td>\n      <td>16.00000</td>\n      <td>0.94118</td>\n    </tr>\n    <tr>\n      <th>2</th>\n      <td>2</td>\n      <td>2</td>\n      <td>0</td>\n      <td>1</td>\n      <td>131 101 162 92</td>\n      <td>574</td>\n      <td>4</td>\n      <td>58.00000</td>\n      <td>77.00000</td>\n      <td>0.57037</td>\n    </tr>\n    <tr>\n      <th>3</th>\n      <td>3</td>\n      <td>3</td>\n      <td>0</td>\n      <td>1</td>\n      <td>131 149 162 29</td>\n      <td>651</td>\n      <td>4</td>\n      <td>14.00000</td>\n      <td>53.00000</td>\n      <td>0.79104</td>\n    </tr>\n    <tr>\n      <th>4</th>\n      <td>4</td>\n      <td>4</td>\n      <td>3</td>\n      <td>1</td>\n      <td>131 5 162 38</td>\n      <td>910</td>\n      <td>4</td>\n      <td>42.00000</td>\n      <td>47.00000</td>\n      <td>0.52809</td>\n    </tr>\n  </tbody>\n</table>\n</div>"
     },
     "metadata": {},
     "execution_count": 31
    }
   ],
   "source": [
    "# Find the wrong and right question based on correctly answered\n",
    "correct = train_df.groupby([\"content_id\", 'answered_correctly'], as_index=False).size()\n",
    "correct = correct.pivot(index= \"content_id\", columns='answered_correctly', values='size')\n",
    "correct.columns = ['wrong', 'right']\n",
    "correct = correct.fillna(0)\n",
    "correct[['wrong', 'right']] = correct[['wrong', 'right']].astype(int)\n",
    "questions_df = questions_df.merge(correct, left_on = \"question_id\", right_on = \"content_id\", how = \"left\")\n",
    "questions_df['percentage_correct'] = questions_df.right / (questions_df.right + questions_df.wrong)\n",
    "questions_df.head()\n",
    "\n",
    "# questions_df.drop([\"wrong_x\", \"right_x\", \"wrong_y\", \"right_y\"], axis=1, inplace=True)"
   ]
  },
  {
   "cell_type": "code",
   "execution_count": 32,
   "metadata": {},
   "outputs": [
    {
     "output_type": "execute_result",
     "data": {
      "text/plain": [
       "   question_id  bundle_id  correct_answer  part            tags  \\\n",
       "0            0          0               0     1   51 131 162 38   \n",
       "1            1          1               1     1       131 36 81   \n",
       "2            2          2               0     1  131 101 162 92   \n",
       "3            3          3               0     1  131 149 162 29   \n",
       "4            4          4               3     1    131 5 162 38   \n",
       "\n",
       "   tag_count_wise_id  number_of_tags    wrong    right  percentage_correct  \\\n",
       "0               1055               4  1.00000 23.00000             0.95833   \n",
       "1                963               3  1.00000 16.00000             0.94118   \n",
       "2                574               4 58.00000 77.00000             0.57037   \n",
       "3                651               4 14.00000 53.00000             0.79104   \n",
       "4                910               4 42.00000 47.00000             0.52809   \n",
       "\n",
       "   bundle_wrong  bundle_right  task_percentage_correct  \n",
       "0       1.00000      23.00000                  0.95833  \n",
       "1       1.00000      16.00000                  0.94118  \n",
       "2      58.00000      77.00000                  0.57037  \n",
       "3      14.00000      53.00000                  0.79104  \n",
       "4      42.00000      47.00000                  0.52809  "
      ],
      "text/html": "<div>\n<style scoped>\n    .dataframe tbody tr th:only-of-type {\n        vertical-align: middle;\n    }\n\n    .dataframe tbody tr th {\n        vertical-align: top;\n    }\n\n    .dataframe thead th {\n        text-align: right;\n    }\n</style>\n<table border=\"1\" class=\"dataframe\">\n  <thead>\n    <tr style=\"text-align: right;\">\n      <th></th>\n      <th>question_id</th>\n      <th>bundle_id</th>\n      <th>correct_answer</th>\n      <th>part</th>\n      <th>tags</th>\n      <th>tag_count_wise_id</th>\n      <th>number_of_tags</th>\n      <th>wrong</th>\n      <th>right</th>\n      <th>percentage_correct</th>\n      <th>bundle_wrong</th>\n      <th>bundle_right</th>\n      <th>task_percentage_correct</th>\n    </tr>\n  </thead>\n  <tbody>\n    <tr>\n      <th>0</th>\n      <td>0</td>\n      <td>0</td>\n      <td>0</td>\n      <td>1</td>\n      <td>51 131 162 38</td>\n      <td>1055</td>\n      <td>4</td>\n      <td>1.00000</td>\n      <td>23.00000</td>\n      <td>0.95833</td>\n      <td>1.00000</td>\n      <td>23.00000</td>\n      <td>0.95833</td>\n    </tr>\n    <tr>\n      <th>1</th>\n      <td>1</td>\n      <td>1</td>\n      <td>1</td>\n      <td>1</td>\n      <td>131 36 81</td>\n      <td>963</td>\n      <td>3</td>\n      <td>1.00000</td>\n      <td>16.00000</td>\n      <td>0.94118</td>\n      <td>1.00000</td>\n      <td>16.00000</td>\n      <td>0.94118</td>\n    </tr>\n    <tr>\n      <th>2</th>\n      <td>2</td>\n      <td>2</td>\n      <td>0</td>\n      <td>1</td>\n      <td>131 101 162 92</td>\n      <td>574</td>\n      <td>4</td>\n      <td>58.00000</td>\n      <td>77.00000</td>\n      <td>0.57037</td>\n      <td>58.00000</td>\n      <td>77.00000</td>\n      <td>0.57037</td>\n    </tr>\n    <tr>\n      <th>3</th>\n      <td>3</td>\n      <td>3</td>\n      <td>0</td>\n      <td>1</td>\n      <td>131 149 162 29</td>\n      <td>651</td>\n      <td>4</td>\n      <td>14.00000</td>\n      <td>53.00000</td>\n      <td>0.79104</td>\n      <td>14.00000</td>\n      <td>53.00000</td>\n      <td>0.79104</td>\n    </tr>\n    <tr>\n      <th>4</th>\n      <td>4</td>\n      <td>4</td>\n      <td>3</td>\n      <td>1</td>\n      <td>131 5 162 38</td>\n      <td>910</td>\n      <td>4</td>\n      <td>42.00000</td>\n      <td>47.00000</td>\n      <td>0.52809</td>\n      <td>42.00000</td>\n      <td>47.00000</td>\n      <td>0.52809</td>\n    </tr>\n  </tbody>\n</table>\n</div>"
     },
     "metadata": {},
     "execution_count": 32
    }
   ],
   "source": [
    "# TODO: This seems to be wrong please check again\n",
    "train_df['question_bundle_id'] = train_df.apply(lambda row: question_dict[row.content_id].get('bundle_id'), axis=1)\n",
    "correct = train_df.groupby([\"question_bundle_id\", 'answered_correctly'], as_index=False).size()\n",
    "correct = correct.pivot(index= \"question_bundle_id\", columns='answered_correctly', values='size')\n",
    "correct.columns = ['bundle_wrong', 'bundle_right']\n",
    "correct = correct.fillna(0)\n",
    "correct[['bundle_wrong', 'bundle_right']] = correct[['bundle_wrong', 'bundle_right']].astype(int)\n",
    "\n",
    "questions_df = questions_df.merge(correct, left_on = \"bundle_id\", right_on = \"question_bundle_id\", how = \"left\")\n",
    "questions_df['task_percentage_correct'] = questions_df.bundle_right / (questions_df.bundle_right + questions_df.bundle_wrong)\n",
    "questions_df.head()"
   ]
  },
  {
   "cell_type": "code",
   "execution_count": 33,
   "metadata": {},
   "outputs": [
    {
     "output_type": "execute_result",
     "data": {
      "text/plain": [
       "       task_container_id  answered_correctly  row_id  timestamp  user_id  \\\n",
       "0                      0                   0     306        306      306   \n",
       "1                      0                   1     707        707      707   \n",
       "2                      1                   0     485        485      485   \n",
       "3                      1                   1     527        527      527   \n",
       "4                      2                   0     575        575      575   \n",
       "...                  ...                 ...     ...        ...      ...   \n",
       "10511               5626                   1       1          1        1   \n",
       "10512               5627                   1       1          1        1   \n",
       "10513               5628                   1       1          1        1   \n",
       "10514               5629                   1       1          1        1   \n",
       "10515               5630                   1       1          1        1   \n",
       "\n",
       "       content_id  content_type_id  user_answer  prior_question_elapsed_time  \\\n",
       "0             306              306          306                            5   \n",
       "1             707              707          707                           12   \n",
       "2             485              485          485                          482   \n",
       "3             527              527          527                          522   \n",
       "4             575              575          575                          575   \n",
       "...           ...              ...          ...                          ...   \n",
       "10511           1                1            1                            1   \n",
       "10512           1                1            1                            1   \n",
       "10513           1                1            1                            1   \n",
       "10514           1                1            1                            1   \n",
       "10515           1                1            1                            1   \n",
       "\n",
       "       prior_question_had_explanation  ...  shift_event_time  \\\n",
       "0                                   5  ...               306   \n",
       "1                                  12  ...               706   \n",
       "2                                 482  ...               484   \n",
       "3                                 522  ...               527   \n",
       "4                                 575  ...               575   \n",
       "...                               ...  ...               ...   \n",
       "10511                               1  ...                 1   \n",
       "10512                               1  ...                 1   \n",
       "10513                               1  ...                 1   \n",
       "10514                               1  ...                 1   \n",
       "10515                               1  ...                 0   \n",
       "\n",
       "       shift_elapsed_time  event_lag_time  lag_time  question_answered_late  \\\n",
       "0                     306             306       306                     306   \n",
       "1                     706             706       706                     707   \n",
       "2                     484             484       484                     485   \n",
       "3                     527             527       527                     527   \n",
       "4                     575             575       575                     575   \n",
       "...                   ...             ...       ...                     ...   \n",
       "10511                   1               1         1                       1   \n",
       "10512                   1               1         1                       1   \n",
       "10513                   1               1         1                       1   \n",
       "10514                   1               1         1                       1   \n",
       "10515                   0               0         0                       1   \n",
       "\n",
       "       event_time_greater_than_average  \\\n",
       "0                                  306   \n",
       "1                                  707   \n",
       "2                                  485   \n",
       "3                                  527   \n",
       "4                                  575   \n",
       "...                                ...   \n",
       "10511                                1   \n",
       "10512                                1   \n",
       "10513                                1   \n",
       "10514                                1   \n",
       "10515                                1   \n",
       "\n",
       "       question_took_more_than_average_user_time  \\\n",
       "0                                            306   \n",
       "1                                            707   \n",
       "2                                            485   \n",
       "3                                            527   \n",
       "4                                            575   \n",
       "...                                          ...   \n",
       "10511                                          1   \n",
       "10512                                          1   \n",
       "10513                                          1   \n",
       "10514                                          1   \n",
       "10515                                          1   \n",
       "\n",
       "       has_more_than_average_bundle_time  bundle_lag_time  question_bundle_id  \n",
       "0                                    306              306                 306  \n",
       "1                                    707              707                 707  \n",
       "2                                    485              485                 485  \n",
       "3                                    527              527                 527  \n",
       "4                                    575              575                 575  \n",
       "...                                  ...              ...                 ...  \n",
       "10511                                  1                1                   1  \n",
       "10512                                  1                1                   1  \n",
       "10513                                  1                1                   1  \n",
       "10514                                  1                1                   1  \n",
       "10515                                  1                1                   1  \n",
       "\n",
       "[10516 rows x 35 columns]"
      ],
      "text/html": "<div>\n<style scoped>\n    .dataframe tbody tr th:only-of-type {\n        vertical-align: middle;\n    }\n\n    .dataframe tbody tr th {\n        vertical-align: top;\n    }\n\n    .dataframe thead th {\n        text-align: right;\n    }\n</style>\n<table border=\"1\" class=\"dataframe\">\n  <thead>\n    <tr style=\"text-align: right;\">\n      <th></th>\n      <th>task_container_id</th>\n      <th>answered_correctly</th>\n      <th>row_id</th>\n      <th>timestamp</th>\n      <th>user_id</th>\n      <th>content_id</th>\n      <th>content_type_id</th>\n      <th>user_answer</th>\n      <th>prior_question_elapsed_time</th>\n      <th>prior_question_had_explanation</th>\n      <th>...</th>\n      <th>shift_event_time</th>\n      <th>shift_elapsed_time</th>\n      <th>event_lag_time</th>\n      <th>lag_time</th>\n      <th>question_answered_late</th>\n      <th>event_time_greater_than_average</th>\n      <th>question_took_more_than_average_user_time</th>\n      <th>has_more_than_average_bundle_time</th>\n      <th>bundle_lag_time</th>\n      <th>question_bundle_id</th>\n    </tr>\n  </thead>\n  <tbody>\n    <tr>\n      <th>0</th>\n      <td>0</td>\n      <td>0</td>\n      <td>306</td>\n      <td>306</td>\n      <td>306</td>\n      <td>306</td>\n      <td>306</td>\n      <td>306</td>\n      <td>5</td>\n      <td>5</td>\n      <td>...</td>\n      <td>306</td>\n      <td>306</td>\n      <td>306</td>\n      <td>306</td>\n      <td>306</td>\n      <td>306</td>\n      <td>306</td>\n      <td>306</td>\n      <td>306</td>\n      <td>306</td>\n    </tr>\n    <tr>\n      <th>1</th>\n      <td>0</td>\n      <td>1</td>\n      <td>707</td>\n      <td>707</td>\n      <td>707</td>\n      <td>707</td>\n      <td>707</td>\n      <td>707</td>\n      <td>12</td>\n      <td>12</td>\n      <td>...</td>\n      <td>706</td>\n      <td>706</td>\n      <td>706</td>\n      <td>706</td>\n      <td>707</td>\n      <td>707</td>\n      <td>707</td>\n      <td>707</td>\n      <td>707</td>\n      <td>707</td>\n    </tr>\n    <tr>\n      <th>2</th>\n      <td>1</td>\n      <td>0</td>\n      <td>485</td>\n      <td>485</td>\n      <td>485</td>\n      <td>485</td>\n      <td>485</td>\n      <td>485</td>\n      <td>482</td>\n      <td>482</td>\n      <td>...</td>\n      <td>484</td>\n      <td>484</td>\n      <td>484</td>\n      <td>484</td>\n      <td>485</td>\n      <td>485</td>\n      <td>485</td>\n      <td>485</td>\n      <td>485</td>\n      <td>485</td>\n    </tr>\n    <tr>\n      <th>3</th>\n      <td>1</td>\n      <td>1</td>\n      <td>527</td>\n      <td>527</td>\n      <td>527</td>\n      <td>527</td>\n      <td>527</td>\n      <td>527</td>\n      <td>522</td>\n      <td>522</td>\n      <td>...</td>\n      <td>527</td>\n      <td>527</td>\n      <td>527</td>\n      <td>527</td>\n      <td>527</td>\n      <td>527</td>\n      <td>527</td>\n      <td>527</td>\n      <td>527</td>\n      <td>527</td>\n    </tr>\n    <tr>\n      <th>4</th>\n      <td>2</td>\n      <td>0</td>\n      <td>575</td>\n      <td>575</td>\n      <td>575</td>\n      <td>575</td>\n      <td>575</td>\n      <td>575</td>\n      <td>575</td>\n      <td>575</td>\n      <td>...</td>\n      <td>575</td>\n      <td>575</td>\n      <td>575</td>\n      <td>575</td>\n      <td>575</td>\n      <td>575</td>\n      <td>575</td>\n      <td>575</td>\n      <td>575</td>\n      <td>575</td>\n    </tr>\n    <tr>\n      <th>...</th>\n      <td>...</td>\n      <td>...</td>\n      <td>...</td>\n      <td>...</td>\n      <td>...</td>\n      <td>...</td>\n      <td>...</td>\n      <td>...</td>\n      <td>...</td>\n      <td>...</td>\n      <td>...</td>\n      <td>...</td>\n      <td>...</td>\n      <td>...</td>\n      <td>...</td>\n      <td>...</td>\n      <td>...</td>\n      <td>...</td>\n      <td>...</td>\n      <td>...</td>\n      <td>...</td>\n    </tr>\n    <tr>\n      <th>10511</th>\n      <td>5626</td>\n      <td>1</td>\n      <td>1</td>\n      <td>1</td>\n      <td>1</td>\n      <td>1</td>\n      <td>1</td>\n      <td>1</td>\n      <td>1</td>\n      <td>1</td>\n      <td>...</td>\n      <td>1</td>\n      <td>1</td>\n      <td>1</td>\n      <td>1</td>\n      <td>1</td>\n      <td>1</td>\n      <td>1</td>\n      <td>1</td>\n      <td>1</td>\n      <td>1</td>\n    </tr>\n    <tr>\n      <th>10512</th>\n      <td>5627</td>\n      <td>1</td>\n      <td>1</td>\n      <td>1</td>\n      <td>1</td>\n      <td>1</td>\n      <td>1</td>\n      <td>1</td>\n      <td>1</td>\n      <td>1</td>\n      <td>...</td>\n      <td>1</td>\n      <td>1</td>\n      <td>1</td>\n      <td>1</td>\n      <td>1</td>\n      <td>1</td>\n      <td>1</td>\n      <td>1</td>\n      <td>1</td>\n      <td>1</td>\n    </tr>\n    <tr>\n      <th>10513</th>\n      <td>5628</td>\n      <td>1</td>\n      <td>1</td>\n      <td>1</td>\n      <td>1</td>\n      <td>1</td>\n      <td>1</td>\n      <td>1</td>\n      <td>1</td>\n      <td>1</td>\n      <td>...</td>\n      <td>1</td>\n      <td>1</td>\n      <td>1</td>\n      <td>1</td>\n      <td>1</td>\n      <td>1</td>\n      <td>1</td>\n      <td>1</td>\n      <td>1</td>\n      <td>1</td>\n    </tr>\n    <tr>\n      <th>10514</th>\n      <td>5629</td>\n      <td>1</td>\n      <td>1</td>\n      <td>1</td>\n      <td>1</td>\n      <td>1</td>\n      <td>1</td>\n      <td>1</td>\n      <td>1</td>\n      <td>1</td>\n      <td>...</td>\n      <td>1</td>\n      <td>1</td>\n      <td>1</td>\n      <td>1</td>\n      <td>1</td>\n      <td>1</td>\n      <td>1</td>\n      <td>1</td>\n      <td>1</td>\n      <td>1</td>\n    </tr>\n    <tr>\n      <th>10515</th>\n      <td>5630</td>\n      <td>1</td>\n      <td>1</td>\n      <td>1</td>\n      <td>1</td>\n      <td>1</td>\n      <td>1</td>\n      <td>1</td>\n      <td>1</td>\n      <td>1</td>\n      <td>...</td>\n      <td>0</td>\n      <td>0</td>\n      <td>0</td>\n      <td>0</td>\n      <td>1</td>\n      <td>1</td>\n      <td>1</td>\n      <td>1</td>\n      <td>1</td>\n      <td>1</td>\n    </tr>\n  </tbody>\n</table>\n<p>10516 rows × 35 columns</p>\n</div>"
     },
     "metadata": {},
     "execution_count": 33
    }
   ],
   "source": [
    "train_df.groupby([\"task_container_id\", 'answered_correctly'], as_index=False).count()"
   ]
  },
  {
   "cell_type": "code",
   "execution_count": 34,
   "metadata": {},
   "outputs": [
    {
     "output_type": "execute_result",
     "data": {
      "text/plain": [
       "        row_id  timestamp  user_id  content_id  content_type_id  \\\n",
       "0            0          0      115        5692                0   \n",
       "47          47      32683      124        7876                0   \n",
       "77          77      21592     2746         758                0   \n",
       "97          97      39828     5382        3944                0   \n",
       "225        225      38769     8623        4750                0   \n",
       "...        ...        ...      ...         ...              ...   \n",
       "299239  299239      26145  5596216        7876                0   \n",
       "299887  299887      27646  5603990        5466                0   \n",
       "299914  299914      23857  5612057        7876                0   \n",
       "299944  299944      24090  5613226        7876                0   \n",
       "299984  299984      34103  5615405        7876                0   \n",
       "\n",
       "        task_container_id  user_answer  answered_correctly  \\\n",
       "0                       1            3                   1   \n",
       "47                      1            0                   0   \n",
       "77                      1            0                   0   \n",
       "97                      1            1                   0   \n",
       "225                     1            1                   1   \n",
       "...                   ...          ...                 ...   \n",
       "299239                  1            1                   0   \n",
       "299887                  1            1                   0   \n",
       "299914                  1            3                   1   \n",
       "299944                  1            0                   0   \n",
       "299984                  1            0                   0   \n",
       "\n",
       "        prior_question_elapsed_time  prior_question_had_explanation  ...  \\\n",
       "0                               nan                            <NA>  ...   \n",
       "47                      26000.00000                           False  ...   \n",
       "77                      28000.00000                           False  ...   \n",
       "97                      24000.00000                           False  ...   \n",
       "225                     16000.00000                           False  ...   \n",
       "...                             ...                             ...  ...   \n",
       "299239                  36000.00000                           False  ...   \n",
       "299887                  22000.00000                           False  ...   \n",
       "299914                  12000.00000                           False  ...   \n",
       "299944                  20000.00000                           False  ...   \n",
       "299984                  22000.00000                           False  ...   \n",
       "\n",
       "        shift_event_time  shift_elapsed_time  event_lag_time    lag_time  \\\n",
       "0            56943.00000         37000.00000     19943.00000 35000.00000   \n",
       "47           29317.00000         29000.00000       317.00000 28000.00000   \n",
       "77           27477.00000         17000.00000     10477.00000  9000.00000   \n",
       "97           92361.00000         35000.00000     57361.00000 34000.00000   \n",
       "225          34090.00000         33000.00000      1090.00000 20000.00000   \n",
       "...                  ...                 ...             ...         ...   \n",
       "299239       28197.00000         21000.00000      7197.00000 20000.00000   \n",
       "299887       38426.00000         19000.00000     19426.00000 18000.00000   \n",
       "299914       36786.00000         20000.00000     16786.00000 19000.00000   \n",
       "299944       23667.00000         22000.00000      1667.00000 21000.00000   \n",
       "299984       25931.00000         31000.00000     -5069.00000 30000.00000   \n",
       "\n",
       "        question_answered_late event_time_greater_than_average  \\\n",
       "0                         True                           False   \n",
       "47                        True                           False   \n",
       "77                       False                           False   \n",
       "97                        True                           False   \n",
       "225                       True                           False   \n",
       "...                        ...                             ...   \n",
       "299239                   False                           False   \n",
       "299887                    True                           False   \n",
       "299914                   False                           False   \n",
       "299944                   False                           False   \n",
       "299984                    True                           False   \n",
       "\n",
       "       question_took_more_than_average_user_time  \\\n",
       "0                                          False   \n",
       "47                                          True   \n",
       "77                                          True   \n",
       "97                                         False   \n",
       "225                                        False   \n",
       "...                                          ...   \n",
       "299239                                      True   \n",
       "299887                                     False   \n",
       "299914                                     False   \n",
       "299944                                     False   \n",
       "299984                                     False   \n",
       "\n",
       "        has_more_than_average_bundle_time  bundle_lag_time  question_bundle_id  \n",
       "0                                   False      37000.00000                5692  \n",
       "47                                  False      29000.00000                7876  \n",
       "77                                   True      17000.00000                 758  \n",
       "97                                  False      35000.00000                3944  \n",
       "225                                 False      22000.00000                4750  \n",
       "...                                   ...              ...                 ...  \n",
       "299239                              False      21000.00000                7876  \n",
       "299887                              False      16000.00000                5466  \n",
       "299914                              False      20000.00000                7876  \n",
       "299944                              False      22000.00000                7876  \n",
       "299984                              False      31000.00000                7876  \n",
       "\n",
       "[1012 rows x 35 columns]"
      ],
      "text/html": "<div>\n<style scoped>\n    .dataframe tbody tr th:only-of-type {\n        vertical-align: middle;\n    }\n\n    .dataframe tbody tr th {\n        vertical-align: top;\n    }\n\n    .dataframe thead th {\n        text-align: right;\n    }\n</style>\n<table border=\"1\" class=\"dataframe\">\n  <thead>\n    <tr style=\"text-align: right;\">\n      <th></th>\n      <th>row_id</th>\n      <th>timestamp</th>\n      <th>user_id</th>\n      <th>content_id</th>\n      <th>content_type_id</th>\n      <th>task_container_id</th>\n      <th>user_answer</th>\n      <th>answered_correctly</th>\n      <th>prior_question_elapsed_time</th>\n      <th>prior_question_had_explanation</th>\n      <th>...</th>\n      <th>shift_event_time</th>\n      <th>shift_elapsed_time</th>\n      <th>event_lag_time</th>\n      <th>lag_time</th>\n      <th>question_answered_late</th>\n      <th>event_time_greater_than_average</th>\n      <th>question_took_more_than_average_user_time</th>\n      <th>has_more_than_average_bundle_time</th>\n      <th>bundle_lag_time</th>\n      <th>question_bundle_id</th>\n    </tr>\n  </thead>\n  <tbody>\n    <tr>\n      <th>0</th>\n      <td>0</td>\n      <td>0</td>\n      <td>115</td>\n      <td>5692</td>\n      <td>0</td>\n      <td>1</td>\n      <td>3</td>\n      <td>1</td>\n      <td>nan</td>\n      <td>&lt;NA&gt;</td>\n      <td>...</td>\n      <td>56943.00000</td>\n      <td>37000.00000</td>\n      <td>19943.00000</td>\n      <td>35000.00000</td>\n      <td>True</td>\n      <td>False</td>\n      <td>False</td>\n      <td>False</td>\n      <td>37000.00000</td>\n      <td>5692</td>\n    </tr>\n    <tr>\n      <th>47</th>\n      <td>47</td>\n      <td>32683</td>\n      <td>124</td>\n      <td>7876</td>\n      <td>0</td>\n      <td>1</td>\n      <td>0</td>\n      <td>0</td>\n      <td>26000.00000</td>\n      <td>False</td>\n      <td>...</td>\n      <td>29317.00000</td>\n      <td>29000.00000</td>\n      <td>317.00000</td>\n      <td>28000.00000</td>\n      <td>True</td>\n      <td>False</td>\n      <td>True</td>\n      <td>False</td>\n      <td>29000.00000</td>\n      <td>7876</td>\n    </tr>\n    <tr>\n      <th>77</th>\n      <td>77</td>\n      <td>21592</td>\n      <td>2746</td>\n      <td>758</td>\n      <td>0</td>\n      <td>1</td>\n      <td>0</td>\n      <td>0</td>\n      <td>28000.00000</td>\n      <td>False</td>\n      <td>...</td>\n      <td>27477.00000</td>\n      <td>17000.00000</td>\n      <td>10477.00000</td>\n      <td>9000.00000</td>\n      <td>False</td>\n      <td>False</td>\n      <td>True</td>\n      <td>True</td>\n      <td>17000.00000</td>\n      <td>758</td>\n    </tr>\n    <tr>\n      <th>97</th>\n      <td>97</td>\n      <td>39828</td>\n      <td>5382</td>\n      <td>3944</td>\n      <td>0</td>\n      <td>1</td>\n      <td>1</td>\n      <td>0</td>\n      <td>24000.00000</td>\n      <td>False</td>\n      <td>...</td>\n      <td>92361.00000</td>\n      <td>35000.00000</td>\n      <td>57361.00000</td>\n      <td>34000.00000</td>\n      <td>True</td>\n      <td>False</td>\n      <td>False</td>\n      <td>False</td>\n      <td>35000.00000</td>\n      <td>3944</td>\n    </tr>\n    <tr>\n      <th>225</th>\n      <td>225</td>\n      <td>38769</td>\n      <td>8623</td>\n      <td>4750</td>\n      <td>0</td>\n      <td>1</td>\n      <td>1</td>\n      <td>1</td>\n      <td>16000.00000</td>\n      <td>False</td>\n      <td>...</td>\n      <td>34090.00000</td>\n      <td>33000.00000</td>\n      <td>1090.00000</td>\n      <td>20000.00000</td>\n      <td>True</td>\n      <td>False</td>\n      <td>False</td>\n      <td>False</td>\n      <td>22000.00000</td>\n      <td>4750</td>\n    </tr>\n    <tr>\n      <th>...</th>\n      <td>...</td>\n      <td>...</td>\n      <td>...</td>\n      <td>...</td>\n      <td>...</td>\n      <td>...</td>\n      <td>...</td>\n      <td>...</td>\n      <td>...</td>\n      <td>...</td>\n      <td>...</td>\n      <td>...</td>\n      <td>...</td>\n      <td>...</td>\n      <td>...</td>\n      <td>...</td>\n      <td>...</td>\n      <td>...</td>\n      <td>...</td>\n      <td>...</td>\n      <td>...</td>\n    </tr>\n    <tr>\n      <th>299239</th>\n      <td>299239</td>\n      <td>26145</td>\n      <td>5596216</td>\n      <td>7876</td>\n      <td>0</td>\n      <td>1</td>\n      <td>1</td>\n      <td>0</td>\n      <td>36000.00000</td>\n      <td>False</td>\n      <td>...</td>\n      <td>28197.00000</td>\n      <td>21000.00000</td>\n      <td>7197.00000</td>\n      <td>20000.00000</td>\n      <td>False</td>\n      <td>False</td>\n      <td>True</td>\n      <td>False</td>\n      <td>21000.00000</td>\n      <td>7876</td>\n    </tr>\n    <tr>\n      <th>299887</th>\n      <td>299887</td>\n      <td>27646</td>\n      <td>5603990</td>\n      <td>5466</td>\n      <td>0</td>\n      <td>1</td>\n      <td>1</td>\n      <td>0</td>\n      <td>22000.00000</td>\n      <td>False</td>\n      <td>...</td>\n      <td>38426.00000</td>\n      <td>19000.00000</td>\n      <td>19426.00000</td>\n      <td>18000.00000</td>\n      <td>True</td>\n      <td>False</td>\n      <td>False</td>\n      <td>False</td>\n      <td>16000.00000</td>\n      <td>5466</td>\n    </tr>\n    <tr>\n      <th>299914</th>\n      <td>299914</td>\n      <td>23857</td>\n      <td>5612057</td>\n      <td>7876</td>\n      <td>0</td>\n      <td>1</td>\n      <td>3</td>\n      <td>1</td>\n      <td>12000.00000</td>\n      <td>False</td>\n      <td>...</td>\n      <td>36786.00000</td>\n      <td>20000.00000</td>\n      <td>16786.00000</td>\n      <td>19000.00000</td>\n      <td>False</td>\n      <td>False</td>\n      <td>False</td>\n      <td>False</td>\n      <td>20000.00000</td>\n      <td>7876</td>\n    </tr>\n    <tr>\n      <th>299944</th>\n      <td>299944</td>\n      <td>24090</td>\n      <td>5613226</td>\n      <td>7876</td>\n      <td>0</td>\n      <td>1</td>\n      <td>0</td>\n      <td>0</td>\n      <td>20000.00000</td>\n      <td>False</td>\n      <td>...</td>\n      <td>23667.00000</td>\n      <td>22000.00000</td>\n      <td>1667.00000</td>\n      <td>21000.00000</td>\n      <td>False</td>\n      <td>False</td>\n      <td>False</td>\n      <td>False</td>\n      <td>22000.00000</td>\n      <td>7876</td>\n    </tr>\n    <tr>\n      <th>299984</th>\n      <td>299984</td>\n      <td>34103</td>\n      <td>5615405</td>\n      <td>7876</td>\n      <td>0</td>\n      <td>1</td>\n      <td>0</td>\n      <td>0</td>\n      <td>22000.00000</td>\n      <td>False</td>\n      <td>...</td>\n      <td>25931.00000</td>\n      <td>31000.00000</td>\n      <td>-5069.00000</td>\n      <td>30000.00000</td>\n      <td>True</td>\n      <td>False</td>\n      <td>False</td>\n      <td>False</td>\n      <td>31000.00000</td>\n      <td>7876</td>\n    </tr>\n  </tbody>\n</table>\n<p>1012 rows × 35 columns</p>\n</div>"
     },
     "metadata": {},
     "execution_count": 34
    }
   ],
   "source": [
    "train_df[train_df['task_container_id'] == 1]"
   ]
  },
  {
   "cell_type": "code",
   "execution_count": 35,
   "metadata": {},
   "outputs": [
    {
     "output_type": "execute_result",
     "data": {
      "text/plain": [
       "   question_id  bundle_id  correct_answer  part       tags  tag_count_wise_id  \\\n",
       "1            1          1               1     1  131 36 81                963   \n",
       "\n",
       "   number_of_tags   wrong    right  percentage_correct  bundle_wrong  \\\n",
       "1               3 1.00000 16.00000             0.94118       1.00000   \n",
       "\n",
       "   bundle_right  task_percentage_correct  \n",
       "1      16.00000                  0.94118  "
      ],
      "text/html": "<div>\n<style scoped>\n    .dataframe tbody tr th:only-of-type {\n        vertical-align: middle;\n    }\n\n    .dataframe tbody tr th {\n        vertical-align: top;\n    }\n\n    .dataframe thead th {\n        text-align: right;\n    }\n</style>\n<table border=\"1\" class=\"dataframe\">\n  <thead>\n    <tr style=\"text-align: right;\">\n      <th></th>\n      <th>question_id</th>\n      <th>bundle_id</th>\n      <th>correct_answer</th>\n      <th>part</th>\n      <th>tags</th>\n      <th>tag_count_wise_id</th>\n      <th>number_of_tags</th>\n      <th>wrong</th>\n      <th>right</th>\n      <th>percentage_correct</th>\n      <th>bundle_wrong</th>\n      <th>bundle_right</th>\n      <th>task_percentage_correct</th>\n    </tr>\n  </thead>\n  <tbody>\n    <tr>\n      <th>1</th>\n      <td>1</td>\n      <td>1</td>\n      <td>1</td>\n      <td>1</td>\n      <td>131 36 81</td>\n      <td>963</td>\n      <td>3</td>\n      <td>1.00000</td>\n      <td>16.00000</td>\n      <td>0.94118</td>\n      <td>1.00000</td>\n      <td>16.00000</td>\n      <td>0.94118</td>\n    </tr>\n  </tbody>\n</table>\n</div>"
     },
     "metadata": {},
     "execution_count": 35
    }
   ],
   "source": [
    "questions_df[questions_df.bundle_id == 1]"
   ]
  },
  {
   "cell_type": "code",
   "execution_count": 36,
   "metadata": {},
   "outputs": [
    {
     "output_type": "execute_result",
     "data": {
      "text/plain": [
       "   question_id  bundle_id  correct_answer  part                 tags  \\\n",
       "0            0          0               0     1   [51, 131, 162, 38]   \n",
       "1            1          1               1     1        [131, 36, 81]   \n",
       "2            2          2               0     1  [131, 101, 162, 92]   \n",
       "3            3          3               0     1  [131, 149, 162, 29]   \n",
       "4            4          4               3     1    [131, 5, 162, 38]   \n",
       "\n",
       "   tag_count_wise_id  number_of_tags    wrong    right  percentage_correct  \\\n",
       "0               1055               4  1.00000 23.00000             0.95833   \n",
       "1                963               3  1.00000 16.00000             0.94118   \n",
       "2                574               4 58.00000 77.00000             0.57037   \n",
       "3                651               4 14.00000 53.00000             0.79104   \n",
       "4                910               4 42.00000 47.00000             0.52809   \n",
       "\n",
       "   bundle_wrong  bundle_right  task_percentage_correct        tags_str  \n",
       "0       1.00000      23.00000                  0.95833   51 131 162 38  \n",
       "1       1.00000      16.00000                  0.94118       131 36 81  \n",
       "2      58.00000      77.00000                  0.57037  131 101 162 92  \n",
       "3      14.00000      53.00000                  0.79104  131 149 162 29  \n",
       "4      42.00000      47.00000                  0.52809    131 5 162 38  "
      ],
      "text/html": "<div>\n<style scoped>\n    .dataframe tbody tr th:only-of-type {\n        vertical-align: middle;\n    }\n\n    .dataframe tbody tr th {\n        vertical-align: top;\n    }\n\n    .dataframe thead th {\n        text-align: right;\n    }\n</style>\n<table border=\"1\" class=\"dataframe\">\n  <thead>\n    <tr style=\"text-align: right;\">\n      <th></th>\n      <th>question_id</th>\n      <th>bundle_id</th>\n      <th>correct_answer</th>\n      <th>part</th>\n      <th>tags</th>\n      <th>tag_count_wise_id</th>\n      <th>number_of_tags</th>\n      <th>wrong</th>\n      <th>right</th>\n      <th>percentage_correct</th>\n      <th>bundle_wrong</th>\n      <th>bundle_right</th>\n      <th>task_percentage_correct</th>\n      <th>tags_str</th>\n    </tr>\n  </thead>\n  <tbody>\n    <tr>\n      <th>0</th>\n      <td>0</td>\n      <td>0</td>\n      <td>0</td>\n      <td>1</td>\n      <td>[51, 131, 162, 38]</td>\n      <td>1055</td>\n      <td>4</td>\n      <td>1.00000</td>\n      <td>23.00000</td>\n      <td>0.95833</td>\n      <td>1.00000</td>\n      <td>23.00000</td>\n      <td>0.95833</td>\n      <td>51 131 162 38</td>\n    </tr>\n    <tr>\n      <th>1</th>\n      <td>1</td>\n      <td>1</td>\n      <td>1</td>\n      <td>1</td>\n      <td>[131, 36, 81]</td>\n      <td>963</td>\n      <td>3</td>\n      <td>1.00000</td>\n      <td>16.00000</td>\n      <td>0.94118</td>\n      <td>1.00000</td>\n      <td>16.00000</td>\n      <td>0.94118</td>\n      <td>131 36 81</td>\n    </tr>\n    <tr>\n      <th>2</th>\n      <td>2</td>\n      <td>2</td>\n      <td>0</td>\n      <td>1</td>\n      <td>[131, 101, 162, 92]</td>\n      <td>574</td>\n      <td>4</td>\n      <td>58.00000</td>\n      <td>77.00000</td>\n      <td>0.57037</td>\n      <td>58.00000</td>\n      <td>77.00000</td>\n      <td>0.57037</td>\n      <td>131 101 162 92</td>\n    </tr>\n    <tr>\n      <th>3</th>\n      <td>3</td>\n      <td>3</td>\n      <td>0</td>\n      <td>1</td>\n      <td>[131, 149, 162, 29]</td>\n      <td>651</td>\n      <td>4</td>\n      <td>14.00000</td>\n      <td>53.00000</td>\n      <td>0.79104</td>\n      <td>14.00000</td>\n      <td>53.00000</td>\n      <td>0.79104</td>\n      <td>131 149 162 29</td>\n    </tr>\n    <tr>\n      <th>4</th>\n      <td>4</td>\n      <td>4</td>\n      <td>3</td>\n      <td>1</td>\n      <td>[131, 5, 162, 38]</td>\n      <td>910</td>\n      <td>4</td>\n      <td>42.00000</td>\n      <td>47.00000</td>\n      <td>0.52809</td>\n      <td>42.00000</td>\n      <td>47.00000</td>\n      <td>0.52809</td>\n      <td>131 5 162 38</td>\n    </tr>\n  </tbody>\n</table>\n</div>"
     },
     "metadata": {},
     "execution_count": 36
    }
   ],
   "source": [
    "# Find the wrong and right question tags based on correctly answered\n",
    "tags_list = [value.split() for value in questions_df.tags.values]\n",
    "questions_df['tags_str'] = questions_df['tags']\n",
    "questions_df['tags'] = tags_list\n",
    "questions_df.head()"
   ]
  },
  {
   "cell_type": "code",
   "execution_count": 37,
   "metadata": {},
   "outputs": [
    {
     "output_type": "execute_result",
     "data": {
      "text/plain": [
       "     wrong  right  total_questions  question_ids_with_tag  percent_correct\n",
       "tag                                                                       \n",
       "24     450    317              767                     17          0.41330\n",
       "19     437    361              798                     57          0.45238\n",
       "23     654    620             1274                     11          0.48666\n",
       "151    712    679             1391                     16          0.48814\n",
       "11     163    157              320                     15          0.49062"
      ],
      "text/html": "<div>\n<style scoped>\n    .dataframe tbody tr th:only-of-type {\n        vertical-align: middle;\n    }\n\n    .dataframe tbody tr th {\n        vertical-align: top;\n    }\n\n    .dataframe thead th {\n        text-align: right;\n    }\n</style>\n<table border=\"1\" class=\"dataframe\">\n  <thead>\n    <tr style=\"text-align: right;\">\n      <th></th>\n      <th>wrong</th>\n      <th>right</th>\n      <th>total_questions</th>\n      <th>question_ids_with_tag</th>\n      <th>percent_correct</th>\n    </tr>\n    <tr>\n      <th>tag</th>\n      <th></th>\n      <th></th>\n      <th></th>\n      <th></th>\n      <th></th>\n    </tr>\n  </thead>\n  <tbody>\n    <tr>\n      <th>24</th>\n      <td>450</td>\n      <td>317</td>\n      <td>767</td>\n      <td>17</td>\n      <td>0.41330</td>\n    </tr>\n    <tr>\n      <th>19</th>\n      <td>437</td>\n      <td>361</td>\n      <td>798</td>\n      <td>57</td>\n      <td>0.45238</td>\n    </tr>\n    <tr>\n      <th>23</th>\n      <td>654</td>\n      <td>620</td>\n      <td>1274</td>\n      <td>11</td>\n      <td>0.48666</td>\n    </tr>\n    <tr>\n      <th>151</th>\n      <td>712</td>\n      <td>679</td>\n      <td>1391</td>\n      <td>16</td>\n      <td>0.48814</td>\n    </tr>\n    <tr>\n      <th>11</th>\n      <td>163</td>\n      <td>157</td>\n      <td>320</td>\n      <td>15</td>\n      <td>0.49062</td>\n    </tr>\n  </tbody>\n</table>\n</div>"
     },
     "metadata": {},
     "execution_count": 37
    }
   ],
   "source": [
    "tags_df = pd.DataFrame()\n",
    "for x in range(len(tags)):\n",
    "    df = questions_df[questions_df.tags.apply(lambda l: tags[x] in l)]\n",
    "    df1 = df.agg({'wrong': ['sum'], 'right': ['sum']})\n",
    "    df1['total_questions'] = df1.wrong + df1.right\n",
    "    df1['question_ids_with_tag'] = len(df)\n",
    "    df1['tag'] = tags[x]\n",
    "    df1 = df1.set_index('tag')\n",
    "    tags_df = tags_df.append(df1)\n",
    "\n",
    "tags_df[['wrong', 'right', 'total_questions']] = tags_df[['wrong', 'right', 'total_questions']].astype(int)\n",
    "tags_df['percent_correct'] = tags_df.right / tags_df.total_questions\n",
    "tags_df = tags_df.sort_values(by = \"percent_correct\")\n",
    "\n",
    "tags_df.head()"
   ]
  },
  {
   "cell_type": "code",
   "execution_count": 38,
   "metadata": {},
   "outputs": [],
   "source": [
    "# Question dict\n",
    "questions_dict = questions_df[['question_id', 'percentage_correct', 'tags']].set_index('question_id').to_dict(orient='index')"
   ]
  },
  {
   "cell_type": "code",
   "execution_count": 39,
   "metadata": {},
   "outputs": [],
   "source": [
    "# TODO: please check the values that is used in each question they might be wrong\n",
    "def is_question_above_average_answering(row):\n",
    "    percentage_correct = question_dict[row.content_id].get('percentage_correct')\n",
    "    if percentage_correct:\n",
    "        return percentage_correct > 50\n",
    "    return False\n",
    "\n",
    "def is_all_tags_above_average_answering(row):\n",
    "    tags_answer_percentages = []\n",
    "    tags = questions_dict[row.content_id].get('tags')\n",
    "    if not tags:\n",
    "        return False\n",
    "    tags = tags\n",
    "    for tag in tags:\n",
    "        tags_answer_percentages.append(tags_df.loc[tag].percent_correct)\n",
    "    overall_tag_percentage = sum(tags_answer_percentages) / len(tags)\n",
    "    return overall_tag_percentage > 0.5\n",
    "\n",
    "train_df['question_has_above_average_correctness'] = train_df.apply(lambda row: is_question_above_average_answering(row), axis=1)\n",
    "train_df['tag_has_above_average_correctness'] = train_df.apply(lambda row: is_all_tags_above_average_answering(row), axis=1)"
   ]
  },
  {
   "cell_type": "markdown",
   "metadata": {},
   "source": [
    "##### 6. toughtest questions relates to the lag time and the elapsed time"
   ]
  },
  {
   "cell_type": "code",
   "execution_count": 40,
   "metadata": {},
   "outputs": [],
   "source": [
    "check_answered_correctly = (train_df.answered_correctly == 1)"
   ]
  },
  {
   "cell_type": "code",
   "execution_count": 42,
   "metadata": {},
   "outputs": [],
   "source": [
    "lag_time_answered_correctly_mean_dict = train_df[check_answered_correctly][['content_id', 'lag_time']].groupby(['content_id']).lag_time.mean().to_dict()\n",
    "train_df['has_above_average_lag_time_for_the_question'] = train_df.apply(lambda row: row.lag_time > lag_time_answered_correctly_mean_dict.get(row.content_id, 0), axis=1)"
   ]
  },
  {
   "cell_type": "code",
   "execution_count": 43,
   "metadata": {},
   "outputs": [],
   "source": [
    "shift_elapsed_time_answered_correctly_mean_dict = train_df[check_answered_correctly][['content_id', 'shift_elapsed_time']].groupby(['content_id']).shift_elapsed_time.mean().to_dict()\n",
    "train_df['has_above_average_shift_elpased_time_for_the_question'] = train_df.apply(lambda row: row.shift_elapsed_time > shift_elapsed_time_answered_correctly_mean_dict.get(row.content_id, 0), axis=1)"
   ]
  },
  {
   "cell_type": "code",
   "execution_count": 44,
   "metadata": {},
   "outputs": [],
   "source": [
    "# 1. Lag time based on the min/average question time - Done\n",
    "# 2. Check if the average question time is greater than or not - Done\n",
    "# 3. The timestamp is greater or not - Done\n",
    "# 4. check if the top users and top interactions has any relation - Must be run on full dataset\n",
    "# 5. Find the toughest question - Done\n",
    "# 6. Find if the toughest question relates to the lag time - Done\n",
    "# 7. Find if the toughest question relates to the elapsed time - Done\n"
   ]
  },
  {
   "source": [
    "##### 7. The prior time mean for each user should be averaged to check if the user too more than usual"
   ],
   "cell_type": "markdown",
   "metadata": {}
  },
  {
   "cell_type": "code",
   "execution_count": 50,
   "metadata": {},
   "outputs": [],
   "source": [
    "# TODO: Do the following by setting the time rather than setting the flag\n",
    "# BUG: The comparison seems to be wrong \n",
    "elapsed_time_mean_dict = train_df[check_answered_correctly][['shift_elapsed_time', 'user_id']].groupby('user_id').shift_elapsed_time.mean().to_dict()\n",
    "train_df['has_above_user_average_time_to_answer'] = train_df[['user_id', 'shift_elapsed_time']].apply(lambda row: elapsed_time_mean_dict.get(row.user_id, 0) > row.shift_elapsed_time, axis=1)"
   ]
  },
  {
   "cell_type": "code",
   "execution_count": 46,
   "metadata": {},
   "outputs": [],
   "source": [
    "event_time_mean = train_df[check_answered_correctly][['event_time', 'user_id']].groupby('user_id').event_time.mean()\n",
    "train_df['has_above_user_average_time_for_event'] = train_df[['user_id', 'event_time']].apply(lambda row: event_time_mean[row.user_id] > row.event_time, axis=1)"
   ]
  },
  {
   "cell_type": "code",
   "execution_count": 47,
   "metadata": {},
   "outputs": [],
   "source": [
    "shift_event_time_mean = train_df[check_answered_correctly][['shift_event_time', 'user_id']].groupby('user_id').shift_event_time.mean()\n",
    "train_df['has_above_user_average_time_for_event'] = train_df[['user_id', 'shift_event_time']].apply(lambda row: shift_event_time_mean[row.user_id] > row.shift_event_time, axis=1)"
   ]
  },
  {
   "source": [
    "##### 8. cum correctness of the answers made by the user"
   ],
   "cell_type": "markdown",
   "metadata": {}
  },
  {
   "cell_type": "code",
   "execution_count": null,
   "metadata": {},
   "outputs": [],
   "source": [
    "cum = train_df.groupby('user_id')['answered_correctly'].agg(['cumsum', 'cumcount'])\n",
    "train_df['user_cum_correctness'] = cum['cumsum'] / cum['cumcount']\n",
    "train_df['user_correct_cumsum'] = cum['cumsum']\n",
    "train_df['user_correct_cumcount'] = cum['cumcount']\n",
    "\n",
    "train_df['user_correct_cumsum'].fillna(0, inplace=True)\n",
    "train_df.user_cum_correctness = train_df.user_cum_correctness.astype('float16')\n",
    "train_df.user_correct_cumcount = train_df.user_correct_cumcount.astype('int16')\n",
    "train_df.user_correct_cumsum = train_df.user_correct_cumsum.astype('int16')\n",
    "\n",
    "user_agg = train_df.groupby('user_id')['answered_correctly'].agg(['sum', 'count'])\n",
    "user_agg = user_agg.astype('int16')\n",
    "train_df['user_correctness'] = cum['sum'] / cum['count']\n",
    "train_df['user_correct_sum'] = cum['sum']\n",
    "train_df['user_correct_count'] = cum['count']\n",
    "\n",
    "train_df['user_correct_sum'].fillna(0, inplace=True)\n",
    "train_df.user_correctness = train_df.user_correctness.astype('float16')\n",
    "train_df.user_correct_count = train_df.user_correct_count.astype('int16')\n",
    "train_df.user_correct_sum = train_df.user_correct_sum.astype('int16')"
   ]
  },
  {
   "source": [
    "##### 9. cum of prior question had seen explanation "
   ],
   "cell_type": "markdown",
   "metadata": {}
  },
  {
   "cell_type": "code",
   "execution_count": null,
   "metadata": {},
   "outputs": [],
   "source": [
    "train_df['has_seen_question_explanation'] = train_df.groupby('user_id').prior_question_had_explanation.shift(-1)"
   ]
  },
  {
   "cell_type": "code",
   "execution_count": null,
   "metadata": {},
   "outputs": [],
   "source": [
    "cum = train_df.groupby('user_id')['has_seen_question_explanation'].agg(['cumsum', 'cumcount'])\n",
    "train_df['explanation_mean'] = cum['cumsum'] / cum['cumcount']\n",
    "train_df['explanation_cumsum'] = cum['cumsum'] \n",
    "train_df.drop(columns=['lag'], inplace=True)\n",
    "\n",
    "train_df['explanation_mean'].fillna(0, inplace=True)\n",
    "train_df['explanation_cumsum'].fillna(0, inplace=True)\n",
    "train_df.explanation_mean = train_df.explanation_mean.astype('float16')\n",
    "train_df.explanation_cumsum = train_df.explanation_cumsum.astype('int16')"
   ]
  },
  {
   "source": [
    "##### 10. The attempt feature"
   ],
   "cell_type": "markdown",
   "metadata": {}
  },
  {
   "cell_type": "code",
   "execution_count": null,
   "metadata": {},
   "outputs": [],
   "source": [
    "train_df[\"attempt_no\"] = 1\n",
    "train_df.attempt_no = train_df.attempt_no.astype('int8')\n",
    "train_df[\"attempt_no\"] = train_df[[\"user_id\", \"content_id\", \"attempt_no\"]].groupby([\"user_id\", \"content_id\"])[\"attempt_no\"].cumsum()"
   ]
  },
  {
   "cell_type": "code",
   "execution_count": null,
   "metadata": {},
   "outputs": [],
   "source": [
    "attempt_no_agg = train_df.groupby([\"user_id\",\"content_id\"])[\"attempt_no\"].agg(['sum'])\n",
    "attempt_no_agg = attempt_no_agg.astype('int8')"
   ]
  },
  {
   "source": [
    "##### 11. The aggregate of the answered correctly with the user_id, content_id, task_container_id"
   ],
   "cell_type": "markdown",
   "metadata": {}
  },
  {
   "cell_type": "code",
   "execution_count": null,
   "metadata": {},
   "outputs": [],
   "source": [
    "content_agg = train_df.groupby('content_id')['answered_correctly'].agg(['sum', 'count','var'])\n",
    "content_agg = content_agg.astype('float32')\n",
    "train_df['content_count'] = train_df['content_id'].map(content_agg['count']).astype('int32')\n",
    "train_df['content_sum'] = train_df['content_id'].map(content_agg['sum']).astype('int32')\n",
    "train_df['content_correctness'] = train_df['content_id'].map(content_agg['sum'] / content_agg['count'])\n",
    "train_df.content_correctness = train_df.content_correctness.astype('float16')\n",
    "\n",
    "task_container_agg = train_df.groupby('task_container_id')['answered_correctly'].agg(['sum', 'count','var'])\n",
    "task_container_agg = task_container_agg.astype('float32')\n",
    "train_df['task_container_sum'] = train_df['task_container_id'].map(task_container_agg['sum']).astype('int32')\n",
    "train_df['task_container_std'] = train_df['task_container_id'].map(task_container_agg['var']).astype('float16')\n",
    "train_df['task_container_correctness'] = train_df['task_container_id'].map(task_container_agg['sum'] / task_container_agg['count'])\n",
    "train_df.task_container_correctness=train_df.task_container_correctness.astype('float16')"
   ]
  },
  {
   "source": [
    "##### 12. get harmonic mean of the content"
   ],
   "cell_type": "markdown",
   "metadata": {}
  },
  {
   "cell_type": "code",
   "execution_count": null,
   "metadata": {},
   "outputs": [],
   "source": [
    "train_df['hmean_user_content_accuracy'] = 2 * (\n",
    "    (train_df['user_correctness'] * train_df['content_correctness']) /\n",
    "    (train_df['user_correctness'] + train_df['content_correctness'])\n",
    ")"
   ]
  },
  {
   "source": [
    "### Training "
   ],
   "cell_type": "markdown",
   "metadata": {}
  },
  {
   "cell_type": "code",
   "execution_count": null,
   "metadata": {},
   "outputs": [],
   "source": [
    "train_df = train_df.join(questions_df.set_index(\"question_id\"), 'content_id', how='left')"
   ]
  },
  {
   "cell_type": "code",
   "execution_count": null,
   "metadata": {},
   "outputs": [],
   "source": [
    "X_val = train_df.groupby('user_id').tail(5)\n",
    "X_train = train_df[~train_df.index.isin(X_val.index)]\n",
    "y_train = X_train.answered_correctly\n",
    "y_val = X_val.answered_correctly"
   ]
  },
  {
   "cell_type": "code",
   "execution_count": null,
   "metadata": {},
   "outputs": [],
   "source": [
    "features = ['content_id',\n",
    "       'task_container_id',\n",
    "       'days', 'hours', 'prior_minutes', 'intro_section', 'retention',\n",
    "       'has_seen_lecture_before', 'has_seen_same_tag_as_lecture',\n",
    "       'has_seen_same_part_as_lecture', 'has_part_common_with_type_of',\n",
    "       'has_tag_common_with_type_of', 'has_tag_common_with_part_dict',\n",
    "       'has_type_of_common_with_part_dict', 'shift_event_time',\n",
    "       'shift_elapsed_time', 'event_lag_time', 'lag_time',\n",
    "       'question_answered_late', 'event_time_greater_than_average',\n",
    "       'question_took_more_than_average_user_time',\n",
    "       'has_more_than_average_bundle_time', 'bundle_lag_time',\n",
    "       'question_has_above_average_correctness',\n",
    "       'tag_has_above_average_correctness', 'bundle_id',\n",
    "       'part', 'has_seen_question_explanation', 'percentage_correct']\n",
    "\n",
    "categorical_feature = ['intro_section', 'has_seen_lecture_before', 'has_seen_same_tag_as_lecture',\n",
    "       'has_seen_same_part_as_lecture', 'has_part_common_with_type_of',\n",
    "       'has_tag_common_with_type_of', 'has_tag_common_with_part_dict',\n",
    "       'has_type_of_common_with_part_dict', 'question_answered_late', 'event_time_greater_than_average',\n",
    "       'question_took_more_than_average_user_time',\n",
    "       'has_more_than_average_bundle_time', 'question_has_above_average_correctness',\n",
    "       'tag_has_above_average_correctness',\n",
    "       'part', 'has_seen_question_explanation']\n",
    "categorical_feature_idxs = []\n",
    "for feature_name in categorical_feature:\n",
    "    try:\n",
    "        categorical_feature_idxs.append(features.index(feature_name))\n",
    "    except:\n",
    "        pass"
   ]
  },
  {
   "cell_type": "code",
   "execution_count": null,
   "metadata": {},
   "outputs": [],
   "source": [
    "X_train = X_train[features]\n",
    "X_val = X_val[features]"
   ]
  },
  {
   "cell_type": "code",
   "execution_count": null,
   "metadata": {},
   "outputs": [],
   "source": [
    "X_train.has_seen_question_explanation = X_train.has_seen_question_explanation.fillna(False).astype(np.bool)\n",
    "X_val.has_seen_question_explanation = X_val.has_seen_question_explanation.fillna(False).astype(np.bool)\n",
    "X_train.info()"
   ]
  },
  {
   "cell_type": "code",
   "execution_count": null,
   "metadata": {},
   "outputs": [],
   "source": [
    "lgbm_params = {\n",
    "    'objective': 'binary',\n",
    "    'metric': ['auc'],\n",
    "}"
   ]
  },
  {
   "cell_type": "code",
   "execution_count": null,
   "metadata": {},
   "outputs": [],
   "source": [
    "train_data = lgb.Dataset(\n",
    "    data = X_train,\n",
    "    label = y_train,\n",
    "    categorical_feature = None,\n",
    ")\n",
    "\n",
    "val_data = lgb.Dataset(\n",
    "    data = X_val,\n",
    "    label = y_val,\n",
    "    categorical_feature = None,\n",
    ")"
   ]
  },
  {
   "cell_type": "code",
   "execution_count": null,
   "metadata": {},
   "outputs": [],
   "source": [
    "del X_train, y_train, X_val, y_val\n",
    "import gc\n",
    "gc.collect()"
   ]
  },
  {
   "cell_type": "code",
   "execution_count": null,
   "metadata": {},
   "outputs": [],
   "source": [
    "def train():\n",
    "    evals_result = {}\n",
    "    model = lgb.train(\n",
    "        params = lgbm_params,\n",
    "        train_set = train_data,\n",
    "        valid_sets = [val_data],\n",
    "        num_boost_round = 2500,\n",
    "        verbose_eval = 10,\n",
    "        evals_result = evals_result,\n",
    "        early_stopping_rounds = 10,\n",
    "        categorical_feature = categorical_feature_idxs,\n",
    "        feature_name = features,\n",
    "    )\n",
    "\n",
    "    # save model\n",
    "    model.save_model(f'model_v1_2500.lgb')\n",
    "    \n",
    "    return model, evals_result\n",
    "    \n",
    "model, evals_result = train()"
   ]
  },
  {
   "cell_type": "code",
   "execution_count": null,
   "metadata": {},
   "outputs": [],
   "source": [
    "def plot_history(evals_result):\n",
    "    for metric in ['auc']:\n",
    "        plt.figure(figsize=(20,8))\n",
    "        \n",
    "        for key in evals_result.keys():\n",
    "            history_len = len(evals_result.get(key)[metric])\n",
    "            history = evals_result.get(key)[metric]\n",
    "            x_axis = np.arange(1, history_len + 1)\n",
    "            plt.plot(x_axis, history, label=key)\n",
    "        \n",
    "        x_ticks = list(filter(lambda e: (e % (history_len // 100 * 10) == 0) or e == 1, x_axis))\n",
    "        plt.xticks(x_ticks, fontsize=12)\n",
    "        plt.yticks(fontsize=12)\n",
    "\n",
    "        plt.title(f'{metric.upper()} History of training', fontsize=18);\n",
    "        plt.xlabel('EPOCH', fontsize=16)\n",
    "        plt.ylabel(metric.upper(), fontsize=16)\n",
    "        \n",
    "        if metric in ['auc']:\n",
    "            plt.legend(loc='upper left', fontsize=14)\n",
    "        else:\n",
    "            plt.legend(loc='upper right', fontsize=14)\n",
    "        plt.grid()\n",
    "        plt.show()\n",
    "\n",
    "plot_history(evals_result)"
   ]
  },
  {
   "cell_type": "code",
   "execution_count": null,
   "metadata": {},
   "outputs": [],
   "source": [
    "# plot the feature importance in terms of gain and split\n",
    "def show_feature_importances(model, importance_type, max_num_features=10**10):\n",
    "    feature_importances = pd.DataFrame()\n",
    "    feature_importances['feature'] = features\n",
    "    feature_importances['value'] = pd.DataFrame(model.feature_importance(importance_type))\n",
    "    feature_importances = feature_importances.sort_values(by='value', ascending=False) # sort feature importance\n",
    "    feature_importances.to_csv(f'feature_importances_{importance_type}.csv') # write feature importance to csv\n",
    "    feature_importances = feature_importances[:max_num_features] # only show max_num_features\n",
    "    \n",
    "    plt.figure(figsize=(20, 8))\n",
    "    plt.xlim([0, feature_importances.value.max()*1.1])\n",
    "    plt.title(f'Feature {importance_type}', fontsize=18);\n",
    "    sns.barplot(data=feature_importances, x='value', y='feature', palette='rocket');\n",
    "    for idx, v in enumerate(feature_importances.value):\n",
    "        plt.text(v, idx, \"  {:.2e}\".format(v))\n",
    "\n",
    "show_feature_importances(model, 'gain')\n",
    "show_feature_importances(model, 'split')"
   ]
  },
  {
   "cell_type": "code",
   "execution_count": null,
   "metadata": {},
   "outputs": [],
   "source": [
    "# show tree and save as png\n",
    "def save_tree_diagraph(model):\n",
    "    tree_digraph = lgb.create_tree_digraph(model, show_info=['split_gain', 'internal_count'])\n",
    "\n",
    "    tree_png = svg2png(tree_digraph._repr_svg_(), output_width=3840)\n",
    "    tree_png = Image.open(BytesIO(tree_png))\n",
    "\n",
    "    tree_png.save('create_tree_digraph.png')\n",
    "\n",
    "    display(tree_png)\n",
    "    \n",
    "save_tree_diagraph(model)"
   ]
  },
  {
   "cell_type": "code",
   "execution_count": null,
   "metadata": {},
   "outputs": [],
   "source": [
    "# remove train and validation data to free memory before prediction phase\n",
    "del train_data\n",
    "gc.collect()"
   ]
  },
  {
   "cell_type": "code",
   "execution_count": null,
   "metadata": {},
   "outputs": [],
   "source": [
    "# updates the user data\n",
    "def update_user_data(state, features_questions_df, prev_test_df):\n",
    "    for user_id, content_id, answered_correctly in prev_test_df[['user_id', 'content_id', 'answered_correctly']].values:\n",
    "        # update user features\n",
    "        state[user_id]['answered_correctly_user'] += answered_correctly\n",
    "        state[user_id]['answered_user'] += 1\n",
    "        state[user_id]['mean_user_accuracy'] = state[user_id]['answered_correctly_user'] / state[user_id]['answered_user']"
   ]
  },
  {
   "cell_type": "code",
   "execution_count": null,
   "metadata": {},
   "outputs": [],
   "source": [
    "def get_user_data(state, test_df):\n",
    "    # updated data\n",
    "    attempt, mean_user_accuracy, answered_correctly_user, answered_user = [], [], [], []\n",
    "    \n",
    "    for idx, (user_id, content_id) in test_df[['user_id', 'content_id']].iterrows():\n",
    "        # check if user exists\n",
    "        if user_id in state:\n",
    "            # check if user already answered the question, if so update it to a maximum of 4\n",
    "            if content_id in state[user_id]['user_content_attempts']:\n",
    "                state[user_id]['user_content_attempts'][content_id] = min(4, state[user_id]['user_content_attempts'][content_id] + 1)\n",
    "            # if user did not answered the question already, set the number of attempts to 0\n",
    "            else:\n",
    "                state[user_id]['user_content_attempts'][content_id] = 0\n",
    "        \n",
    "        # else create user with default values\n",
    "        else:\n",
    "            dict_keys = ['mean_user_accuracy', 'answered_correctly_user', 'answered_user', 'user_content_attempts']\n",
    "            dict_default_vals = [0.680, 0, 0, dict(zip([content_id],[0]))]\n",
    "            state[user_id] = dict(zip(dict_keys, dict_default_vals))\n",
    "            \n",
    "        # add user data to lists\n",
    "        attempt.append(state[user_id]['user_content_attempts'][content_id])\n",
    "        mean_user_accuracy.append(state[user_id]['mean_user_accuracy'])\n",
    "        answered_correctly_user.append(state[user_id]['answered_correctly_user'])\n",
    "        answered_user.append(state[user_id]['answered_user'])\n",
    "    \n",
    "    return attempt, mean_user_accuracy, answered_correctly_user, answered_user"
   ]
  },
  {
   "cell_type": "markdown",
   "metadata": {},
   "source": [
    "### prediction"
   ]
  },
  {
   "cell_type": "code",
   "execution_count": null,
   "metadata": {},
   "outputs": [],
   "source": [
    "import riiideducation\n",
    "\n",
    "env = riiideducation.make_env()\n",
    "iter_test = env.iter_test()"
   ]
  }
 ],
 "metadata": {
  "kernelspec": {
   "name": "python3",
   "display_name": "Python 3.8.5 64-bit",
   "metadata": {
    "interpreter": {
     "hash": "4f505f879686e1f790cbcde16b7d0ad3222277933aef3abab0463f89f71cbbe9"
    }
   }
  },
  "language_info": {
   "codemirror_mode": {
    "name": "ipython",
    "version": 3
   },
   "file_extension": ".py",
   "mimetype": "text/x-python",
   "name": "python",
   "nbconvert_exporter": "python",
   "pygments_lexer": "ipython3",
   "version": "3.8.5-final"
  },
  "orig_nbformat": 2
 },
 "nbformat": 4,
 "nbformat_minor": 2
}