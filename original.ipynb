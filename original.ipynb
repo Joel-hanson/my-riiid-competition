{
 "metadata": {
  "language_info": {
   "codemirror_mode": {
    "name": "ipython",
    "version": 3
   },
   "file_extension": ".py",
   "mimetype": "text/x-python",
   "name": "python",
   "nbconvert_exporter": "python",
   "pygments_lexer": "ipython3",
   "version": "3.8.5-final"
  },
  "orig_nbformat": 2,
  "kernelspec": {
   "name": "python3",
   "display_name": "Python 3.8.5 64-bit",
   "metadata": {
    "interpreter": {
     "hash": "4f505f879686e1f790cbcde16b7d0ad3222277933aef3abab0463f89f71cbbe9"
    }
   }
  }
 },
 "nbformat": 4,
 "nbformat_minor": 2,
 "cells": [
  {
   "source": [
    "#### Imports"
   ],
   "cell_type": "markdown",
   "metadata": {}
  },
  {
   "cell_type": "code",
   "execution_count": 1,
   "metadata": {},
   "outputs": [],
   "source": [
    "import pandas as pd\n",
    "import numpy as np\n",
    "import lightgbm as lgb\n",
    "import matplotlib.pyplot as plt\n",
    "\n",
    "from tqdm import tqdm\n",
    "# from sklearn.metrics import roc_auc_score\n",
    "\n",
    "pd.set_option('display.max_rows', 100)\n",
    "pd.set_option('display.float_format', lambda x: '%.5f' % x)\n",
    "\n",
    "KAGGLE = 0"
   ]
  },
  {
   "source": [
    "#### Global Variables"
   ],
   "cell_type": "markdown",
   "metadata": {}
  },
  {
   "cell_type": "code",
   "execution_count": 2,
   "metadata": {},
   "outputs": [],
   "source": [
    "TRAIN_CSV_PATH = 'train.feather'\n",
    "QUESTIONS_CSV_PATH = 'questions.csv'\n",
    "LECTURES_CSV_PATH = 'lectures.csv'\n",
    "TEST_CSV_PATH = 'test.csv'\n",
    "SAMPLE_CSV_PATH = 'example_sample_submission.csv'\n",
    "\n",
    "if KAGGLE:\n",
    "    TRAIN_CSV_PATH = '/kaggle/input/riiid-test-answer-prediction/train.csv'\n",
    "    QUESTIONS_CSV_PATH = '/kaggle/input/riiid-test-answer-prediction/questions.csv'\n",
    "    LECTURES_CSV_PATH = '/kaggle/input/riiid-test-answer-prediction/lectures.csv'\n",
    "    TEST_CSV_PATH = '/kaggle/input/riiid-test-answer-prediction/test.csv'\n",
    "    SAMPLE_CSV_PATH = '/kaggle/input/riiid-test-answer-prediction/example_sample_submission.csv'\n",
    "\n",
    "COLUMN_TYPES = {\n",
    "    'row_id': 'int64',\n",
    "    'timestamp': 'int64',\n",
    "    'user_id': 'int32',\n",
    "    'content_id': 'int16',\n",
    "    'content_type_id': 'int8',\n",
    "    'task_container_id': 'int16',\n",
    "    'user_answer': 'int8',\n",
    "    'answered_correctly': 'int8',\n",
    "    'prior_question_elapsed_time': 'float32',\n",
    "    'prior_question_had_explanation': 'boolean'\n",
    "}\n"
   ]
  },
  {
   "cell_type": "code",
   "execution_count": 3,
   "metadata": {},
   "outputs": [],
   "source": [
    "# train_df = pd.read_csv(TRAIN_CSV_PATH, nrows=10**5, dtype=COLUMN_TYPES)\n",
    "train_df = pd.read_feather(TRAIN_CSV_PATH)\n",
    "train_df = train_df.iloc[:300000]\n",
    "questions_df = pd.read_csv(QUESTIONS_CSV_PATH)\n",
    "lectures_df = pd.read_csv(LECTURES_CSV_PATH)"
   ]
  },
  {
   "source": [
    "#### Check for user specific features"
   ],
   "cell_type": "markdown",
   "metadata": {}
  },
  {
   "cell_type": "code",
   "execution_count": 4,
   "metadata": {},
   "outputs": [
    {
     "output_type": "execute_result",
     "data": {
      "text/plain": [
       "        row_id  timestamp  user_id  content_id  content_type_id  \\\n",
       "0            0          0      115        5692                0   \n",
       "1            1      56943      115        5716                0   \n",
       "2            2     118363      115         128                0   \n",
       "3            3     131167      115        7860                0   \n",
       "4            4     137965      115        7922                0   \n",
       "...        ...        ...      ...         ...              ...   \n",
       "299995  299995     410223  5615405        2946                0   \n",
       "299996  299996     528172  5615405        2594                0   \n",
       "299997  299997     528172  5615405        2593                0   \n",
       "299998  299998     528172  5615405        2595                0   \n",
       "299999  299999     553634  5615405        4492                0   \n",
       "\n",
       "        task_container_id  user_answer  answered_correctly  \\\n",
       "0                       1            3                   1   \n",
       "1                       2            2                   1   \n",
       "2                       0            0                   1   \n",
       "3                       3            0                   1   \n",
       "4                       4            1                   1   \n",
       "...                   ...          ...                 ...   \n",
       "299995                  6            0                   0   \n",
       "299996                  7            2                   1   \n",
       "299997                  7            3                   1   \n",
       "299998                  7            3                   0   \n",
       "299999                  8            0                   0   \n",
       "\n",
       "        prior_question_elapsed_time  prior_question_had_explanation  \n",
       "0                               nan                            <NA>  \n",
       "1                       37000.00000                           False  \n",
       "2                       55000.00000                           False  \n",
       "3                       19000.00000                           False  \n",
       "4                       11000.00000                           False  \n",
       "...                             ...                             ...  \n",
       "299995                  39000.00000                           False  \n",
       "299996                  27666.00000                           False  \n",
       "299997                  27666.00000                           False  \n",
       "299998                  27666.00000                           False  \n",
       "299999                  38000.00000                           False  \n",
       "\n",
       "[300000 rows x 10 columns]"
      ],
      "text/html": "<div>\n<style scoped>\n    .dataframe tbody tr th:only-of-type {\n        vertical-align: middle;\n    }\n\n    .dataframe tbody tr th {\n        vertical-align: top;\n    }\n\n    .dataframe thead th {\n        text-align: right;\n    }\n</style>\n<table border=\"1\" class=\"dataframe\">\n  <thead>\n    <tr style=\"text-align: right;\">\n      <th></th>\n      <th>row_id</th>\n      <th>timestamp</th>\n      <th>user_id</th>\n      <th>content_id</th>\n      <th>content_type_id</th>\n      <th>task_container_id</th>\n      <th>user_answer</th>\n      <th>answered_correctly</th>\n      <th>prior_question_elapsed_time</th>\n      <th>prior_question_had_explanation</th>\n    </tr>\n  </thead>\n  <tbody>\n    <tr>\n      <th>0</th>\n      <td>0</td>\n      <td>0</td>\n      <td>115</td>\n      <td>5692</td>\n      <td>0</td>\n      <td>1</td>\n      <td>3</td>\n      <td>1</td>\n      <td>nan</td>\n      <td>&lt;NA&gt;</td>\n    </tr>\n    <tr>\n      <th>1</th>\n      <td>1</td>\n      <td>56943</td>\n      <td>115</td>\n      <td>5716</td>\n      <td>0</td>\n      <td>2</td>\n      <td>2</td>\n      <td>1</td>\n      <td>37000.00000</td>\n      <td>False</td>\n    </tr>\n    <tr>\n      <th>2</th>\n      <td>2</td>\n      <td>118363</td>\n      <td>115</td>\n      <td>128</td>\n      <td>0</td>\n      <td>0</td>\n      <td>0</td>\n      <td>1</td>\n      <td>55000.00000</td>\n      <td>False</td>\n    </tr>\n    <tr>\n      <th>3</th>\n      <td>3</td>\n      <td>131167</td>\n      <td>115</td>\n      <td>7860</td>\n      <td>0</td>\n      <td>3</td>\n      <td>0</td>\n      <td>1</td>\n      <td>19000.00000</td>\n      <td>False</td>\n    </tr>\n    <tr>\n      <th>4</th>\n      <td>4</td>\n      <td>137965</td>\n      <td>115</td>\n      <td>7922</td>\n      <td>0</td>\n      <td>4</td>\n      <td>1</td>\n      <td>1</td>\n      <td>11000.00000</td>\n      <td>False</td>\n    </tr>\n    <tr>\n      <th>...</th>\n      <td>...</td>\n      <td>...</td>\n      <td>...</td>\n      <td>...</td>\n      <td>...</td>\n      <td>...</td>\n      <td>...</td>\n      <td>...</td>\n      <td>...</td>\n      <td>...</td>\n    </tr>\n    <tr>\n      <th>299995</th>\n      <td>299995</td>\n      <td>410223</td>\n      <td>5615405</td>\n      <td>2946</td>\n      <td>0</td>\n      <td>6</td>\n      <td>0</td>\n      <td>0</td>\n      <td>39000.00000</td>\n      <td>False</td>\n    </tr>\n    <tr>\n      <th>299996</th>\n      <td>299996</td>\n      <td>528172</td>\n      <td>5615405</td>\n      <td>2594</td>\n      <td>0</td>\n      <td>7</td>\n      <td>2</td>\n      <td>1</td>\n      <td>27666.00000</td>\n      <td>False</td>\n    </tr>\n    <tr>\n      <th>299997</th>\n      <td>299997</td>\n      <td>528172</td>\n      <td>5615405</td>\n      <td>2593</td>\n      <td>0</td>\n      <td>7</td>\n      <td>3</td>\n      <td>1</td>\n      <td>27666.00000</td>\n      <td>False</td>\n    </tr>\n    <tr>\n      <th>299998</th>\n      <td>299998</td>\n      <td>528172</td>\n      <td>5615405</td>\n      <td>2595</td>\n      <td>0</td>\n      <td>7</td>\n      <td>3</td>\n      <td>0</td>\n      <td>27666.00000</td>\n      <td>False</td>\n    </tr>\n    <tr>\n      <th>299999</th>\n      <td>299999</td>\n      <td>553634</td>\n      <td>5615405</td>\n      <td>4492</td>\n      <td>0</td>\n      <td>8</td>\n      <td>0</td>\n      <td>0</td>\n      <td>38000.00000</td>\n      <td>False</td>\n    </tr>\n  </tbody>\n</table>\n<p>300000 rows × 10 columns</p>\n</div>"
     },
     "metadata": {},
     "execution_count": 4
    }
   ],
   "source": [
    "train_df"
   ]
  },
  {
   "source": [
    "##### 1. Get timestamp as hours and minutes"
   ],
   "cell_type": "markdown",
   "metadata": {}
  },
  {
   "cell_type": "code",
   "execution_count": 5,
   "metadata": {},
   "outputs": [],
   "source": [
    "def convert_timestamp_in_parts(millis):\n",
    "    seconds = (millis / 1000)\n",
    "    minutes = (seconds / 60)\n",
    "    hours = (minutes / 60)\n",
    "    days = (hours / 24)\n",
    "    return days, hours, minutes, seconds"
   ]
  },
  {
   "source": [
    "def get_timestamp_in_parts(row):\n",
    "    millis = row.timestamp\n",
    "    seconds = (millis / 1000)\n",
    "    minutes = (seconds / 60)\n",
    "    hours = (minutes / 60)\n",
    "    days = (hours / 24)\n",
    "    return days, hours\n",
    "\n",
    "def get_prior_elasped_time_in_parts(row):\n",
    "    prior_millis = row.prior_question_elapsed_time\n",
    "    prior_seconds = (prior_millis / 1000)\n",
    "    prior_minutes = (prior_seconds / 60)\n",
    "    return prior_minutes"
   ],
   "cell_type": "code",
   "metadata": {},
   "execution_count": 6,
   "outputs": []
  },
  {
   "cell_type": "code",
   "execution_count": 7,
   "metadata": {},
   "outputs": [],
   "source": [
    "train_df[['days', 'hours']] = [*train_df.apply(lambda row: get_timestamp_in_parts(row), axis=1)]\n",
    "train_df[['prior_minutes']] = [*train_df.apply(lambda row: get_prior_elasped_time_in_parts(row), axis=1)]"
   ]
  },
  {
   "source": [
    "##### 2. Find the intro rows."
   ],
   "cell_type": "markdown",
   "metadata": {}
  },
  {
   "cell_type": "code",
   "execution_count": 8,
   "metadata": {},
   "outputs": [],
   "source": [
    "starter_ids = train_df[(train_df.timestamp == 0)].task_container_id.unique()"
   ]
  },
  {
   "cell_type": "code",
   "execution_count": 9,
   "metadata": {},
   "outputs": [
    {
     "output_type": "execute_result",
     "data": {
      "text/plain": [
       "   row_id  timestamp  user_id  content_id  content_type_id  task_container_id  \\\n",
       "0       0          0      115        5692                0                  1   \n",
       "1       1      56943      115        5716                0                  2   \n",
       "2       2     118363      115         128                0                  0   \n",
       "3       3     131167      115        7860                0                  3   \n",
       "4       4     137965      115        7922                0                  4   \n",
       "\n",
       "   user_answer  answered_correctly  prior_question_elapsed_time  \\\n",
       "0            3                   1                          nan   \n",
       "1            2                   1                  37000.00000   \n",
       "2            0                   1                  55000.00000   \n",
       "3            0                   1                  19000.00000   \n",
       "4            1                   1                  11000.00000   \n",
       "\n",
       "   prior_question_had_explanation    days   hours  prior_minutes  \\\n",
       "0                            <NA> 0.00000 0.00000            nan   \n",
       "1                           False 0.00066 0.01582        0.61667   \n",
       "2                           False 0.00137 0.03288        0.91667   \n",
       "3                           False 0.00152 0.03644        0.31667   \n",
       "4                           False 0.00160 0.03832        0.18333   \n",
       "\n",
       "   intro_section  \n",
       "0           True  \n",
       "1          False  \n",
       "2           True  \n",
       "3          False  \n",
       "4          False  "
      ],
      "text/html": "<div>\n<style scoped>\n    .dataframe tbody tr th:only-of-type {\n        vertical-align: middle;\n    }\n\n    .dataframe tbody tr th {\n        vertical-align: top;\n    }\n\n    .dataframe thead th {\n        text-align: right;\n    }\n</style>\n<table border=\"1\" class=\"dataframe\">\n  <thead>\n    <tr style=\"text-align: right;\">\n      <th></th>\n      <th>row_id</th>\n      <th>timestamp</th>\n      <th>user_id</th>\n      <th>content_id</th>\n      <th>content_type_id</th>\n      <th>task_container_id</th>\n      <th>user_answer</th>\n      <th>answered_correctly</th>\n      <th>prior_question_elapsed_time</th>\n      <th>prior_question_had_explanation</th>\n      <th>days</th>\n      <th>hours</th>\n      <th>prior_minutes</th>\n      <th>intro_section</th>\n    </tr>\n  </thead>\n  <tbody>\n    <tr>\n      <th>0</th>\n      <td>0</td>\n      <td>0</td>\n      <td>115</td>\n      <td>5692</td>\n      <td>0</td>\n      <td>1</td>\n      <td>3</td>\n      <td>1</td>\n      <td>nan</td>\n      <td>&lt;NA&gt;</td>\n      <td>0.00000</td>\n      <td>0.00000</td>\n      <td>nan</td>\n      <td>True</td>\n    </tr>\n    <tr>\n      <th>1</th>\n      <td>1</td>\n      <td>56943</td>\n      <td>115</td>\n      <td>5716</td>\n      <td>0</td>\n      <td>2</td>\n      <td>2</td>\n      <td>1</td>\n      <td>37000.00000</td>\n      <td>False</td>\n      <td>0.00066</td>\n      <td>0.01582</td>\n      <td>0.61667</td>\n      <td>False</td>\n    </tr>\n    <tr>\n      <th>2</th>\n      <td>2</td>\n      <td>118363</td>\n      <td>115</td>\n      <td>128</td>\n      <td>0</td>\n      <td>0</td>\n      <td>0</td>\n      <td>1</td>\n      <td>55000.00000</td>\n      <td>False</td>\n      <td>0.00137</td>\n      <td>0.03288</td>\n      <td>0.91667</td>\n      <td>True</td>\n    </tr>\n    <tr>\n      <th>3</th>\n      <td>3</td>\n      <td>131167</td>\n      <td>115</td>\n      <td>7860</td>\n      <td>0</td>\n      <td>3</td>\n      <td>0</td>\n      <td>1</td>\n      <td>19000.00000</td>\n      <td>False</td>\n      <td>0.00152</td>\n      <td>0.03644</td>\n      <td>0.31667</td>\n      <td>False</td>\n    </tr>\n    <tr>\n      <th>4</th>\n      <td>4</td>\n      <td>137965</td>\n      <td>115</td>\n      <td>7922</td>\n      <td>0</td>\n      <td>4</td>\n      <td>1</td>\n      <td>1</td>\n      <td>11000.00000</td>\n      <td>False</td>\n      <td>0.00160</td>\n      <td>0.03832</td>\n      <td>0.18333</td>\n      <td>False</td>\n    </tr>\n  </tbody>\n</table>\n</div>"
     },
     "metadata": {},
     "execution_count": 9
    }
   ],
   "source": [
    "train_df['intro_section'] = np.where(train_df.task_container_id.isin(starter_ids), True, False)\n",
    "train_df.head()"
   ]
  },
  {
   "source": [
    "##### 3. The actions after the lectures should be tagged with something."
   ],
   "cell_type": "markdown",
   "metadata": {}
  },
  {
   "cell_type": "code",
   "execution_count": 10,
   "metadata": {},
   "outputs": [],
   "source": [
    "feature_df = train_df.join(questions_df.set_index(\"question_id\"), 'content_id', how='left')"
   ]
  },
  {
   "cell_type": "code",
   "execution_count": 11,
   "metadata": {},
   "outputs": [],
   "source": [
    "lecture_dict = lectures_df.set_index(\"lecture_id\").to_dict(orient=\"index\")\n",
    "lecture_comprehensive_type_of_dict = lectures_df.set_index('type_of').groupby(level=0).apply(lambda row: row.to_dict('list')).to_dict()\n",
    "lecture_comprehensive_part_dict = lectures_df.set_index('part').groupby(level=0).apply(lambda row: row.to_dict('list')).to_dict()"
   ]
  },
  {
   "cell_type": "code",
   "execution_count": 12,
   "metadata": {},
   "outputs": [],
   "source": [
    "question_dict = questions_df.set_index(\"question_id\").to_dict(orient=\"index\")\n"
   ]
  },
  {
   "cell_type": "code",
   "execution_count": 13,
   "metadata": {},
   "outputs": [],
   "source": [
    "for key in lecture_comprehensive_part_dict:\n",
    "    lecture_comprehensive_part_dict[key]['tag'] = list(set(lecture_comprehensive_part_dict[key]['tag']))\n",
    "    lecture_comprehensive_part_dict[key]['type_of'] = list(set(lecture_comprehensive_part_dict[key]['type_of']))\n",
    "\n",
    "for key in lecture_comprehensive_type_of_dict:\n",
    "    lecture_comprehensive_type_of_dict[key]['tag'] = list(set(lecture_comprehensive_type_of_dict[key]['tag']))\n",
    "    lecture_comprehensive_type_of_dict[key]['part'] = list(set(lecture_comprehensive_type_of_dict[key]['part']))"
   ]
  },
  {
   "cell_type": "code",
   "execution_count": 14,
   "metadata": {},
   "outputs": [],
   "source": [
    "questions_dict = questions_df.set_index('question_id').to_dict(orient='index')"
   ]
  },
  {
   "cell_type": "code",
   "execution_count": 15,
   "metadata": {},
   "outputs": [],
   "source": [
    "def apply_filter_based_on_previous_row(func):\n",
    "    prev_row = {\n",
    "        \"has_seen_lecture\": False,\n",
    "        \"previous_lecture_hours\": 0,\n",
    "        \"previous_lecture\": {},\n",
    "        \"user_id\": \"\"\n",
    "    }\n",
    "    def wrapper(curr_row, **kwargs):\n",
    "        content_id = curr_row['content_id']\n",
    "        has_seen_same_tag_as_lecture = False\n",
    "        has_seen_same_part_as_lecture = False\n",
    "        has_part_common_with_type_of = False\n",
    "        has_tag_common_with_type_of = False\n",
    "        has_tag_common_with_part_dict = False\n",
    "        has_type_of_common_with_part_dict = False\n",
    "        if prev_row['user_id'] == curr_row['user_id']:\n",
    "            if curr_row['content_type_id'] != 0:\n",
    "                prev_row['has_seen_lecture'] = True\n",
    "                prev_row['previous_lecture_hours'] = curr_row['hours']\n",
    "                prev_row['previous_lecture'] = lecture_dict[content_id]\n",
    "            else:\n",
    "                has_seen_same_tag_as_lecture = (str(prev_row['previous_lecture'].get(\"tag\", \"\")) in str(question_dict[content_id]['tags']).split())\n",
    "                has_seen_same_part_as_lecture = (prev_row['previous_lecture'].get(\"part\") == question_dict[content_id]['part'])\n",
    "                prev_type_of = prev_row['previous_lecture'].get(\"type_of\")\n",
    "                prev_part = prev_row['previous_lecture'].get(\"part\")\n",
    "                has_part_common_with_type_of = question_dict[content_id]['part'] in  lecture_comprehensive_type_of_dict.get(prev_type_of, {}).get('part', [])\n",
    "                has_tag_common_with_type_of = bool(set(map(int, str(question_dict[content_id]['tags']).split())).intersection(lecture_comprehensive_type_of_dict.get(prev_type_of, {}).get('tag', [])))\n",
    "                has_tag_common_with_part_dict = bool(set(map(int, str(question_dict[content_id]['tags']).split())).intersection(lecture_comprehensive_part_dict.get(prev_part, {}).get('tag', [])))\n",
    "                has_type_of_common_with_part_dict = prev_type_of in lecture_comprehensive_part_dict[question_dict[content_id]['part']]['type_of']\n",
    "        else:\n",
    "            prev_row['user_id'] = curr_row['user_id']\n",
    "            if curr_row['content_type_id'] != 0:\n",
    "                prev_row['has_seen_lecture'] = True\n",
    "                prev_row['previous_lecture_hours'] = curr_row['hours']\n",
    "                prev_row['previous_lecture'] = lecture_dict[content_id]\n",
    "            else:\n",
    "                prev_row['has_seen_lecture'] = False\n",
    "                prev_row['previous_lecture_hours'] = 0\n",
    "                prev_row['previous_lecture'] = {}\n",
    "\n",
    "        timestamp_difference = curr_row['hours'] - prev_row['previous_lecture_hours']\n",
    "        retention = func(timestamp_difference)\n",
    "        return retention, prev_row['has_seen_lecture'], has_seen_same_tag_as_lecture, has_seen_same_part_as_lecture, has_part_common_with_type_of, has_tag_common_with_type_of, has_tag_common_with_part_dict, has_type_of_common_with_part_dict\n",
    "    return wrapper\n",
    "\n",
    "@apply_filter_based_on_previous_row\n",
    "def running_retention(timestamp_difference):\n",
    "    retention = 1.48 / ((1.25 * timestamp_difference) + 1.48)\n",
    "    return retention\n",
    "\n",
    "train_df[\"retention\"], train_df[\"has_seen_lecture_before\"], train_df[\"has_seen_same_tag_as_lecture\"], train_df[\"has_seen_same_part_as_lecture\"], train_df[\"has_part_common_with_type_of\"], train_df[\"has_tag_common_with_type_of\"], train_df[\"has_tag_common_with_part_dict\"], train_df[\"has_type_of_common_with_part_dict\"] = zip(*train_df.apply(running_retention, axis=1))"
   ]
  },
  {
   "cell_type": "code",
   "execution_count": 16,
   "metadata": {},
   "outputs": [],
   "source": [
    "train_df = train_df[train_df['content_type_id'] == 0]"
   ]
  },
  {
   "source": [
    "##### 4. Now lets find out the lag time"
   ],
   "cell_type": "markdown",
   "metadata": {}
  },
  {
   "cell_type": "code",
   "execution_count": 17,
   "metadata": {},
   "outputs": [],
   "source": [
    "# lag time\n",
    "train_df['event_time'] = train_df[['user_id', 'timestamp']].groupby(['user_id'])['timestamp'].diff()\n",
    "train_df['shift_event_time'] = train_df['event_time'].shift(-1)\n",
    "train_df['shift_elapsed_time'] = train_df['prior_question_elapsed_time'].shift(-1)\n",
    "train_df['event_lag_time'] = train_df['shift_event_time'] - train_df['shift_elapsed_time']"
   ]
  },
  {
   "cell_type": "code",
   "execution_count": 18,
   "metadata": {},
   "outputs": [],
   "source": [
    "train_df_elapsed_time_groupby = train_df[['content_id', 'shift_elapsed_time']].groupby(['content_id']).shift_elapsed_time\n",
    "individual_question_min_time_dict = train_df_elapsed_time_groupby.min().to_dict()\n",
    "individual_question_mean_time_dict = train_df_elapsed_time_groupby.mean().to_dict()\n",
    "\n",
    "del train_df_elapsed_time_groupby"
   ]
  },
  {
   "cell_type": "code",
   "execution_count": 19,
   "metadata": {},
   "outputs": [],
   "source": [
    "# def get_lag_time(content_id, shift_event_time):\n",
    "#     question_min_time = individual_question_min_time_dict[content_id]\n",
    "#     return shift_event_time - question_min_time\n",
    "\n",
    "# train_df['lag_time'] = train_df[train_df['content_type_id'] == 0].apply(lambda row: get_lag_time(row.content_id, row.shift_event_time), axis=1)\n",
    "\n",
    "def get_prior_elapsed_time_difference(content_id, shift_elapsed_time):\n",
    "    question_min_time = individual_question_min_time_dict[content_id]\n",
    "    return shift_elapsed_time - question_min_time\n",
    "\n",
    "train_df['lag_time'] = train_df.apply(lambda row: get_prior_elapsed_time_difference(row.content_id, row.shift_elapsed_time), axis=1)"
   ]
  },
  {
   "cell_type": "code",
   "execution_count": 20,
   "metadata": {},
   "outputs": [],
   "source": [
    "def has_elapsed_time_greater_than_average_time(content_id, shift_elapsed_time):\n",
    "    question_min_time = individual_question_mean_time_dict[content_id]\n",
    "    return shift_elapsed_time > question_min_time\n",
    "\n",
    "train_df['question_answered_late'] = train_df.apply(lambda row: has_elapsed_time_greater_than_average_time(row.content_id, row.shift_elapsed_time), axis=1)"
   ]
  },
  {
   "cell_type": "code",
   "execution_count": 21,
   "metadata": {},
   "outputs": [],
   "source": [
    "average_question_timestamp_difference_dict = train_df[(train_df['shift_event_time'] < 3600000)][['content_id', 'shift_event_time']].groupby('content_id').shift_event_time.mean().to_dict()"
   ]
  },
  {
   "cell_type": "code",
   "execution_count": 22,
   "metadata": {},
   "outputs": [],
   "source": [
    "def has_event_time_greater_than_average(content_id, event_time):\n",
    "    average_question_time = average_question_timestamp_difference_dict.get(content_id, 0)\n",
    "    return event_time > average_question_time\n",
    "\n",
    "train_df['event_time_greater_than_average'] = train_df.apply(lambda row: has_event_time_greater_than_average(row.content_id, row.shift_event_time), axis=1)"
   ]
  },
  {
   "source": [
    "##### 5. lets find the average time took for each question"
   ],
   "cell_type": "markdown",
   "metadata": {}
  },
  {
   "cell_type": "code",
   "execution_count": 23,
   "metadata": {},
   "outputs": [],
   "source": [
    "# The average time per question can be considered based on the every candidate or based on the current candidate previous question answering time."
   ]
  },
  {
   "cell_type": "code",
   "execution_count": 24,
   "metadata": {},
   "outputs": [],
   "source": [
    "user_average_time_to_elapsed_dict = train_df.groupby(\"user_id\").prior_question_elapsed_time.mean().to_dict()"
   ]
  },
  {
   "cell_type": "code",
   "execution_count": 25,
   "metadata": {},
   "outputs": [],
   "source": [
    "train_df['question_took_more_than_average_user_time'] = train_df.apply(lambda row: row.prior_question_elapsed_time > user_average_time_to_elapsed_dict[row.user_id], axis=1)"
   ]
  },
  {
   "cell_type": "code",
   "execution_count": 26,
   "metadata": {},
   "outputs": [],
   "source": [
    "# check average question answering time\n",
    "average_question_prior_question_elapsed_time_dict = train_df.groupby([\"content_id\"]).prior_question_elapsed_time.mean().to_dict()"
   ]
  },
  {
   "source": [
    "train_df.sort_values(['user_id', 'timestamp'], inplace=True)\n",
    "bundle_time_relation_dict = {}\n",
    "\n",
    "prev_row = {\n",
    "    \"user_id\": \"\",\n",
    "    \"bundle_id\": \"\",\n",
    "    \"previous_bundle_elapsed_time\": \"\"\n",
    "}\n",
    "\n",
    "\n",
    "def get_question_time_taken(curr_row):\n",
    "    current_bundle_id = question_dict[curr_row.content_id]['bundle_id']\n",
    "    if prev_row['user_id'] == curr_row['user_id']:\n",
    "        if prev_row['bundle_id'] == current_bundle_id:\n",
    "            time_taken_for_question = prev_row['previous_bundle_elapsed_time']\n",
    "        else:\n",
    "            time_taken_for_question = curr_row['prior_question_elapsed_time']\n",
    "            prev_row['previous_bundle_elapsed_time'] = curr_row['prior_question_elapsed_time']\n",
    "            prev_row['bundle_id'] = current_bundle_id\n",
    "    else:\n",
    "        prev_row['bundle_id'] = current_bundle_id\n",
    "        prev_row['previous_bundle_elapsed_time'] = curr_row['prior_question_elapsed_time']\n",
    "        time_taken_for_question = 0\n",
    "    prev_row['user_id'] = curr_row.user_id\n",
    "    return time_taken_for_question\n",
    "\n",
    "\n",
    "for index, row in train_df.iloc[::-1].iterrows():\n",
    "    if row.content_id in bundle_time_relation_dict and bundle_time_relation_dict:\n",
    "        bundle_time_relation_dict[row.content_id]['question_time_list'].append(get_question_time_taken(row))\n",
    "    else:\n",
    "        bundle_time_relation_dict[row.content_id] = {\n",
    "            \"question_time_list\": [get_question_time_taken(row)]\n",
    "        }"
   ],
   "cell_type": "code",
   "metadata": {},
   "execution_count": 27,
   "outputs": []
  },
  {
   "cell_type": "code",
   "execution_count": 28,
   "metadata": {},
   "outputs": [],
   "source": [
    "for content_id in bundle_time_relation_dict.keys():\n",
    "    bundle_time_relation_dict[content_id]['minimum_time'] = min(bundle_time_relation_dict[content_id]['question_time_list'])\n",
    "    bundle_time_relation_dict[content_id]['average_time'] = np.mean(bundle_time_relation_dict[content_id]['question_time_list'])"
   ]
  },
  {
   "cell_type": "code",
   "execution_count": 29,
   "metadata": {},
   "outputs": [],
   "source": [
    "train_df['has_more_than_average_bundle_time'] = train_df.apply(lambda row: row.shift_elapsed_time < bundle_time_relation_dict[row.content_id]['average_time'], axis=1)\n",
    "\n",
    "def get_bundle_lag_time(row):\n",
    "    if row.shift_elapsed_time > bundle_time_relation_dict[row.content_id]['minimum_time']:\n",
    "        return row.shift_elapsed_time - bundle_time_relation_dict[row.content_id]['minimum_time']\n",
    "    return 0\n",
    "\n",
    "train_df['bundle_lag_time'] = train_df.apply(lambda row: get_bundle_lag_time(row), axis=1)"
   ]
  },
  {
   "source": [
    "##### 6. Find the toughest questions"
   ],
   "cell_type": "markdown",
   "metadata": {}
  },
  {
   "cell_type": "code",
   "execution_count": 30,
   "metadata": {},
   "outputs": [
    {
     "output_type": "stream",
     "name": "stdout",
     "text": [
      "There are 188 different tags\n"
     ]
    }
   ],
   "source": [
    "# get all the complete tags of the question\n",
    "questions_df['tags'] = questions_df['tags'].astype(str)\n",
    "\n",
    "tags = [value.split() for value in questions_df[questions_df.tags != \"nan\"].tags.values]\n",
    "tags = [item for elem in tags for item in elem]\n",
    "tags = set(tags)\n",
    "tags = list(tags)\n",
    "print(f'There are {len(tags)} different tags')"
   ]
  },
  {
   "cell_type": "code",
   "execution_count": 31,
   "metadata": {},
   "outputs": [
    {
     "output_type": "execute_result",
     "data": {
      "text/plain": [
       "   question_id  bundle_id  correct_answer  part            tags    wrong  \\\n",
       "0            0          0               0     1   51 131 162 38  1.00000   \n",
       "1            1          1               1     1       131 36 81  1.00000   \n",
       "2            2          2               0     1  131 101 162 92 58.00000   \n",
       "3            3          3               0     1  131 149 162 29 14.00000   \n",
       "4            4          4               3     1    131 5 162 38 42.00000   \n",
       "\n",
       "     right  percentage_correct  \n",
       "0 23.00000             0.95833  \n",
       "1 16.00000             0.94118  \n",
       "2 77.00000             0.57037  \n",
       "3 53.00000             0.79104  \n",
       "4 47.00000             0.52809  "
      ],
      "text/html": "<div>\n<style scoped>\n    .dataframe tbody tr th:only-of-type {\n        vertical-align: middle;\n    }\n\n    .dataframe tbody tr th {\n        vertical-align: top;\n    }\n\n    .dataframe thead th {\n        text-align: right;\n    }\n</style>\n<table border=\"1\" class=\"dataframe\">\n  <thead>\n    <tr style=\"text-align: right;\">\n      <th></th>\n      <th>question_id</th>\n      <th>bundle_id</th>\n      <th>correct_answer</th>\n      <th>part</th>\n      <th>tags</th>\n      <th>wrong</th>\n      <th>right</th>\n      <th>percentage_correct</th>\n    </tr>\n  </thead>\n  <tbody>\n    <tr>\n      <th>0</th>\n      <td>0</td>\n      <td>0</td>\n      <td>0</td>\n      <td>1</td>\n      <td>51 131 162 38</td>\n      <td>1.00000</td>\n      <td>23.00000</td>\n      <td>0.95833</td>\n    </tr>\n    <tr>\n      <th>1</th>\n      <td>1</td>\n      <td>1</td>\n      <td>1</td>\n      <td>1</td>\n      <td>131 36 81</td>\n      <td>1.00000</td>\n      <td>16.00000</td>\n      <td>0.94118</td>\n    </tr>\n    <tr>\n      <th>2</th>\n      <td>2</td>\n      <td>2</td>\n      <td>0</td>\n      <td>1</td>\n      <td>131 101 162 92</td>\n      <td>58.00000</td>\n      <td>77.00000</td>\n      <td>0.57037</td>\n    </tr>\n    <tr>\n      <th>3</th>\n      <td>3</td>\n      <td>3</td>\n      <td>0</td>\n      <td>1</td>\n      <td>131 149 162 29</td>\n      <td>14.00000</td>\n      <td>53.00000</td>\n      <td>0.79104</td>\n    </tr>\n    <tr>\n      <th>4</th>\n      <td>4</td>\n      <td>4</td>\n      <td>3</td>\n      <td>1</td>\n      <td>131 5 162 38</td>\n      <td>42.00000</td>\n      <td>47.00000</td>\n      <td>0.52809</td>\n    </tr>\n  </tbody>\n</table>\n</div>"
     },
     "metadata": {},
     "execution_count": 31
    }
   ],
   "source": [
    "# Find the wrong and right question based on correctly answered\n",
    "correct = train_df[train_df.answered_correctly != -1].groupby([\"content_id\", 'answered_correctly'], as_index=False).size()\n",
    "correct = correct.pivot(index= \"content_id\", columns='answered_correctly', values='size')\n",
    "correct.columns = ['wrong', 'right']\n",
    "correct = correct.fillna(0)\n",
    "correct[['wrong', 'right']] = correct[['wrong', 'right']].astype(int)\n",
    "questions_df = questions_df.merge(correct, left_on = \"question_id\", right_on = \"content_id\", how = \"left\")\n",
    "questions_df['percentage_correct'] = questions_df.right / (questions_df.right + questions_df.wrong)\n",
    "questions_df.head()\n",
    "\n",
    "# questions_df.drop([\"wrong_x\", \"right_x\", \"wrong_y\", \"right_y\"], axis=1, inplace=True)"
   ]
  },
  {
   "cell_type": "code",
   "execution_count": 32,
   "metadata": {},
   "outputs": [
    {
     "output_type": "execute_result",
     "data": {
      "text/plain": [
       "   question_id  bundle_id  correct_answer  part                 tags    wrong  \\\n",
       "0            0          0               0     1   [51, 131, 162, 38]  1.00000   \n",
       "1            1          1               1     1        [131, 36, 81]  1.00000   \n",
       "2            2          2               0     1  [131, 101, 162, 92] 58.00000   \n",
       "3            3          3               0     1  [131, 149, 162, 29] 14.00000   \n",
       "4            4          4               3     1    [131, 5, 162, 38] 42.00000   \n",
       "\n",
       "     right  percentage_correct        tags_str  \n",
       "0 23.00000             0.95833   51 131 162 38  \n",
       "1 16.00000             0.94118       131 36 81  \n",
       "2 77.00000             0.57037  131 101 162 92  \n",
       "3 53.00000             0.79104  131 149 162 29  \n",
       "4 47.00000             0.52809    131 5 162 38  "
      ],
      "text/html": "<div>\n<style scoped>\n    .dataframe tbody tr th:only-of-type {\n        vertical-align: middle;\n    }\n\n    .dataframe tbody tr th {\n        vertical-align: top;\n    }\n\n    .dataframe thead th {\n        text-align: right;\n    }\n</style>\n<table border=\"1\" class=\"dataframe\">\n  <thead>\n    <tr style=\"text-align: right;\">\n      <th></th>\n      <th>question_id</th>\n      <th>bundle_id</th>\n      <th>correct_answer</th>\n      <th>part</th>\n      <th>tags</th>\n      <th>wrong</th>\n      <th>right</th>\n      <th>percentage_correct</th>\n      <th>tags_str</th>\n    </tr>\n  </thead>\n  <tbody>\n    <tr>\n      <th>0</th>\n      <td>0</td>\n      <td>0</td>\n      <td>0</td>\n      <td>1</td>\n      <td>[51, 131, 162, 38]</td>\n      <td>1.00000</td>\n      <td>23.00000</td>\n      <td>0.95833</td>\n      <td>51 131 162 38</td>\n    </tr>\n    <tr>\n      <th>1</th>\n      <td>1</td>\n      <td>1</td>\n      <td>1</td>\n      <td>1</td>\n      <td>[131, 36, 81]</td>\n      <td>1.00000</td>\n      <td>16.00000</td>\n      <td>0.94118</td>\n      <td>131 36 81</td>\n    </tr>\n    <tr>\n      <th>2</th>\n      <td>2</td>\n      <td>2</td>\n      <td>0</td>\n      <td>1</td>\n      <td>[131, 101, 162, 92]</td>\n      <td>58.00000</td>\n      <td>77.00000</td>\n      <td>0.57037</td>\n      <td>131 101 162 92</td>\n    </tr>\n    <tr>\n      <th>3</th>\n      <td>3</td>\n      <td>3</td>\n      <td>0</td>\n      <td>1</td>\n      <td>[131, 149, 162, 29]</td>\n      <td>14.00000</td>\n      <td>53.00000</td>\n      <td>0.79104</td>\n      <td>131 149 162 29</td>\n    </tr>\n    <tr>\n      <th>4</th>\n      <td>4</td>\n      <td>4</td>\n      <td>3</td>\n      <td>1</td>\n      <td>[131, 5, 162, 38]</td>\n      <td>42.00000</td>\n      <td>47.00000</td>\n      <td>0.52809</td>\n      <td>131 5 162 38</td>\n    </tr>\n  </tbody>\n</table>\n</div>"
     },
     "metadata": {},
     "execution_count": 32
    }
   ],
   "source": [
    "# Find the wrong and right question tags based on correctly answered\n",
    "tags_list = [value.split() for value in questions_df.tags.values]\n",
    "questions_df['tags_str'] = questions_df['tags']\n",
    "questions_df['tags'] = tags_list\n",
    "questions_df.head()"
   ]
  },
  {
   "cell_type": "code",
   "execution_count": 33,
   "metadata": {},
   "outputs": [
    {
     "output_type": "execute_result",
     "data": {
      "text/plain": [
       "     wrong  right  total_questions  question_ids_with_tag  percent_correct\n",
       "tag                                                                       \n",
       "24     450    317              767                     17          0.41330\n",
       "19     437    361              798                     57          0.45238\n",
       "23     654    620             1274                     11          0.48666\n",
       "151    712    679             1391                     16          0.48814\n",
       "11     163    157              320                     15          0.49062"
      ],
      "text/html": "<div>\n<style scoped>\n    .dataframe tbody tr th:only-of-type {\n        vertical-align: middle;\n    }\n\n    .dataframe tbody tr th {\n        vertical-align: top;\n    }\n\n    .dataframe thead th {\n        text-align: right;\n    }\n</style>\n<table border=\"1\" class=\"dataframe\">\n  <thead>\n    <tr style=\"text-align: right;\">\n      <th></th>\n      <th>wrong</th>\n      <th>right</th>\n      <th>total_questions</th>\n      <th>question_ids_with_tag</th>\n      <th>percent_correct</th>\n    </tr>\n    <tr>\n      <th>tag</th>\n      <th></th>\n      <th></th>\n      <th></th>\n      <th></th>\n      <th></th>\n    </tr>\n  </thead>\n  <tbody>\n    <tr>\n      <th>24</th>\n      <td>450</td>\n      <td>317</td>\n      <td>767</td>\n      <td>17</td>\n      <td>0.41330</td>\n    </tr>\n    <tr>\n      <th>19</th>\n      <td>437</td>\n      <td>361</td>\n      <td>798</td>\n      <td>57</td>\n      <td>0.45238</td>\n    </tr>\n    <tr>\n      <th>23</th>\n      <td>654</td>\n      <td>620</td>\n      <td>1274</td>\n      <td>11</td>\n      <td>0.48666</td>\n    </tr>\n    <tr>\n      <th>151</th>\n      <td>712</td>\n      <td>679</td>\n      <td>1391</td>\n      <td>16</td>\n      <td>0.48814</td>\n    </tr>\n    <tr>\n      <th>11</th>\n      <td>163</td>\n      <td>157</td>\n      <td>320</td>\n      <td>15</td>\n      <td>0.49062</td>\n    </tr>\n  </tbody>\n</table>\n</div>"
     },
     "metadata": {},
     "execution_count": 33
    }
   ],
   "source": [
    "tags_df = pd.DataFrame()\n",
    "for x in range(len(tags)):\n",
    "    df = questions_df[questions_df.tags.apply(lambda l: tags[x] in l)]\n",
    "    df1 = df.agg({'wrong': ['sum'], 'right': ['sum']})\n",
    "    df1['total_questions'] = df1.wrong + df1.right\n",
    "    df1['question_ids_with_tag'] = len(df)\n",
    "    df1['tag'] = tags[x]\n",
    "    df1 = df1.set_index('tag')\n",
    "    tags_df = tags_df.append(df1)\n",
    "\n",
    "tags_df[['wrong', 'right', 'total_questions']] = tags_df[['wrong', 'right', 'total_questions']].astype(int)\n",
    "tags_df['percent_correct'] = tags_df.right / tags_df.total_questions\n",
    "tags_df = tags_df.sort_values(by = \"percent_correct\")\n",
    "\n",
    "tags_df.head()"
   ]
  },
  {
   "cell_type": "code",
   "execution_count": 34,
   "metadata": {},
   "outputs": [],
   "source": [
    "# TODO: The method used here is very bad and the query should be done using the question df dict\n",
    "def is_question_above_average_answering(row):\n",
    "    percentage_correct = questions_df[questions_df[\"question_id\"] == row.content_id].percentage_correct.values\n",
    "    if percentage_correct:\n",
    "        return percentage_correct[0] > 0.5\n",
    "    return False\n",
    "\n",
    "def is_all_tags_above_average_answering(row):\n",
    "    tags_answer_percentages = []\n",
    "    tags = questions_df[questions_df[\"question_id\"] == row.content_id].tags.values\n",
    "    if not tags:\n",
    "        return False\n",
    "    tags = tags[0]\n",
    "    for tag in tags:\n",
    "        tags_answer_percentages.append(tags_df.loc[tag].percent_correct)\n",
    "    overall_tag_percentage = sum(tags_answer_percentages) / len(tags)\n",
    "    return overall_tag_percentage > 0.5\n",
    "\n",
    "train_df['question_has_above_average_correctness'] = train_df.apply(lambda row: is_question_above_average_answering(row), axis=1)\n",
    "train_df['tag_has_above_average_correctness'] = train_df.apply(lambda row: is_all_tags_above_average_answering(row), axis=1)"
   ]
  },
  {
   "source": [
    "##### 6. toughtest questions relates to the lag time and the elapsed time"
   ],
   "cell_type": "markdown",
   "metadata": {}
  },
  {
   "cell_type": "code",
   "execution_count": 35,
   "metadata": {},
   "outputs": [
    {
     "output_type": "execute_result",
     "data": {
      "text/plain": [
       "               lag_time  question_has_above_average_correctness\n",
       "content_id                                                     \n",
       "0            6000.00000                                       6\n",
       "1            4000.00000                                       3\n",
       "2          556000.00000                                      45\n",
       "3          228000.00000                                      25\n",
       "4          158000.00000                                      29\n",
       "...                 ...                                     ...\n",
       "13516           0.00000                                       0\n",
       "13518           0.00000                                       1\n",
       "13519           0.00000                                       1\n",
       "13521           0.00000                                       1\n",
       "13522           0.00000                                       0\n",
       "\n",
       "[11321 rows x 2 columns]"
      ],
      "text/html": "<div>\n<style scoped>\n    .dataframe tbody tr th:only-of-type {\n        vertical-align: middle;\n    }\n\n    .dataframe tbody tr th {\n        vertical-align: top;\n    }\n\n    .dataframe thead th {\n        text-align: right;\n    }\n</style>\n<table border=\"1\" class=\"dataframe\">\n  <thead>\n    <tr style=\"text-align: right;\">\n      <th></th>\n      <th>lag_time</th>\n      <th>question_has_above_average_correctness</th>\n    </tr>\n    <tr>\n      <th>content_id</th>\n      <th></th>\n      <th></th>\n    </tr>\n  </thead>\n  <tbody>\n    <tr>\n      <th>0</th>\n      <td>6000.00000</td>\n      <td>6</td>\n    </tr>\n    <tr>\n      <th>1</th>\n      <td>4000.00000</td>\n      <td>3</td>\n    </tr>\n    <tr>\n      <th>2</th>\n      <td>556000.00000</td>\n      <td>45</td>\n    </tr>\n    <tr>\n      <th>3</th>\n      <td>228000.00000</td>\n      <td>25</td>\n    </tr>\n    <tr>\n      <th>4</th>\n      <td>158000.00000</td>\n      <td>29</td>\n    </tr>\n    <tr>\n      <th>...</th>\n      <td>...</td>\n      <td>...</td>\n    </tr>\n    <tr>\n      <th>13516</th>\n      <td>0.00000</td>\n      <td>0</td>\n    </tr>\n    <tr>\n      <th>13518</th>\n      <td>0.00000</td>\n      <td>1</td>\n    </tr>\n    <tr>\n      <th>13519</th>\n      <td>0.00000</td>\n      <td>1</td>\n    </tr>\n    <tr>\n      <th>13521</th>\n      <td>0.00000</td>\n      <td>1</td>\n    </tr>\n    <tr>\n      <th>13522</th>\n      <td>0.00000</td>\n      <td>0</td>\n    </tr>\n  </tbody>\n</table>\n<p>11321 rows × 2 columns</p>\n</div>"
     },
     "metadata": {},
     "execution_count": 35
    }
   ],
   "source": [
    "train_df[['content_id', 'lag_time', 'question_has_above_average_correctness']].groupby(['content_id']).sum()\n",
    "# The graph needs to be drawn to get more details"
   ]
  },
  {
   "cell_type": "code",
   "execution_count": 36,
   "metadata": {},
   "outputs": [
    {
     "output_type": "execute_result",
     "data": {
      "text/plain": [
       "            shift_elapsed_time  question_has_above_average_correctness\n",
       "content_id                                                            \n",
       "0                 114000.00000                                       6\n",
       "1                  55000.00000                                       3\n",
       "2                1096000.00000                                      45\n",
       "3                 528000.00000                                      25\n",
       "4                 622000.00000                                      29\n",
       "...                        ...                                     ...\n",
       "13516              36000.00000                                       0\n",
       "13518               8000.00000                                       1\n",
       "13519              32000.00000                                       1\n",
       "13521              20000.00000                                       1\n",
       "13522              41000.00000                                       0\n",
       "\n",
       "[11321 rows x 2 columns]"
      ],
      "text/html": "<div>\n<style scoped>\n    .dataframe tbody tr th:only-of-type {\n        vertical-align: middle;\n    }\n\n    .dataframe tbody tr th {\n        vertical-align: top;\n    }\n\n    .dataframe thead th {\n        text-align: right;\n    }\n</style>\n<table border=\"1\" class=\"dataframe\">\n  <thead>\n    <tr style=\"text-align: right;\">\n      <th></th>\n      <th>shift_elapsed_time</th>\n      <th>question_has_above_average_correctness</th>\n    </tr>\n    <tr>\n      <th>content_id</th>\n      <th></th>\n      <th></th>\n    </tr>\n  </thead>\n  <tbody>\n    <tr>\n      <th>0</th>\n      <td>114000.00000</td>\n      <td>6</td>\n    </tr>\n    <tr>\n      <th>1</th>\n      <td>55000.00000</td>\n      <td>3</td>\n    </tr>\n    <tr>\n      <th>2</th>\n      <td>1096000.00000</td>\n      <td>45</td>\n    </tr>\n    <tr>\n      <th>3</th>\n      <td>528000.00000</td>\n      <td>25</td>\n    </tr>\n    <tr>\n      <th>4</th>\n      <td>622000.00000</td>\n      <td>29</td>\n    </tr>\n    <tr>\n      <th>...</th>\n      <td>...</td>\n      <td>...</td>\n    </tr>\n    <tr>\n      <th>13516</th>\n      <td>36000.00000</td>\n      <td>0</td>\n    </tr>\n    <tr>\n      <th>13518</th>\n      <td>8000.00000</td>\n      <td>1</td>\n    </tr>\n    <tr>\n      <th>13519</th>\n      <td>32000.00000</td>\n      <td>1</td>\n    </tr>\n    <tr>\n      <th>13521</th>\n      <td>20000.00000</td>\n      <td>1</td>\n    </tr>\n    <tr>\n      <th>13522</th>\n      <td>41000.00000</td>\n      <td>0</td>\n    </tr>\n  </tbody>\n</table>\n<p>11321 rows × 2 columns</p>\n</div>"
     },
     "metadata": {},
     "execution_count": 36
    }
   ],
   "source": [
    "train_df[['content_id', 'shift_elapsed_time', 'question_has_above_average_correctness']].groupby(['content_id']).sum()"
   ]
  },
  {
   "cell_type": "code",
   "execution_count": 37,
   "metadata": {},
   "outputs": [],
   "source": [
    "# 1. Lag time based on the min/average question time - Done\n",
    "# 2. Check if the average question time is greater than or not - Done\n",
    "# 3. The timestamp is greater or not - Done\n",
    "# 4. check if the top users and top interactions has any relation - Must be run on full dataset\n",
    "# 5. Find the toughest question - Done\n",
    "# 6. Find if the toughest question relates to the lag time\n",
    "# 7. Find if the toughest question relates to the elapsed time\n"
   ]
  },
  {
   "cell_type": "code",
   "execution_count": 38,
   "metadata": {},
   "outputs": [],
   "source": [
    "train_df['has_seen_question_explanation'] = train_df.prior_question_had_explanation.shift(-1)"
   ]
  },
  {
   "cell_type": "code",
   "execution_count": 39,
   "metadata": {},
   "outputs": [],
   "source": [
    "train_df = train_df.join(questions_df.set_index(\"question_id\"), 'content_id', how='left')"
   ]
  },
  {
   "cell_type": "code",
   "execution_count": 40,
   "metadata": {},
   "outputs": [],
   "source": [
    "X_val = train_df.groupby('user_id').tail(5)\n",
    "X_train = train_df[~train_df.index.isin(X_val.index)]\n",
    "y_train = X_train.answered_correctly\n",
    "y_val = X_val.answered_correctly"
   ]
  },
  {
   "cell_type": "code",
   "execution_count": 41,
   "metadata": {},
   "outputs": [],
   "source": [
    "features = ['content_id',\n",
    "       'task_container_id',\n",
    "       'days', 'hours', 'prior_minutes', 'intro_section', 'retention',\n",
    "       'has_seen_lecture_before', 'has_seen_same_tag_as_lecture',\n",
    "       'has_seen_same_part_as_lecture', 'has_part_common_with_type_of',\n",
    "       'has_tag_common_with_type_of', 'has_tag_common_with_part_dict',\n",
    "       'has_type_of_common_with_part_dict', 'shift_event_time',\n",
    "       'shift_elapsed_time', 'event_lag_time', 'lag_time',\n",
    "       'question_answered_late', 'event_time_greater_than_average',\n",
    "       'question_took_more_than_average_user_time',\n",
    "       'has_more_than_average_bundle_time', 'bundle_lag_time',\n",
    "       'question_has_above_average_correctness',\n",
    "       'tag_has_above_average_correctness', 'bundle_id',\n",
    "       'part', 'percentage_correct', 'has_seen_question_explanation']\n",
    "\n",
    "categorical_feature = ['intro_section', 'has_seen_lecture_before', 'has_seen_same_tag_as_lecture',\n",
    "       'has_seen_same_part_as_lecture', 'has_part_common_with_type_of',\n",
    "       'has_tag_common_with_type_of', 'has_tag_common_with_part_dict',\n",
    "       'has_type_of_common_with_part_dict', 'question_answered_late', 'event_time_greater_than_average',\n",
    "       'question_took_more_than_average_user_time',\n",
    "       'has_more_than_average_bundle_time', 'question_has_above_average_correctness',\n",
    "       'tag_has_above_average_correctness',\n",
    "       'part', 'has_seen_question_explanation']\n",
    "categorical_feature_idxs = []\n",
    "for v in categorical_feature:\n",
    "    try:\n",
    "        categorical_feature_idxs.append(features.index(v))\n",
    "    except:\n",
    "        pass"
   ]
  },
  {
   "cell_type": "code",
   "execution_count": 42,
   "metadata": {},
   "outputs": [],
   "source": [
    "X_train = X_train[features]\n",
    "X_val = X_val[features]"
   ]
  },
  {
   "cell_type": "code",
   "execution_count": 43,
   "metadata": {},
   "outputs": [
    {
     "output_type": "stream",
     "name": "stdout",
     "text": [
      "<class 'pandas.core.frame.DataFrame'>\nInt64Index: 96443 entries, 0 to 99994\nData columns (total 29 columns):\n #   Column                                     Non-Null Count  Dtype  \n---  ------                                     --------------  -----  \n 0   content_id                                 96443 non-null  int16  \n 1   task_container_id                          96443 non-null  int16  \n 2   days                                       96443 non-null  float64\n 3   hours                                      96443 non-null  float64\n 4   prior_minutes                              96097 non-null  float64\n 5   intro_section                              96443 non-null  bool   \n 6   retention                                  96443 non-null  float64\n 7   has_seen_lecture_before                    96443 non-null  bool   \n 8   has_seen_same_tag_as_lecture               96443 non-null  bool   \n 9   has_seen_same_part_as_lecture              96443 non-null  bool   \n 10  has_part_common_with_type_of               96443 non-null  bool   \n 11  has_tag_common_with_type_of                96443 non-null  bool   \n 12  has_tag_common_with_part_dict              96443 non-null  bool   \n 13  has_type_of_common_with_part_dict          96443 non-null  bool   \n 14  shift_event_time                           96443 non-null  float64\n 15  shift_elapsed_time                         96443 non-null  float32\n 16  event_lag_time                             96443 non-null  float64\n 17  lag_time                                   96443 non-null  float64\n 18  question_answered_late                     96443 non-null  bool   \n 19  event_time_greater_than_average            96443 non-null  bool   \n 20  question_took_more_than_average_user_time  96443 non-null  bool   \n 21  has_more_than_average_bundle_time          96443 non-null  bool   \n 22  bundle_lag_time                            96443 non-null  float64\n 23  question_has_above_average_correctness     96443 non-null  bool   \n 24  tag_has_above_average_correctness          96443 non-null  bool   \n 25  bundle_id                                  96443 non-null  int64  \n 26  part                                       96443 non-null  int64  \n 27  percentage_correct                         96443 non-null  float64\n 28  has_seen_question_explanation              96443 non-null  bool   \ndtypes: bool(15), float32(1), float64(9), int16(2), int64(2)\nmemory usage: 10.9 MB\n"
     ]
    }
   ],
   "source": [
    "# X_train.tags_str = X_train.tags_str.astype(str)\n",
    "X_train.has_seen_question_explanation = X_train.has_seen_question_explanation.fillna(False).astype(np.bool)\n",
    "# X_val.tags_str = X_val.tags_str.astype(str)\n",
    "X_val.has_seen_question_explanation = X_val.has_seen_question_explanation.fillna(False).astype(np.bool)\n",
    "X_train.info()"
   ]
  },
  {
   "cell_type": "code",
   "execution_count": 44,
   "metadata": {},
   "outputs": [],
   "source": [
    "lgbm_params = {\n",
    "    'objective': 'binary',\n",
    "    'metric': ['auc'],\n",
    "}"
   ]
  },
  {
   "cell_type": "code",
   "execution_count": 45,
   "metadata": {},
   "outputs": [],
   "source": [
    "train_data = lgb.Dataset(\n",
    "    data = X_train,\n",
    "    label = y_train,\n",
    "    categorical_feature = None,\n",
    ")\n",
    "\n",
    "val_data = lgb.Dataset(\n",
    "    data = X_val,\n",
    "    label = y_val,\n",
    "    categorical_feature = None,\n",
    ")"
   ]
  },
  {
   "cell_type": "code",
   "execution_count": 46,
   "metadata": {},
   "outputs": [
    {
     "output_type": "execute_result",
     "data": {
      "text/plain": [
       "60"
      ]
     },
     "metadata": {},
     "execution_count": 46
    }
   ],
   "source": [
    "del X_train, y_train, X_val, y_val\n",
    "import gc\n",
    "gc.collect()"
   ]
  },
  {
   "cell_type": "code",
   "execution_count": 47,
   "metadata": {},
   "outputs": [
    {
     "output_type": "stream",
     "name": "stdout",
     "text": [
      "[LightGBM] [Info] Number of positive: 66388, number of negative: 30055\n",
      "[LightGBM] [Warning] Auto-choosing row-wise multi-threading, the overhead of testing was 0.031450 seconds.\n",
      "You can set `force_row_wise=true` to remove the overhead.\n",
      "And if memory is not enough, you can set `force_col_wise=true`.\n",
      "[LightGBM] [Info] Total Bins 3332\n",
      "[LightGBM] [Info] Number of data points in the train set: 96443, number of used features: 29\n",
      "[LightGBM] [Info] [binary:BoostFromScore]: pavg=0.688365 -> initscore=0.792487\n",
      "[LightGBM] [Info] Start training from score 0.792487\n",
      "Training until validation scores don't improve for 10 rounds\n",
      "[10]\tvalid_0's auc: 0.744769\n",
      "[20]\tvalid_0's auc: 0.747249\n",
      "[30]\tvalid_0's auc: 0.748627\n",
      "[40]\tvalid_0's auc: 0.751696\n",
      "[50]\tvalid_0's auc: 0.753086\n",
      "[60]\tvalid_0's auc: 0.753358\n",
      "[70]\tvalid_0's auc: 0.753932\n",
      "Early stopping, best iteration is:\n",
      "[64]\tvalid_0's auc: 0.754289\n"
     ]
    }
   ],
   "source": [
    "def train():\n",
    "    evals_result = {}\n",
    "    model = lgb.train(\n",
    "        params = lgbm_params,\n",
    "        train_set = train_data,\n",
    "        valid_sets = [val_data],\n",
    "        num_boost_round = 2500,\n",
    "        verbose_eval = 10,\n",
    "        evals_result = evals_result,\n",
    "        early_stopping_rounds = 10,\n",
    "        categorical_feature = categorical_feature_idxs,\n",
    "        feature_name = features,\n",
    "    )\n",
    "\n",
    "    # save model\n",
    "    model.save_model(f'model_v1_2500.lgb')\n",
    "    \n",
    "    return model, evals_result\n",
    "    \n",
    "model, evals_result = train()"
   ]
  },
  {
   "cell_type": "code",
   "execution_count": 48,
   "metadata": {},
   "outputs": [
    {
     "output_type": "display_data",
     "data": {
      "text/plain": "<Figure size 1440x576 with 1 Axes>",
      "image/svg+xml": "<?xml version=\"1.0\" encoding=\"utf-8\" standalone=\"no\"?>\n<!DOCTYPE svg PUBLIC \"-//W3C//DTD SVG 1.1//EN\"\n  \"http://www.w3.org/Graphics/SVG/1.1/DTD/svg11.dtd\">\n<!-- Created with matplotlib (https://matplotlib.org/) -->\n<svg height=\"507.055937pt\" version=\"1.1\" viewBox=\"0 0 1191.23875 507.055937\" width=\"1191.23875pt\" xmlns=\"http://www.w3.org/2000/svg\" xmlns:xlink=\"http://www.w3.org/1999/xlink\">\n <metadata>\n  <rdf:RDF xmlns:cc=\"http://creativecommons.org/ns#\" xmlns:dc=\"http://purl.org/dc/elements/1.1/\" xmlns:rdf=\"http://www.w3.org/1999/02/22-rdf-syntax-ns#\">\n   <cc:Work>\n    <dc:type rdf:resource=\"http://purl.org/dc/dcmitype/StillImage\"/>\n    <dc:date>2020-12-06T23:33:48.531053</dc:date>\n    <dc:format>image/svg+xml</dc:format>\n    <dc:creator>\n     <cc:Agent>\n      <dc:title>Matplotlib v3.3.3, https://matplotlib.org/</dc:title>\n     </cc:Agent>\n    </dc:creator>\n   </cc:Work>\n  </rdf:RDF>\n </metadata>\n <defs>\n  <style type=\"text/css\">*{stroke-linecap:butt;stroke-linejoin:round;}</style>\n </defs>\n <g id=\"figure_1\">\n  <g id=\"patch_1\">\n   <path d=\"M 0 507.055937 \nL 1191.23875 507.055937 \nL 1191.23875 0 \nL 0 0 \nz\n\" style=\"fill:none;\"/>\n  </g>\n  <g id=\"axes_1\">\n   <g id=\"patch_2\">\n    <path d=\"M 68.03875 461.757187 \nL 1184.03875 461.757187 \nL 1184.03875 26.877187 \nL 68.03875 26.877187 \nz\n\" style=\"fill:#ffffff;\"/>\n   </g>\n   <g id=\"matplotlib.axis_1\">\n    <g id=\"xtick_1\">\n     <g id=\"line2d_1\">\n      <path clip-path=\"url(#p8d25890bdf)\" d=\"M 118.766023 461.757187 \nL 118.766023 26.877187 \n\" style=\"fill:none;stroke:#b0b0b0;stroke-linecap:square;stroke-width:0.8;\"/>\n     </g>\n     <g id=\"line2d_2\">\n      <defs>\n       <path d=\"M 0 0 \nL 0 3.5 \n\" id=\"m0d0e9044f8\" style=\"stroke:#000000;stroke-width:0.8;\"/>\n      </defs>\n      <g>\n       <use style=\"stroke:#000000;stroke-width:0.8;\" x=\"118.766023\" xlink:href=\"#m0d0e9044f8\" y=\"461.757187\"/>\n      </g>\n     </g>\n     <g id=\"text_1\">\n      <!-- 1 -->\n      <g transform=\"translate(114.948523 477.875312)scale(0.12 -0.12)\">\n       <defs>\n        <path d=\"M 12.40625 8.296875 \nL 28.515625 8.296875 \nL 28.515625 63.921875 \nL 10.984375 60.40625 \nL 10.984375 69.390625 \nL 28.421875 72.90625 \nL 38.28125 72.90625 \nL 38.28125 8.296875 \nL 54.390625 8.296875 \nL 54.390625 0 \nL 12.40625 0 \nz\n\" id=\"DejaVuSans-49\"/>\n       </defs>\n       <use xlink:href=\"#DejaVuSans-49\"/>\n      </g>\n     </g>\n    </g>\n    <g id=\"xtick_2\">\n     <g id=\"line2d_3\">\n      <path clip-path=\"url(#p8d25890bdf)\" d=\"M 132.663906 461.757187 \nL 132.663906 26.877187 \n\" style=\"fill:none;stroke:#b0b0b0;stroke-linecap:square;stroke-width:0.8;\"/>\n     </g>\n     <g id=\"line2d_4\">\n      <g>\n       <use style=\"stroke:#000000;stroke-width:0.8;\" x=\"132.663906\" xlink:href=\"#m0d0e9044f8\" y=\"461.757187\"/>\n      </g>\n     </g>\n     <g id=\"text_2\">\n      <!-- 2 -->\n      <g transform=\"translate(128.846406 477.875312)scale(0.12 -0.12)\">\n       <defs>\n        <path d=\"M 19.1875 8.296875 \nL 53.609375 8.296875 \nL 53.609375 0 \nL 7.328125 0 \nL 7.328125 8.296875 \nQ 12.9375 14.109375 22.625 23.890625 \nQ 32.328125 33.6875 34.8125 36.53125 \nQ 39.546875 41.84375 41.421875 45.53125 \nQ 43.3125 49.21875 43.3125 52.78125 \nQ 43.3125 58.59375 39.234375 62.25 \nQ 35.15625 65.921875 28.609375 65.921875 \nQ 23.96875 65.921875 18.8125 64.3125 \nQ 13.671875 62.703125 7.8125 59.421875 \nL 7.8125 69.390625 \nQ 13.765625 71.78125 18.9375 73 \nQ 24.125 74.21875 28.421875 74.21875 \nQ 39.75 74.21875 46.484375 68.546875 \nQ 53.21875 62.890625 53.21875 53.421875 \nQ 53.21875 48.921875 51.53125 44.890625 \nQ 49.859375 40.875 45.40625 35.40625 \nQ 44.1875 33.984375 37.640625 27.21875 \nQ 31.109375 20.453125 19.1875 8.296875 \nz\n\" id=\"DejaVuSans-50\"/>\n       </defs>\n       <use xlink:href=\"#DejaVuSans-50\"/>\n      </g>\n     </g>\n    </g>\n    <g id=\"xtick_3\">\n     <g id=\"line2d_5\">\n      <path clip-path=\"url(#p8d25890bdf)\" d=\"M 146.561789 461.757187 \nL 146.561789 26.877187 \n\" style=\"fill:none;stroke:#b0b0b0;stroke-linecap:square;stroke-width:0.8;\"/>\n     </g>\n     <g id=\"line2d_6\">\n      <g>\n       <use style=\"stroke:#000000;stroke-width:0.8;\" x=\"146.561789\" xlink:href=\"#m0d0e9044f8\" y=\"461.757187\"/>\n      </g>\n     </g>\n     <g id=\"text_3\">\n      <!-- 3 -->\n      <g transform=\"translate(142.744289 477.875312)scale(0.12 -0.12)\">\n       <defs>\n        <path d=\"M 40.578125 39.3125 \nQ 47.65625 37.796875 51.625 33 \nQ 55.609375 28.21875 55.609375 21.1875 \nQ 55.609375 10.40625 48.1875 4.484375 \nQ 40.765625 -1.421875 27.09375 -1.421875 \nQ 22.515625 -1.421875 17.65625 -0.515625 \nQ 12.796875 0.390625 7.625 2.203125 \nL 7.625 11.71875 \nQ 11.71875 9.328125 16.59375 8.109375 \nQ 21.484375 6.890625 26.8125 6.890625 \nQ 36.078125 6.890625 40.9375 10.546875 \nQ 45.796875 14.203125 45.796875 21.1875 \nQ 45.796875 27.640625 41.28125 31.265625 \nQ 36.765625 34.90625 28.71875 34.90625 \nL 20.21875 34.90625 \nL 20.21875 43.015625 \nL 29.109375 43.015625 \nQ 36.375 43.015625 40.234375 45.921875 \nQ 44.09375 48.828125 44.09375 54.296875 \nQ 44.09375 59.90625 40.109375 62.90625 \nQ 36.140625 65.921875 28.71875 65.921875 \nQ 24.65625 65.921875 20.015625 65.03125 \nQ 15.375 64.15625 9.8125 62.3125 \nL 9.8125 71.09375 \nQ 15.4375 72.65625 20.34375 73.4375 \nQ 25.25 74.21875 29.59375 74.21875 \nQ 40.828125 74.21875 47.359375 69.109375 \nQ 53.90625 64.015625 53.90625 55.328125 \nQ 53.90625 49.265625 50.4375 45.09375 \nQ 46.96875 40.921875 40.578125 39.3125 \nz\n\" id=\"DejaVuSans-51\"/>\n       </defs>\n       <use xlink:href=\"#DejaVuSans-51\"/>\n      </g>\n     </g>\n    </g>\n    <g id=\"xtick_4\">\n     <g id=\"line2d_7\">\n      <path clip-path=\"url(#p8d25890bdf)\" d=\"M 160.459672 461.757187 \nL 160.459672 26.877187 \n\" style=\"fill:none;stroke:#b0b0b0;stroke-linecap:square;stroke-width:0.8;\"/>\n     </g>\n     <g id=\"line2d_8\">\n      <g>\n       <use style=\"stroke:#000000;stroke-width:0.8;\" x=\"160.459672\" xlink:href=\"#m0d0e9044f8\" y=\"461.757187\"/>\n      </g>\n     </g>\n     <g id=\"text_4\">\n      <!-- 4 -->\n      <g transform=\"translate(156.642172 477.875312)scale(0.12 -0.12)\">\n       <defs>\n        <path d=\"M 37.796875 64.3125 \nL 12.890625 25.390625 \nL 37.796875 25.390625 \nz\nM 35.203125 72.90625 \nL 47.609375 72.90625 \nL 47.609375 25.390625 \nL 58.015625 25.390625 \nL 58.015625 17.1875 \nL 47.609375 17.1875 \nL 47.609375 0 \nL 37.796875 0 \nL 37.796875 17.1875 \nL 4.890625 17.1875 \nL 4.890625 26.703125 \nz\n\" id=\"DejaVuSans-52\"/>\n       </defs>\n       <use xlink:href=\"#DejaVuSans-52\"/>\n      </g>\n     </g>\n    </g>\n    <g id=\"xtick_5\">\n     <g id=\"line2d_9\">\n      <path clip-path=\"url(#p8d25890bdf)\" d=\"M 174.357554 461.757187 \nL 174.357554 26.877187 \n\" style=\"fill:none;stroke:#b0b0b0;stroke-linecap:square;stroke-width:0.8;\"/>\n     </g>\n     <g id=\"line2d_10\">\n      <g>\n       <use style=\"stroke:#000000;stroke-width:0.8;\" x=\"174.357554\" xlink:href=\"#m0d0e9044f8\" y=\"461.757187\"/>\n      </g>\n     </g>\n     <g id=\"text_5\">\n      <!-- 5 -->\n      <g transform=\"translate(170.540054 477.875312)scale(0.12 -0.12)\">\n       <defs>\n        <path d=\"M 10.796875 72.90625 \nL 49.515625 72.90625 \nL 49.515625 64.59375 \nL 19.828125 64.59375 \nL 19.828125 46.734375 \nQ 21.96875 47.46875 24.109375 47.828125 \nQ 26.265625 48.1875 28.421875 48.1875 \nQ 40.625 48.1875 47.75 41.5 \nQ 54.890625 34.8125 54.890625 23.390625 \nQ 54.890625 11.625 47.5625 5.09375 \nQ 40.234375 -1.421875 26.90625 -1.421875 \nQ 22.3125 -1.421875 17.546875 -0.640625 \nQ 12.796875 0.140625 7.71875 1.703125 \nL 7.71875 11.625 \nQ 12.109375 9.234375 16.796875 8.0625 \nQ 21.484375 6.890625 26.703125 6.890625 \nQ 35.15625 6.890625 40.078125 11.328125 \nQ 45.015625 15.765625 45.015625 23.390625 \nQ 45.015625 31 40.078125 35.4375 \nQ 35.15625 39.890625 26.703125 39.890625 \nQ 22.75 39.890625 18.8125 39.015625 \nQ 14.890625 38.140625 10.796875 36.28125 \nz\n\" id=\"DejaVuSans-53\"/>\n       </defs>\n       <use xlink:href=\"#DejaVuSans-53\"/>\n      </g>\n     </g>\n    </g>\n    <g id=\"xtick_6\">\n     <g id=\"line2d_11\">\n      <path clip-path=\"url(#p8d25890bdf)\" d=\"M 188.255437 461.757187 \nL 188.255437 26.877187 \n\" style=\"fill:none;stroke:#b0b0b0;stroke-linecap:square;stroke-width:0.8;\"/>\n     </g>\n     <g id=\"line2d_12\">\n      <g>\n       <use style=\"stroke:#000000;stroke-width:0.8;\" x=\"188.255437\" xlink:href=\"#m0d0e9044f8\" y=\"461.757187\"/>\n      </g>\n     </g>\n     <g id=\"text_6\">\n      <!-- 6 -->\n      <g transform=\"translate(184.437937 477.875312)scale(0.12 -0.12)\">\n       <defs>\n        <path d=\"M 33.015625 40.375 \nQ 26.375 40.375 22.484375 35.828125 \nQ 18.609375 31.296875 18.609375 23.390625 \nQ 18.609375 15.53125 22.484375 10.953125 \nQ 26.375 6.390625 33.015625 6.390625 \nQ 39.65625 6.390625 43.53125 10.953125 \nQ 47.40625 15.53125 47.40625 23.390625 \nQ 47.40625 31.296875 43.53125 35.828125 \nQ 39.65625 40.375 33.015625 40.375 \nz\nM 52.59375 71.296875 \nL 52.59375 62.3125 \nQ 48.875 64.0625 45.09375 64.984375 \nQ 41.3125 65.921875 37.59375 65.921875 \nQ 27.828125 65.921875 22.671875 59.328125 \nQ 17.53125 52.734375 16.796875 39.40625 \nQ 19.671875 43.65625 24.015625 45.921875 \nQ 28.375 48.1875 33.59375 48.1875 \nQ 44.578125 48.1875 50.953125 41.515625 \nQ 57.328125 34.859375 57.328125 23.390625 \nQ 57.328125 12.15625 50.6875 5.359375 \nQ 44.046875 -1.421875 33.015625 -1.421875 \nQ 20.359375 -1.421875 13.671875 8.265625 \nQ 6.984375 17.96875 6.984375 36.375 \nQ 6.984375 53.65625 15.1875 63.9375 \nQ 23.390625 74.21875 37.203125 74.21875 \nQ 40.921875 74.21875 44.703125 73.484375 \nQ 48.484375 72.75 52.59375 71.296875 \nz\n\" id=\"DejaVuSans-54\"/>\n       </defs>\n       <use xlink:href=\"#DejaVuSans-54\"/>\n      </g>\n     </g>\n    </g>\n    <g id=\"xtick_7\">\n     <g id=\"line2d_13\">\n      <path clip-path=\"url(#p8d25890bdf)\" d=\"M 202.15332 461.757187 \nL 202.15332 26.877187 \n\" style=\"fill:none;stroke:#b0b0b0;stroke-linecap:square;stroke-width:0.8;\"/>\n     </g>\n     <g id=\"line2d_14\">\n      <g>\n       <use style=\"stroke:#000000;stroke-width:0.8;\" x=\"202.15332\" xlink:href=\"#m0d0e9044f8\" y=\"461.757187\"/>\n      </g>\n     </g>\n     <g id=\"text_7\">\n      <!-- 7 -->\n      <g transform=\"translate(198.33582 477.875312)scale(0.12 -0.12)\">\n       <defs>\n        <path d=\"M 8.203125 72.90625 \nL 55.078125 72.90625 \nL 55.078125 68.703125 \nL 28.609375 0 \nL 18.3125 0 \nL 43.21875 64.59375 \nL 8.203125 64.59375 \nz\n\" id=\"DejaVuSans-55\"/>\n       </defs>\n       <use xlink:href=\"#DejaVuSans-55\"/>\n      </g>\n     </g>\n    </g>\n    <g id=\"xtick_8\">\n     <g id=\"line2d_15\">\n      <path clip-path=\"url(#p8d25890bdf)\" d=\"M 216.051203 461.757187 \nL 216.051203 26.877187 \n\" style=\"fill:none;stroke:#b0b0b0;stroke-linecap:square;stroke-width:0.8;\"/>\n     </g>\n     <g id=\"line2d_16\">\n      <g>\n       <use style=\"stroke:#000000;stroke-width:0.8;\" x=\"216.051203\" xlink:href=\"#m0d0e9044f8\" y=\"461.757187\"/>\n      </g>\n     </g>\n     <g id=\"text_8\">\n      <!-- 8 -->\n      <g transform=\"translate(212.233703 477.875312)scale(0.12 -0.12)\">\n       <defs>\n        <path d=\"M 31.78125 34.625 \nQ 24.75 34.625 20.71875 30.859375 \nQ 16.703125 27.09375 16.703125 20.515625 \nQ 16.703125 13.921875 20.71875 10.15625 \nQ 24.75 6.390625 31.78125 6.390625 \nQ 38.8125 6.390625 42.859375 10.171875 \nQ 46.921875 13.96875 46.921875 20.515625 \nQ 46.921875 27.09375 42.890625 30.859375 \nQ 38.875 34.625 31.78125 34.625 \nz\nM 21.921875 38.8125 \nQ 15.578125 40.375 12.03125 44.71875 \nQ 8.5 49.078125 8.5 55.328125 \nQ 8.5 64.0625 14.71875 69.140625 \nQ 20.953125 74.21875 31.78125 74.21875 \nQ 42.671875 74.21875 48.875 69.140625 \nQ 55.078125 64.0625 55.078125 55.328125 \nQ 55.078125 49.078125 51.53125 44.71875 \nQ 48 40.375 41.703125 38.8125 \nQ 48.828125 37.15625 52.796875 32.3125 \nQ 56.78125 27.484375 56.78125 20.515625 \nQ 56.78125 9.90625 50.3125 4.234375 \nQ 43.84375 -1.421875 31.78125 -1.421875 \nQ 19.734375 -1.421875 13.25 4.234375 \nQ 6.78125 9.90625 6.78125 20.515625 \nQ 6.78125 27.484375 10.78125 32.3125 \nQ 14.796875 37.15625 21.921875 38.8125 \nz\nM 18.3125 54.390625 \nQ 18.3125 48.734375 21.84375 45.5625 \nQ 25.390625 42.390625 31.78125 42.390625 \nQ 38.140625 42.390625 41.71875 45.5625 \nQ 45.3125 48.734375 45.3125 54.390625 \nQ 45.3125 60.0625 41.71875 63.234375 \nQ 38.140625 66.40625 31.78125 66.40625 \nQ 25.390625 66.40625 21.84375 63.234375 \nQ 18.3125 60.0625 18.3125 54.390625 \nz\n\" id=\"DejaVuSans-56\"/>\n       </defs>\n       <use xlink:href=\"#DejaVuSans-56\"/>\n      </g>\n     </g>\n    </g>\n    <g id=\"xtick_9\">\n     <g id=\"line2d_17\">\n      <path clip-path=\"url(#p8d25890bdf)\" d=\"M 229.949086 461.757187 \nL 229.949086 26.877187 \n\" style=\"fill:none;stroke:#b0b0b0;stroke-linecap:square;stroke-width:0.8;\"/>\n     </g>\n     <g id=\"line2d_18\">\n      <g>\n       <use style=\"stroke:#000000;stroke-width:0.8;\" x=\"229.949086\" xlink:href=\"#m0d0e9044f8\" y=\"461.757187\"/>\n      </g>\n     </g>\n     <g id=\"text_9\">\n      <!-- 9 -->\n      <g transform=\"translate(226.131586 477.875312)scale(0.12 -0.12)\">\n       <defs>\n        <path d=\"M 10.984375 1.515625 \nL 10.984375 10.5 \nQ 14.703125 8.734375 18.5 7.8125 \nQ 22.3125 6.890625 25.984375 6.890625 \nQ 35.75 6.890625 40.890625 13.453125 \nQ 46.046875 20.015625 46.78125 33.40625 \nQ 43.953125 29.203125 39.59375 26.953125 \nQ 35.25 24.703125 29.984375 24.703125 \nQ 19.046875 24.703125 12.671875 31.3125 \nQ 6.296875 37.9375 6.296875 49.421875 \nQ 6.296875 60.640625 12.9375 67.421875 \nQ 19.578125 74.21875 30.609375 74.21875 \nQ 43.265625 74.21875 49.921875 64.515625 \nQ 56.59375 54.828125 56.59375 36.375 \nQ 56.59375 19.140625 48.40625 8.859375 \nQ 40.234375 -1.421875 26.421875 -1.421875 \nQ 22.703125 -1.421875 18.890625 -0.6875 \nQ 15.09375 0.046875 10.984375 1.515625 \nz\nM 30.609375 32.421875 \nQ 37.25 32.421875 41.125 36.953125 \nQ 45.015625 41.5 45.015625 49.421875 \nQ 45.015625 57.28125 41.125 61.84375 \nQ 37.25 66.40625 30.609375 66.40625 \nQ 23.96875 66.40625 20.09375 61.84375 \nQ 16.21875 57.28125 16.21875 49.421875 \nQ 16.21875 41.5 20.09375 36.953125 \nQ 23.96875 32.421875 30.609375 32.421875 \nz\n\" id=\"DejaVuSans-57\"/>\n       </defs>\n       <use xlink:href=\"#DejaVuSans-57\"/>\n      </g>\n     </g>\n    </g>\n    <g id=\"xtick_10\">\n     <g id=\"line2d_19\">\n      <path clip-path=\"url(#p8d25890bdf)\" d=\"M 243.846969 461.757187 \nL 243.846969 26.877187 \n\" style=\"fill:none;stroke:#b0b0b0;stroke-linecap:square;stroke-width:0.8;\"/>\n     </g>\n     <g id=\"line2d_20\">\n      <g>\n       <use style=\"stroke:#000000;stroke-width:0.8;\" x=\"243.846969\" xlink:href=\"#m0d0e9044f8\" y=\"461.757187\"/>\n      </g>\n     </g>\n     <g id=\"text_10\">\n      <!-- 10 -->\n      <g transform=\"translate(236.211969 477.875312)scale(0.12 -0.12)\">\n       <defs>\n        <path d=\"M 31.78125 66.40625 \nQ 24.171875 66.40625 20.328125 58.90625 \nQ 16.5 51.421875 16.5 36.375 \nQ 16.5 21.390625 20.328125 13.890625 \nQ 24.171875 6.390625 31.78125 6.390625 \nQ 39.453125 6.390625 43.28125 13.890625 \nQ 47.125 21.390625 47.125 36.375 \nQ 47.125 51.421875 43.28125 58.90625 \nQ 39.453125 66.40625 31.78125 66.40625 \nz\nM 31.78125 74.21875 \nQ 44.046875 74.21875 50.515625 64.515625 \nQ 56.984375 54.828125 56.984375 36.375 \nQ 56.984375 17.96875 50.515625 8.265625 \nQ 44.046875 -1.421875 31.78125 -1.421875 \nQ 19.53125 -1.421875 13.0625 8.265625 \nQ 6.59375 17.96875 6.59375 36.375 \nQ 6.59375 54.828125 13.0625 64.515625 \nQ 19.53125 74.21875 31.78125 74.21875 \nz\n\" id=\"DejaVuSans-48\"/>\n       </defs>\n       <use xlink:href=\"#DejaVuSans-49\"/>\n       <use x=\"63.623047\" xlink:href=\"#DejaVuSans-48\"/>\n      </g>\n     </g>\n    </g>\n    <g id=\"xtick_11\">\n     <g id=\"line2d_21\">\n      <path clip-path=\"url(#p8d25890bdf)\" d=\"M 257.744852 461.757187 \nL 257.744852 26.877187 \n\" style=\"fill:none;stroke:#b0b0b0;stroke-linecap:square;stroke-width:0.8;\"/>\n     </g>\n     <g id=\"line2d_22\">\n      <g>\n       <use style=\"stroke:#000000;stroke-width:0.8;\" x=\"257.744852\" xlink:href=\"#m0d0e9044f8\" y=\"461.757187\"/>\n      </g>\n     </g>\n     <g id=\"text_11\">\n      <!-- 11 -->\n      <g transform=\"translate(250.109852 477.875312)scale(0.12 -0.12)\">\n       <use xlink:href=\"#DejaVuSans-49\"/>\n       <use x=\"63.623047\" xlink:href=\"#DejaVuSans-49\"/>\n      </g>\n     </g>\n    </g>\n    <g id=\"xtick_12\">\n     <g id=\"line2d_23\">\n      <path clip-path=\"url(#p8d25890bdf)\" d=\"M 271.642735 461.757187 \nL 271.642735 26.877187 \n\" style=\"fill:none;stroke:#b0b0b0;stroke-linecap:square;stroke-width:0.8;\"/>\n     </g>\n     <g id=\"line2d_24\">\n      <g>\n       <use style=\"stroke:#000000;stroke-width:0.8;\" x=\"271.642735\" xlink:href=\"#m0d0e9044f8\" y=\"461.757187\"/>\n      </g>\n     </g>\n     <g id=\"text_12\">\n      <!-- 12 -->\n      <g transform=\"translate(264.007735 477.875312)scale(0.12 -0.12)\">\n       <use xlink:href=\"#DejaVuSans-49\"/>\n       <use x=\"63.623047\" xlink:href=\"#DejaVuSans-50\"/>\n      </g>\n     </g>\n    </g>\n    <g id=\"xtick_13\">\n     <g id=\"line2d_25\">\n      <path clip-path=\"url(#p8d25890bdf)\" d=\"M 285.540618 461.757187 \nL 285.540618 26.877187 \n\" style=\"fill:none;stroke:#b0b0b0;stroke-linecap:square;stroke-width:0.8;\"/>\n     </g>\n     <g id=\"line2d_26\">\n      <g>\n       <use style=\"stroke:#000000;stroke-width:0.8;\" x=\"285.540618\" xlink:href=\"#m0d0e9044f8\" y=\"461.757187\"/>\n      </g>\n     </g>\n     <g id=\"text_13\">\n      <!-- 13 -->\n      <g transform=\"translate(277.905618 477.875312)scale(0.12 -0.12)\">\n       <use xlink:href=\"#DejaVuSans-49\"/>\n       <use x=\"63.623047\" xlink:href=\"#DejaVuSans-51\"/>\n      </g>\n     </g>\n    </g>\n    <g id=\"xtick_14\">\n     <g id=\"line2d_27\">\n      <path clip-path=\"url(#p8d25890bdf)\" d=\"M 299.438501 461.757187 \nL 299.438501 26.877187 \n\" style=\"fill:none;stroke:#b0b0b0;stroke-linecap:square;stroke-width:0.8;\"/>\n     </g>\n     <g id=\"line2d_28\">\n      <g>\n       <use style=\"stroke:#000000;stroke-width:0.8;\" x=\"299.438501\" xlink:href=\"#m0d0e9044f8\" y=\"461.757187\"/>\n      </g>\n     </g>\n     <g id=\"text_14\">\n      <!-- 14 -->\n      <g transform=\"translate(291.803501 477.875312)scale(0.12 -0.12)\">\n       <use xlink:href=\"#DejaVuSans-49\"/>\n       <use x=\"63.623047\" xlink:href=\"#DejaVuSans-52\"/>\n      </g>\n     </g>\n    </g>\n    <g id=\"xtick_15\">\n     <g id=\"line2d_29\">\n      <path clip-path=\"url(#p8d25890bdf)\" d=\"M 313.336384 461.757187 \nL 313.336384 26.877187 \n\" style=\"fill:none;stroke:#b0b0b0;stroke-linecap:square;stroke-width:0.8;\"/>\n     </g>\n     <g id=\"line2d_30\">\n      <g>\n       <use style=\"stroke:#000000;stroke-width:0.8;\" x=\"313.336384\" xlink:href=\"#m0d0e9044f8\" y=\"461.757187\"/>\n      </g>\n     </g>\n     <g id=\"text_15\">\n      <!-- 15 -->\n      <g transform=\"translate(305.701384 477.875312)scale(0.12 -0.12)\">\n       <use xlink:href=\"#DejaVuSans-49\"/>\n       <use x=\"63.623047\" xlink:href=\"#DejaVuSans-53\"/>\n      </g>\n     </g>\n    </g>\n    <g id=\"xtick_16\">\n     <g id=\"line2d_31\">\n      <path clip-path=\"url(#p8d25890bdf)\" d=\"M 327.234267 461.757187 \nL 327.234267 26.877187 \n\" style=\"fill:none;stroke:#b0b0b0;stroke-linecap:square;stroke-width:0.8;\"/>\n     </g>\n     <g id=\"line2d_32\">\n      <g>\n       <use style=\"stroke:#000000;stroke-width:0.8;\" x=\"327.234267\" xlink:href=\"#m0d0e9044f8\" y=\"461.757187\"/>\n      </g>\n     </g>\n     <g id=\"text_16\">\n      <!-- 16 -->\n      <g transform=\"translate(319.599267 477.875312)scale(0.12 -0.12)\">\n       <use xlink:href=\"#DejaVuSans-49\"/>\n       <use x=\"63.623047\" xlink:href=\"#DejaVuSans-54\"/>\n      </g>\n     </g>\n    </g>\n    <g id=\"xtick_17\">\n     <g id=\"line2d_33\">\n      <path clip-path=\"url(#p8d25890bdf)\" d=\"M 341.13215 461.757187 \nL 341.13215 26.877187 \n\" style=\"fill:none;stroke:#b0b0b0;stroke-linecap:square;stroke-width:0.8;\"/>\n     </g>\n     <g id=\"line2d_34\">\n      <g>\n       <use style=\"stroke:#000000;stroke-width:0.8;\" x=\"341.13215\" xlink:href=\"#m0d0e9044f8\" y=\"461.757187\"/>\n      </g>\n     </g>\n     <g id=\"text_17\">\n      <!-- 17 -->\n      <g transform=\"translate(333.49715 477.875312)scale(0.12 -0.12)\">\n       <use xlink:href=\"#DejaVuSans-49\"/>\n       <use x=\"63.623047\" xlink:href=\"#DejaVuSans-55\"/>\n      </g>\n     </g>\n    </g>\n    <g id=\"xtick_18\">\n     <g id=\"line2d_35\">\n      <path clip-path=\"url(#p8d25890bdf)\" d=\"M 355.030033 461.757187 \nL 355.030033 26.877187 \n\" style=\"fill:none;stroke:#b0b0b0;stroke-linecap:square;stroke-width:0.8;\"/>\n     </g>\n     <g id=\"line2d_36\">\n      <g>\n       <use style=\"stroke:#000000;stroke-width:0.8;\" x=\"355.030033\" xlink:href=\"#m0d0e9044f8\" y=\"461.757187\"/>\n      </g>\n     </g>\n     <g id=\"text_18\">\n      <!-- 18 -->\n      <g transform=\"translate(347.395033 477.875312)scale(0.12 -0.12)\">\n       <use xlink:href=\"#DejaVuSans-49\"/>\n       <use x=\"63.623047\" xlink:href=\"#DejaVuSans-56\"/>\n      </g>\n     </g>\n    </g>\n    <g id=\"xtick_19\">\n     <g id=\"line2d_37\">\n      <path clip-path=\"url(#p8d25890bdf)\" d=\"M 368.927916 461.757187 \nL 368.927916 26.877187 \n\" style=\"fill:none;stroke:#b0b0b0;stroke-linecap:square;stroke-width:0.8;\"/>\n     </g>\n     <g id=\"line2d_38\">\n      <g>\n       <use style=\"stroke:#000000;stroke-width:0.8;\" x=\"368.927916\" xlink:href=\"#m0d0e9044f8\" y=\"461.757187\"/>\n      </g>\n     </g>\n     <g id=\"text_19\">\n      <!-- 19 -->\n      <g transform=\"translate(361.292916 477.875312)scale(0.12 -0.12)\">\n       <use xlink:href=\"#DejaVuSans-49\"/>\n       <use x=\"63.623047\" xlink:href=\"#DejaVuSans-57\"/>\n      </g>\n     </g>\n    </g>\n    <g id=\"xtick_20\">\n     <g id=\"line2d_39\">\n      <path clip-path=\"url(#p8d25890bdf)\" d=\"M 382.825799 461.757187 \nL 382.825799 26.877187 \n\" style=\"fill:none;stroke:#b0b0b0;stroke-linecap:square;stroke-width:0.8;\"/>\n     </g>\n     <g id=\"line2d_40\">\n      <g>\n       <use style=\"stroke:#000000;stroke-width:0.8;\" x=\"382.825799\" xlink:href=\"#m0d0e9044f8\" y=\"461.757187\"/>\n      </g>\n     </g>\n     <g id=\"text_20\">\n      <!-- 20 -->\n      <g transform=\"translate(375.190799 477.875312)scale(0.12 -0.12)\">\n       <use xlink:href=\"#DejaVuSans-50\"/>\n       <use x=\"63.623047\" xlink:href=\"#DejaVuSans-48\"/>\n      </g>\n     </g>\n    </g>\n    <g id=\"xtick_21\">\n     <g id=\"line2d_41\">\n      <path clip-path=\"url(#p8d25890bdf)\" d=\"M 396.723682 461.757187 \nL 396.723682 26.877187 \n\" style=\"fill:none;stroke:#b0b0b0;stroke-linecap:square;stroke-width:0.8;\"/>\n     </g>\n     <g id=\"line2d_42\">\n      <g>\n       <use style=\"stroke:#000000;stroke-width:0.8;\" x=\"396.723682\" xlink:href=\"#m0d0e9044f8\" y=\"461.757187\"/>\n      </g>\n     </g>\n     <g id=\"text_21\">\n      <!-- 21 -->\n      <g transform=\"translate(389.088682 477.875312)scale(0.12 -0.12)\">\n       <use xlink:href=\"#DejaVuSans-50\"/>\n       <use x=\"63.623047\" xlink:href=\"#DejaVuSans-49\"/>\n      </g>\n     </g>\n    </g>\n    <g id=\"xtick_22\">\n     <g id=\"line2d_43\">\n      <path clip-path=\"url(#p8d25890bdf)\" d=\"M 410.621564 461.757187 \nL 410.621564 26.877187 \n\" style=\"fill:none;stroke:#b0b0b0;stroke-linecap:square;stroke-width:0.8;\"/>\n     </g>\n     <g id=\"line2d_44\">\n      <g>\n       <use style=\"stroke:#000000;stroke-width:0.8;\" x=\"410.621564\" xlink:href=\"#m0d0e9044f8\" y=\"461.757187\"/>\n      </g>\n     </g>\n     <g id=\"text_22\">\n      <!-- 22 -->\n      <g transform=\"translate(402.986564 477.875312)scale(0.12 -0.12)\">\n       <use xlink:href=\"#DejaVuSans-50\"/>\n       <use x=\"63.623047\" xlink:href=\"#DejaVuSans-50\"/>\n      </g>\n     </g>\n    </g>\n    <g id=\"xtick_23\">\n     <g id=\"line2d_45\">\n      <path clip-path=\"url(#p8d25890bdf)\" d=\"M 424.519447 461.757187 \nL 424.519447 26.877187 \n\" style=\"fill:none;stroke:#b0b0b0;stroke-linecap:square;stroke-width:0.8;\"/>\n     </g>\n     <g id=\"line2d_46\">\n      <g>\n       <use style=\"stroke:#000000;stroke-width:0.8;\" x=\"424.519447\" xlink:href=\"#m0d0e9044f8\" y=\"461.757187\"/>\n      </g>\n     </g>\n     <g id=\"text_23\">\n      <!-- 23 -->\n      <g transform=\"translate(416.884447 477.875312)scale(0.12 -0.12)\">\n       <use xlink:href=\"#DejaVuSans-50\"/>\n       <use x=\"63.623047\" xlink:href=\"#DejaVuSans-51\"/>\n      </g>\n     </g>\n    </g>\n    <g id=\"xtick_24\">\n     <g id=\"line2d_47\">\n      <path clip-path=\"url(#p8d25890bdf)\" d=\"M 438.41733 461.757187 \nL 438.41733 26.877187 \n\" style=\"fill:none;stroke:#b0b0b0;stroke-linecap:square;stroke-width:0.8;\"/>\n     </g>\n     <g id=\"line2d_48\">\n      <g>\n       <use style=\"stroke:#000000;stroke-width:0.8;\" x=\"438.41733\" xlink:href=\"#m0d0e9044f8\" y=\"461.757187\"/>\n      </g>\n     </g>\n     <g id=\"text_24\">\n      <!-- 24 -->\n      <g transform=\"translate(430.78233 477.875312)scale(0.12 -0.12)\">\n       <use xlink:href=\"#DejaVuSans-50\"/>\n       <use x=\"63.623047\" xlink:href=\"#DejaVuSans-52\"/>\n      </g>\n     </g>\n    </g>\n    <g id=\"xtick_25\">\n     <g id=\"line2d_49\">\n      <path clip-path=\"url(#p8d25890bdf)\" d=\"M 452.315213 461.757187 \nL 452.315213 26.877187 \n\" style=\"fill:none;stroke:#b0b0b0;stroke-linecap:square;stroke-width:0.8;\"/>\n     </g>\n     <g id=\"line2d_50\">\n      <g>\n       <use style=\"stroke:#000000;stroke-width:0.8;\" x=\"452.315213\" xlink:href=\"#m0d0e9044f8\" y=\"461.757187\"/>\n      </g>\n     </g>\n     <g id=\"text_25\">\n      <!-- 25 -->\n      <g transform=\"translate(444.680213 477.875312)scale(0.12 -0.12)\">\n       <use xlink:href=\"#DejaVuSans-50\"/>\n       <use x=\"63.623047\" xlink:href=\"#DejaVuSans-53\"/>\n      </g>\n     </g>\n    </g>\n    <g id=\"xtick_26\">\n     <g id=\"line2d_51\">\n      <path clip-path=\"url(#p8d25890bdf)\" d=\"M 466.213096 461.757187 \nL 466.213096 26.877187 \n\" style=\"fill:none;stroke:#b0b0b0;stroke-linecap:square;stroke-width:0.8;\"/>\n     </g>\n     <g id=\"line2d_52\">\n      <g>\n       <use style=\"stroke:#000000;stroke-width:0.8;\" x=\"466.213096\" xlink:href=\"#m0d0e9044f8\" y=\"461.757187\"/>\n      </g>\n     </g>\n     <g id=\"text_26\">\n      <!-- 26 -->\n      <g transform=\"translate(458.578096 477.875312)scale(0.12 -0.12)\">\n       <use xlink:href=\"#DejaVuSans-50\"/>\n       <use x=\"63.623047\" xlink:href=\"#DejaVuSans-54\"/>\n      </g>\n     </g>\n    </g>\n    <g id=\"xtick_27\">\n     <g id=\"line2d_53\">\n      <path clip-path=\"url(#p8d25890bdf)\" d=\"M 480.110979 461.757187 \nL 480.110979 26.877187 \n\" style=\"fill:none;stroke:#b0b0b0;stroke-linecap:square;stroke-width:0.8;\"/>\n     </g>\n     <g id=\"line2d_54\">\n      <g>\n       <use style=\"stroke:#000000;stroke-width:0.8;\" x=\"480.110979\" xlink:href=\"#m0d0e9044f8\" y=\"461.757187\"/>\n      </g>\n     </g>\n     <g id=\"text_27\">\n      <!-- 27 -->\n      <g transform=\"translate(472.475979 477.875312)scale(0.12 -0.12)\">\n       <use xlink:href=\"#DejaVuSans-50\"/>\n       <use x=\"63.623047\" xlink:href=\"#DejaVuSans-55\"/>\n      </g>\n     </g>\n    </g>\n    <g id=\"xtick_28\">\n     <g id=\"line2d_55\">\n      <path clip-path=\"url(#p8d25890bdf)\" d=\"M 494.008862 461.757187 \nL 494.008862 26.877187 \n\" style=\"fill:none;stroke:#b0b0b0;stroke-linecap:square;stroke-width:0.8;\"/>\n     </g>\n     <g id=\"line2d_56\">\n      <g>\n       <use style=\"stroke:#000000;stroke-width:0.8;\" x=\"494.008862\" xlink:href=\"#m0d0e9044f8\" y=\"461.757187\"/>\n      </g>\n     </g>\n     <g id=\"text_28\">\n      <!-- 28 -->\n      <g transform=\"translate(486.373862 477.875312)scale(0.12 -0.12)\">\n       <use xlink:href=\"#DejaVuSans-50\"/>\n       <use x=\"63.623047\" xlink:href=\"#DejaVuSans-56\"/>\n      </g>\n     </g>\n    </g>\n    <g id=\"xtick_29\">\n     <g id=\"line2d_57\">\n      <path clip-path=\"url(#p8d25890bdf)\" d=\"M 507.906745 461.757187 \nL 507.906745 26.877187 \n\" style=\"fill:none;stroke:#b0b0b0;stroke-linecap:square;stroke-width:0.8;\"/>\n     </g>\n     <g id=\"line2d_58\">\n      <g>\n       <use style=\"stroke:#000000;stroke-width:0.8;\" x=\"507.906745\" xlink:href=\"#m0d0e9044f8\" y=\"461.757187\"/>\n      </g>\n     </g>\n     <g id=\"text_29\">\n      <!-- 29 -->\n      <g transform=\"translate(500.271745 477.875312)scale(0.12 -0.12)\">\n       <use xlink:href=\"#DejaVuSans-50\"/>\n       <use x=\"63.623047\" xlink:href=\"#DejaVuSans-57\"/>\n      </g>\n     </g>\n    </g>\n    <g id=\"xtick_30\">\n     <g id=\"line2d_59\">\n      <path clip-path=\"url(#p8d25890bdf)\" d=\"M 521.804628 461.757187 \nL 521.804628 26.877187 \n\" style=\"fill:none;stroke:#b0b0b0;stroke-linecap:square;stroke-width:0.8;\"/>\n     </g>\n     <g id=\"line2d_60\">\n      <g>\n       <use style=\"stroke:#000000;stroke-width:0.8;\" x=\"521.804628\" xlink:href=\"#m0d0e9044f8\" y=\"461.757187\"/>\n      </g>\n     </g>\n     <g id=\"text_30\">\n      <!-- 30 -->\n      <g transform=\"translate(514.169628 477.875312)scale(0.12 -0.12)\">\n       <use xlink:href=\"#DejaVuSans-51\"/>\n       <use x=\"63.623047\" xlink:href=\"#DejaVuSans-48\"/>\n      </g>\n     </g>\n    </g>\n    <g id=\"xtick_31\">\n     <g id=\"line2d_61\">\n      <path clip-path=\"url(#p8d25890bdf)\" d=\"M 535.702511 461.757187 \nL 535.702511 26.877187 \n\" style=\"fill:none;stroke:#b0b0b0;stroke-linecap:square;stroke-width:0.8;\"/>\n     </g>\n     <g id=\"line2d_62\">\n      <g>\n       <use style=\"stroke:#000000;stroke-width:0.8;\" x=\"535.702511\" xlink:href=\"#m0d0e9044f8\" y=\"461.757187\"/>\n      </g>\n     </g>\n     <g id=\"text_31\">\n      <!-- 31 -->\n      <g transform=\"translate(528.067511 477.875312)scale(0.12 -0.12)\">\n       <use xlink:href=\"#DejaVuSans-51\"/>\n       <use x=\"63.623047\" xlink:href=\"#DejaVuSans-49\"/>\n      </g>\n     </g>\n    </g>\n    <g id=\"xtick_32\">\n     <g id=\"line2d_63\">\n      <path clip-path=\"url(#p8d25890bdf)\" d=\"M 549.600394 461.757187 \nL 549.600394 26.877187 \n\" style=\"fill:none;stroke:#b0b0b0;stroke-linecap:square;stroke-width:0.8;\"/>\n     </g>\n     <g id=\"line2d_64\">\n      <g>\n       <use style=\"stroke:#000000;stroke-width:0.8;\" x=\"549.600394\" xlink:href=\"#m0d0e9044f8\" y=\"461.757187\"/>\n      </g>\n     </g>\n     <g id=\"text_32\">\n      <!-- 32 -->\n      <g transform=\"translate(541.965394 477.875312)scale(0.12 -0.12)\">\n       <use xlink:href=\"#DejaVuSans-51\"/>\n       <use x=\"63.623047\" xlink:href=\"#DejaVuSans-50\"/>\n      </g>\n     </g>\n    </g>\n    <g id=\"xtick_33\">\n     <g id=\"line2d_65\">\n      <path clip-path=\"url(#p8d25890bdf)\" d=\"M 563.498277 461.757187 \nL 563.498277 26.877187 \n\" style=\"fill:none;stroke:#b0b0b0;stroke-linecap:square;stroke-width:0.8;\"/>\n     </g>\n     <g id=\"line2d_66\">\n      <g>\n       <use style=\"stroke:#000000;stroke-width:0.8;\" x=\"563.498277\" xlink:href=\"#m0d0e9044f8\" y=\"461.757187\"/>\n      </g>\n     </g>\n     <g id=\"text_33\">\n      <!-- 33 -->\n      <g transform=\"translate(555.863277 477.875312)scale(0.12 -0.12)\">\n       <use xlink:href=\"#DejaVuSans-51\"/>\n       <use x=\"63.623047\" xlink:href=\"#DejaVuSans-51\"/>\n      </g>\n     </g>\n    </g>\n    <g id=\"xtick_34\">\n     <g id=\"line2d_67\">\n      <path clip-path=\"url(#p8d25890bdf)\" d=\"M 577.39616 461.757187 \nL 577.39616 26.877187 \n\" style=\"fill:none;stroke:#b0b0b0;stroke-linecap:square;stroke-width:0.8;\"/>\n     </g>\n     <g id=\"line2d_68\">\n      <g>\n       <use style=\"stroke:#000000;stroke-width:0.8;\" x=\"577.39616\" xlink:href=\"#m0d0e9044f8\" y=\"461.757187\"/>\n      </g>\n     </g>\n     <g id=\"text_34\">\n      <!-- 34 -->\n      <g transform=\"translate(569.76116 477.875312)scale(0.12 -0.12)\">\n       <use xlink:href=\"#DejaVuSans-51\"/>\n       <use x=\"63.623047\" xlink:href=\"#DejaVuSans-52\"/>\n      </g>\n     </g>\n    </g>\n    <g id=\"xtick_35\">\n     <g id=\"line2d_69\">\n      <path clip-path=\"url(#p8d25890bdf)\" d=\"M 591.294043 461.757187 \nL 591.294043 26.877187 \n\" style=\"fill:none;stroke:#b0b0b0;stroke-linecap:square;stroke-width:0.8;\"/>\n     </g>\n     <g id=\"line2d_70\">\n      <g>\n       <use style=\"stroke:#000000;stroke-width:0.8;\" x=\"591.294043\" xlink:href=\"#m0d0e9044f8\" y=\"461.757187\"/>\n      </g>\n     </g>\n     <g id=\"text_35\">\n      <!-- 35 -->\n      <g transform=\"translate(583.659043 477.875312)scale(0.12 -0.12)\">\n       <use xlink:href=\"#DejaVuSans-51\"/>\n       <use x=\"63.623047\" xlink:href=\"#DejaVuSans-53\"/>\n      </g>\n     </g>\n    </g>\n    <g id=\"xtick_36\">\n     <g id=\"line2d_71\">\n      <path clip-path=\"url(#p8d25890bdf)\" d=\"M 605.191926 461.757187 \nL 605.191926 26.877187 \n\" style=\"fill:none;stroke:#b0b0b0;stroke-linecap:square;stroke-width:0.8;\"/>\n     </g>\n     <g id=\"line2d_72\">\n      <g>\n       <use style=\"stroke:#000000;stroke-width:0.8;\" x=\"605.191926\" xlink:href=\"#m0d0e9044f8\" y=\"461.757187\"/>\n      </g>\n     </g>\n     <g id=\"text_36\">\n      <!-- 36 -->\n      <g transform=\"translate(597.556926 477.875312)scale(0.12 -0.12)\">\n       <use xlink:href=\"#DejaVuSans-51\"/>\n       <use x=\"63.623047\" xlink:href=\"#DejaVuSans-54\"/>\n      </g>\n     </g>\n    </g>\n    <g id=\"xtick_37\">\n     <g id=\"line2d_73\">\n      <path clip-path=\"url(#p8d25890bdf)\" d=\"M 619.089809 461.757187 \nL 619.089809 26.877187 \n\" style=\"fill:none;stroke:#b0b0b0;stroke-linecap:square;stroke-width:0.8;\"/>\n     </g>\n     <g id=\"line2d_74\">\n      <g>\n       <use style=\"stroke:#000000;stroke-width:0.8;\" x=\"619.089809\" xlink:href=\"#m0d0e9044f8\" y=\"461.757187\"/>\n      </g>\n     </g>\n     <g id=\"text_37\">\n      <!-- 37 -->\n      <g transform=\"translate(611.454809 477.875312)scale(0.12 -0.12)\">\n       <use xlink:href=\"#DejaVuSans-51\"/>\n       <use x=\"63.623047\" xlink:href=\"#DejaVuSans-55\"/>\n      </g>\n     </g>\n    </g>\n    <g id=\"xtick_38\">\n     <g id=\"line2d_75\">\n      <path clip-path=\"url(#p8d25890bdf)\" d=\"M 632.987691 461.757187 \nL 632.987691 26.877187 \n\" style=\"fill:none;stroke:#b0b0b0;stroke-linecap:square;stroke-width:0.8;\"/>\n     </g>\n     <g id=\"line2d_76\">\n      <g>\n       <use style=\"stroke:#000000;stroke-width:0.8;\" x=\"632.987691\" xlink:href=\"#m0d0e9044f8\" y=\"461.757187\"/>\n      </g>\n     </g>\n     <g id=\"text_38\">\n      <!-- 38 -->\n      <g transform=\"translate(625.352691 477.875312)scale(0.12 -0.12)\">\n       <use xlink:href=\"#DejaVuSans-51\"/>\n       <use x=\"63.623047\" xlink:href=\"#DejaVuSans-56\"/>\n      </g>\n     </g>\n    </g>\n    <g id=\"xtick_39\">\n     <g id=\"line2d_77\">\n      <path clip-path=\"url(#p8d25890bdf)\" d=\"M 646.885574 461.757187 \nL 646.885574 26.877187 \n\" style=\"fill:none;stroke:#b0b0b0;stroke-linecap:square;stroke-width:0.8;\"/>\n     </g>\n     <g id=\"line2d_78\">\n      <g>\n       <use style=\"stroke:#000000;stroke-width:0.8;\" x=\"646.885574\" xlink:href=\"#m0d0e9044f8\" y=\"461.757187\"/>\n      </g>\n     </g>\n     <g id=\"text_39\">\n      <!-- 39 -->\n      <g transform=\"translate(639.250574 477.875312)scale(0.12 -0.12)\">\n       <use xlink:href=\"#DejaVuSans-51\"/>\n       <use x=\"63.623047\" xlink:href=\"#DejaVuSans-57\"/>\n      </g>\n     </g>\n    </g>\n    <g id=\"xtick_40\">\n     <g id=\"line2d_79\">\n      <path clip-path=\"url(#p8d25890bdf)\" d=\"M 660.783457 461.757187 \nL 660.783457 26.877187 \n\" style=\"fill:none;stroke:#b0b0b0;stroke-linecap:square;stroke-width:0.8;\"/>\n     </g>\n     <g id=\"line2d_80\">\n      <g>\n       <use style=\"stroke:#000000;stroke-width:0.8;\" x=\"660.783457\" xlink:href=\"#m0d0e9044f8\" y=\"461.757187\"/>\n      </g>\n     </g>\n     <g id=\"text_40\">\n      <!-- 40 -->\n      <g transform=\"translate(653.148457 477.875312)scale(0.12 -0.12)\">\n       <use xlink:href=\"#DejaVuSans-52\"/>\n       <use x=\"63.623047\" xlink:href=\"#DejaVuSans-48\"/>\n      </g>\n     </g>\n    </g>\n    <g id=\"xtick_41\">\n     <g id=\"line2d_81\">\n      <path clip-path=\"url(#p8d25890bdf)\" d=\"M 674.68134 461.757187 \nL 674.68134 26.877187 \n\" style=\"fill:none;stroke:#b0b0b0;stroke-linecap:square;stroke-width:0.8;\"/>\n     </g>\n     <g id=\"line2d_82\">\n      <g>\n       <use style=\"stroke:#000000;stroke-width:0.8;\" x=\"674.68134\" xlink:href=\"#m0d0e9044f8\" y=\"461.757187\"/>\n      </g>\n     </g>\n     <g id=\"text_41\">\n      <!-- 41 -->\n      <g transform=\"translate(667.04634 477.875312)scale(0.12 -0.12)\">\n       <use xlink:href=\"#DejaVuSans-52\"/>\n       <use x=\"63.623047\" xlink:href=\"#DejaVuSans-49\"/>\n      </g>\n     </g>\n    </g>\n    <g id=\"xtick_42\">\n     <g id=\"line2d_83\">\n      <path clip-path=\"url(#p8d25890bdf)\" d=\"M 688.579223 461.757187 \nL 688.579223 26.877187 \n\" style=\"fill:none;stroke:#b0b0b0;stroke-linecap:square;stroke-width:0.8;\"/>\n     </g>\n     <g id=\"line2d_84\">\n      <g>\n       <use style=\"stroke:#000000;stroke-width:0.8;\" x=\"688.579223\" xlink:href=\"#m0d0e9044f8\" y=\"461.757187\"/>\n      </g>\n     </g>\n     <g id=\"text_42\">\n      <!-- 42 -->\n      <g transform=\"translate(680.944223 477.875312)scale(0.12 -0.12)\">\n       <use xlink:href=\"#DejaVuSans-52\"/>\n       <use x=\"63.623047\" xlink:href=\"#DejaVuSans-50\"/>\n      </g>\n     </g>\n    </g>\n    <g id=\"xtick_43\">\n     <g id=\"line2d_85\">\n      <path clip-path=\"url(#p8d25890bdf)\" d=\"M 702.477106 461.757187 \nL 702.477106 26.877187 \n\" style=\"fill:none;stroke:#b0b0b0;stroke-linecap:square;stroke-width:0.8;\"/>\n     </g>\n     <g id=\"line2d_86\">\n      <g>\n       <use style=\"stroke:#000000;stroke-width:0.8;\" x=\"702.477106\" xlink:href=\"#m0d0e9044f8\" y=\"461.757187\"/>\n      </g>\n     </g>\n     <g id=\"text_43\">\n      <!-- 43 -->\n      <g transform=\"translate(694.842106 477.875312)scale(0.12 -0.12)\">\n       <use xlink:href=\"#DejaVuSans-52\"/>\n       <use x=\"63.623047\" xlink:href=\"#DejaVuSans-51\"/>\n      </g>\n     </g>\n    </g>\n    <g id=\"xtick_44\">\n     <g id=\"line2d_87\">\n      <path clip-path=\"url(#p8d25890bdf)\" d=\"M 716.374989 461.757187 \nL 716.374989 26.877187 \n\" style=\"fill:none;stroke:#b0b0b0;stroke-linecap:square;stroke-width:0.8;\"/>\n     </g>\n     <g id=\"line2d_88\">\n      <g>\n       <use style=\"stroke:#000000;stroke-width:0.8;\" x=\"716.374989\" xlink:href=\"#m0d0e9044f8\" y=\"461.757187\"/>\n      </g>\n     </g>\n     <g id=\"text_44\">\n      <!-- 44 -->\n      <g transform=\"translate(708.739989 477.875312)scale(0.12 -0.12)\">\n       <use xlink:href=\"#DejaVuSans-52\"/>\n       <use x=\"63.623047\" xlink:href=\"#DejaVuSans-52\"/>\n      </g>\n     </g>\n    </g>\n    <g id=\"xtick_45\">\n     <g id=\"line2d_89\">\n      <path clip-path=\"url(#p8d25890bdf)\" d=\"M 730.272872 461.757187 \nL 730.272872 26.877187 \n\" style=\"fill:none;stroke:#b0b0b0;stroke-linecap:square;stroke-width:0.8;\"/>\n     </g>\n     <g id=\"line2d_90\">\n      <g>\n       <use style=\"stroke:#000000;stroke-width:0.8;\" x=\"730.272872\" xlink:href=\"#m0d0e9044f8\" y=\"461.757187\"/>\n      </g>\n     </g>\n     <g id=\"text_45\">\n      <!-- 45 -->\n      <g transform=\"translate(722.637872 477.875312)scale(0.12 -0.12)\">\n       <use xlink:href=\"#DejaVuSans-52\"/>\n       <use x=\"63.623047\" xlink:href=\"#DejaVuSans-53\"/>\n      </g>\n     </g>\n    </g>\n    <g id=\"xtick_46\">\n     <g id=\"line2d_91\">\n      <path clip-path=\"url(#p8d25890bdf)\" d=\"M 744.170755 461.757187 \nL 744.170755 26.877187 \n\" style=\"fill:none;stroke:#b0b0b0;stroke-linecap:square;stroke-width:0.8;\"/>\n     </g>\n     <g id=\"line2d_92\">\n      <g>\n       <use style=\"stroke:#000000;stroke-width:0.8;\" x=\"744.170755\" xlink:href=\"#m0d0e9044f8\" y=\"461.757187\"/>\n      </g>\n     </g>\n     <g id=\"text_46\">\n      <!-- 46 -->\n      <g transform=\"translate(736.535755 477.875312)scale(0.12 -0.12)\">\n       <use xlink:href=\"#DejaVuSans-52\"/>\n       <use x=\"63.623047\" xlink:href=\"#DejaVuSans-54\"/>\n      </g>\n     </g>\n    </g>\n    <g id=\"xtick_47\">\n     <g id=\"line2d_93\">\n      <path clip-path=\"url(#p8d25890bdf)\" d=\"M 758.068638 461.757187 \nL 758.068638 26.877187 \n\" style=\"fill:none;stroke:#b0b0b0;stroke-linecap:square;stroke-width:0.8;\"/>\n     </g>\n     <g id=\"line2d_94\">\n      <g>\n       <use style=\"stroke:#000000;stroke-width:0.8;\" x=\"758.068638\" xlink:href=\"#m0d0e9044f8\" y=\"461.757187\"/>\n      </g>\n     </g>\n     <g id=\"text_47\">\n      <!-- 47 -->\n      <g transform=\"translate(750.433638 477.875312)scale(0.12 -0.12)\">\n       <use xlink:href=\"#DejaVuSans-52\"/>\n       <use x=\"63.623047\" xlink:href=\"#DejaVuSans-55\"/>\n      </g>\n     </g>\n    </g>\n    <g id=\"xtick_48\">\n     <g id=\"line2d_95\">\n      <path clip-path=\"url(#p8d25890bdf)\" d=\"M 771.966521 461.757187 \nL 771.966521 26.877187 \n\" style=\"fill:none;stroke:#b0b0b0;stroke-linecap:square;stroke-width:0.8;\"/>\n     </g>\n     <g id=\"line2d_96\">\n      <g>\n       <use style=\"stroke:#000000;stroke-width:0.8;\" x=\"771.966521\" xlink:href=\"#m0d0e9044f8\" y=\"461.757187\"/>\n      </g>\n     </g>\n     <g id=\"text_48\">\n      <!-- 48 -->\n      <g transform=\"translate(764.331521 477.875312)scale(0.12 -0.12)\">\n       <use xlink:href=\"#DejaVuSans-52\"/>\n       <use x=\"63.623047\" xlink:href=\"#DejaVuSans-56\"/>\n      </g>\n     </g>\n    </g>\n    <g id=\"xtick_49\">\n     <g id=\"line2d_97\">\n      <path clip-path=\"url(#p8d25890bdf)\" d=\"M 785.864404 461.757187 \nL 785.864404 26.877187 \n\" style=\"fill:none;stroke:#b0b0b0;stroke-linecap:square;stroke-width:0.8;\"/>\n     </g>\n     <g id=\"line2d_98\">\n      <g>\n       <use style=\"stroke:#000000;stroke-width:0.8;\" x=\"785.864404\" xlink:href=\"#m0d0e9044f8\" y=\"461.757187\"/>\n      </g>\n     </g>\n     <g id=\"text_49\">\n      <!-- 49 -->\n      <g transform=\"translate(778.229404 477.875312)scale(0.12 -0.12)\">\n       <use xlink:href=\"#DejaVuSans-52\"/>\n       <use x=\"63.623047\" xlink:href=\"#DejaVuSans-57\"/>\n      </g>\n     </g>\n    </g>\n    <g id=\"xtick_50\">\n     <g id=\"line2d_99\">\n      <path clip-path=\"url(#p8d25890bdf)\" d=\"M 799.762287 461.757187 \nL 799.762287 26.877187 \n\" style=\"fill:none;stroke:#b0b0b0;stroke-linecap:square;stroke-width:0.8;\"/>\n     </g>\n     <g id=\"line2d_100\">\n      <g>\n       <use style=\"stroke:#000000;stroke-width:0.8;\" x=\"799.762287\" xlink:href=\"#m0d0e9044f8\" y=\"461.757187\"/>\n      </g>\n     </g>\n     <g id=\"text_50\">\n      <!-- 50 -->\n      <g transform=\"translate(792.127287 477.875312)scale(0.12 -0.12)\">\n       <use xlink:href=\"#DejaVuSans-53\"/>\n       <use x=\"63.623047\" xlink:href=\"#DejaVuSans-48\"/>\n      </g>\n     </g>\n    </g>\n    <g id=\"xtick_51\">\n     <g id=\"line2d_101\">\n      <path clip-path=\"url(#p8d25890bdf)\" d=\"M 813.66017 461.757187 \nL 813.66017 26.877187 \n\" style=\"fill:none;stroke:#b0b0b0;stroke-linecap:square;stroke-width:0.8;\"/>\n     </g>\n     <g id=\"line2d_102\">\n      <g>\n       <use style=\"stroke:#000000;stroke-width:0.8;\" x=\"813.66017\" xlink:href=\"#m0d0e9044f8\" y=\"461.757187\"/>\n      </g>\n     </g>\n     <g id=\"text_51\">\n      <!-- 51 -->\n      <g transform=\"translate(806.02517 477.875312)scale(0.12 -0.12)\">\n       <use xlink:href=\"#DejaVuSans-53\"/>\n       <use x=\"63.623047\" xlink:href=\"#DejaVuSans-49\"/>\n      </g>\n     </g>\n    </g>\n    <g id=\"xtick_52\">\n     <g id=\"line2d_103\">\n      <path clip-path=\"url(#p8d25890bdf)\" d=\"M 827.558053 461.757187 \nL 827.558053 26.877187 \n\" style=\"fill:none;stroke:#b0b0b0;stroke-linecap:square;stroke-width:0.8;\"/>\n     </g>\n     <g id=\"line2d_104\">\n      <g>\n       <use style=\"stroke:#000000;stroke-width:0.8;\" x=\"827.558053\" xlink:href=\"#m0d0e9044f8\" y=\"461.757187\"/>\n      </g>\n     </g>\n     <g id=\"text_52\">\n      <!-- 52 -->\n      <g transform=\"translate(819.923053 477.875312)scale(0.12 -0.12)\">\n       <use xlink:href=\"#DejaVuSans-53\"/>\n       <use x=\"63.623047\" xlink:href=\"#DejaVuSans-50\"/>\n      </g>\n     </g>\n    </g>\n    <g id=\"xtick_53\">\n     <g id=\"line2d_105\">\n      <path clip-path=\"url(#p8d25890bdf)\" d=\"M 841.455936 461.757187 \nL 841.455936 26.877187 \n\" style=\"fill:none;stroke:#b0b0b0;stroke-linecap:square;stroke-width:0.8;\"/>\n     </g>\n     <g id=\"line2d_106\">\n      <g>\n       <use style=\"stroke:#000000;stroke-width:0.8;\" x=\"841.455936\" xlink:href=\"#m0d0e9044f8\" y=\"461.757187\"/>\n      </g>\n     </g>\n     <g id=\"text_53\">\n      <!-- 53 -->\n      <g transform=\"translate(833.820936 477.875312)scale(0.12 -0.12)\">\n       <use xlink:href=\"#DejaVuSans-53\"/>\n       <use x=\"63.623047\" xlink:href=\"#DejaVuSans-51\"/>\n      </g>\n     </g>\n    </g>\n    <g id=\"xtick_54\">\n     <g id=\"line2d_107\">\n      <path clip-path=\"url(#p8d25890bdf)\" d=\"M 855.353818 461.757187 \nL 855.353818 26.877187 \n\" style=\"fill:none;stroke:#b0b0b0;stroke-linecap:square;stroke-width:0.8;\"/>\n     </g>\n     <g id=\"line2d_108\">\n      <g>\n       <use style=\"stroke:#000000;stroke-width:0.8;\" x=\"855.353818\" xlink:href=\"#m0d0e9044f8\" y=\"461.757187\"/>\n      </g>\n     </g>\n     <g id=\"text_54\">\n      <!-- 54 -->\n      <g transform=\"translate(847.718818 477.875312)scale(0.12 -0.12)\">\n       <use xlink:href=\"#DejaVuSans-53\"/>\n       <use x=\"63.623047\" xlink:href=\"#DejaVuSans-52\"/>\n      </g>\n     </g>\n    </g>\n    <g id=\"xtick_55\">\n     <g id=\"line2d_109\">\n      <path clip-path=\"url(#p8d25890bdf)\" d=\"M 869.251701 461.757187 \nL 869.251701 26.877187 \n\" style=\"fill:none;stroke:#b0b0b0;stroke-linecap:square;stroke-width:0.8;\"/>\n     </g>\n     <g id=\"line2d_110\">\n      <g>\n       <use style=\"stroke:#000000;stroke-width:0.8;\" x=\"869.251701\" xlink:href=\"#m0d0e9044f8\" y=\"461.757187\"/>\n      </g>\n     </g>\n     <g id=\"text_55\">\n      <!-- 55 -->\n      <g transform=\"translate(861.616701 477.875312)scale(0.12 -0.12)\">\n       <use xlink:href=\"#DejaVuSans-53\"/>\n       <use x=\"63.623047\" xlink:href=\"#DejaVuSans-53\"/>\n      </g>\n     </g>\n    </g>\n    <g id=\"xtick_56\">\n     <g id=\"line2d_111\">\n      <path clip-path=\"url(#p8d25890bdf)\" d=\"M 883.149584 461.757187 \nL 883.149584 26.877187 \n\" style=\"fill:none;stroke:#b0b0b0;stroke-linecap:square;stroke-width:0.8;\"/>\n     </g>\n     <g id=\"line2d_112\">\n      <g>\n       <use style=\"stroke:#000000;stroke-width:0.8;\" x=\"883.149584\" xlink:href=\"#m0d0e9044f8\" y=\"461.757187\"/>\n      </g>\n     </g>\n     <g id=\"text_56\">\n      <!-- 56 -->\n      <g transform=\"translate(875.514584 477.875312)scale(0.12 -0.12)\">\n       <use xlink:href=\"#DejaVuSans-53\"/>\n       <use x=\"63.623047\" xlink:href=\"#DejaVuSans-54\"/>\n      </g>\n     </g>\n    </g>\n    <g id=\"xtick_57\">\n     <g id=\"line2d_113\">\n      <path clip-path=\"url(#p8d25890bdf)\" d=\"M 897.047467 461.757187 \nL 897.047467 26.877187 \n\" style=\"fill:none;stroke:#b0b0b0;stroke-linecap:square;stroke-width:0.8;\"/>\n     </g>\n     <g id=\"line2d_114\">\n      <g>\n       <use style=\"stroke:#000000;stroke-width:0.8;\" x=\"897.047467\" xlink:href=\"#m0d0e9044f8\" y=\"461.757187\"/>\n      </g>\n     </g>\n     <g id=\"text_57\">\n      <!-- 57 -->\n      <g transform=\"translate(889.412467 477.875312)scale(0.12 -0.12)\">\n       <use xlink:href=\"#DejaVuSans-53\"/>\n       <use x=\"63.623047\" xlink:href=\"#DejaVuSans-55\"/>\n      </g>\n     </g>\n    </g>\n    <g id=\"xtick_58\">\n     <g id=\"line2d_115\">\n      <path clip-path=\"url(#p8d25890bdf)\" d=\"M 910.94535 461.757187 \nL 910.94535 26.877187 \n\" style=\"fill:none;stroke:#b0b0b0;stroke-linecap:square;stroke-width:0.8;\"/>\n     </g>\n     <g id=\"line2d_116\">\n      <g>\n       <use style=\"stroke:#000000;stroke-width:0.8;\" x=\"910.94535\" xlink:href=\"#m0d0e9044f8\" y=\"461.757187\"/>\n      </g>\n     </g>\n     <g id=\"text_58\">\n      <!-- 58 -->\n      <g transform=\"translate(903.31035 477.875312)scale(0.12 -0.12)\">\n       <use xlink:href=\"#DejaVuSans-53\"/>\n       <use x=\"63.623047\" xlink:href=\"#DejaVuSans-56\"/>\n      </g>\n     </g>\n    </g>\n    <g id=\"xtick_59\">\n     <g id=\"line2d_117\">\n      <path clip-path=\"url(#p8d25890bdf)\" d=\"M 924.843233 461.757187 \nL 924.843233 26.877187 \n\" style=\"fill:none;stroke:#b0b0b0;stroke-linecap:square;stroke-width:0.8;\"/>\n     </g>\n     <g id=\"line2d_118\">\n      <g>\n       <use style=\"stroke:#000000;stroke-width:0.8;\" x=\"924.843233\" xlink:href=\"#m0d0e9044f8\" y=\"461.757187\"/>\n      </g>\n     </g>\n     <g id=\"text_59\">\n      <!-- 59 -->\n      <g transform=\"translate(917.208233 477.875312)scale(0.12 -0.12)\">\n       <use xlink:href=\"#DejaVuSans-53\"/>\n       <use x=\"63.623047\" xlink:href=\"#DejaVuSans-57\"/>\n      </g>\n     </g>\n    </g>\n    <g id=\"xtick_60\">\n     <g id=\"line2d_119\">\n      <path clip-path=\"url(#p8d25890bdf)\" d=\"M 938.741116 461.757187 \nL 938.741116 26.877187 \n\" style=\"fill:none;stroke:#b0b0b0;stroke-linecap:square;stroke-width:0.8;\"/>\n     </g>\n     <g id=\"line2d_120\">\n      <g>\n       <use style=\"stroke:#000000;stroke-width:0.8;\" x=\"938.741116\" xlink:href=\"#m0d0e9044f8\" y=\"461.757187\"/>\n      </g>\n     </g>\n     <g id=\"text_60\">\n      <!-- 60 -->\n      <g transform=\"translate(931.106116 477.875312)scale(0.12 -0.12)\">\n       <use xlink:href=\"#DejaVuSans-54\"/>\n       <use x=\"63.623047\" xlink:href=\"#DejaVuSans-48\"/>\n      </g>\n     </g>\n    </g>\n    <g id=\"xtick_61\">\n     <g id=\"line2d_121\">\n      <path clip-path=\"url(#p8d25890bdf)\" d=\"M 952.638999 461.757187 \nL 952.638999 26.877187 \n\" style=\"fill:none;stroke:#b0b0b0;stroke-linecap:square;stroke-width:0.8;\"/>\n     </g>\n     <g id=\"line2d_122\">\n      <g>\n       <use style=\"stroke:#000000;stroke-width:0.8;\" x=\"952.638999\" xlink:href=\"#m0d0e9044f8\" y=\"461.757187\"/>\n      </g>\n     </g>\n     <g id=\"text_61\">\n      <!-- 61 -->\n      <g transform=\"translate(945.003999 477.875312)scale(0.12 -0.12)\">\n       <use xlink:href=\"#DejaVuSans-54\"/>\n       <use x=\"63.623047\" xlink:href=\"#DejaVuSans-49\"/>\n      </g>\n     </g>\n    </g>\n    <g id=\"xtick_62\">\n     <g id=\"line2d_123\">\n      <path clip-path=\"url(#p8d25890bdf)\" d=\"M 966.536882 461.757187 \nL 966.536882 26.877187 \n\" style=\"fill:none;stroke:#b0b0b0;stroke-linecap:square;stroke-width:0.8;\"/>\n     </g>\n     <g id=\"line2d_124\">\n      <g>\n       <use style=\"stroke:#000000;stroke-width:0.8;\" x=\"966.536882\" xlink:href=\"#m0d0e9044f8\" y=\"461.757187\"/>\n      </g>\n     </g>\n     <g id=\"text_62\">\n      <!-- 62 -->\n      <g transform=\"translate(958.901882 477.875312)scale(0.12 -0.12)\">\n       <use xlink:href=\"#DejaVuSans-54\"/>\n       <use x=\"63.623047\" xlink:href=\"#DejaVuSans-50\"/>\n      </g>\n     </g>\n    </g>\n    <g id=\"xtick_63\">\n     <g id=\"line2d_125\">\n      <path clip-path=\"url(#p8d25890bdf)\" d=\"M 980.434765 461.757187 \nL 980.434765 26.877187 \n\" style=\"fill:none;stroke:#b0b0b0;stroke-linecap:square;stroke-width:0.8;\"/>\n     </g>\n     <g id=\"line2d_126\">\n      <g>\n       <use style=\"stroke:#000000;stroke-width:0.8;\" x=\"980.434765\" xlink:href=\"#m0d0e9044f8\" y=\"461.757187\"/>\n      </g>\n     </g>\n     <g id=\"text_63\">\n      <!-- 63 -->\n      <g transform=\"translate(972.799765 477.875312)scale(0.12 -0.12)\">\n       <use xlink:href=\"#DejaVuSans-54\"/>\n       <use x=\"63.623047\" xlink:href=\"#DejaVuSans-51\"/>\n      </g>\n     </g>\n    </g>\n    <g id=\"xtick_64\">\n     <g id=\"line2d_127\">\n      <path clip-path=\"url(#p8d25890bdf)\" d=\"M 994.332648 461.757187 \nL 994.332648 26.877187 \n\" style=\"fill:none;stroke:#b0b0b0;stroke-linecap:square;stroke-width:0.8;\"/>\n     </g>\n     <g id=\"line2d_128\">\n      <g>\n       <use style=\"stroke:#000000;stroke-width:0.8;\" x=\"994.332648\" xlink:href=\"#m0d0e9044f8\" y=\"461.757187\"/>\n      </g>\n     </g>\n     <g id=\"text_64\">\n      <!-- 64 -->\n      <g transform=\"translate(986.697648 477.875312)scale(0.12 -0.12)\">\n       <use xlink:href=\"#DejaVuSans-54\"/>\n       <use x=\"63.623047\" xlink:href=\"#DejaVuSans-52\"/>\n      </g>\n     </g>\n    </g>\n    <g id=\"xtick_65\">\n     <g id=\"line2d_129\">\n      <path clip-path=\"url(#p8d25890bdf)\" d=\"M 1008.230531 461.757187 \nL 1008.230531 26.877187 \n\" style=\"fill:none;stroke:#b0b0b0;stroke-linecap:square;stroke-width:0.8;\"/>\n     </g>\n     <g id=\"line2d_130\">\n      <g>\n       <use style=\"stroke:#000000;stroke-width:0.8;\" x=\"1008.230531\" xlink:href=\"#m0d0e9044f8\" y=\"461.757187\"/>\n      </g>\n     </g>\n     <g id=\"text_65\">\n      <!-- 65 -->\n      <g transform=\"translate(1000.595531 477.875312)scale(0.12 -0.12)\">\n       <use xlink:href=\"#DejaVuSans-54\"/>\n       <use x=\"63.623047\" xlink:href=\"#DejaVuSans-53\"/>\n      </g>\n     </g>\n    </g>\n    <g id=\"xtick_66\">\n     <g id=\"line2d_131\">\n      <path clip-path=\"url(#p8d25890bdf)\" d=\"M 1022.128414 461.757187 \nL 1022.128414 26.877187 \n\" style=\"fill:none;stroke:#b0b0b0;stroke-linecap:square;stroke-width:0.8;\"/>\n     </g>\n     <g id=\"line2d_132\">\n      <g>\n       <use style=\"stroke:#000000;stroke-width:0.8;\" x=\"1022.128414\" xlink:href=\"#m0d0e9044f8\" y=\"461.757187\"/>\n      </g>\n     </g>\n     <g id=\"text_66\">\n      <!-- 66 -->\n      <g transform=\"translate(1014.493414 477.875312)scale(0.12 -0.12)\">\n       <use xlink:href=\"#DejaVuSans-54\"/>\n       <use x=\"63.623047\" xlink:href=\"#DejaVuSans-54\"/>\n      </g>\n     </g>\n    </g>\n    <g id=\"xtick_67\">\n     <g id=\"line2d_133\">\n      <path clip-path=\"url(#p8d25890bdf)\" d=\"M 1036.026297 461.757187 \nL 1036.026297 26.877187 \n\" style=\"fill:none;stroke:#b0b0b0;stroke-linecap:square;stroke-width:0.8;\"/>\n     </g>\n     <g id=\"line2d_134\">\n      <g>\n       <use style=\"stroke:#000000;stroke-width:0.8;\" x=\"1036.026297\" xlink:href=\"#m0d0e9044f8\" y=\"461.757187\"/>\n      </g>\n     </g>\n     <g id=\"text_67\">\n      <!-- 67 -->\n      <g transform=\"translate(1028.391297 477.875312)scale(0.12 -0.12)\">\n       <use xlink:href=\"#DejaVuSans-54\"/>\n       <use x=\"63.623047\" xlink:href=\"#DejaVuSans-55\"/>\n      </g>\n     </g>\n    </g>\n    <g id=\"xtick_68\">\n     <g id=\"line2d_135\">\n      <path clip-path=\"url(#p8d25890bdf)\" d=\"M 1049.92418 461.757187 \nL 1049.92418 26.877187 \n\" style=\"fill:none;stroke:#b0b0b0;stroke-linecap:square;stroke-width:0.8;\"/>\n     </g>\n     <g id=\"line2d_136\">\n      <g>\n       <use style=\"stroke:#000000;stroke-width:0.8;\" x=\"1049.92418\" xlink:href=\"#m0d0e9044f8\" y=\"461.757187\"/>\n      </g>\n     </g>\n     <g id=\"text_68\">\n      <!-- 68 -->\n      <g transform=\"translate(1042.28918 477.875312)scale(0.12 -0.12)\">\n       <use xlink:href=\"#DejaVuSans-54\"/>\n       <use x=\"63.623047\" xlink:href=\"#DejaVuSans-56\"/>\n      </g>\n     </g>\n    </g>\n    <g id=\"xtick_69\">\n     <g id=\"line2d_137\">\n      <path clip-path=\"url(#p8d25890bdf)\" d=\"M 1063.822063 461.757187 \nL 1063.822063 26.877187 \n\" style=\"fill:none;stroke:#b0b0b0;stroke-linecap:square;stroke-width:0.8;\"/>\n     </g>\n     <g id=\"line2d_138\">\n      <g>\n       <use style=\"stroke:#000000;stroke-width:0.8;\" x=\"1063.822063\" xlink:href=\"#m0d0e9044f8\" y=\"461.757187\"/>\n      </g>\n     </g>\n     <g id=\"text_69\">\n      <!-- 69 -->\n      <g transform=\"translate(1056.187063 477.875312)scale(0.12 -0.12)\">\n       <use xlink:href=\"#DejaVuSans-54\"/>\n       <use x=\"63.623047\" xlink:href=\"#DejaVuSans-57\"/>\n      </g>\n     </g>\n    </g>\n    <g id=\"xtick_70\">\n     <g id=\"line2d_139\">\n      <path clip-path=\"url(#p8d25890bdf)\" d=\"M 1077.719946 461.757187 \nL 1077.719946 26.877187 \n\" style=\"fill:none;stroke:#b0b0b0;stroke-linecap:square;stroke-width:0.8;\"/>\n     </g>\n     <g id=\"line2d_140\">\n      <g>\n       <use style=\"stroke:#000000;stroke-width:0.8;\" x=\"1077.719946\" xlink:href=\"#m0d0e9044f8\" y=\"461.757187\"/>\n      </g>\n     </g>\n     <g id=\"text_70\">\n      <!-- 70 -->\n      <g transform=\"translate(1070.084946 477.875312)scale(0.12 -0.12)\">\n       <use xlink:href=\"#DejaVuSans-55\"/>\n       <use x=\"63.623047\" xlink:href=\"#DejaVuSans-48\"/>\n      </g>\n     </g>\n    </g>\n    <g id=\"xtick_71\">\n     <g id=\"line2d_141\">\n      <path clip-path=\"url(#p8d25890bdf)\" d=\"M 1091.617828 461.757187 \nL 1091.617828 26.877187 \n\" style=\"fill:none;stroke:#b0b0b0;stroke-linecap:square;stroke-width:0.8;\"/>\n     </g>\n     <g id=\"line2d_142\">\n      <g>\n       <use style=\"stroke:#000000;stroke-width:0.8;\" x=\"1091.617828\" xlink:href=\"#m0d0e9044f8\" y=\"461.757187\"/>\n      </g>\n     </g>\n     <g id=\"text_71\">\n      <!-- 71 -->\n      <g transform=\"translate(1083.982828 477.875312)scale(0.12 -0.12)\">\n       <use xlink:href=\"#DejaVuSans-55\"/>\n       <use x=\"63.623047\" xlink:href=\"#DejaVuSans-49\"/>\n      </g>\n     </g>\n    </g>\n    <g id=\"xtick_72\">\n     <g id=\"line2d_143\">\n      <path clip-path=\"url(#p8d25890bdf)\" d=\"M 1105.515711 461.757187 \nL 1105.515711 26.877187 \n\" style=\"fill:none;stroke:#b0b0b0;stroke-linecap:square;stroke-width:0.8;\"/>\n     </g>\n     <g id=\"line2d_144\">\n      <g>\n       <use style=\"stroke:#000000;stroke-width:0.8;\" x=\"1105.515711\" xlink:href=\"#m0d0e9044f8\" y=\"461.757187\"/>\n      </g>\n     </g>\n     <g id=\"text_72\">\n      <!-- 72 -->\n      <g transform=\"translate(1097.880711 477.875312)scale(0.12 -0.12)\">\n       <use xlink:href=\"#DejaVuSans-55\"/>\n       <use x=\"63.623047\" xlink:href=\"#DejaVuSans-50\"/>\n      </g>\n     </g>\n    </g>\n    <g id=\"xtick_73\">\n     <g id=\"line2d_145\">\n      <path clip-path=\"url(#p8d25890bdf)\" d=\"M 1119.413594 461.757187 \nL 1119.413594 26.877187 \n\" style=\"fill:none;stroke:#b0b0b0;stroke-linecap:square;stroke-width:0.8;\"/>\n     </g>\n     <g id=\"line2d_146\">\n      <g>\n       <use style=\"stroke:#000000;stroke-width:0.8;\" x=\"1119.413594\" xlink:href=\"#m0d0e9044f8\" y=\"461.757187\"/>\n      </g>\n     </g>\n     <g id=\"text_73\">\n      <!-- 73 -->\n      <g transform=\"translate(1111.778594 477.875312)scale(0.12 -0.12)\">\n       <use xlink:href=\"#DejaVuSans-55\"/>\n       <use x=\"63.623047\" xlink:href=\"#DejaVuSans-51\"/>\n      </g>\n     </g>\n    </g>\n    <g id=\"xtick_74\">\n     <g id=\"line2d_147\">\n      <path clip-path=\"url(#p8d25890bdf)\" d=\"M 1133.311477 461.757187 \nL 1133.311477 26.877187 \n\" style=\"fill:none;stroke:#b0b0b0;stroke-linecap:square;stroke-width:0.8;\"/>\n     </g>\n     <g id=\"line2d_148\">\n      <g>\n       <use style=\"stroke:#000000;stroke-width:0.8;\" x=\"1133.311477\" xlink:href=\"#m0d0e9044f8\" y=\"461.757187\"/>\n      </g>\n     </g>\n     <g id=\"text_74\">\n      <!-- 74 -->\n      <g transform=\"translate(1125.676477 477.875312)scale(0.12 -0.12)\">\n       <use xlink:href=\"#DejaVuSans-55\"/>\n       <use x=\"63.623047\" xlink:href=\"#DejaVuSans-52\"/>\n      </g>\n     </g>\n    </g>\n    <g id=\"text_75\">\n     <!-- EPOCH -->\n     <g transform=\"translate(598.26 496.528437)scale(0.16 -0.16)\">\n      <defs>\n       <path d=\"M 9.8125 72.90625 \nL 55.90625 72.90625 \nL 55.90625 64.59375 \nL 19.671875 64.59375 \nL 19.671875 43.015625 \nL 54.390625 43.015625 \nL 54.390625 34.71875 \nL 19.671875 34.71875 \nL 19.671875 8.296875 \nL 56.78125 8.296875 \nL 56.78125 0 \nL 9.8125 0 \nz\n\" id=\"DejaVuSans-69\"/>\n       <path d=\"M 19.671875 64.796875 \nL 19.671875 37.40625 \nL 32.078125 37.40625 \nQ 38.96875 37.40625 42.71875 40.96875 \nQ 46.484375 44.53125 46.484375 51.125 \nQ 46.484375 57.671875 42.71875 61.234375 \nQ 38.96875 64.796875 32.078125 64.796875 \nz\nM 9.8125 72.90625 \nL 32.078125 72.90625 \nQ 44.34375 72.90625 50.609375 67.359375 \nQ 56.890625 61.8125 56.890625 51.125 \nQ 56.890625 40.328125 50.609375 34.8125 \nQ 44.34375 29.296875 32.078125 29.296875 \nL 19.671875 29.296875 \nL 19.671875 0 \nL 9.8125 0 \nz\n\" id=\"DejaVuSans-80\"/>\n       <path d=\"M 39.40625 66.21875 \nQ 28.65625 66.21875 22.328125 58.203125 \nQ 16.015625 50.203125 16.015625 36.375 \nQ 16.015625 22.609375 22.328125 14.59375 \nQ 28.65625 6.59375 39.40625 6.59375 \nQ 50.140625 6.59375 56.421875 14.59375 \nQ 62.703125 22.609375 62.703125 36.375 \nQ 62.703125 50.203125 56.421875 58.203125 \nQ 50.140625 66.21875 39.40625 66.21875 \nz\nM 39.40625 74.21875 \nQ 54.734375 74.21875 63.90625 63.9375 \nQ 73.09375 53.65625 73.09375 36.375 \nQ 73.09375 19.140625 63.90625 8.859375 \nQ 54.734375 -1.421875 39.40625 -1.421875 \nQ 24.03125 -1.421875 14.8125 8.828125 \nQ 5.609375 19.09375 5.609375 36.375 \nQ 5.609375 53.65625 14.8125 63.9375 \nQ 24.03125 74.21875 39.40625 74.21875 \nz\n\" id=\"DejaVuSans-79\"/>\n       <path d=\"M 64.40625 67.28125 \nL 64.40625 56.890625 \nQ 59.421875 61.53125 53.78125 63.8125 \nQ 48.140625 66.109375 41.796875 66.109375 \nQ 29.296875 66.109375 22.65625 58.46875 \nQ 16.015625 50.828125 16.015625 36.375 \nQ 16.015625 21.96875 22.65625 14.328125 \nQ 29.296875 6.6875 41.796875 6.6875 \nQ 48.140625 6.6875 53.78125 8.984375 \nQ 59.421875 11.28125 64.40625 15.921875 \nL 64.40625 5.609375 \nQ 59.234375 2.09375 53.4375 0.328125 \nQ 47.65625 -1.421875 41.21875 -1.421875 \nQ 24.65625 -1.421875 15.125 8.703125 \nQ 5.609375 18.84375 5.609375 36.375 \nQ 5.609375 53.953125 15.125 64.078125 \nQ 24.65625 74.21875 41.21875 74.21875 \nQ 47.75 74.21875 53.53125 72.484375 \nQ 59.328125 70.75 64.40625 67.28125 \nz\n\" id=\"DejaVuSans-67\"/>\n       <path d=\"M 9.8125 72.90625 \nL 19.671875 72.90625 \nL 19.671875 43.015625 \nL 55.515625 43.015625 \nL 55.515625 72.90625 \nL 65.375 72.90625 \nL 65.375 0 \nL 55.515625 0 \nL 55.515625 34.71875 \nL 19.671875 34.71875 \nL 19.671875 0 \nL 9.8125 0 \nz\n\" id=\"DejaVuSans-72\"/>\n      </defs>\n      <use xlink:href=\"#DejaVuSans-69\"/>\n      <use x=\"63.183594\" xlink:href=\"#DejaVuSans-80\"/>\n      <use x=\"123.486328\" xlink:href=\"#DejaVuSans-79\"/>\n      <use x=\"202.197266\" xlink:href=\"#DejaVuSans-67\"/>\n      <use x=\"272.021484\" xlink:href=\"#DejaVuSans-72\"/>\n     </g>\n    </g>\n   </g>\n   <g id=\"matplotlib.axis_2\">\n    <g id=\"ytick_1\">\n     <g id=\"line2d_149\">\n      <path clip-path=\"url(#p8d25890bdf)\" d=\"M 68.03875 411.031596 \nL 1184.03875 411.031596 \n\" style=\"fill:none;stroke:#b0b0b0;stroke-linecap:square;stroke-width:0.8;\"/>\n     </g>\n     <g id=\"line2d_150\">\n      <defs>\n       <path d=\"M 0 0 \nL -3.5 0 \n\" id=\"m5f08f20d1c\" style=\"stroke:#000000;stroke-width:0.8;\"/>\n      </defs>\n      <g>\n       <use style=\"stroke:#000000;stroke-width:0.8;\" x=\"68.03875\" xlink:href=\"#m5f08f20d1c\" y=\"411.031596\"/>\n      </g>\n     </g>\n     <g id=\"text_76\">\n      <!-- 0.740 -->\n      <g transform=\"translate(26.685 415.590659)scale(0.12 -0.12)\">\n       <defs>\n        <path d=\"M 10.6875 12.40625 \nL 21 12.40625 \nL 21 0 \nL 10.6875 0 \nz\n\" id=\"DejaVuSans-46\"/>\n       </defs>\n       <use xlink:href=\"#DejaVuSans-48\"/>\n       <use x=\"63.623047\" xlink:href=\"#DejaVuSans-46\"/>\n       <use x=\"95.410156\" xlink:href=\"#DejaVuSans-55\"/>\n       <use x=\"159.033203\" xlink:href=\"#DejaVuSans-52\"/>\n       <use x=\"222.65625\" xlink:href=\"#DejaVuSans-48\"/>\n      </g>\n     </g>\n    </g>\n    <g id=\"ytick_2\">\n     <g id=\"line2d_151\">\n      <path clip-path=\"url(#p8d25890bdf)\" d=\"M 68.03875 360.029181 \nL 1184.03875 360.029181 \n\" style=\"fill:none;stroke:#b0b0b0;stroke-linecap:square;stroke-width:0.8;\"/>\n     </g>\n     <g id=\"line2d_152\">\n      <g>\n       <use style=\"stroke:#000000;stroke-width:0.8;\" x=\"68.03875\" xlink:href=\"#m5f08f20d1c\" y=\"360.029181\"/>\n      </g>\n     </g>\n     <g id=\"text_77\">\n      <!-- 0.742 -->\n      <g transform=\"translate(26.685 364.588244)scale(0.12 -0.12)\">\n       <use xlink:href=\"#DejaVuSans-48\"/>\n       <use x=\"63.623047\" xlink:href=\"#DejaVuSans-46\"/>\n       <use x=\"95.410156\" xlink:href=\"#DejaVuSans-55\"/>\n       <use x=\"159.033203\" xlink:href=\"#DejaVuSans-52\"/>\n       <use x=\"222.65625\" xlink:href=\"#DejaVuSans-50\"/>\n      </g>\n     </g>\n    </g>\n    <g id=\"ytick_3\">\n     <g id=\"line2d_153\">\n      <path clip-path=\"url(#p8d25890bdf)\" d=\"M 68.03875 309.026767 \nL 1184.03875 309.026767 \n\" style=\"fill:none;stroke:#b0b0b0;stroke-linecap:square;stroke-width:0.8;\"/>\n     </g>\n     <g id=\"line2d_154\">\n      <g>\n       <use style=\"stroke:#000000;stroke-width:0.8;\" x=\"68.03875\" xlink:href=\"#m5f08f20d1c\" y=\"309.026767\"/>\n      </g>\n     </g>\n     <g id=\"text_78\">\n      <!-- 0.744 -->\n      <g transform=\"translate(26.685 313.585829)scale(0.12 -0.12)\">\n       <use xlink:href=\"#DejaVuSans-48\"/>\n       <use x=\"63.623047\" xlink:href=\"#DejaVuSans-46\"/>\n       <use x=\"95.410156\" xlink:href=\"#DejaVuSans-55\"/>\n       <use x=\"159.033203\" xlink:href=\"#DejaVuSans-52\"/>\n       <use x=\"222.65625\" xlink:href=\"#DejaVuSans-52\"/>\n      </g>\n     </g>\n    </g>\n    <g id=\"ytick_4\">\n     <g id=\"line2d_155\">\n      <path clip-path=\"url(#p8d25890bdf)\" d=\"M 68.03875 258.024352 \nL 1184.03875 258.024352 \n\" style=\"fill:none;stroke:#b0b0b0;stroke-linecap:square;stroke-width:0.8;\"/>\n     </g>\n     <g id=\"line2d_156\">\n      <g>\n       <use style=\"stroke:#000000;stroke-width:0.8;\" x=\"68.03875\" xlink:href=\"#m5f08f20d1c\" y=\"258.024352\"/>\n      </g>\n     </g>\n     <g id=\"text_79\">\n      <!-- 0.746 -->\n      <g transform=\"translate(26.685 262.583415)scale(0.12 -0.12)\">\n       <use xlink:href=\"#DejaVuSans-48\"/>\n       <use x=\"63.623047\" xlink:href=\"#DejaVuSans-46\"/>\n       <use x=\"95.410156\" xlink:href=\"#DejaVuSans-55\"/>\n       <use x=\"159.033203\" xlink:href=\"#DejaVuSans-52\"/>\n       <use x=\"222.65625\" xlink:href=\"#DejaVuSans-54\"/>\n      </g>\n     </g>\n    </g>\n    <g id=\"ytick_5\">\n     <g id=\"line2d_157\">\n      <path clip-path=\"url(#p8d25890bdf)\" d=\"M 68.03875 207.021937 \nL 1184.03875 207.021937 \n\" style=\"fill:none;stroke:#b0b0b0;stroke-linecap:square;stroke-width:0.8;\"/>\n     </g>\n     <g id=\"line2d_158\">\n      <g>\n       <use style=\"stroke:#000000;stroke-width:0.8;\" x=\"68.03875\" xlink:href=\"#m5f08f20d1c\" y=\"207.021937\"/>\n      </g>\n     </g>\n     <g id=\"text_80\">\n      <!-- 0.748 -->\n      <g transform=\"translate(26.685 211.581)scale(0.12 -0.12)\">\n       <use xlink:href=\"#DejaVuSans-48\"/>\n       <use x=\"63.623047\" xlink:href=\"#DejaVuSans-46\"/>\n       <use x=\"95.410156\" xlink:href=\"#DejaVuSans-55\"/>\n       <use x=\"159.033203\" xlink:href=\"#DejaVuSans-52\"/>\n       <use x=\"222.65625\" xlink:href=\"#DejaVuSans-56\"/>\n      </g>\n     </g>\n    </g>\n    <g id=\"ytick_6\">\n     <g id=\"line2d_159\">\n      <path clip-path=\"url(#p8d25890bdf)\" d=\"M 68.03875 156.019523 \nL 1184.03875 156.019523 \n\" style=\"fill:none;stroke:#b0b0b0;stroke-linecap:square;stroke-width:0.8;\"/>\n     </g>\n     <g id=\"line2d_160\">\n      <g>\n       <use style=\"stroke:#000000;stroke-width:0.8;\" x=\"68.03875\" xlink:href=\"#m5f08f20d1c\" y=\"156.019523\"/>\n      </g>\n     </g>\n     <g id=\"text_81\">\n      <!-- 0.750 -->\n      <g transform=\"translate(26.685 160.578585)scale(0.12 -0.12)\">\n       <use xlink:href=\"#DejaVuSans-48\"/>\n       <use x=\"63.623047\" xlink:href=\"#DejaVuSans-46\"/>\n       <use x=\"95.410156\" xlink:href=\"#DejaVuSans-55\"/>\n       <use x=\"159.033203\" xlink:href=\"#DejaVuSans-53\"/>\n       <use x=\"222.65625\" xlink:href=\"#DejaVuSans-48\"/>\n      </g>\n     </g>\n    </g>\n    <g id=\"ytick_7\">\n     <g id=\"line2d_161\">\n      <path clip-path=\"url(#p8d25890bdf)\" d=\"M 68.03875 105.017108 \nL 1184.03875 105.017108 \n\" style=\"fill:none;stroke:#b0b0b0;stroke-linecap:square;stroke-width:0.8;\"/>\n     </g>\n     <g id=\"line2d_162\">\n      <g>\n       <use style=\"stroke:#000000;stroke-width:0.8;\" x=\"68.03875\" xlink:href=\"#m5f08f20d1c\" y=\"105.017108\"/>\n      </g>\n     </g>\n     <g id=\"text_82\">\n      <!-- 0.752 -->\n      <g transform=\"translate(26.685 109.57617)scale(0.12 -0.12)\">\n       <use xlink:href=\"#DejaVuSans-48\"/>\n       <use x=\"63.623047\" xlink:href=\"#DejaVuSans-46\"/>\n       <use x=\"95.410156\" xlink:href=\"#DejaVuSans-55\"/>\n       <use x=\"159.033203\" xlink:href=\"#DejaVuSans-53\"/>\n       <use x=\"222.65625\" xlink:href=\"#DejaVuSans-50\"/>\n      </g>\n     </g>\n    </g>\n    <g id=\"ytick_8\">\n     <g id=\"line2d_163\">\n      <path clip-path=\"url(#p8d25890bdf)\" d=\"M 68.03875 54.014693 \nL 1184.03875 54.014693 \n\" style=\"fill:none;stroke:#b0b0b0;stroke-linecap:square;stroke-width:0.8;\"/>\n     </g>\n     <g id=\"line2d_164\">\n      <g>\n       <use style=\"stroke:#000000;stroke-width:0.8;\" x=\"68.03875\" xlink:href=\"#m5f08f20d1c\" y=\"54.014693\"/>\n      </g>\n     </g>\n     <g id=\"text_83\">\n      <!-- 0.754 -->\n      <g transform=\"translate(26.685 58.573756)scale(0.12 -0.12)\">\n       <use xlink:href=\"#DejaVuSans-48\"/>\n       <use x=\"63.623047\" xlink:href=\"#DejaVuSans-46\"/>\n       <use x=\"95.410156\" xlink:href=\"#DejaVuSans-55\"/>\n       <use x=\"159.033203\" xlink:href=\"#DejaVuSans-53\"/>\n       <use x=\"222.65625\" xlink:href=\"#DejaVuSans-52\"/>\n      </g>\n     </g>\n    </g>\n    <g id=\"text_84\">\n     <!-- AUC -->\n     <g transform=\"translate(19.3575 261.230937)rotate(-90)scale(0.16 -0.16)\">\n      <defs>\n       <path d=\"M 34.1875 63.1875 \nL 20.796875 26.90625 \nL 47.609375 26.90625 \nz\nM 28.609375 72.90625 \nL 39.796875 72.90625 \nL 67.578125 0 \nL 57.328125 0 \nL 50.6875 18.703125 \nL 17.828125 18.703125 \nL 11.1875 0 \nL 0.78125 0 \nz\n\" id=\"DejaVuSans-65\"/>\n       <path d=\"M 8.6875 72.90625 \nL 18.609375 72.90625 \nL 18.609375 28.609375 \nQ 18.609375 16.890625 22.84375 11.734375 \nQ 27.09375 6.59375 36.625 6.59375 \nQ 46.09375 6.59375 50.34375 11.734375 \nQ 54.59375 16.890625 54.59375 28.609375 \nL 54.59375 72.90625 \nL 64.5 72.90625 \nL 64.5 27.390625 \nQ 64.5 13.140625 57.4375 5.859375 \nQ 50.390625 -1.421875 36.625 -1.421875 \nQ 22.796875 -1.421875 15.734375 5.859375 \nQ 8.6875 13.140625 8.6875 27.390625 \nz\n\" id=\"DejaVuSans-85\"/>\n      </defs>\n      <use xlink:href=\"#DejaVuSans-65\"/>\n      <use x=\"68.408203\" xlink:href=\"#DejaVuSans-85\"/>\n      <use x=\"141.601562\" xlink:href=\"#DejaVuSans-67\"/>\n     </g>\n    </g>\n   </g>\n   <g id=\"line2d_165\">\n    <path clip-path=\"url(#p8d25890bdf)\" d=\"M 118.766023 441.989915 \nL 132.663906 403.568636 \nL 146.561789 415.057685 \nL 160.459672 390.857709 \nL 174.357554 389.211568 \nL 188.255437 328.270397 \nL 202.15332 298.809558 \nL 216.051203 290.986144 \nL 229.949086 271.911268 \nL 243.846969 289.407884 \nL 257.744852 295.958509 \nL 271.642735 313.862417 \nL 285.540618 311.910806 \nL 299.438501 297.044623 \nL 313.336384 271.588828 \nL 327.234267 257.622083 \nL 341.13215 245.67483 \nL 355.030033 243.366838 \nL 368.927916 236.222245 \nL 382.825799 226.175691 \nL 396.723682 232.302053 \nL 410.621564 225.938104 \nL 424.519447 224.020434 \nL 438.41733 219.574156 \nL 452.315213 211.37739 \nL 466.213096 208.220871 \nL 480.110979 199.956223 \nL 494.008862 203.112742 \nL 507.906745 195.323269 \nL 521.804628 191.029725 \nL 535.702511 175.145309 \nL 549.600394 174.415577 \nL 563.498277 157.071695 \nL 577.39616 148.111256 \nL 591.294043 147.076054 \nL 605.191926 140.21996 \nL 619.089809 131.598931 \nL 632.987691 124.861631 \nL 646.885574 122.893049 \nL 660.783457 112.778614 \nL 674.68134 104.904288 \nL 688.579223 104.089702 \nL 702.477106 107.687455 \nL 716.374989 105.888579 \nL 730.272872 108.943274 \nL 744.170755 104.361231 \nL 758.068638 97.131785 \nL 771.966521 78.37935 \nL 785.864404 84.285095 \nL 799.762287 77.327178 \nL 813.66017 79.533346 \nL 827.558053 79.058172 \nL 841.455936 84.760269 \nL 855.353818 84.319036 \nL 869.251701 85.167562 \nL 883.149584 81.400105 \nL 897.047467 70.538966 \nL 910.94535 65.193249 \nL 924.843233 67.874593 \nL 938.741116 70.386231 \nL 952.638999 63.479225 \nL 966.536882 67.212742 \nL 980.434765 53.500554 \nL 994.332648 46.64446 \nL 1008.230531 48.002103 \nL 1022.128414 46.848107 \nL 1036.026297 53.076291 \nL 1049.92418 54.230287 \nL 1063.822063 55.248519 \nL 1077.719946 55.757635 \nL 1091.617828 51.379238 \nL 1105.515711 47.730574 \nL 1119.413594 54.518786 \nL 1133.311477 59.168711 \n\" style=\"fill:none;stroke:#1f77b4;stroke-linecap:square;stroke-width:1.5;\"/>\n   </g>\n   <g id=\"patch_3\">\n    <path d=\"M 68.03875 461.757187 \nL 68.03875 26.877188 \n\" style=\"fill:none;stroke:#000000;stroke-linecap:square;stroke-linejoin:miter;stroke-width:0.8;\"/>\n   </g>\n   <g id=\"patch_4\">\n    <path d=\"M 1184.03875 461.757187 \nL 1184.03875 26.877188 \n\" style=\"fill:none;stroke:#000000;stroke-linecap:square;stroke-linejoin:miter;stroke-width:0.8;\"/>\n   </g>\n   <g id=\"patch_5\">\n    <path d=\"M 68.03875 461.757187 \nL 1184.03875 461.757187 \n\" style=\"fill:none;stroke:#000000;stroke-linecap:square;stroke-linejoin:miter;stroke-width:0.8;\"/>\n   </g>\n   <g id=\"patch_6\">\n    <path d=\"M 68.03875 26.877187 \nL 1184.03875 26.877187 \n\" style=\"fill:none;stroke:#000000;stroke-linecap:square;stroke-linejoin:miter;stroke-width:0.8;\"/>\n   </g>\n   <g id=\"text_85\">\n    <!-- AUC History of training -->\n    <g transform=\"translate(522.870625 20.877187)scale(0.18 -0.18)\">\n     <defs>\n      <path id=\"DejaVuSans-32\"/>\n      <path d=\"M 9.421875 54.6875 \nL 18.40625 54.6875 \nL 18.40625 0 \nL 9.421875 0 \nz\nM 9.421875 75.984375 \nL 18.40625 75.984375 \nL 18.40625 64.59375 \nL 9.421875 64.59375 \nz\n\" id=\"DejaVuSans-105\"/>\n      <path d=\"M 44.28125 53.078125 \nL 44.28125 44.578125 \nQ 40.484375 46.53125 36.375 47.5 \nQ 32.28125 48.484375 27.875 48.484375 \nQ 21.1875 48.484375 17.84375 46.4375 \nQ 14.5 44.390625 14.5 40.28125 \nQ 14.5 37.15625 16.890625 35.375 \nQ 19.28125 33.59375 26.515625 31.984375 \nL 29.59375 31.296875 \nQ 39.15625 29.25 43.1875 25.515625 \nQ 47.21875 21.78125 47.21875 15.09375 \nQ 47.21875 7.46875 41.1875 3.015625 \nQ 35.15625 -1.421875 24.609375 -1.421875 \nQ 20.21875 -1.421875 15.453125 -0.5625 \nQ 10.6875 0.296875 5.421875 2 \nL 5.421875 11.28125 \nQ 10.40625 8.6875 15.234375 7.390625 \nQ 20.0625 6.109375 24.8125 6.109375 \nQ 31.15625 6.109375 34.5625 8.28125 \nQ 37.984375 10.453125 37.984375 14.40625 \nQ 37.984375 18.0625 35.515625 20.015625 \nQ 33.0625 21.96875 24.703125 23.78125 \nL 21.578125 24.515625 \nQ 13.234375 26.265625 9.515625 29.90625 \nQ 5.8125 33.546875 5.8125 39.890625 \nQ 5.8125 47.609375 11.28125 51.796875 \nQ 16.75 56 26.8125 56 \nQ 31.78125 56 36.171875 55.265625 \nQ 40.578125 54.546875 44.28125 53.078125 \nz\n\" id=\"DejaVuSans-115\"/>\n      <path d=\"M 18.3125 70.21875 \nL 18.3125 54.6875 \nL 36.8125 54.6875 \nL 36.8125 47.703125 \nL 18.3125 47.703125 \nL 18.3125 18.015625 \nQ 18.3125 11.328125 20.140625 9.421875 \nQ 21.96875 7.515625 27.59375 7.515625 \nL 36.8125 7.515625 \nL 36.8125 0 \nL 27.59375 0 \nQ 17.1875 0 13.234375 3.875 \nQ 9.28125 7.765625 9.28125 18.015625 \nL 9.28125 47.703125 \nL 2.6875 47.703125 \nL 2.6875 54.6875 \nL 9.28125 54.6875 \nL 9.28125 70.21875 \nz\n\" id=\"DejaVuSans-116\"/>\n      <path d=\"M 30.609375 48.390625 \nQ 23.390625 48.390625 19.1875 42.75 \nQ 14.984375 37.109375 14.984375 27.296875 \nQ 14.984375 17.484375 19.15625 11.84375 \nQ 23.34375 6.203125 30.609375 6.203125 \nQ 37.796875 6.203125 41.984375 11.859375 \nQ 46.1875 17.53125 46.1875 27.296875 \nQ 46.1875 37.015625 41.984375 42.703125 \nQ 37.796875 48.390625 30.609375 48.390625 \nz\nM 30.609375 56 \nQ 42.328125 56 49.015625 48.375 \nQ 55.71875 40.765625 55.71875 27.296875 \nQ 55.71875 13.875 49.015625 6.21875 \nQ 42.328125 -1.421875 30.609375 -1.421875 \nQ 18.84375 -1.421875 12.171875 6.21875 \nQ 5.515625 13.875 5.515625 27.296875 \nQ 5.515625 40.765625 12.171875 48.375 \nQ 18.84375 56 30.609375 56 \nz\n\" id=\"DejaVuSans-111\"/>\n      <path d=\"M 41.109375 46.296875 \nQ 39.59375 47.171875 37.8125 47.578125 \nQ 36.03125 48 33.890625 48 \nQ 26.265625 48 22.1875 43.046875 \nQ 18.109375 38.09375 18.109375 28.8125 \nL 18.109375 0 \nL 9.078125 0 \nL 9.078125 54.6875 \nL 18.109375 54.6875 \nL 18.109375 46.1875 \nQ 20.953125 51.171875 25.484375 53.578125 \nQ 30.03125 56 36.53125 56 \nQ 37.453125 56 38.578125 55.875 \nQ 39.703125 55.765625 41.0625 55.515625 \nz\n\" id=\"DejaVuSans-114\"/>\n      <path d=\"M 32.171875 -5.078125 \nQ 28.375 -14.84375 24.75 -17.8125 \nQ 21.140625 -20.796875 15.09375 -20.796875 \nL 7.90625 -20.796875 \nL 7.90625 -13.28125 \nL 13.1875 -13.28125 \nQ 16.890625 -13.28125 18.9375 -11.515625 \nQ 21 -9.765625 23.484375 -3.21875 \nL 25.09375 0.875 \nL 2.984375 54.6875 \nL 12.5 54.6875 \nL 29.59375 11.921875 \nL 46.6875 54.6875 \nL 56.203125 54.6875 \nz\n\" id=\"DejaVuSans-121\"/>\n      <path d=\"M 37.109375 75.984375 \nL 37.109375 68.5 \nL 28.515625 68.5 \nQ 23.6875 68.5 21.796875 66.546875 \nQ 19.921875 64.59375 19.921875 59.515625 \nL 19.921875 54.6875 \nL 34.71875 54.6875 \nL 34.71875 47.703125 \nL 19.921875 47.703125 \nL 19.921875 0 \nL 10.890625 0 \nL 10.890625 47.703125 \nL 2.296875 47.703125 \nL 2.296875 54.6875 \nL 10.890625 54.6875 \nL 10.890625 58.5 \nQ 10.890625 67.625 15.140625 71.796875 \nQ 19.390625 75.984375 28.609375 75.984375 \nz\n\" id=\"DejaVuSans-102\"/>\n      <path d=\"M 34.28125 27.484375 \nQ 23.390625 27.484375 19.1875 25 \nQ 14.984375 22.515625 14.984375 16.5 \nQ 14.984375 11.71875 18.140625 8.90625 \nQ 21.296875 6.109375 26.703125 6.109375 \nQ 34.1875 6.109375 38.703125 11.40625 \nQ 43.21875 16.703125 43.21875 25.484375 \nL 43.21875 27.484375 \nz\nM 52.203125 31.203125 \nL 52.203125 0 \nL 43.21875 0 \nL 43.21875 8.296875 \nQ 40.140625 3.328125 35.546875 0.953125 \nQ 30.953125 -1.421875 24.3125 -1.421875 \nQ 15.921875 -1.421875 10.953125 3.296875 \nQ 6 8.015625 6 15.921875 \nQ 6 25.140625 12.171875 29.828125 \nQ 18.359375 34.515625 30.609375 34.515625 \nL 43.21875 34.515625 \nL 43.21875 35.40625 \nQ 43.21875 41.609375 39.140625 45 \nQ 35.0625 48.390625 27.6875 48.390625 \nQ 23 48.390625 18.546875 47.265625 \nQ 14.109375 46.140625 10.015625 43.890625 \nL 10.015625 52.203125 \nQ 14.9375 54.109375 19.578125 55.046875 \nQ 24.21875 56 28.609375 56 \nQ 40.484375 56 46.34375 49.84375 \nQ 52.203125 43.703125 52.203125 31.203125 \nz\n\" id=\"DejaVuSans-97\"/>\n      <path d=\"M 54.890625 33.015625 \nL 54.890625 0 \nL 45.90625 0 \nL 45.90625 32.71875 \nQ 45.90625 40.484375 42.875 44.328125 \nQ 39.84375 48.1875 33.796875 48.1875 \nQ 26.515625 48.1875 22.3125 43.546875 \nQ 18.109375 38.921875 18.109375 30.90625 \nL 18.109375 0 \nL 9.078125 0 \nL 9.078125 54.6875 \nL 18.109375 54.6875 \nL 18.109375 46.1875 \nQ 21.34375 51.125 25.703125 53.5625 \nQ 30.078125 56 35.796875 56 \nQ 45.21875 56 50.046875 50.171875 \nQ 54.890625 44.34375 54.890625 33.015625 \nz\n\" id=\"DejaVuSans-110\"/>\n      <path d=\"M 45.40625 27.984375 \nQ 45.40625 37.75 41.375 43.109375 \nQ 37.359375 48.484375 30.078125 48.484375 \nQ 22.859375 48.484375 18.828125 43.109375 \nQ 14.796875 37.75 14.796875 27.984375 \nQ 14.796875 18.265625 18.828125 12.890625 \nQ 22.859375 7.515625 30.078125 7.515625 \nQ 37.359375 7.515625 41.375 12.890625 \nQ 45.40625 18.265625 45.40625 27.984375 \nz\nM 54.390625 6.78125 \nQ 54.390625 -7.171875 48.1875 -13.984375 \nQ 42 -20.796875 29.203125 -20.796875 \nQ 24.46875 -20.796875 20.265625 -20.09375 \nQ 16.0625 -19.390625 12.109375 -17.921875 \nL 12.109375 -9.1875 \nQ 16.0625 -11.328125 19.921875 -12.34375 \nQ 23.78125 -13.375 27.78125 -13.375 \nQ 36.625 -13.375 41.015625 -8.765625 \nQ 45.40625 -4.15625 45.40625 5.171875 \nL 45.40625 9.625 \nQ 42.625 4.78125 38.28125 2.390625 \nQ 33.9375 0 27.875 0 \nQ 17.828125 0 11.671875 7.65625 \nQ 5.515625 15.328125 5.515625 27.984375 \nQ 5.515625 40.671875 11.671875 48.328125 \nQ 17.828125 56 27.875 56 \nQ 33.9375 56 38.28125 53.609375 \nQ 42.625 51.21875 45.40625 46.390625 \nL 45.40625 54.6875 \nL 54.390625 54.6875 \nz\n\" id=\"DejaVuSans-103\"/>\n     </defs>\n     <use xlink:href=\"#DejaVuSans-65\"/>\n     <use x=\"68.408203\" xlink:href=\"#DejaVuSans-85\"/>\n     <use x=\"141.601562\" xlink:href=\"#DejaVuSans-67\"/>\n     <use x=\"211.425781\" xlink:href=\"#DejaVuSans-32\"/>\n     <use x=\"243.212891\" xlink:href=\"#DejaVuSans-72\"/>\n     <use x=\"318.408203\" xlink:href=\"#DejaVuSans-105\"/>\n     <use x=\"346.191406\" xlink:href=\"#DejaVuSans-115\"/>\n     <use x=\"398.291016\" xlink:href=\"#DejaVuSans-116\"/>\n     <use x=\"437.5\" xlink:href=\"#DejaVuSans-111\"/>\n     <use x=\"498.681641\" xlink:href=\"#DejaVuSans-114\"/>\n     <use x=\"539.794922\" xlink:href=\"#DejaVuSans-121\"/>\n     <use x=\"598.974609\" xlink:href=\"#DejaVuSans-32\"/>\n     <use x=\"630.761719\" xlink:href=\"#DejaVuSans-111\"/>\n     <use x=\"691.943359\" xlink:href=\"#DejaVuSans-102\"/>\n     <use x=\"727.148438\" xlink:href=\"#DejaVuSans-32\"/>\n     <use x=\"758.935547\" xlink:href=\"#DejaVuSans-116\"/>\n     <use x=\"798.144531\" xlink:href=\"#DejaVuSans-114\"/>\n     <use x=\"839.257812\" xlink:href=\"#DejaVuSans-97\"/>\n     <use x=\"900.537109\" xlink:href=\"#DejaVuSans-105\"/>\n     <use x=\"928.320312\" xlink:href=\"#DejaVuSans-110\"/>\n     <use x=\"991.699219\" xlink:href=\"#DejaVuSans-105\"/>\n     <use x=\"1019.482422\" xlink:href=\"#DejaVuSans-110\"/>\n     <use x=\"1082.861328\" xlink:href=\"#DejaVuSans-103\"/>\n    </g>\n   </g>\n   <g id=\"legend_1\">\n    <g id=\"patch_7\">\n     <path d=\"M 77.83875 59.015937 \nL 172.078438 59.015937 \nQ 174.878438 59.015937 174.878438 56.215937 \nL 174.878438 36.677187 \nQ 174.878438 33.877187 172.078438 33.877187 \nL 77.83875 33.877187 \nQ 75.03875 33.877187 75.03875 36.677187 \nL 75.03875 56.215937 \nQ 75.03875 59.015937 77.83875 59.015937 \nz\n\" style=\"fill:#ffffff;opacity:0.8;stroke:#cccccc;stroke-linejoin:miter;\"/>\n    </g>\n    <g id=\"line2d_166\">\n     <path d=\"M 80.63875 45.215 \nL 108.63875 45.215 \n\" style=\"fill:none;stroke:#1f77b4;stroke-linecap:square;stroke-width:1.5;\"/>\n    </g>\n    <g id=\"line2d_167\"/>\n    <g id=\"text_86\">\n     <!-- valid_0 -->\n     <g transform=\"translate(119.83875 50.115)scale(0.14 -0.14)\">\n      <defs>\n       <path d=\"M 2.984375 54.6875 \nL 12.5 54.6875 \nL 29.59375 8.796875 \nL 46.6875 54.6875 \nL 56.203125 54.6875 \nL 35.6875 0 \nL 23.484375 0 \nz\n\" id=\"DejaVuSans-118\"/>\n       <path d=\"M 9.421875 75.984375 \nL 18.40625 75.984375 \nL 18.40625 0 \nL 9.421875 0 \nz\n\" id=\"DejaVuSans-108\"/>\n       <path d=\"M 45.40625 46.390625 \nL 45.40625 75.984375 \nL 54.390625 75.984375 \nL 54.390625 0 \nL 45.40625 0 \nL 45.40625 8.203125 \nQ 42.578125 3.328125 38.25 0.953125 \nQ 33.9375 -1.421875 27.875 -1.421875 \nQ 17.96875 -1.421875 11.734375 6.484375 \nQ 5.515625 14.40625 5.515625 27.296875 \nQ 5.515625 40.1875 11.734375 48.09375 \nQ 17.96875 56 27.875 56 \nQ 33.9375 56 38.25 53.625 \nQ 42.578125 51.265625 45.40625 46.390625 \nz\nM 14.796875 27.296875 \nQ 14.796875 17.390625 18.875 11.75 \nQ 22.953125 6.109375 30.078125 6.109375 \nQ 37.203125 6.109375 41.296875 11.75 \nQ 45.40625 17.390625 45.40625 27.296875 \nQ 45.40625 37.203125 41.296875 42.84375 \nQ 37.203125 48.484375 30.078125 48.484375 \nQ 22.953125 48.484375 18.875 42.84375 \nQ 14.796875 37.203125 14.796875 27.296875 \nz\n\" id=\"DejaVuSans-100\"/>\n       <path d=\"M 50.984375 -16.609375 \nL 50.984375 -23.578125 \nL -0.984375 -23.578125 \nL -0.984375 -16.609375 \nz\n\" id=\"DejaVuSans-95\"/>\n      </defs>\n      <use xlink:href=\"#DejaVuSans-118\"/>\n      <use x=\"59.179688\" xlink:href=\"#DejaVuSans-97\"/>\n      <use x=\"120.458984\" xlink:href=\"#DejaVuSans-108\"/>\n      <use x=\"148.242188\" xlink:href=\"#DejaVuSans-105\"/>\n      <use x=\"176.025391\" xlink:href=\"#DejaVuSans-100\"/>\n      <use x=\"239.501953\" xlink:href=\"#DejaVuSans-95\"/>\n      <use x=\"289.501953\" xlink:href=\"#DejaVuSans-48\"/>\n     </g>\n    </g>\n   </g>\n  </g>\n </g>\n <defs>\n  <clipPath id=\"p8d25890bdf\">\n   <rect height=\"434.88\" width=\"1116\" x=\"68.03875\" y=\"26.877187\"/>\n  </clipPath>\n </defs>\n</svg>\n",
      "image/png": "[encoded data removed]"
     },
     "metadata": {
      "needs_background": "light"
     }
    }
   ],
   "source": [
    "def plot_history(evals_result):\n",
    "    for metric in ['auc']:\n",
    "        plt.figure(figsize=(20,8))\n",
    "        \n",
    "        for key in evals_result.keys():\n",
    "            history_len = len(evals_result.get(key)[metric])\n",
    "            history = evals_result.get(key)[metric]\n",
    "            x_axis = np.arange(1, history_len + 1)\n",
    "            plt.plot(x_axis, history, label=key)\n",
    "        \n",
    "        x_ticks = list(filter(lambda e: (e % (history_len // 100 * 10) == 0) or e == 1, x_axis))\n",
    "        plt.xticks(x_ticks, fontsize=12)\n",
    "        plt.yticks(fontsize=12)\n",
    "\n",
    "        plt.title(f'{metric.upper()} History of training', fontsize=18);\n",
    "        plt.xlabel('EPOCH', fontsize=16)\n",
    "        plt.ylabel(metric.upper(), fontsize=16)\n",
    "        \n",
    "        if metric in ['auc']:\n",
    "            plt.legend(loc='upper left', fontsize=14)\n",
    "        else:\n",
    "            plt.legend(loc='upper right', fontsize=14)\n",
    "        plt.grid()\n",
    "        plt.show()\n",
    "\n",
    "plot_history(evals_result)"
   ]
  },
  {
   "cell_type": "code",
   "execution_count": 49,
   "metadata": {},
   "outputs": [
    {
     "output_type": "error",
     "ename": "NameError",
     "evalue": "name 'sns' is not defined",
     "traceback": [
      "\u001b[0;31m---------------------------------------------------------------------------\u001b[0m",
      "\u001b[0;31mNameError\u001b[0m                                 Traceback (most recent call last)",
      "\u001b[0;32m<ipython-input-49-9ddecd506419>\u001b[0m in \u001b[0;36m<module>\u001b[0;34m\u001b[0m\n\u001b[1;32m     15\u001b[0m         \u001b[0mplt\u001b[0m\u001b[0;34m.\u001b[0m\u001b[0mtext\u001b[0m\u001b[0;34m(\u001b[0m\u001b[0mv\u001b[0m\u001b[0;34m,\u001b[0m \u001b[0midx\u001b[0m\u001b[0;34m,\u001b[0m \u001b[0;34m\"  {:.2e}\"\u001b[0m\u001b[0;34m.\u001b[0m\u001b[0mformat\u001b[0m\u001b[0;34m(\u001b[0m\u001b[0mv\u001b[0m\u001b[0;34m)\u001b[0m\u001b[0;34m)\u001b[0m\u001b[0;34m\u001b[0m\u001b[0;34m\u001b[0m\u001b[0m\n\u001b[1;32m     16\u001b[0m \u001b[0;34m\u001b[0m\u001b[0m\n\u001b[0;32m---> 17\u001b[0;31m \u001b[0mshow_feature_importances\u001b[0m\u001b[0;34m(\u001b[0m\u001b[0mmodel\u001b[0m\u001b[0;34m,\u001b[0m \u001b[0;34m'gain'\u001b[0m\u001b[0;34m)\u001b[0m\u001b[0;34m\u001b[0m\u001b[0;34m\u001b[0m\u001b[0m\n\u001b[0m\u001b[1;32m     18\u001b[0m \u001b[0mshow_feature_importances\u001b[0m\u001b[0;34m(\u001b[0m\u001b[0mmodel\u001b[0m\u001b[0;34m,\u001b[0m \u001b[0;34m'split'\u001b[0m\u001b[0;34m)\u001b[0m\u001b[0;34m\u001b[0m\u001b[0;34m\u001b[0m\u001b[0m\n",
      "\u001b[0;32m<ipython-input-49-9ddecd506419>\u001b[0m in \u001b[0;36mshow_feature_importances\u001b[0;34m(model, importance_type, max_num_features)\u001b[0m\n\u001b[1;32m     11\u001b[0m     \u001b[0mplt\u001b[0m\u001b[0;34m.\u001b[0m\u001b[0mxlim\u001b[0m\u001b[0;34m(\u001b[0m\u001b[0;34m[\u001b[0m\u001b[0;36m0\u001b[0m\u001b[0;34m,\u001b[0m \u001b[0mfeature_importances\u001b[0m\u001b[0;34m.\u001b[0m\u001b[0mvalue\u001b[0m\u001b[0;34m.\u001b[0m\u001b[0mmax\u001b[0m\u001b[0;34m(\u001b[0m\u001b[0;34m)\u001b[0m\u001b[0;34m*\u001b[0m\u001b[0;36m1.1\u001b[0m\u001b[0;34m]\u001b[0m\u001b[0;34m)\u001b[0m\u001b[0;34m\u001b[0m\u001b[0;34m\u001b[0m\u001b[0m\n\u001b[1;32m     12\u001b[0m     \u001b[0mplt\u001b[0m\u001b[0;34m.\u001b[0m\u001b[0mtitle\u001b[0m\u001b[0;34m(\u001b[0m\u001b[0;34mf'Feature {importance_type}'\u001b[0m\u001b[0;34m,\u001b[0m \u001b[0mfontsize\u001b[0m\u001b[0;34m=\u001b[0m\u001b[0;36m18\u001b[0m\u001b[0;34m)\u001b[0m\u001b[0;34m;\u001b[0m\u001b[0;34m\u001b[0m\u001b[0;34m\u001b[0m\u001b[0m\n\u001b[0;32m---> 13\u001b[0;31m     \u001b[0msns\u001b[0m\u001b[0;34m.\u001b[0m\u001b[0mbarplot\u001b[0m\u001b[0;34m(\u001b[0m\u001b[0mdata\u001b[0m\u001b[0;34m=\u001b[0m\u001b[0mfeature_importances\u001b[0m\u001b[0;34m,\u001b[0m \u001b[0mx\u001b[0m\u001b[0;34m=\u001b[0m\u001b[0;34m'value'\u001b[0m\u001b[0;34m,\u001b[0m \u001b[0my\u001b[0m\u001b[0;34m=\u001b[0m\u001b[0;34m'feature'\u001b[0m\u001b[0;34m,\u001b[0m \u001b[0mpalette\u001b[0m\u001b[0;34m=\u001b[0m\u001b[0;34m'rocket'\u001b[0m\u001b[0;34m)\u001b[0m\u001b[0;34m;\u001b[0m\u001b[0;34m\u001b[0m\u001b[0;34m\u001b[0m\u001b[0m\n\u001b[0m\u001b[1;32m     14\u001b[0m     \u001b[0;32mfor\u001b[0m \u001b[0midx\u001b[0m\u001b[0;34m,\u001b[0m \u001b[0mv\u001b[0m \u001b[0;32min\u001b[0m \u001b[0menumerate\u001b[0m\u001b[0;34m(\u001b[0m\u001b[0mfeature_importances\u001b[0m\u001b[0;34m.\u001b[0m\u001b[0mvalue\u001b[0m\u001b[0;34m)\u001b[0m\u001b[0;34m:\u001b[0m\u001b[0;34m\u001b[0m\u001b[0;34m\u001b[0m\u001b[0m\n\u001b[1;32m     15\u001b[0m         \u001b[0mplt\u001b[0m\u001b[0;34m.\u001b[0m\u001b[0mtext\u001b[0m\u001b[0;34m(\u001b[0m\u001b[0mv\u001b[0m\u001b[0;34m,\u001b[0m \u001b[0midx\u001b[0m\u001b[0;34m,\u001b[0m \u001b[0;34m\"  {:.2e}\"\u001b[0m\u001b[0;34m.\u001b[0m\u001b[0mformat\u001b[0m\u001b[0;34m(\u001b[0m\u001b[0mv\u001b[0m\u001b[0;34m)\u001b[0m\u001b[0;34m)\u001b[0m\u001b[0;34m\u001b[0m\u001b[0;34m\u001b[0m\u001b[0m\n",
      "\u001b[0;31mNameError\u001b[0m: name 'sns' is not defined"
     ]
    }
   ],
   "source": [
    "# plot the feature importance in terms of gain and split\n",
    "def show_feature_importances(model, importance_type, max_num_features=10**10):\n",
    "    feature_importances = pd.DataFrame()\n",
    "    feature_importances['feature'] = features\n",
    "    feature_importances['value'] = pd.DataFrame(model.feature_importance(importance_type))\n",
    "    feature_importances = feature_importances.sort_values(by='value', ascending=False) # sort feature importance\n",
    "    feature_importances.to_csv(f'feature_importances_{importance_type}.csv') # write feature importance to csv\n",
    "    feature_importances = feature_importances[:max_num_features] # only show max_num_features\n",
    "    \n",
    "    plt.figure(figsize=(20, 8))\n",
    "    plt.xlim([0, feature_importances.value.max()*1.1])\n",
    "    plt.title(f'Feature {importance_type}', fontsize=18);\n",
    "    sns.barplot(data=feature_importances, x='value', y='feature', palette='rocket');\n",
    "    for idx, v in enumerate(feature_importances.value):\n",
    "        plt.text(v, idx, \"  {:.2e}\".format(v))\n",
    "\n",
    "show_feature_importances(model, 'gain')\n",
    "show_feature_importances(model, 'split')"
   ]
  },
  {
   "cell_type": "code",
   "execution_count": null,
   "metadata": {},
   "outputs": [],
   "source": [
    "# remove train and validation data to free memory before prediction phase\n",
    "del train_data\n",
    "gc.collect()"
   ]
  },
  {
   "cell_type": "code",
   "execution_count": null,
   "metadata": {},
   "outputs": [],
   "source": [
    "# updates the user data\n",
    "def update_user_data(state, features_questions_df, prev_test_df):\n",
    "    for user_id, content_id, answered_correctly in prev_test_df[['user_id', 'content_id', 'answered_correctly']].values:\n",
    "        # update user features\n",
    "        state[user_id]['answered_correctly_user'] += answered_correctly\n",
    "        state[user_id]['answered_user'] += 1\n",
    "        state[user_id]['mean_user_accuracy'] = state[user_id]['answered_correctly_user'] / state[user_id]['answered_user']"
   ]
  },
  {
   "cell_type": "code",
   "execution_count": null,
   "metadata": {},
   "outputs": [],
   "source": [
    "def get_user_data(state, test_df):\n",
    "    # updated data\n",
    "    attempt, mean_user_accuracy, answered_correctly_user, answered_user = [], [], [], []\n",
    "    \n",
    "    for idx, (user_id, content_id) in test_df[['user_id', 'content_id']].iterrows():\n",
    "        # check if user exists\n",
    "        if user_id in state:\n",
    "            # check if user already answered the question, if so update it to a maximum of 4\n",
    "            if content_id in state[user_id]['user_content_attempts']:\n",
    "                state[user_id]['user_content_attempts'][content_id] = min(4, state[user_id]['user_content_attempts'][content_id] + 1)\n",
    "            # if user did not answered the question already, set the number of attempts to 0\n",
    "            else:\n",
    "                state[user_id]['user_content_attempts'][content_id] = 0\n",
    "        \n",
    "        # else create user with default values\n",
    "        else:\n",
    "            dict_keys = ['mean_user_accuracy', 'answered_correctly_user', 'answered_user', 'user_content_attempts']\n",
    "            dict_default_vals = [0.680, 0, 0, dict(zip([content_id],[0]))]\n",
    "            state[user_id] = dict(zip(dict_keys, dict_default_vals))\n",
    "            \n",
    "        # add user data to lists\n",
    "        attempt.append(state[user_id]['user_content_attempts'][content_id])\n",
    "        mean_user_accuracy.append(state[user_id]['mean_user_accuracy'])\n",
    "        answered_correctly_user.append(state[user_id]['answered_correctly_user'])\n",
    "        answered_user.append(state[user_id]['answered_user'])\n",
    "    \n",
    "    return attempt, mean_user_accuracy, answered_correctly_user, answered_user"
   ]
  },
  {
   "cell_type": "code",
   "execution_count": null,
   "metadata": {},
   "outputs": [],
   "source": [
    "import riiideducation\n",
    "\n",
    "env = riiideducation.make_env()\n",
    "iter_test = env.iter_test()"
   ]
  },
  {
   "cell_type": "code",
   "execution_count": null,
   "metadata": {},
   "outputs": [],
   "source": [
    "prev_test_df = None\n",
    "mean_attempt_acc_factor = FEATURES['mean_attempt_acc_factor']\n",
    "\n",
    "for idx, (test_df, _) in tqdm(enumerate(iter_test)):\n",
    "    # from 2nd iteration, update user data\n",
    "    if prev_test_df is not None:\n",
    "        prev_test_df['answered_correctly'] = eval(test_df['prior_group_answers_correct'].iloc[0])\n",
    "        update_user_data(state, features_questions_df, prev_test_df.loc[prev_test_df['content_type_id'] == 0])\n",
    "    \n",
    "    # get user data from state and update attempt\n",
    "    attempt, mean_user_accuracy, answered_correctly_user, answered_user = get_user_data(state, test_df)\n",
    "\n",
    "    # set updated user data\n",
    "    test_df['attempt'] = attempt\n",
    "    test_df['mean_user_accuracy'] = mean_user_accuracy\n",
    "    test_df['answered_correctly_user'] = answered_correctly_user\n",
    "    test_df['answered_user'] = answered_user\n",
    "\n",
    "    # merge with all features\n",
    "    test_df = features_questions_df.merge(test_df, how='right', on='content_id')\n",
    "\n",
    "    # fill prior question had explenation\n",
    "    test_df['prior_question_elapsed_time'].fillna(23916, inplace=True)\n",
    "\n",
    "    # add harmonic mean\n",
    "    test_df['hmean_user_content_accuracy'] = 2 * (\n",
    "        (test_df['mean_user_accuracy'] * test_df['mean_content_accuracy']) /\n",
    "        (test_df['mean_user_accuracy'] + test_df['mean_content_accuracy'])\n",
    "    )\n",
    "\n",
    "    test_df['answered_correctly'] = model.predict(test_df[features])\n",
    "\n",
    "    env.predict(test_df.loc[test_df['content_type_id'] == 0, ['row_id', 'answered_correctly']])\n",
    "\n",
    "    # set previour test_df\n",
    "    prev_test_df = test_df.copy()"
   ]
  }
 ]
}