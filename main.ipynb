{
 "metadata": {
  "language_info": {
   "codemirror_mode": {
    "name": "ipython",
    "version": 3
   },
   "file_extension": ".py",
   "mimetype": "text/x-python",
   "name": "python",
   "nbconvert_exporter": "python",
   "pygments_lexer": "ipython3",
   "version": "3.8.5-final"
  },
  "orig_nbformat": 2,
  "kernelspec": {
   "name": "python3",
   "display_name": "Python 3.8.5 64-bit",
   "metadata": {
    "interpreter": {
     "hash": "4f505f879686e1f790cbcde16b7d0ad3222277933aef3abab0463f89f71cbbe9"
    }
   }
  }
 },
 "nbformat": 4,
 "nbformat_minor": 2,
 "cells": [
  {
   "source": [
    "#### Imports"
   ],
   "cell_type": "markdown",
   "metadata": {}
  },
  {
   "cell_type": "code",
   "execution_count": 1,
   "metadata": {},
   "outputs": [],
   "source": [
    "import pandas as pd\n",
    "import numpy as np\n",
    "pd.set_option('display.max_rows', 100)\n",
    "\n",
    "KAGGLE = 0"
   ]
  },
  {
   "source": [
    "#### Global Variables"
   ],
   "cell_type": "markdown",
   "metadata": {}
  },
  {
   "cell_type": "code",
   "execution_count": 2,
   "metadata": {},
   "outputs": [],
   "source": [
    "TRAIN_CSV_PATH = 'train.feather'\n",
    "QUESTIONS_CSV_PATH = 'questions.csv'\n",
    "LECTURES_CSV_PATH = 'lectures.csv'\n",
    "TEST_CSV_PATH = 'test.csv'\n",
    "SAMPLE_CSV_PATH = 'example_sample_submission.csv'\n",
    "\n",
    "if KAGGLE:\n",
    "    TRAIN_CSV_PATH = '/kaggle/input/riiid-test-answer-prediction/train.csv'\n",
    "    QUESTIONS_CSV_PATH = '/kaggle/input/riiid-test-answer-prediction/questions.csv'\n",
    "    LECTURES_CSV_PATH = '/kaggle/input/riiid-test-answer-prediction/lectures.csv'\n",
    "    TEST_CSV_PATH = '/kaggle/input/riiid-test-answer-prediction/test.csv'\n",
    "    SAMPLE_CSV_PATH = '/kaggle/input/riiid-test-answer-prediction/example_sample_submission.csv'\n",
    "\n",
    "COLUMN_TYPES = {\n",
    "    'row_id': 'int64',\n",
    "    'timestamp': 'int64',\n",
    "    'user_id': 'int32',\n",
    "    'content_id': 'int16',\n",
    "    'content_type_id': 'int8',\n",
    "    'task_container_id': 'int16',\n",
    "    'user_answer': 'int8',\n",
    "    'answered_correctly': 'int8',\n",
    "    'prior_question_elapsed_time': 'float32',\n",
    "    'prior_question_had_explanation': 'boolean'\n",
    "}\n"
   ]
  },
  {
   "cell_type": "code",
   "execution_count": 3,
   "metadata": {},
   "outputs": [],
   "source": [
    "# train_df = pd.read_csv(TRAIN_CSV_PATH, nrows=10**5, dtype=COLUMN_TYPES)\n",
    "train_df = pd.read_feather(TRAIN_CSV_PATH)\n",
    "train_df = train_df.iloc[:1000]\n",
    "questions_df = pd.read_csv(QUESTIONS_CSV_PATH)\n",
    "lectures_df = pd.read_csv(LECTURES_CSV_PATH)"
   ]
  },
  {
   "source": [
    "#### Check for user specific features"
   ],
   "cell_type": "markdown",
   "metadata": {}
  },
  {
   "cell_type": "code",
   "execution_count": 4,
   "metadata": {},
   "outputs": [
    {
     "output_type": "execute_result",
     "data": {
      "text/plain": [
       "     row_id    timestamp  user_id  content_id  content_type_id  \\\n",
       "0         0            0      115        5692                0   \n",
       "1         1        56943      115        5716                0   \n",
       "2         2       118363      115         128                0   \n",
       "3         3       131167      115        7860                0   \n",
       "4         4       137965      115        7922                0   \n",
       "..      ...          ...      ...         ...              ...   \n",
       "995     995  15092368574    13134        2334                0   \n",
       "996     996  15092368574    13134        2333                0   \n",
       "997     997  15092493419    13134        2182                0   \n",
       "998     998  15092493419    13134        2184                0   \n",
       "999     999  15092493419    13134        2183                0   \n",
       "\n",
       "     task_container_id  user_answer  answered_correctly  \\\n",
       "0                    1            3                   1   \n",
       "1                    2            2                   1   \n",
       "2                    0            0                   1   \n",
       "3                    3            0                   1   \n",
       "4                    4            1                   1   \n",
       "..                 ...          ...                 ...   \n",
       "995                297            3                   0   \n",
       "996                297            0                   0   \n",
       "997                298            3                   0   \n",
       "998                298            0                   1   \n",
       "999                298            1                   1   \n",
       "\n",
       "     prior_question_elapsed_time  prior_question_had_explanation  \n",
       "0                            NaN                            <NA>  \n",
       "1                        37000.0                           False  \n",
       "2                        55000.0                           False  \n",
       "3                        19000.0                           False  \n",
       "4                        11000.0                           False  \n",
       "..                           ...                             ...  \n",
       "995                      22333.0                            True  \n",
       "996                      22333.0                            True  \n",
       "997                      31666.0                            True  \n",
       "998                      31666.0                            True  \n",
       "999                      31666.0                            True  \n",
       "\n",
       "[1000 rows x 10 columns]"
      ],
      "text/html": "<div>\n<style scoped>\n    .dataframe tbody tr th:only-of-type {\n        vertical-align: middle;\n    }\n\n    .dataframe tbody tr th {\n        vertical-align: top;\n    }\n\n    .dataframe thead th {\n        text-align: right;\n    }\n</style>\n<table border=\"1\" class=\"dataframe\">\n  <thead>\n    <tr style=\"text-align: right;\">\n      <th></th>\n      <th>row_id</th>\n      <th>timestamp</th>\n      <th>user_id</th>\n      <th>content_id</th>\n      <th>content_type_id</th>\n      <th>task_container_id</th>\n      <th>user_answer</th>\n      <th>answered_correctly</th>\n      <th>prior_question_elapsed_time</th>\n      <th>prior_question_had_explanation</th>\n    </tr>\n  </thead>\n  <tbody>\n    <tr>\n      <th>0</th>\n      <td>0</td>\n      <td>0</td>\n      <td>115</td>\n      <td>5692</td>\n      <td>0</td>\n      <td>1</td>\n      <td>3</td>\n      <td>1</td>\n      <td>NaN</td>\n      <td>&lt;NA&gt;</td>\n    </tr>\n    <tr>\n      <th>1</th>\n      <td>1</td>\n      <td>56943</td>\n      <td>115</td>\n      <td>5716</td>\n      <td>0</td>\n      <td>2</td>\n      <td>2</td>\n      <td>1</td>\n      <td>37000.0</td>\n      <td>False</td>\n    </tr>\n    <tr>\n      <th>2</th>\n      <td>2</td>\n      <td>118363</td>\n      <td>115</td>\n      <td>128</td>\n      <td>0</td>\n      <td>0</td>\n      <td>0</td>\n      <td>1</td>\n      <td>55000.0</td>\n      <td>False</td>\n    </tr>\n    <tr>\n      <th>3</th>\n      <td>3</td>\n      <td>131167</td>\n      <td>115</td>\n      <td>7860</td>\n      <td>0</td>\n      <td>3</td>\n      <td>0</td>\n      <td>1</td>\n      <td>19000.0</td>\n      <td>False</td>\n    </tr>\n    <tr>\n      <th>4</th>\n      <td>4</td>\n      <td>137965</td>\n      <td>115</td>\n      <td>7922</td>\n      <td>0</td>\n      <td>4</td>\n      <td>1</td>\n      <td>1</td>\n      <td>11000.0</td>\n      <td>False</td>\n    </tr>\n    <tr>\n      <th>...</th>\n      <td>...</td>\n      <td>...</td>\n      <td>...</td>\n      <td>...</td>\n      <td>...</td>\n      <td>...</td>\n      <td>...</td>\n      <td>...</td>\n      <td>...</td>\n      <td>...</td>\n    </tr>\n    <tr>\n      <th>995</th>\n      <td>995</td>\n      <td>15092368574</td>\n      <td>13134</td>\n      <td>2334</td>\n      <td>0</td>\n      <td>297</td>\n      <td>3</td>\n      <td>0</td>\n      <td>22333.0</td>\n      <td>True</td>\n    </tr>\n    <tr>\n      <th>996</th>\n      <td>996</td>\n      <td>15092368574</td>\n      <td>13134</td>\n      <td>2333</td>\n      <td>0</td>\n      <td>297</td>\n      <td>0</td>\n      <td>0</td>\n      <td>22333.0</td>\n      <td>True</td>\n    </tr>\n    <tr>\n      <th>997</th>\n      <td>997</td>\n      <td>15092493419</td>\n      <td>13134</td>\n      <td>2182</td>\n      <td>0</td>\n      <td>298</td>\n      <td>3</td>\n      <td>0</td>\n      <td>31666.0</td>\n      <td>True</td>\n    </tr>\n    <tr>\n      <th>998</th>\n      <td>998</td>\n      <td>15092493419</td>\n      <td>13134</td>\n      <td>2184</td>\n      <td>0</td>\n      <td>298</td>\n      <td>0</td>\n      <td>1</td>\n      <td>31666.0</td>\n      <td>True</td>\n    </tr>\n    <tr>\n      <th>999</th>\n      <td>999</td>\n      <td>15092493419</td>\n      <td>13134</td>\n      <td>2183</td>\n      <td>0</td>\n      <td>298</td>\n      <td>1</td>\n      <td>1</td>\n      <td>31666.0</td>\n      <td>True</td>\n    </tr>\n  </tbody>\n</table>\n<p>1000 rows × 10 columns</p>\n</div>"
     },
     "metadata": {},
     "execution_count": 4
    }
   ],
   "source": [
    "train_df"
   ]
  },
  {
   "source": [
    "##### 1. Get timestamp as hours and minutes"
   ],
   "cell_type": "markdown",
   "metadata": {}
  },
  {
   "cell_type": "code",
   "execution_count": 5,
   "metadata": {},
   "outputs": [
    {
     "output_type": "stream",
     "name": "stdout",
     "text": [
      "user ids:  [  115   124  2746  5382  8623  8701 12741 13134] , user count:  8\n"
     ]
    }
   ],
   "source": [
    "print(\"user ids: \", train_df.user_id.unique(), \", user count: \", len(train_df.user_id.unique()))"
   ]
  },
  {
   "cell_type": "code",
   "execution_count": 6,
   "metadata": {},
   "outputs": [
    {
     "output_type": "stream",
     "name": "stdout",
     "text": [
      "number of users with less interactions:    user_id  count\n7     8701     17 \n\nnumber of users with more interactions:    user_id  count\n0    13134    376 \n\n"
     ]
    }
   ],
   "source": [
    "df = train_df['user_id'].value_counts().reset_index()\n",
    "df.columns = [\n",
    "    'user_id', \n",
    "    'count'\n",
    "]\n",
    "df = df.sort_values('count')\n",
    "print(\"number of users with less interactions: {} \\n\".format(df[:1]))\n",
    "print(\"number of users with more interactions: {} \\n\".format(df[-1:]))"
   ]
  },
  {
   "cell_type": "code",
   "execution_count": 7,
   "metadata": {},
   "outputs": [],
   "source": [
    "student_id = 115"
   ]
  },
  {
   "cell_type": "code",
   "execution_count": 8,
   "metadata": {},
   "outputs": [],
   "source": [
    "feature_df = train_df[train_df['user_id']==student_id]"
   ]
  },
  {
   "source": [
    "def get_timestamp_in_parts(row):\n",
    "    millis = row.timestamp\n",
    "    seconds = (millis / 1000)\n",
    "    minutes = (seconds / 60)\n",
    "    hours = (minutes / 60)\n",
    "    days = (hours / 24)\n",
    "    return days, hours, minutes\n",
    "\n",
    "def get_prior_elasped_time_in_parts(row):\n",
    "    prior_millis = row.prior_question_elapsed_time\n",
    "    prior_seconds = (prior_millis / 1000)\n",
    "    prior_minutes = (prior_seconds / 60)\n",
    "    return prior_minutes, prior_seconds\n",
    "\n",
    "feature_df[['days', 'hours', 'minutes']] = [*feature_df.apply(lambda row: get_timestamp_in_parts(row), axis=1)]\n",
    "feature_df[['prior_minutes', 'prior_seconds']] = [*feature_df.apply(lambda row: get_prior_elasped_time_in_parts(row), axis=1)]"
   ],
   "cell_type": "code",
   "metadata": {},
   "execution_count": 9,
   "outputs": []
  },
  {
   "cell_type": "code",
   "execution_count": 59,
   "metadata": {},
   "outputs": [],
   "source": [
    "train_df[['days', 'hours', 'minutes']] = [*train_df.apply(lambda row: get_timestamp_in_parts(row), axis=1)]\n",
    "train_df[['prior_minutes', 'prior_seconds']] = [*train_df.apply(lambda row: get_prior_elasped_time_in_parts(row), axis=1)]"
   ]
  },
  {
   "cell_type": "code",
   "execution_count": 10,
   "metadata": {},
   "outputs": [
    {
     "output_type": "execute_result",
     "data": {
      "text/plain": [
       "    row_id  timestamp  user_id  content_id  content_type_id  \\\n",
       "0        0          0      115        5692                0   \n",
       "1        1      56943      115        5716                0   \n",
       "2        2     118363      115         128                0   \n",
       "3        3     131167      115        7860                0   \n",
       "4        4     137965      115        7922                0   \n",
       "5        5     157063      115         156                0   \n",
       "6        6     176092      115          51                0   \n",
       "7        7     194190      115          50                0   \n",
       "8        8     212463      115        7896                0   \n",
       "9        9     230983      115        7863                0   \n",
       "10      10     255381      115         152                0   \n",
       "11      11     280033      115         104                0   \n",
       "12      12     302994      115         108                0   \n",
       "13      13     328686      115        7900                0   \n",
       "14      14     352686      115        7901                0   \n",
       "15      15     376162      115        7971                0   \n",
       "16      16     398020      115          25                0   \n",
       "17      17     418008      115         183                0   \n",
       "18      18     437272      115        7926                0   \n",
       "19      19     468511      115        7927                0   \n",
       "20      20     490100      115           4                0   \n",
       "21      21     510583      115        7984                0   \n",
       "22      22     534187      115          45                0   \n",
       "23      23     557677      115         185                0   \n",
       "24      24     575289      115          55                0   \n",
       "25      25     597863      115        7876                0   \n",
       "26      26     621464      115           6                0   \n",
       "27      27     645415      115         172                0   \n",
       "28      28     670520      115        7898                0   \n",
       "29      29     692971      115         175                0   \n",
       "30      30     710402      115         100                0   \n",
       "31      31     732421      115        7859                0   \n",
       "32      32    1219624      115          57                0   \n",
       "33      33    1252621      115        7948                0   \n",
       "34      34    1284094      115         151                0   \n",
       "35      35    1320874      115         167                0   \n",
       "36      36    1359412      115        7897                0   \n",
       "37      37    1415188      115        7882                0   \n",
       "38      38    1468285      115        7962                0   \n",
       "39      39  667861680      115        1278                0   \n",
       "40      40  667971812      115        2065                0   \n",
       "41      41  667971812      115        2064                0   \n",
       "42      42  667971812      115        2063                0   \n",
       "43      43  668090043      115        3363                0   \n",
       "44      44  668090043      115        3365                0   \n",
       "45      45  668090043      115        3364                0   \n",
       "\n",
       "    task_container_id  user_answer  answered_correctly  \\\n",
       "0                   1            3                   1   \n",
       "1                   2            2                   1   \n",
       "2                   0            0                   1   \n",
       "3                   3            0                   1   \n",
       "4                   4            1                   1   \n",
       "5                   5            2                   1   \n",
       "6                   6            0                   1   \n",
       "7                   7            3                   1   \n",
       "8                   8            2                   1   \n",
       "9                   9            0                   1   \n",
       "10                 10            2                   0   \n",
       "11                 11            1                   0   \n",
       "12                 12            1                   0   \n",
       "13                 13            0                   1   \n",
       "14                 14            1                   1   \n",
       "15                 15            2                   1   \n",
       "16                 16            1                   1   \n",
       "17                 17            0                   0   \n",
       "18                 18            1                   1   \n",
       "19                 19            3                   1   \n",
       "20                 20            1                   0   \n",
       "21                 21            3                   0   \n",
       "22                 22            2                   0   \n",
       "23                 23            3                   0   \n",
       "24                 24            3                   1   \n",
       "25                 25            3                   1   \n",
       "26                 26            2                   1   \n",
       "27                 27            1                   1   \n",
       "28                 28            2                   1   \n",
       "29                 29            0                   0   \n",
       "30                 30            0                   1   \n",
       "31                 31            3                   0   \n",
       "32                 32            0                   1   \n",
       "33                 33            0                   1   \n",
       "34                 34            3                   1   \n",
       "35                 35            2                   1   \n",
       "36                 36            3                   0   \n",
       "37                 37            2                   1   \n",
       "38                 38            3                   1   \n",
       "39                 39            3                   1   \n",
       "40                 40            2                   1   \n",
       "41                 40            1                   1   \n",
       "42                 40            3                   0   \n",
       "43                 41            1                   0   \n",
       "44                 41            0                   0   \n",
       "45                 41            1                   1   \n",
       "\n",
       "    prior_question_elapsed_time  prior_question_had_explanation      days  \\\n",
       "0                           NaN                            <NA>  0.000000   \n",
       "1                       37000.0                           False  0.000659   \n",
       "2                       55000.0                           False  0.001370   \n",
       "3                       19000.0                           False  0.001518   \n",
       "4                       11000.0                           False  0.001597   \n",
       "5                        5000.0                           False  0.001818   \n",
       "6                       17000.0                           False  0.002038   \n",
       "7                       17000.0                           False  0.002248   \n",
       "8                       16000.0                           False  0.002459   \n",
       "9                       16000.0                           False  0.002673   \n",
       "10                      17000.0                           False  0.002956   \n",
       "11                      22000.0                           False  0.003241   \n",
       "12                      23000.0                           False  0.003507   \n",
       "13                      21000.0                           False  0.003804   \n",
       "14                      24000.0                           False  0.004082   \n",
       "15                      22000.0                           False  0.004354   \n",
       "16                      21000.0                           False  0.004607   \n",
       "17                      20000.0                           False  0.004838   \n",
       "18                      18000.0                           False  0.005061   \n",
       "19                      17000.0                           False  0.005423   \n",
       "20                      29000.0                           False  0.005672   \n",
       "21                      20000.0                           False  0.005910   \n",
       "22                      19000.0                           False  0.006183   \n",
       "23                      21000.0                           False  0.006455   \n",
       "24                      22000.0                           False  0.006658   \n",
       "25                      16000.0                           False  0.006920   \n",
       "26                      20000.0                           False  0.007193   \n",
       "27                      22000.0                           False  0.007470   \n",
       "28                      22000.0                           False  0.007761   \n",
       "29                      23000.0                           False  0.008020   \n",
       "30                      20000.0                           False  0.008222   \n",
       "31                      15000.0                           False  0.008477   \n",
       "32                      20000.0                           False  0.014116   \n",
       "33                      20000.0                            True  0.014498   \n",
       "34                      22000.0                            True  0.014862   \n",
       "35                      19000.0                            True  0.015288   \n",
       "36                      17000.0                            True  0.015734   \n",
       "37                      20000.0                            True  0.016379   \n",
       "38                      17000.0                            True  0.016994   \n",
       "39                      21000.0                           False  7.729881   \n",
       "40                      17000.0                           False  7.731155   \n",
       "41                      17000.0                           False  7.731155   \n",
       "42                      17000.0                           False  7.731155   \n",
       "43                      14333.0                           False  7.732524   \n",
       "44                      14333.0                           False  7.732524   \n",
       "45                      14333.0                           False  7.732524   \n",
       "\n",
       "         hours       minutes  prior_minutes  prior_seconds  \n",
       "0     0.000000      0.000000            NaN            NaN  \n",
       "1     0.015817      0.949050       0.616667         37.000  \n",
       "2     0.032879      1.972717       0.916667         55.000  \n",
       "3     0.036435      2.186117       0.316667         19.000  \n",
       "4     0.038324      2.299417       0.183333         11.000  \n",
       "5     0.043629      2.617717       0.083333          5.000  \n",
       "6     0.048914      2.934867       0.283333         17.000  \n",
       "7     0.053942      3.236500       0.283333         17.000  \n",
       "8     0.059017      3.541050       0.266667         16.000  \n",
       "9     0.064162      3.849717       0.266667         16.000  \n",
       "10    0.070939      4.256350       0.283333         17.000  \n",
       "11    0.077787      4.667217       0.366667         22.000  \n",
       "12    0.084165      5.049900       0.383333         23.000  \n",
       "13    0.091302      5.478100       0.350000         21.000  \n",
       "14    0.097968      5.878100       0.400000         24.000  \n",
       "15    0.104489      6.269367       0.366667         22.000  \n",
       "16    0.110561      6.633667       0.350000         21.000  \n",
       "17    0.116113      6.966800       0.333333         20.000  \n",
       "18    0.121464      7.287867       0.300000         18.000  \n",
       "19    0.130142      7.808517       0.283333         17.000  \n",
       "20    0.136139      8.168333       0.483333         29.000  \n",
       "21    0.141829      8.509717       0.333333         20.000  \n",
       "22    0.148385      8.903117       0.316667         19.000  \n",
       "23    0.154910      9.294617       0.350000         21.000  \n",
       "24    0.159803      9.588150       0.366667         22.000  \n",
       "25    0.166073      9.964383       0.266667         16.000  \n",
       "26    0.172629     10.357733       0.333333         20.000  \n",
       "27    0.179282     10.756917       0.366667         22.000  \n",
       "28    0.186256     11.175333       0.366667         22.000  \n",
       "29    0.192492     11.549517       0.383333         23.000  \n",
       "30    0.197334     11.840033       0.333333         20.000  \n",
       "31    0.203450     12.207017       0.250000         15.000  \n",
       "32    0.338784     20.327067       0.333333         20.000  \n",
       "33    0.347950     20.877017       0.333333         20.000  \n",
       "34    0.356693     21.401567       0.366667         22.000  \n",
       "35    0.366909     22.014567       0.316667         19.000  \n",
       "36    0.377614     22.656867       0.283333         17.000  \n",
       "37    0.393108     23.586467       0.333333         20.000  \n",
       "38    0.407857     24.471417       0.283333         17.000  \n",
       "39  185.517133  11131.028000       0.350000         21.000  \n",
       "40  185.547726  11132.863533       0.283333         17.000  \n",
       "41  185.547726  11132.863533       0.283333         17.000  \n",
       "42  185.547726  11132.863533       0.283333         17.000  \n",
       "43  185.580568  11134.834050       0.238883         14.333  \n",
       "44  185.580568  11134.834050       0.238883         14.333  \n",
       "45  185.580568  11134.834050       0.238883         14.333  "
      ],
      "text/html": "<div>\n<style scoped>\n    .dataframe tbody tr th:only-of-type {\n        vertical-align: middle;\n    }\n\n    .dataframe tbody tr th {\n        vertical-align: top;\n    }\n\n    .dataframe thead th {\n        text-align: right;\n    }\n</style>\n<table border=\"1\" class=\"dataframe\">\n  <thead>\n    <tr style=\"text-align: right;\">\n      <th></th>\n      <th>row_id</th>\n      <th>timestamp</th>\n      <th>user_id</th>\n      <th>content_id</th>\n      <th>content_type_id</th>\n      <th>task_container_id</th>\n      <th>user_answer</th>\n      <th>answered_correctly</th>\n      <th>prior_question_elapsed_time</th>\n      <th>prior_question_had_explanation</th>\n      <th>days</th>\n      <th>hours</th>\n      <th>minutes</th>\n      <th>prior_minutes</th>\n      <th>prior_seconds</th>\n    </tr>\n  </thead>\n  <tbody>\n    <tr>\n      <th>0</th>\n      <td>0</td>\n      <td>0</td>\n      <td>115</td>\n      <td>5692</td>\n      <td>0</td>\n      <td>1</td>\n      <td>3</td>\n      <td>1</td>\n      <td>NaN</td>\n      <td>&lt;NA&gt;</td>\n      <td>0.000000</td>\n      <td>0.000000</td>\n      <td>0.000000</td>\n      <td>NaN</td>\n      <td>NaN</td>\n    </tr>\n    <tr>\n      <th>1</th>\n      <td>1</td>\n      <td>56943</td>\n      <td>115</td>\n      <td>5716</td>\n      <td>0</td>\n      <td>2</td>\n      <td>2</td>\n      <td>1</td>\n      <td>37000.0</td>\n      <td>False</td>\n      <td>0.000659</td>\n      <td>0.015817</td>\n      <td>0.949050</td>\n      <td>0.616667</td>\n      <td>37.000</td>\n    </tr>\n    <tr>\n      <th>2</th>\n      <td>2</td>\n      <td>118363</td>\n      <td>115</td>\n      <td>128</td>\n      <td>0</td>\n      <td>0</td>\n      <td>0</td>\n      <td>1</td>\n      <td>55000.0</td>\n      <td>False</td>\n      <td>0.001370</td>\n      <td>0.032879</td>\n      <td>1.972717</td>\n      <td>0.916667</td>\n      <td>55.000</td>\n    </tr>\n    <tr>\n      <th>3</th>\n      <td>3</td>\n      <td>131167</td>\n      <td>115</td>\n      <td>7860</td>\n      <td>0</td>\n      <td>3</td>\n      <td>0</td>\n      <td>1</td>\n      <td>19000.0</td>\n      <td>False</td>\n      <td>0.001518</td>\n      <td>0.036435</td>\n      <td>2.186117</td>\n      <td>0.316667</td>\n      <td>19.000</td>\n    </tr>\n    <tr>\n      <th>4</th>\n      <td>4</td>\n      <td>137965</td>\n      <td>115</td>\n      <td>7922</td>\n      <td>0</td>\n      <td>4</td>\n      <td>1</td>\n      <td>1</td>\n      <td>11000.0</td>\n      <td>False</td>\n      <td>0.001597</td>\n      <td>0.038324</td>\n      <td>2.299417</td>\n      <td>0.183333</td>\n      <td>11.000</td>\n    </tr>\n    <tr>\n      <th>5</th>\n      <td>5</td>\n      <td>157063</td>\n      <td>115</td>\n      <td>156</td>\n      <td>0</td>\n      <td>5</td>\n      <td>2</td>\n      <td>1</td>\n      <td>5000.0</td>\n      <td>False</td>\n      <td>0.001818</td>\n      <td>0.043629</td>\n      <td>2.617717</td>\n      <td>0.083333</td>\n      <td>5.000</td>\n    </tr>\n    <tr>\n      <th>6</th>\n      <td>6</td>\n      <td>176092</td>\n      <td>115</td>\n      <td>51</td>\n      <td>0</td>\n      <td>6</td>\n      <td>0</td>\n      <td>1</td>\n      <td>17000.0</td>\n      <td>False</td>\n      <td>0.002038</td>\n      <td>0.048914</td>\n      <td>2.934867</td>\n      <td>0.283333</td>\n      <td>17.000</td>\n    </tr>\n    <tr>\n      <th>7</th>\n      <td>7</td>\n      <td>194190</td>\n      <td>115</td>\n      <td>50</td>\n      <td>0</td>\n      <td>7</td>\n      <td>3</td>\n      <td>1</td>\n      <td>17000.0</td>\n      <td>False</td>\n      <td>0.002248</td>\n      <td>0.053942</td>\n      <td>3.236500</td>\n      <td>0.283333</td>\n      <td>17.000</td>\n    </tr>\n    <tr>\n      <th>8</th>\n      <td>8</td>\n      <td>212463</td>\n      <td>115</td>\n      <td>7896</td>\n      <td>0</td>\n      <td>8</td>\n      <td>2</td>\n      <td>1</td>\n      <td>16000.0</td>\n      <td>False</td>\n      <td>0.002459</td>\n      <td>0.059017</td>\n      <td>3.541050</td>\n      <td>0.266667</td>\n      <td>16.000</td>\n    </tr>\n    <tr>\n      <th>9</th>\n      <td>9</td>\n      <td>230983</td>\n      <td>115</td>\n      <td>7863</td>\n      <td>0</td>\n      <td>9</td>\n      <td>0</td>\n      <td>1</td>\n      <td>16000.0</td>\n      <td>False</td>\n      <td>0.002673</td>\n      <td>0.064162</td>\n      <td>3.849717</td>\n      <td>0.266667</td>\n      <td>16.000</td>\n    </tr>\n    <tr>\n      <th>10</th>\n      <td>10</td>\n      <td>255381</td>\n      <td>115</td>\n      <td>152</td>\n      <td>0</td>\n      <td>10</td>\n      <td>2</td>\n      <td>0</td>\n      <td>17000.0</td>\n      <td>False</td>\n      <td>0.002956</td>\n      <td>0.070939</td>\n      <td>4.256350</td>\n      <td>0.283333</td>\n      <td>17.000</td>\n    </tr>\n    <tr>\n      <th>11</th>\n      <td>11</td>\n      <td>280033</td>\n      <td>115</td>\n      <td>104</td>\n      <td>0</td>\n      <td>11</td>\n      <td>1</td>\n      <td>0</td>\n      <td>22000.0</td>\n      <td>False</td>\n      <td>0.003241</td>\n      <td>0.077787</td>\n      <td>4.667217</td>\n      <td>0.366667</td>\n      <td>22.000</td>\n    </tr>\n    <tr>\n      <th>12</th>\n      <td>12</td>\n      <td>302994</td>\n      <td>115</td>\n      <td>108</td>\n      <td>0</td>\n      <td>12</td>\n      <td>1</td>\n      <td>0</td>\n      <td>23000.0</td>\n      <td>False</td>\n      <td>0.003507</td>\n      <td>0.084165</td>\n      <td>5.049900</td>\n      <td>0.383333</td>\n      <td>23.000</td>\n    </tr>\n    <tr>\n      <th>13</th>\n      <td>13</td>\n      <td>328686</td>\n      <td>115</td>\n      <td>7900</td>\n      <td>0</td>\n      <td>13</td>\n      <td>0</td>\n      <td>1</td>\n      <td>21000.0</td>\n      <td>False</td>\n      <td>0.003804</td>\n      <td>0.091302</td>\n      <td>5.478100</td>\n      <td>0.350000</td>\n      <td>21.000</td>\n    </tr>\n    <tr>\n      <th>14</th>\n      <td>14</td>\n      <td>352686</td>\n      <td>115</td>\n      <td>7901</td>\n      <td>0</td>\n      <td>14</td>\n      <td>1</td>\n      <td>1</td>\n      <td>24000.0</td>\n      <td>False</td>\n      <td>0.004082</td>\n      <td>0.097968</td>\n      <td>5.878100</td>\n      <td>0.400000</td>\n      <td>24.000</td>\n    </tr>\n    <tr>\n      <th>15</th>\n      <td>15</td>\n      <td>376162</td>\n      <td>115</td>\n      <td>7971</td>\n      <td>0</td>\n      <td>15</td>\n      <td>2</td>\n      <td>1</td>\n      <td>22000.0</td>\n      <td>False</td>\n      <td>0.004354</td>\n      <td>0.104489</td>\n      <td>6.269367</td>\n      <td>0.366667</td>\n      <td>22.000</td>\n    </tr>\n    <tr>\n      <th>16</th>\n      <td>16</td>\n      <td>398020</td>\n      <td>115</td>\n      <td>25</td>\n      <td>0</td>\n      <td>16</td>\n      <td>1</td>\n      <td>1</td>\n      <td>21000.0</td>\n      <td>False</td>\n      <td>0.004607</td>\n      <td>0.110561</td>\n      <td>6.633667</td>\n      <td>0.350000</td>\n      <td>21.000</td>\n    </tr>\n    <tr>\n      <th>17</th>\n      <td>17</td>\n      <td>418008</td>\n      <td>115</td>\n      <td>183</td>\n      <td>0</td>\n      <td>17</td>\n      <td>0</td>\n      <td>0</td>\n      <td>20000.0</td>\n      <td>False</td>\n      <td>0.004838</td>\n      <td>0.116113</td>\n      <td>6.966800</td>\n      <td>0.333333</td>\n      <td>20.000</td>\n    </tr>\n    <tr>\n      <th>18</th>\n      <td>18</td>\n      <td>437272</td>\n      <td>115</td>\n      <td>7926</td>\n      <td>0</td>\n      <td>18</td>\n      <td>1</td>\n      <td>1</td>\n      <td>18000.0</td>\n      <td>False</td>\n      <td>0.005061</td>\n      <td>0.121464</td>\n      <td>7.287867</td>\n      <td>0.300000</td>\n      <td>18.000</td>\n    </tr>\n    <tr>\n      <th>19</th>\n      <td>19</td>\n      <td>468511</td>\n      <td>115</td>\n      <td>7927</td>\n      <td>0</td>\n      <td>19</td>\n      <td>3</td>\n      <td>1</td>\n      <td>17000.0</td>\n      <td>False</td>\n      <td>0.005423</td>\n      <td>0.130142</td>\n      <td>7.808517</td>\n      <td>0.283333</td>\n      <td>17.000</td>\n    </tr>\n    <tr>\n      <th>20</th>\n      <td>20</td>\n      <td>490100</td>\n      <td>115</td>\n      <td>4</td>\n      <td>0</td>\n      <td>20</td>\n      <td>1</td>\n      <td>0</td>\n      <td>29000.0</td>\n      <td>False</td>\n      <td>0.005672</td>\n      <td>0.136139</td>\n      <td>8.168333</td>\n      <td>0.483333</td>\n      <td>29.000</td>\n    </tr>\n    <tr>\n      <th>21</th>\n      <td>21</td>\n      <td>510583</td>\n      <td>115</td>\n      <td>7984</td>\n      <td>0</td>\n      <td>21</td>\n      <td>3</td>\n      <td>0</td>\n      <td>20000.0</td>\n      <td>False</td>\n      <td>0.005910</td>\n      <td>0.141829</td>\n      <td>8.509717</td>\n      <td>0.333333</td>\n      <td>20.000</td>\n    </tr>\n    <tr>\n      <th>22</th>\n      <td>22</td>\n      <td>534187</td>\n      <td>115</td>\n      <td>45</td>\n      <td>0</td>\n      <td>22</td>\n      <td>2</td>\n      <td>0</td>\n      <td>19000.0</td>\n      <td>False</td>\n      <td>0.006183</td>\n      <td>0.148385</td>\n      <td>8.903117</td>\n      <td>0.316667</td>\n      <td>19.000</td>\n    </tr>\n    <tr>\n      <th>23</th>\n      <td>23</td>\n      <td>557677</td>\n      <td>115</td>\n      <td>185</td>\n      <td>0</td>\n      <td>23</td>\n      <td>3</td>\n      <td>0</td>\n      <td>21000.0</td>\n      <td>False</td>\n      <td>0.006455</td>\n      <td>0.154910</td>\n      <td>9.294617</td>\n      <td>0.350000</td>\n      <td>21.000</td>\n    </tr>\n    <tr>\n      <th>24</th>\n      <td>24</td>\n      <td>575289</td>\n      <td>115</td>\n      <td>55</td>\n      <td>0</td>\n      <td>24</td>\n      <td>3</td>\n      <td>1</td>\n      <td>22000.0</td>\n      <td>False</td>\n      <td>0.006658</td>\n      <td>0.159803</td>\n      <td>9.588150</td>\n      <td>0.366667</td>\n      <td>22.000</td>\n    </tr>\n    <tr>\n      <th>25</th>\n      <td>25</td>\n      <td>597863</td>\n      <td>115</td>\n      <td>7876</td>\n      <td>0</td>\n      <td>25</td>\n      <td>3</td>\n      <td>1</td>\n      <td>16000.0</td>\n      <td>False</td>\n      <td>0.006920</td>\n      <td>0.166073</td>\n      <td>9.964383</td>\n      <td>0.266667</td>\n      <td>16.000</td>\n    </tr>\n    <tr>\n      <th>26</th>\n      <td>26</td>\n      <td>621464</td>\n      <td>115</td>\n      <td>6</td>\n      <td>0</td>\n      <td>26</td>\n      <td>2</td>\n      <td>1</td>\n      <td>20000.0</td>\n      <td>False</td>\n      <td>0.007193</td>\n      <td>0.172629</td>\n      <td>10.357733</td>\n      <td>0.333333</td>\n      <td>20.000</td>\n    </tr>\n    <tr>\n      <th>27</th>\n      <td>27</td>\n      <td>645415</td>\n      <td>115</td>\n      <td>172</td>\n      <td>0</td>\n      <td>27</td>\n      <td>1</td>\n      <td>1</td>\n      <td>22000.0</td>\n      <td>False</td>\n      <td>0.007470</td>\n      <td>0.179282</td>\n      <td>10.756917</td>\n      <td>0.366667</td>\n      <td>22.000</td>\n    </tr>\n    <tr>\n      <th>28</th>\n      <td>28</td>\n      <td>670520</td>\n      <td>115</td>\n      <td>7898</td>\n      <td>0</td>\n      <td>28</td>\n      <td>2</td>\n      <td>1</td>\n      <td>22000.0</td>\n      <td>False</td>\n      <td>0.007761</td>\n      <td>0.186256</td>\n      <td>11.175333</td>\n      <td>0.366667</td>\n      <td>22.000</td>\n    </tr>\n    <tr>\n      <th>29</th>\n      <td>29</td>\n      <td>692971</td>\n      <td>115</td>\n      <td>175</td>\n      <td>0</td>\n      <td>29</td>\n      <td>0</td>\n      <td>0</td>\n      <td>23000.0</td>\n      <td>False</td>\n      <td>0.008020</td>\n      <td>0.192492</td>\n      <td>11.549517</td>\n      <td>0.383333</td>\n      <td>23.000</td>\n    </tr>\n    <tr>\n      <th>30</th>\n      <td>30</td>\n      <td>710402</td>\n      <td>115</td>\n      <td>100</td>\n      <td>0</td>\n      <td>30</td>\n      <td>0</td>\n      <td>1</td>\n      <td>20000.0</td>\n      <td>False</td>\n      <td>0.008222</td>\n      <td>0.197334</td>\n      <td>11.840033</td>\n      <td>0.333333</td>\n      <td>20.000</td>\n    </tr>\n    <tr>\n      <th>31</th>\n      <td>31</td>\n      <td>732421</td>\n      <td>115</td>\n      <td>7859</td>\n      <td>0</td>\n      <td>31</td>\n      <td>3</td>\n      <td>0</td>\n      <td>15000.0</td>\n      <td>False</td>\n      <td>0.008477</td>\n      <td>0.203450</td>\n      <td>12.207017</td>\n      <td>0.250000</td>\n      <td>15.000</td>\n    </tr>\n    <tr>\n      <th>32</th>\n      <td>32</td>\n      <td>1219624</td>\n      <td>115</td>\n      <td>57</td>\n      <td>0</td>\n      <td>32</td>\n      <td>0</td>\n      <td>1</td>\n      <td>20000.0</td>\n      <td>False</td>\n      <td>0.014116</td>\n      <td>0.338784</td>\n      <td>20.327067</td>\n      <td>0.333333</td>\n      <td>20.000</td>\n    </tr>\n    <tr>\n      <th>33</th>\n      <td>33</td>\n      <td>1252621</td>\n      <td>115</td>\n      <td>7948</td>\n      <td>0</td>\n      <td>33</td>\n      <td>0</td>\n      <td>1</td>\n      <td>20000.0</td>\n      <td>True</td>\n      <td>0.014498</td>\n      <td>0.347950</td>\n      <td>20.877017</td>\n      <td>0.333333</td>\n      <td>20.000</td>\n    </tr>\n    <tr>\n      <th>34</th>\n      <td>34</td>\n      <td>1284094</td>\n      <td>115</td>\n      <td>151</td>\n      <td>0</td>\n      <td>34</td>\n      <td>3</td>\n      <td>1</td>\n      <td>22000.0</td>\n      <td>True</td>\n      <td>0.014862</td>\n      <td>0.356693</td>\n      <td>21.401567</td>\n      <td>0.366667</td>\n      <td>22.000</td>\n    </tr>\n    <tr>\n      <th>35</th>\n      <td>35</td>\n      <td>1320874</td>\n      <td>115</td>\n      <td>167</td>\n      <td>0</td>\n      <td>35</td>\n      <td>2</td>\n      <td>1</td>\n      <td>19000.0</td>\n      <td>True</td>\n      <td>0.015288</td>\n      <td>0.366909</td>\n      <td>22.014567</td>\n      <td>0.316667</td>\n      <td>19.000</td>\n    </tr>\n    <tr>\n      <th>36</th>\n      <td>36</td>\n      <td>1359412</td>\n      <td>115</td>\n      <td>7897</td>\n      <td>0</td>\n      <td>36</td>\n      <td>3</td>\n      <td>0</td>\n      <td>17000.0</td>\n      <td>True</td>\n      <td>0.015734</td>\n      <td>0.377614</td>\n      <td>22.656867</td>\n      <td>0.283333</td>\n      <td>17.000</td>\n    </tr>\n    <tr>\n      <th>37</th>\n      <td>37</td>\n      <td>1415188</td>\n      <td>115</td>\n      <td>7882</td>\n      <td>0</td>\n      <td>37</td>\n      <td>2</td>\n      <td>1</td>\n      <td>20000.0</td>\n      <td>True</td>\n      <td>0.016379</td>\n      <td>0.393108</td>\n      <td>23.586467</td>\n      <td>0.333333</td>\n      <td>20.000</td>\n    </tr>\n    <tr>\n      <th>38</th>\n      <td>38</td>\n      <td>1468285</td>\n      <td>115</td>\n      <td>7962</td>\n      <td>0</td>\n      <td>38</td>\n      <td>3</td>\n      <td>1</td>\n      <td>17000.0</td>\n      <td>True</td>\n      <td>0.016994</td>\n      <td>0.407857</td>\n      <td>24.471417</td>\n      <td>0.283333</td>\n      <td>17.000</td>\n    </tr>\n    <tr>\n      <th>39</th>\n      <td>39</td>\n      <td>667861680</td>\n      <td>115</td>\n      <td>1278</td>\n      <td>0</td>\n      <td>39</td>\n      <td>3</td>\n      <td>1</td>\n      <td>21000.0</td>\n      <td>False</td>\n      <td>7.729881</td>\n      <td>185.517133</td>\n      <td>11131.028000</td>\n      <td>0.350000</td>\n      <td>21.000</td>\n    </tr>\n    <tr>\n      <th>40</th>\n      <td>40</td>\n      <td>667971812</td>\n      <td>115</td>\n      <td>2065</td>\n      <td>0</td>\n      <td>40</td>\n      <td>2</td>\n      <td>1</td>\n      <td>17000.0</td>\n      <td>False</td>\n      <td>7.731155</td>\n      <td>185.547726</td>\n      <td>11132.863533</td>\n      <td>0.283333</td>\n      <td>17.000</td>\n    </tr>\n    <tr>\n      <th>41</th>\n      <td>41</td>\n      <td>667971812</td>\n      <td>115</td>\n      <td>2064</td>\n      <td>0</td>\n      <td>40</td>\n      <td>1</td>\n      <td>1</td>\n      <td>17000.0</td>\n      <td>False</td>\n      <td>7.731155</td>\n      <td>185.547726</td>\n      <td>11132.863533</td>\n      <td>0.283333</td>\n      <td>17.000</td>\n    </tr>\n    <tr>\n      <th>42</th>\n      <td>42</td>\n      <td>667971812</td>\n      <td>115</td>\n      <td>2063</td>\n      <td>0</td>\n      <td>40</td>\n      <td>3</td>\n      <td>0</td>\n      <td>17000.0</td>\n      <td>False</td>\n      <td>7.731155</td>\n      <td>185.547726</td>\n      <td>11132.863533</td>\n      <td>0.283333</td>\n      <td>17.000</td>\n    </tr>\n    <tr>\n      <th>43</th>\n      <td>43</td>\n      <td>668090043</td>\n      <td>115</td>\n      <td>3363</td>\n      <td>0</td>\n      <td>41</td>\n      <td>1</td>\n      <td>0</td>\n      <td>14333.0</td>\n      <td>False</td>\n      <td>7.732524</td>\n      <td>185.580568</td>\n      <td>11134.834050</td>\n      <td>0.238883</td>\n      <td>14.333</td>\n    </tr>\n    <tr>\n      <th>44</th>\n      <td>44</td>\n      <td>668090043</td>\n      <td>115</td>\n      <td>3365</td>\n      <td>0</td>\n      <td>41</td>\n      <td>0</td>\n      <td>0</td>\n      <td>14333.0</td>\n      <td>False</td>\n      <td>7.732524</td>\n      <td>185.580568</td>\n      <td>11134.834050</td>\n      <td>0.238883</td>\n      <td>14.333</td>\n    </tr>\n    <tr>\n      <th>45</th>\n      <td>45</td>\n      <td>668090043</td>\n      <td>115</td>\n      <td>3364</td>\n      <td>0</td>\n      <td>41</td>\n      <td>1</td>\n      <td>1</td>\n      <td>14333.0</td>\n      <td>False</td>\n      <td>7.732524</td>\n      <td>185.580568</td>\n      <td>11134.834050</td>\n      <td>0.238883</td>\n      <td>14.333</td>\n    </tr>\n  </tbody>\n</table>\n</div>"
     },
     "metadata": {},
     "execution_count": 10
    }
   ],
   "source": [
    "feature_df"
   ]
  },
  {
   "source": [
    "##### 2. Find the intro rows."
   ],
   "cell_type": "markdown",
   "metadata": {}
  },
  {
   "cell_type": "code",
   "execution_count": 11,
   "metadata": {},
   "outputs": [
    {
     "output_type": "execute_result",
     "data": {
      "text/plain": [
       "row_id                            18\n",
       "timestamp                         18\n",
       "user_id                           18\n",
       "content_id                        18\n",
       "content_type_id                   18\n",
       "task_container_id                 18\n",
       "user_answer                       18\n",
       "answered_correctly                18\n",
       "prior_question_elapsed_time        0\n",
       "prior_question_had_explanation    18\n",
       "dtype: int64"
      ]
     },
     "metadata": {},
     "execution_count": 11
    }
   ],
   "source": [
    "# There are no actions which are having elapsed time when the action is lecture and the explanation is false (it will be always false for lectures)\n",
    "train_df[(train_df.answered_correctly == -1) &  (train_df.prior_question_had_explanation==False)].count()"
   ]
  },
  {
   "cell_type": "code",
   "execution_count": 12,
   "metadata": {},
   "outputs": [
    {
     "output_type": "execute_result",
     "data": {
      "text/plain": [
       "row_id                            0\n",
       "timestamp                         0\n",
       "user_id                           0\n",
       "content_id                        0\n",
       "content_type_id                   0\n",
       "task_container_id                 0\n",
       "user_answer                       0\n",
       "answered_correctly                0\n",
       "prior_question_elapsed_time       0\n",
       "prior_question_had_explanation    0\n",
       "dtype: int64"
      ]
     },
     "metadata": {},
     "execution_count": 12
    }
   ],
   "source": [
    "train_df[(train_df.timestamp == 0) &  (train_df.content_type_id==1)].count()\n",
    "# There are 80 rows related to the intro lecutures"
   ]
  },
  {
   "cell_type": "code",
   "execution_count": 13,
   "metadata": {},
   "outputs": [
    {
     "output_type": "execute_result",
     "data": {
      "text/plain": [
       "8"
      ]
     },
     "metadata": {},
     "execution_count": 13
    }
   ],
   "source": [
    "len(train_df[(train_df.timestamp == 0) &  (train_df.content_type_id==0)].user_id.unique())"
   ]
  },
  {
   "cell_type": "code",
   "execution_count": 14,
   "metadata": {},
   "outputs": [
    {
     "output_type": "execute_result",
     "data": {
      "text/plain": [
       "0"
      ]
     },
     "metadata": {},
     "execution_count": 14
    }
   ],
   "source": [
    "len(train_df[(train_df.timestamp == 0) &  (train_df.content_type_id==1)].user_id.unique())"
   ]
  },
  {
   "cell_type": "code",
   "execution_count": 15,
   "metadata": {},
   "outputs": [],
   "source": [
    "# The unique user count is 393656\n",
    "# The count when added will be 393576 + 80"
   ]
  },
  {
   "cell_type": "code",
   "execution_count": 16,
   "metadata": {},
   "outputs": [
    {
     "output_type": "execute_result",
     "data": {
      "text/plain": [
       "0"
      ]
     },
     "metadata": {},
     "execution_count": 16
    }
   ],
   "source": [
    "# some of the intro are having the explanation\n",
    "len(train_df[~(train_df.timestamp == 0) & (train_df.prior_question_had_explanation.isnull())].user_id.unique())"
   ]
  },
  {
   "cell_type": "code",
   "execution_count": 17,
   "metadata": {},
   "outputs": [
    {
     "output_type": "execute_result",
     "data": {
      "text/plain": [
       "5"
      ]
     },
     "metadata": {},
     "execution_count": 17
    }
   ],
   "source": [
    "# most of the elapsed time is null for intro sections\n",
    "len(train_df[~(train_df.timestamp == 0) & (train_df.prior_question_elapsed_time.isnull())].user_id.unique())\n"
   ]
  },
  {
   "cell_type": "code",
   "execution_count": 18,
   "metadata": {},
   "outputs": [
    {
     "output_type": "execute_result",
     "data": {
      "text/plain": [
       "     row_id  timestamp  user_id  content_id  content_type_id  \\\n",
       "0         0          0      115        5692                0   \n",
       "46       46          0      124        7900                0   \n",
       "76       76          0     2746        5273                0   \n",
       "96       96          0     5382        5000                0   \n",
       "224     224          0     8623        3915                0   \n",
       "336     336          0     8701        3901                0   \n",
       "353     353          0    12741        5145                0   \n",
       "624     624          0    13134        3926                0   \n",
       "\n",
       "     task_container_id  user_answer  answered_correctly  \\\n",
       "0                    1            3                   1   \n",
       "46                   0            0                   1   \n",
       "76                   0            1                   0   \n",
       "96                   0            0                   1   \n",
       "224                  0            3                   1   \n",
       "336                  0            2                   1   \n",
       "353                  0            3                   0   \n",
       "624                  0            3                   1   \n",
       "\n",
       "     prior_question_elapsed_time  prior_question_had_explanation  \n",
       "0                            NaN                            <NA>  \n",
       "46                           NaN                            <NA>  \n",
       "76                           NaN                            <NA>  \n",
       "96                           NaN                            <NA>  \n",
       "224                          NaN                            <NA>  \n",
       "336                          NaN                            <NA>  \n",
       "353                          NaN                            <NA>  \n",
       "624                          NaN                            <NA>  "
      ],
      "text/html": "<div>\n<style scoped>\n    .dataframe tbody tr th:only-of-type {\n        vertical-align: middle;\n    }\n\n    .dataframe tbody tr th {\n        vertical-align: top;\n    }\n\n    .dataframe thead th {\n        text-align: right;\n    }\n</style>\n<table border=\"1\" class=\"dataframe\">\n  <thead>\n    <tr style=\"text-align: right;\">\n      <th></th>\n      <th>row_id</th>\n      <th>timestamp</th>\n      <th>user_id</th>\n      <th>content_id</th>\n      <th>content_type_id</th>\n      <th>task_container_id</th>\n      <th>user_answer</th>\n      <th>answered_correctly</th>\n      <th>prior_question_elapsed_time</th>\n      <th>prior_question_had_explanation</th>\n    </tr>\n  </thead>\n  <tbody>\n    <tr>\n      <th>0</th>\n      <td>0</td>\n      <td>0</td>\n      <td>115</td>\n      <td>5692</td>\n      <td>0</td>\n      <td>1</td>\n      <td>3</td>\n      <td>1</td>\n      <td>NaN</td>\n      <td>&lt;NA&gt;</td>\n    </tr>\n    <tr>\n      <th>46</th>\n      <td>46</td>\n      <td>0</td>\n      <td>124</td>\n      <td>7900</td>\n      <td>0</td>\n      <td>0</td>\n      <td>0</td>\n      <td>1</td>\n      <td>NaN</td>\n      <td>&lt;NA&gt;</td>\n    </tr>\n    <tr>\n      <th>76</th>\n      <td>76</td>\n      <td>0</td>\n      <td>2746</td>\n      <td>5273</td>\n      <td>0</td>\n      <td>0</td>\n      <td>1</td>\n      <td>0</td>\n      <td>NaN</td>\n      <td>&lt;NA&gt;</td>\n    </tr>\n    <tr>\n      <th>96</th>\n      <td>96</td>\n      <td>0</td>\n      <td>5382</td>\n      <td>5000</td>\n      <td>0</td>\n      <td>0</td>\n      <td>0</td>\n      <td>1</td>\n      <td>NaN</td>\n      <td>&lt;NA&gt;</td>\n    </tr>\n    <tr>\n      <th>224</th>\n      <td>224</td>\n      <td>0</td>\n      <td>8623</td>\n      <td>3915</td>\n      <td>0</td>\n      <td>0</td>\n      <td>3</td>\n      <td>1</td>\n      <td>NaN</td>\n      <td>&lt;NA&gt;</td>\n    </tr>\n    <tr>\n      <th>336</th>\n      <td>336</td>\n      <td>0</td>\n      <td>8701</td>\n      <td>3901</td>\n      <td>0</td>\n      <td>0</td>\n      <td>2</td>\n      <td>1</td>\n      <td>NaN</td>\n      <td>&lt;NA&gt;</td>\n    </tr>\n    <tr>\n      <th>353</th>\n      <td>353</td>\n      <td>0</td>\n      <td>12741</td>\n      <td>5145</td>\n      <td>0</td>\n      <td>0</td>\n      <td>3</td>\n      <td>0</td>\n      <td>NaN</td>\n      <td>&lt;NA&gt;</td>\n    </tr>\n    <tr>\n      <th>624</th>\n      <td>624</td>\n      <td>0</td>\n      <td>13134</td>\n      <td>3926</td>\n      <td>0</td>\n      <td>0</td>\n      <td>3</td>\n      <td>1</td>\n      <td>NaN</td>\n      <td>&lt;NA&gt;</td>\n    </tr>\n  </tbody>\n</table>\n</div>"
     },
     "metadata": {},
     "execution_count": 18
    }
   ],
   "source": [
    "dropped_duplicates = train_df.drop_duplicates(subset=['user_id'])\n",
    "dropped_duplicates"
   ]
  },
  {
   "cell_type": "code",
   "execution_count": 19,
   "metadata": {},
   "outputs": [
    {
     "output_type": "execute_result",
     "data": {
      "text/plain": [
       "8"
      ]
     },
     "metadata": {},
     "execution_count": 19
    }
   ],
   "source": [
    "len(train_df[(train_df.timestamp == 0)].user_id.unique())\n",
    "# This proves that the timestamp 0 is the beginning for all the students"
   ]
  },
  {
   "cell_type": "code",
   "execution_count": 20,
   "metadata": {},
   "outputs": [
    {
     "output_type": "execute_result",
     "data": {
      "text/plain": [
       "   row_id  timestamp  user_id  content_id  content_type_id  task_container_id  \\\n",
       "0       0          0      115        5692                0                  1   \n",
       "1       1      56943      115        5716                0                  2   \n",
       "2       2     118363      115         128                0                  0   \n",
       "3       3     131167      115        7860                0                  3   \n",
       "4       4     137965      115        7922                0                  4   \n",
       "\n",
       "   user_answer  answered_correctly  prior_question_elapsed_time  \\\n",
       "0            3                   1                          NaN   \n",
       "1            2                   1                      37000.0   \n",
       "2            0                   1                      55000.0   \n",
       "3            0                   1                      19000.0   \n",
       "4            1                   1                      11000.0   \n",
       "\n",
       "   prior_question_had_explanation  intro_section  \n",
       "0                            <NA>           True  \n",
       "1                           False          False  \n",
       "2                           False          False  \n",
       "3                           False          False  \n",
       "4                           False          False  "
      ],
      "text/html": "<div>\n<style scoped>\n    .dataframe tbody tr th:only-of-type {\n        vertical-align: middle;\n    }\n\n    .dataframe tbody tr th {\n        vertical-align: top;\n    }\n\n    .dataframe thead th {\n        text-align: right;\n    }\n</style>\n<table border=\"1\" class=\"dataframe\">\n  <thead>\n    <tr style=\"text-align: right;\">\n      <th></th>\n      <th>row_id</th>\n      <th>timestamp</th>\n      <th>user_id</th>\n      <th>content_id</th>\n      <th>content_type_id</th>\n      <th>task_container_id</th>\n      <th>user_answer</th>\n      <th>answered_correctly</th>\n      <th>prior_question_elapsed_time</th>\n      <th>prior_question_had_explanation</th>\n      <th>intro_section</th>\n    </tr>\n  </thead>\n  <tbody>\n    <tr>\n      <th>0</th>\n      <td>0</td>\n      <td>0</td>\n      <td>115</td>\n      <td>5692</td>\n      <td>0</td>\n      <td>1</td>\n      <td>3</td>\n      <td>1</td>\n      <td>NaN</td>\n      <td>&lt;NA&gt;</td>\n      <td>True</td>\n    </tr>\n    <tr>\n      <th>1</th>\n      <td>1</td>\n      <td>56943</td>\n      <td>115</td>\n      <td>5716</td>\n      <td>0</td>\n      <td>2</td>\n      <td>2</td>\n      <td>1</td>\n      <td>37000.0</td>\n      <td>False</td>\n      <td>False</td>\n    </tr>\n    <tr>\n      <th>2</th>\n      <td>2</td>\n      <td>118363</td>\n      <td>115</td>\n      <td>128</td>\n      <td>0</td>\n      <td>0</td>\n      <td>0</td>\n      <td>1</td>\n      <td>55000.0</td>\n      <td>False</td>\n      <td>False</td>\n    </tr>\n    <tr>\n      <th>3</th>\n      <td>3</td>\n      <td>131167</td>\n      <td>115</td>\n      <td>7860</td>\n      <td>0</td>\n      <td>3</td>\n      <td>0</td>\n      <td>1</td>\n      <td>19000.0</td>\n      <td>False</td>\n      <td>False</td>\n    </tr>\n    <tr>\n      <th>4</th>\n      <td>4</td>\n      <td>137965</td>\n      <td>115</td>\n      <td>7922</td>\n      <td>0</td>\n      <td>4</td>\n      <td>1</td>\n      <td>1</td>\n      <td>11000.0</td>\n      <td>False</td>\n      <td>False</td>\n    </tr>\n  </tbody>\n</table>\n</div>"
     },
     "metadata": {},
     "execution_count": 20
    }
   ],
   "source": [
    "train_df['intro_section'] = np.where(train_df.timestamp == 0, True, False)\n",
    "train_df.head()"
   ]
  },
  {
   "cell_type": "code",
   "execution_count": 21,
   "metadata": {},
   "outputs": [
    {
     "output_type": "execute_result",
     "data": {
      "text/plain": [
       "array(['concept', 'solving question', 'intention', 'starter'],\n",
       "      dtype=object)"
      ]
     },
     "metadata": {},
     "execution_count": 21
    }
   ],
   "source": [
    "lectures_df.type_of.unique()"
   ]
  },
  {
   "cell_type": "code",
   "execution_count": 22,
   "metadata": {},
   "outputs": [
    {
     "output_type": "execute_result",
     "data": {
      "text/plain": [
       "     lecture_id  tag  part  type_of\n",
       "54         4385  181     5  starter\n",
       "261       21169  151     5  starter\n",
       "362       28569   27     6  starter"
      ],
      "text/html": "<div>\n<style scoped>\n    .dataframe tbody tr th:only-of-type {\n        vertical-align: middle;\n    }\n\n    .dataframe tbody tr th {\n        vertical-align: top;\n    }\n\n    .dataframe thead th {\n        text-align: right;\n    }\n</style>\n<table border=\"1\" class=\"dataframe\">\n  <thead>\n    <tr style=\"text-align: right;\">\n      <th></th>\n      <th>lecture_id</th>\n      <th>tag</th>\n      <th>part</th>\n      <th>type_of</th>\n    </tr>\n  </thead>\n  <tbody>\n    <tr>\n      <th>54</th>\n      <td>4385</td>\n      <td>181</td>\n      <td>5</td>\n      <td>starter</td>\n    </tr>\n    <tr>\n      <th>261</th>\n      <td>21169</td>\n      <td>151</td>\n      <td>5</td>\n      <td>starter</td>\n    </tr>\n    <tr>\n      <th>362</th>\n      <td>28569</td>\n      <td>27</td>\n      <td>6</td>\n      <td>starter</td>\n    </tr>\n  </tbody>\n</table>\n</div>"
     },
     "metadata": {},
     "execution_count": 22
    }
   ],
   "source": [
    "lectures_df[lectures_df.type_of=='starter']"
   ]
  },
  {
   "cell_type": "code",
   "execution_count": 23,
   "metadata": {},
   "outputs": [
    {
     "output_type": "execute_result",
     "data": {
      "text/plain": [
       "     lecture_id  tag  part    type_of\n",
       "38         3153   62     2  intention\n",
       "65         5752    6     2  intention\n",
       "76         6808  129     2  intention\n",
       "103        8976   62     2  intention\n",
       "109        9554   69     2  intention\n",
       "174       14325   69     2  intention\n",
       "349       27699  129     2  intention"
      ],
      "text/html": "<div>\n<style scoped>\n    .dataframe tbody tr th:only-of-type {\n        vertical-align: middle;\n    }\n\n    .dataframe tbody tr th {\n        vertical-align: top;\n    }\n\n    .dataframe thead th {\n        text-align: right;\n    }\n</style>\n<table border=\"1\" class=\"dataframe\">\n  <thead>\n    <tr style=\"text-align: right;\">\n      <th></th>\n      <th>lecture_id</th>\n      <th>tag</th>\n      <th>part</th>\n      <th>type_of</th>\n    </tr>\n  </thead>\n  <tbody>\n    <tr>\n      <th>38</th>\n      <td>3153</td>\n      <td>62</td>\n      <td>2</td>\n      <td>intention</td>\n    </tr>\n    <tr>\n      <th>65</th>\n      <td>5752</td>\n      <td>6</td>\n      <td>2</td>\n      <td>intention</td>\n    </tr>\n    <tr>\n      <th>76</th>\n      <td>6808</td>\n      <td>129</td>\n      <td>2</td>\n      <td>intention</td>\n    </tr>\n    <tr>\n      <th>103</th>\n      <td>8976</td>\n      <td>62</td>\n      <td>2</td>\n      <td>intention</td>\n    </tr>\n    <tr>\n      <th>109</th>\n      <td>9554</td>\n      <td>69</td>\n      <td>2</td>\n      <td>intention</td>\n    </tr>\n    <tr>\n      <th>174</th>\n      <td>14325</td>\n      <td>69</td>\n      <td>2</td>\n      <td>intention</td>\n    </tr>\n    <tr>\n      <th>349</th>\n      <td>27699</td>\n      <td>129</td>\n      <td>2</td>\n      <td>intention</td>\n    </tr>\n  </tbody>\n</table>\n</div>"
     },
     "metadata": {},
     "execution_count": 23
    }
   ],
   "source": [
    "lectures_df[lectures_df.type_of=='intention']"
   ]
  },
  {
   "cell_type": "code",
   "execution_count": 24,
   "metadata": {},
   "outputs": [],
   "source": [
    "starter_ids = train_df[(train_df.timestamp == 0)].task_container_id.unique()"
   ]
  },
  {
   "cell_type": "code",
   "execution_count": 25,
   "metadata": {},
   "outputs": [
    {
     "output_type": "execute_result",
     "data": {
      "text/plain": [
       "   question_id  bundle_id  correct_answer  part           tags\n",
       "0            0          0               0     1  51 131 162 38\n",
       "1            1          1               1     1      131 36 81"
      ],
      "text/html": "<div>\n<style scoped>\n    .dataframe tbody tr th:only-of-type {\n        vertical-align: middle;\n    }\n\n    .dataframe tbody tr th {\n        vertical-align: top;\n    }\n\n    .dataframe thead th {\n        text-align: right;\n    }\n</style>\n<table border=\"1\" class=\"dataframe\">\n  <thead>\n    <tr style=\"text-align: right;\">\n      <th></th>\n      <th>question_id</th>\n      <th>bundle_id</th>\n      <th>correct_answer</th>\n      <th>part</th>\n      <th>tags</th>\n    </tr>\n  </thead>\n  <tbody>\n    <tr>\n      <th>0</th>\n      <td>0</td>\n      <td>0</td>\n      <td>0</td>\n      <td>1</td>\n      <td>51 131 162 38</td>\n    </tr>\n    <tr>\n      <th>1</th>\n      <td>1</td>\n      <td>1</td>\n      <td>1</td>\n      <td>1</td>\n      <td>131 36 81</td>\n    </tr>\n  </tbody>\n</table>\n</div>"
     },
     "metadata": {},
     "execution_count": 25
    }
   ],
   "source": [
    "questions_df[questions_df.question_id.isin(starter_ids)]"
   ]
  },
  {
   "cell_type": "code",
   "execution_count": 26,
   "metadata": {},
   "outputs": [
    {
     "output_type": "execute_result",
     "data": {
      "text/plain": [
       "       question_id  bundle_id  correct_answer  part            tags\n",
       "0                0          0               0     1   51 131 162 38\n",
       "1                1          1               1     1       131 36 81\n",
       "2                2          2               0     1  131 101 162 92\n",
       "3                3          3               0     1  131 149 162 29\n",
       "4                4          4               3     1    131 5 162 38\n",
       "...            ...        ...             ...   ...             ...\n",
       "12930        12930      12930               0     1         9 10 92\n",
       "12931        12931      12931               2     1      131 104 92\n",
       "12932        12932      12932               0     1      131 187 92\n",
       "12933        12933      12933               3     1         9 10 92\n",
       "12934        12934      12934               2     1       131 93 92\n",
       "\n",
       "[992 rows x 5 columns]"
      ],
      "text/html": "<div>\n<style scoped>\n    .dataframe tbody tr th:only-of-type {\n        vertical-align: middle;\n    }\n\n    .dataframe tbody tr th {\n        vertical-align: top;\n    }\n\n    .dataframe thead th {\n        text-align: right;\n    }\n</style>\n<table border=\"1\" class=\"dataframe\">\n  <thead>\n    <tr style=\"text-align: right;\">\n      <th></th>\n      <th>question_id</th>\n      <th>bundle_id</th>\n      <th>correct_answer</th>\n      <th>part</th>\n      <th>tags</th>\n    </tr>\n  </thead>\n  <tbody>\n    <tr>\n      <th>0</th>\n      <td>0</td>\n      <td>0</td>\n      <td>0</td>\n      <td>1</td>\n      <td>51 131 162 38</td>\n    </tr>\n    <tr>\n      <th>1</th>\n      <td>1</td>\n      <td>1</td>\n      <td>1</td>\n      <td>1</td>\n      <td>131 36 81</td>\n    </tr>\n    <tr>\n      <th>2</th>\n      <td>2</td>\n      <td>2</td>\n      <td>0</td>\n      <td>1</td>\n      <td>131 101 162 92</td>\n    </tr>\n    <tr>\n      <th>3</th>\n      <td>3</td>\n      <td>3</td>\n      <td>0</td>\n      <td>1</td>\n      <td>131 149 162 29</td>\n    </tr>\n    <tr>\n      <th>4</th>\n      <td>4</td>\n      <td>4</td>\n      <td>3</td>\n      <td>1</td>\n      <td>131 5 162 38</td>\n    </tr>\n    <tr>\n      <th>...</th>\n      <td>...</td>\n      <td>...</td>\n      <td>...</td>\n      <td>...</td>\n      <td>...</td>\n    </tr>\n    <tr>\n      <th>12930</th>\n      <td>12930</td>\n      <td>12930</td>\n      <td>0</td>\n      <td>1</td>\n      <td>9 10 92</td>\n    </tr>\n    <tr>\n      <th>12931</th>\n      <td>12931</td>\n      <td>12931</td>\n      <td>2</td>\n      <td>1</td>\n      <td>131 104 92</td>\n    </tr>\n    <tr>\n      <th>12932</th>\n      <td>12932</td>\n      <td>12932</td>\n      <td>0</td>\n      <td>1</td>\n      <td>131 187 92</td>\n    </tr>\n    <tr>\n      <th>12933</th>\n      <td>12933</td>\n      <td>12933</td>\n      <td>3</td>\n      <td>1</td>\n      <td>9 10 92</td>\n    </tr>\n    <tr>\n      <th>12934</th>\n      <td>12934</td>\n      <td>12934</td>\n      <td>2</td>\n      <td>1</td>\n      <td>131 93 92</td>\n    </tr>\n  </tbody>\n</table>\n<p>992 rows × 5 columns</p>\n</div>"
     },
     "metadata": {},
     "execution_count": 26
    }
   ],
   "source": [
    "questions_df[questions_df.part == 1]"
   ]
  },
  {
   "cell_type": "code",
   "execution_count": 27,
   "metadata": {},
   "outputs": [
    {
     "output_type": "execute_result",
     "data": {
      "text/plain": [
       "     row_id  timestamp  user_id  content_id  content_type_id  \\\n",
       "2         2     118363      115         128                0   \n",
       "47       47      32683      124        7876                0   \n",
       "77       77      21592     2746         758                0   \n",
       "97       97      39828     5382        3944                0   \n",
       "225     225      38769     8623        4750                0   \n",
       "337     337      17833     8701        6671                0   \n",
       "354     354      22273    12741        9691                0   \n",
       "625     625      23840    13134         564                0   \n",
       "\n",
       "     task_container_id  user_answer  answered_correctly  \\\n",
       "2                    0            0                   1   \n",
       "47                   1            0                   0   \n",
       "77                   1            0                   0   \n",
       "97                   1            1                   0   \n",
       "225                  1            1                   1   \n",
       "337                  1            0                   1   \n",
       "354                  1            3                   1   \n",
       "625                  1            1                   0   \n",
       "\n",
       "     prior_question_elapsed_time  prior_question_had_explanation  \\\n",
       "2                        55000.0                           False   \n",
       "47                       26000.0                           False   \n",
       "77                       28000.0                           False   \n",
       "97                       24000.0                           False   \n",
       "225                      16000.0                           False   \n",
       "337                      13000.0                           False   \n",
       "354                      13000.0                           False   \n",
       "625                      22000.0                           False   \n",
       "\n",
       "     intro_section  \n",
       "2            False  \n",
       "47           False  \n",
       "77           False  \n",
       "97           False  \n",
       "225          False  \n",
       "337          False  \n",
       "354          False  \n",
       "625          False  "
      ],
      "text/html": "<div>\n<style scoped>\n    .dataframe tbody tr th:only-of-type {\n        vertical-align: middle;\n    }\n\n    .dataframe tbody tr th {\n        vertical-align: top;\n    }\n\n    .dataframe thead th {\n        text-align: right;\n    }\n</style>\n<table border=\"1\" class=\"dataframe\">\n  <thead>\n    <tr style=\"text-align: right;\">\n      <th></th>\n      <th>row_id</th>\n      <th>timestamp</th>\n      <th>user_id</th>\n      <th>content_id</th>\n      <th>content_type_id</th>\n      <th>task_container_id</th>\n      <th>user_answer</th>\n      <th>answered_correctly</th>\n      <th>prior_question_elapsed_time</th>\n      <th>prior_question_had_explanation</th>\n      <th>intro_section</th>\n    </tr>\n  </thead>\n  <tbody>\n    <tr>\n      <th>2</th>\n      <td>2</td>\n      <td>118363</td>\n      <td>115</td>\n      <td>128</td>\n      <td>0</td>\n      <td>0</td>\n      <td>0</td>\n      <td>1</td>\n      <td>55000.0</td>\n      <td>False</td>\n      <td>False</td>\n    </tr>\n    <tr>\n      <th>47</th>\n      <td>47</td>\n      <td>32683</td>\n      <td>124</td>\n      <td>7876</td>\n      <td>0</td>\n      <td>1</td>\n      <td>0</td>\n      <td>0</td>\n      <td>26000.0</td>\n      <td>False</td>\n      <td>False</td>\n    </tr>\n    <tr>\n      <th>77</th>\n      <td>77</td>\n      <td>21592</td>\n      <td>2746</td>\n      <td>758</td>\n      <td>0</td>\n      <td>1</td>\n      <td>0</td>\n      <td>0</td>\n      <td>28000.0</td>\n      <td>False</td>\n      <td>False</td>\n    </tr>\n    <tr>\n      <th>97</th>\n      <td>97</td>\n      <td>39828</td>\n      <td>5382</td>\n      <td>3944</td>\n      <td>0</td>\n      <td>1</td>\n      <td>1</td>\n      <td>0</td>\n      <td>24000.0</td>\n      <td>False</td>\n      <td>False</td>\n    </tr>\n    <tr>\n      <th>225</th>\n      <td>225</td>\n      <td>38769</td>\n      <td>8623</td>\n      <td>4750</td>\n      <td>0</td>\n      <td>1</td>\n      <td>1</td>\n      <td>1</td>\n      <td>16000.0</td>\n      <td>False</td>\n      <td>False</td>\n    </tr>\n    <tr>\n      <th>337</th>\n      <td>337</td>\n      <td>17833</td>\n      <td>8701</td>\n      <td>6671</td>\n      <td>0</td>\n      <td>1</td>\n      <td>0</td>\n      <td>1</td>\n      <td>13000.0</td>\n      <td>False</td>\n      <td>False</td>\n    </tr>\n    <tr>\n      <th>354</th>\n      <td>354</td>\n      <td>22273</td>\n      <td>12741</td>\n      <td>9691</td>\n      <td>0</td>\n      <td>1</td>\n      <td>3</td>\n      <td>1</td>\n      <td>13000.0</td>\n      <td>False</td>\n      <td>False</td>\n    </tr>\n    <tr>\n      <th>625</th>\n      <td>625</td>\n      <td>23840</td>\n      <td>13134</td>\n      <td>564</td>\n      <td>0</td>\n      <td>1</td>\n      <td>1</td>\n      <td>0</td>\n      <td>22000.0</td>\n      <td>False</td>\n      <td>False</td>\n    </tr>\n  </tbody>\n</table>\n</div>"
     },
     "metadata": {},
     "execution_count": 27
    }
   ],
   "source": [
    "train_df[(train_df.timestamp != 0) & (train_df.task_container_id.isin(starter_ids))]"
   ]
  },
  {
   "cell_type": "code",
   "execution_count": 28,
   "metadata": {},
   "outputs": [],
   "source": [
    "# This shows that there a way more intro sections."
   ]
  },
  {
   "cell_type": "code",
   "execution_count": 29,
   "metadata": {},
   "outputs": [
    {
     "output_type": "execute_result",
     "data": {
      "text/plain": [
       "   row_id  timestamp  user_id  content_id  content_type_id  task_container_id  \\\n",
       "0       0          0      115        5692                0                  1   \n",
       "1       1      56943      115        5716                0                  2   \n",
       "2       2     118363      115         128                0                  0   \n",
       "3       3     131167      115        7860                0                  3   \n",
       "4       4     137965      115        7922                0                  4   \n",
       "\n",
       "   user_answer  answered_correctly  prior_question_elapsed_time  \\\n",
       "0            3                   1                          NaN   \n",
       "1            2                   1                      37000.0   \n",
       "2            0                   1                      55000.0   \n",
       "3            0                   1                      19000.0   \n",
       "4            1                   1                      11000.0   \n",
       "\n",
       "   prior_question_had_explanation  intro_section  \n",
       "0                            <NA>           True  \n",
       "1                           False          False  \n",
       "2                           False           True  \n",
       "3                           False          False  \n",
       "4                           False          False  "
      ],
      "text/html": "<div>\n<style scoped>\n    .dataframe tbody tr th:only-of-type {\n        vertical-align: middle;\n    }\n\n    .dataframe tbody tr th {\n        vertical-align: top;\n    }\n\n    .dataframe thead th {\n        text-align: right;\n    }\n</style>\n<table border=\"1\" class=\"dataframe\">\n  <thead>\n    <tr style=\"text-align: right;\">\n      <th></th>\n      <th>row_id</th>\n      <th>timestamp</th>\n      <th>user_id</th>\n      <th>content_id</th>\n      <th>content_type_id</th>\n      <th>task_container_id</th>\n      <th>user_answer</th>\n      <th>answered_correctly</th>\n      <th>prior_question_elapsed_time</th>\n      <th>prior_question_had_explanation</th>\n      <th>intro_section</th>\n    </tr>\n  </thead>\n  <tbody>\n    <tr>\n      <th>0</th>\n      <td>0</td>\n      <td>0</td>\n      <td>115</td>\n      <td>5692</td>\n      <td>0</td>\n      <td>1</td>\n      <td>3</td>\n      <td>1</td>\n      <td>NaN</td>\n      <td>&lt;NA&gt;</td>\n      <td>True</td>\n    </tr>\n    <tr>\n      <th>1</th>\n      <td>1</td>\n      <td>56943</td>\n      <td>115</td>\n      <td>5716</td>\n      <td>0</td>\n      <td>2</td>\n      <td>2</td>\n      <td>1</td>\n      <td>37000.0</td>\n      <td>False</td>\n      <td>False</td>\n    </tr>\n    <tr>\n      <th>2</th>\n      <td>2</td>\n      <td>118363</td>\n      <td>115</td>\n      <td>128</td>\n      <td>0</td>\n      <td>0</td>\n      <td>0</td>\n      <td>1</td>\n      <td>55000.0</td>\n      <td>False</td>\n      <td>True</td>\n    </tr>\n    <tr>\n      <th>3</th>\n      <td>3</td>\n      <td>131167</td>\n      <td>115</td>\n      <td>7860</td>\n      <td>0</td>\n      <td>3</td>\n      <td>0</td>\n      <td>1</td>\n      <td>19000.0</td>\n      <td>False</td>\n      <td>False</td>\n    </tr>\n    <tr>\n      <th>4</th>\n      <td>4</td>\n      <td>137965</td>\n      <td>115</td>\n      <td>7922</td>\n      <td>0</td>\n      <td>4</td>\n      <td>1</td>\n      <td>1</td>\n      <td>11000.0</td>\n      <td>False</td>\n      <td>False</td>\n    </tr>\n  </tbody>\n</table>\n</div>"
     },
     "metadata": {},
     "execution_count": 29
    }
   ],
   "source": [
    "train_df['intro_section'] = np.where(train_df.task_container_id.isin(starter_ids), True, False)\n",
    "train_df.head()"
   ]
  },
  {
   "source": [
    "##### 3. The actions after the lectures should be tagged with something."
   ],
   "cell_type": "markdown",
   "metadata": {}
  },
  {
   "cell_type": "code",
   "execution_count": 30,
   "metadata": {},
   "outputs": [
    {
     "output_type": "execute_result",
     "data": {
      "text/plain": [
       "Empty DataFrame\n",
       "Columns: [row_id, timestamp, user_id, content_id, content_type_id, task_container_id, user_answer, answered_correctly, prior_question_elapsed_time, prior_question_had_explanation, intro_section]\n",
       "Index: []"
      ],
      "text/html": "<div>\n<style scoped>\n    .dataframe tbody tr th:only-of-type {\n        vertical-align: middle;\n    }\n\n    .dataframe tbody tr th {\n        vertical-align: top;\n    }\n\n    .dataframe thead th {\n        text-align: right;\n    }\n</style>\n<table border=\"1\" class=\"dataframe\">\n  <thead>\n    <tr style=\"text-align: right;\">\n      <th></th>\n      <th>row_id</th>\n      <th>timestamp</th>\n      <th>user_id</th>\n      <th>content_id</th>\n      <th>content_type_id</th>\n      <th>task_container_id</th>\n      <th>user_answer</th>\n      <th>answered_correctly</th>\n      <th>prior_question_elapsed_time</th>\n      <th>prior_question_had_explanation</th>\n      <th>intro_section</th>\n    </tr>\n  </thead>\n  <tbody>\n  </tbody>\n</table>\n</div>"
     },
     "metadata": {},
     "execution_count": 30
    }
   ],
   "source": [
    "train_df[(train_df['user_id']==student_id) & (train_df['row_id'] >= 54177)][:100]"
   ]
  },
  {
   "cell_type": "code",
   "execution_count": 31,
   "metadata": {},
   "outputs": [],
   "source": [
    "# Things to do here with the issue with the lecture things being more positive towards answering\n",
    "# we have to combine the question and lectures to do something like this\n",
    "# 1. There rows which come after the lecture should be values based on the tag or the type of question\n",
    "# example: if the user is having the lecture on concept and the question is based on some other type then the value given will not be correct so we have to come up with some thing brillent to check this.\n",
    "# 2. Time is a great factor to look out for, the time the lecture is seen and the time at which it is answer will be depentent"
   ]
  },
  {
   "cell_type": "code",
   "execution_count": 32,
   "metadata": {},
   "outputs": [],
   "source": [
    "# First we will check what all question and lecture relate"
   ]
  },
  {
   "cell_type": "code",
   "execution_count": 33,
   "metadata": {},
   "outputs": [
    {
     "output_type": "execute_result",
     "data": {
      "text/plain": [
       "array([181, 151,  27])"
      ]
     },
     "metadata": {},
     "execution_count": 33
    }
   ],
   "source": [
    "lectures_df[lectures_df.type_of==\"starter\"].tag.unique()"
   ]
  },
  {
   "cell_type": "code",
   "execution_count": 34,
   "metadata": {},
   "outputs": [
    {
     "output_type": "execute_result",
     "data": {
      "text/plain": [
       "       question_id  bundle_id  correct_answer  part    tags\n",
       "6484          6484       6481               1     6      27\n",
       "6488          6488       6485               3     6  27 162\n",
       "6492          6492       6489               3     6      27\n",
       "6496          6496       6493               0     6      27\n",
       "6498          6498       6497               3     6      27\n",
       "...            ...        ...             ...   ...     ...\n",
       "11182        11182      11179               3     6      27\n",
       "11616        11616      11615               0     6      27\n",
       "11621        11621      11619               2     6      27\n",
       "11626        11626      11623               1     6      27\n",
       "11630        11630      11627               1     6      27\n",
       "\n",
       "[302 rows x 5 columns]"
      ],
      "text/html": "<div>\n<style scoped>\n    .dataframe tbody tr th:only-of-type {\n        vertical-align: middle;\n    }\n\n    .dataframe tbody tr th {\n        vertical-align: top;\n    }\n\n    .dataframe thead th {\n        text-align: right;\n    }\n</style>\n<table border=\"1\" class=\"dataframe\">\n  <thead>\n    <tr style=\"text-align: right;\">\n      <th></th>\n      <th>question_id</th>\n      <th>bundle_id</th>\n      <th>correct_answer</th>\n      <th>part</th>\n      <th>tags</th>\n    </tr>\n  </thead>\n  <tbody>\n    <tr>\n      <th>6484</th>\n      <td>6484</td>\n      <td>6481</td>\n      <td>1</td>\n      <td>6</td>\n      <td>27</td>\n    </tr>\n    <tr>\n      <th>6488</th>\n      <td>6488</td>\n      <td>6485</td>\n      <td>3</td>\n      <td>6</td>\n      <td>27 162</td>\n    </tr>\n    <tr>\n      <th>6492</th>\n      <td>6492</td>\n      <td>6489</td>\n      <td>3</td>\n      <td>6</td>\n      <td>27</td>\n    </tr>\n    <tr>\n      <th>6496</th>\n      <td>6496</td>\n      <td>6493</td>\n      <td>0</td>\n      <td>6</td>\n      <td>27</td>\n    </tr>\n    <tr>\n      <th>6498</th>\n      <td>6498</td>\n      <td>6497</td>\n      <td>3</td>\n      <td>6</td>\n      <td>27</td>\n    </tr>\n    <tr>\n      <th>...</th>\n      <td>...</td>\n      <td>...</td>\n      <td>...</td>\n      <td>...</td>\n      <td>...</td>\n    </tr>\n    <tr>\n      <th>11182</th>\n      <td>11182</td>\n      <td>11179</td>\n      <td>3</td>\n      <td>6</td>\n      <td>27</td>\n    </tr>\n    <tr>\n      <th>11616</th>\n      <td>11616</td>\n      <td>11615</td>\n      <td>0</td>\n      <td>6</td>\n      <td>27</td>\n    </tr>\n    <tr>\n      <th>11621</th>\n      <td>11621</td>\n      <td>11619</td>\n      <td>2</td>\n      <td>6</td>\n      <td>27</td>\n    </tr>\n    <tr>\n      <th>11626</th>\n      <td>11626</td>\n      <td>11623</td>\n      <td>1</td>\n      <td>6</td>\n      <td>27</td>\n    </tr>\n    <tr>\n      <th>11630</th>\n      <td>11630</td>\n      <td>11627</td>\n      <td>1</td>\n      <td>6</td>\n      <td>27</td>\n    </tr>\n  </tbody>\n</table>\n<p>302 rows × 5 columns</p>\n</div>"
     },
     "metadata": {},
     "execution_count": 34
    }
   ],
   "source": [
    "questions_df[questions_df.tags.str.contains(r\"^27\", na=False)]"
   ]
  },
  {
   "cell_type": "code",
   "execution_count": 35,
   "metadata": {},
   "outputs": [
    {
     "output_type": "execute_result",
     "data": {
      "text/plain": [
       "       question_id  bundle_id  correct_answer  part            tags\n",
       "0                0          0               0     1   51 131 162 38\n",
       "1                1          1               1     1       131 36 81\n",
       "2                2          2               0     1  131 101 162 92\n",
       "3                3          3               0     1  131 149 162 29\n",
       "4                4          4               3     1    131 5 162 38\n",
       "...            ...        ...             ...   ...             ...\n",
       "13518        13518      13518               3     5              14\n",
       "13519        13519      13519               3     5               8\n",
       "13520        13520      13520               2     5              73\n",
       "13521        13521      13521               0     5             125\n",
       "13522        13522      13522               3     5              55\n",
       "\n",
       "[13523 rows x 5 columns]"
      ],
      "text/html": "<div>\n<style scoped>\n    .dataframe tbody tr th:only-of-type {\n        vertical-align: middle;\n    }\n\n    .dataframe tbody tr th {\n        vertical-align: top;\n    }\n\n    .dataframe thead th {\n        text-align: right;\n    }\n</style>\n<table border=\"1\" class=\"dataframe\">\n  <thead>\n    <tr style=\"text-align: right;\">\n      <th></th>\n      <th>question_id</th>\n      <th>bundle_id</th>\n      <th>correct_answer</th>\n      <th>part</th>\n      <th>tags</th>\n    </tr>\n  </thead>\n  <tbody>\n    <tr>\n      <th>0</th>\n      <td>0</td>\n      <td>0</td>\n      <td>0</td>\n      <td>1</td>\n      <td>51 131 162 38</td>\n    </tr>\n    <tr>\n      <th>1</th>\n      <td>1</td>\n      <td>1</td>\n      <td>1</td>\n      <td>1</td>\n      <td>131 36 81</td>\n    </tr>\n    <tr>\n      <th>2</th>\n      <td>2</td>\n      <td>2</td>\n      <td>0</td>\n      <td>1</td>\n      <td>131 101 162 92</td>\n    </tr>\n    <tr>\n      <th>3</th>\n      <td>3</td>\n      <td>3</td>\n      <td>0</td>\n      <td>1</td>\n      <td>131 149 162 29</td>\n    </tr>\n    <tr>\n      <th>4</th>\n      <td>4</td>\n      <td>4</td>\n      <td>3</td>\n      <td>1</td>\n      <td>131 5 162 38</td>\n    </tr>\n    <tr>\n      <th>...</th>\n      <td>...</td>\n      <td>...</td>\n      <td>...</td>\n      <td>...</td>\n      <td>...</td>\n    </tr>\n    <tr>\n      <th>13518</th>\n      <td>13518</td>\n      <td>13518</td>\n      <td>3</td>\n      <td>5</td>\n      <td>14</td>\n    </tr>\n    <tr>\n      <th>13519</th>\n      <td>13519</td>\n      <td>13519</td>\n      <td>3</td>\n      <td>5</td>\n      <td>8</td>\n    </tr>\n    <tr>\n      <th>13520</th>\n      <td>13520</td>\n      <td>13520</td>\n      <td>2</td>\n      <td>5</td>\n      <td>73</td>\n    </tr>\n    <tr>\n      <th>13521</th>\n      <td>13521</td>\n      <td>13521</td>\n      <td>0</td>\n      <td>5</td>\n      <td>125</td>\n    </tr>\n    <tr>\n      <th>13522</th>\n      <td>13522</td>\n      <td>13522</td>\n      <td>3</td>\n      <td>5</td>\n      <td>55</td>\n    </tr>\n  </tbody>\n</table>\n<p>13523 rows × 5 columns</p>\n</div>"
     },
     "metadata": {},
     "execution_count": 35
    }
   ],
   "source": [
    "questions_df"
   ]
  },
  {
   "cell_type": "code",
   "execution_count": 36,
   "metadata": {},
   "outputs": [
    {
     "output_type": "execute_result",
     "data": {
      "text/plain": [
       "     lecture_id  tag  part           type_of\n",
       "0            89  159     5           concept\n",
       "1           100   70     1           concept\n",
       "2           185   45     6           concept\n",
       "3           192   79     5  solving question\n",
       "4           317  156     5  solving question\n",
       "..          ...  ...   ...               ...\n",
       "413       32535    8     5  solving question\n",
       "414       32570  113     3  solving question\n",
       "415       32604   24     6           concept\n",
       "416       32625  142     2           concept\n",
       "417       32736   82     3           concept\n",
       "\n",
       "[418 rows x 4 columns]"
      ],
      "text/html": "<div>\n<style scoped>\n    .dataframe tbody tr th:only-of-type {\n        vertical-align: middle;\n    }\n\n    .dataframe tbody tr th {\n        vertical-align: top;\n    }\n\n    .dataframe thead th {\n        text-align: right;\n    }\n</style>\n<table border=\"1\" class=\"dataframe\">\n  <thead>\n    <tr style=\"text-align: right;\">\n      <th></th>\n      <th>lecture_id</th>\n      <th>tag</th>\n      <th>part</th>\n      <th>type_of</th>\n    </tr>\n  </thead>\n  <tbody>\n    <tr>\n      <th>0</th>\n      <td>89</td>\n      <td>159</td>\n      <td>5</td>\n      <td>concept</td>\n    </tr>\n    <tr>\n      <th>1</th>\n      <td>100</td>\n      <td>70</td>\n      <td>1</td>\n      <td>concept</td>\n    </tr>\n    <tr>\n      <th>2</th>\n      <td>185</td>\n      <td>45</td>\n      <td>6</td>\n      <td>concept</td>\n    </tr>\n    <tr>\n      <th>3</th>\n      <td>192</td>\n      <td>79</td>\n      <td>5</td>\n      <td>solving question</td>\n    </tr>\n    <tr>\n      <th>4</th>\n      <td>317</td>\n      <td>156</td>\n      <td>5</td>\n      <td>solving question</td>\n    </tr>\n    <tr>\n      <th>...</th>\n      <td>...</td>\n      <td>...</td>\n      <td>...</td>\n      <td>...</td>\n    </tr>\n    <tr>\n      <th>413</th>\n      <td>32535</td>\n      <td>8</td>\n      <td>5</td>\n      <td>solving question</td>\n    </tr>\n    <tr>\n      <th>414</th>\n      <td>32570</td>\n      <td>113</td>\n      <td>3</td>\n      <td>solving question</td>\n    </tr>\n    <tr>\n      <th>415</th>\n      <td>32604</td>\n      <td>24</td>\n      <td>6</td>\n      <td>concept</td>\n    </tr>\n    <tr>\n      <th>416</th>\n      <td>32625</td>\n      <td>142</td>\n      <td>2</td>\n      <td>concept</td>\n    </tr>\n    <tr>\n      <th>417</th>\n      <td>32736</td>\n      <td>82</td>\n      <td>3</td>\n      <td>concept</td>\n    </tr>\n  </tbody>\n</table>\n<p>418 rows × 4 columns</p>\n</div>"
     },
     "metadata": {},
     "execution_count": 36
    }
   ],
   "source": [
    "lectures_df"
   ]
  },
  {
   "cell_type": "code",
   "execution_count": 37,
   "metadata": {},
   "outputs": [],
   "source": [
    "feature_df = train_df.join(questions_df.set_index(\"question_id\"), 'content_id', how='left')"
   ]
  },
  {
   "cell_type": "code",
   "execution_count": 279,
   "metadata": {},
   "outputs": [],
   "source": [
    "lecture_dict = lectures_df.set_index(\"lecture_id\").to_dict(orient=\"index\")\n",
    "lecture_comprehensive_type_of_dict = lectures_df.set_index('type_of').groupby(level=0).apply(lambda row: row.to_dict('list')).to_dict()\n",
    "lecture_comprehensive_part_dict = lectures_df.set_index('part').groupby(level=0).apply(lambda row: row.to_dict('list')).to_dict()"
   ]
  },
  {
   "cell_type": "code",
   "execution_count": 290,
   "metadata": {},
   "outputs": [],
   "source": [
    "question_dict = questions_df.set_index(\"question_id\").to_dict(orient=\"index\")\n"
   ]
  },
  {
   "cell_type": "code",
   "execution_count": 283,
   "metadata": {},
   "outputs": [],
   "source": [
    "for key in lecture_comprehensive_part_dict:\n",
    "    lecture_comprehensive_part_dict[key]['tag'] = list(set(lecture_comprehensive_part_dict[key]['tag']))\n",
    "    lecture_comprehensive_part_dict[key]['type_of'] = list(set(lecture_comprehensive_part_dict[key]['type_of']))\n",
    "\n",
    "for key in lecture_comprehensive_type_of_dict:\n",
    "    lecture_comprehensive_type_of_dict[key]['tag'] = list(set(lecture_comprehensive_type_of_dict[key]['tag']))\n",
    "    lecture_comprehensive_type_of_dict[key]['part'] = list(set(lecture_comprehensive_type_of_dict[key]['part']))"
   ]
  },
  {
   "cell_type": "code",
   "execution_count": 285,
   "metadata": {},
   "outputs": [
    {
     "output_type": "stream",
     "name": "stdout",
     "text": [
      "['concept', 'solving question']\n['concept', 'solving question', 'intention']\n['solving question', 'concept']\n['concept', 'solving question']\n['concept', 'starter', 'solving question']\n['concept', 'starter', 'solving question']\n['concept', 'solving question']\n"
     ]
    }
   ],
   "source": [
    "for key in lecture_comprehensive_part_dict:\n",
    "    print(lecture_comprehensive_part_dict[key]['type_of'])"
   ]
  },
  {
   "cell_type": "code",
   "execution_count": 277,
   "metadata": {},
   "outputs": [],
   "source": [
    "questions_dict = questions_df.set_index('question_id').to_dict(orient='index')"
   ]
  },
  {
   "cell_type": "code",
   "execution_count": 294,
   "metadata": {},
   "outputs": [
    {
     "output_type": "execute_result",
     "data": {
      "text/plain": [
       "{'bundle_id': 13247,\n",
       " 'correct_answer': 1,\n",
       " 'part': 3,\n",
       " 'tags': '136 81 92',\n",
       " 'has_related_tag': False}"
      ]
     },
     "metadata": {},
     "execution_count": 294
    }
   ],
   "source": [
    "question_dict[13249]"
   ]
  },
  {
   "cell_type": "code",
   "execution_count": 297,
   "metadata": {},
   "outputs": [
    {
     "output_type": "execute_result",
     "data": {
      "text/plain": [
       "False"
      ]
     },
     "metadata": {},
     "execution_count": 297
    }
   ],
   "source": [
    "question_dict[13249] in lecture_comprehensive_type_of_dict['starter']['part']"
   ]
  },
  {
   "cell_type": "code",
   "execution_count": 315,
   "metadata": {},
   "outputs": [],
   "source": [
    "def apply_filter_based_on_previous_row(func):\n",
    "    prev_row = {\n",
    "        \"has_seen_lecture\": False,\n",
    "        \"previous_lecture_hours\": 0,\n",
    "        \"previous_lecture\": {},\n",
    "        \"user_id\": \"\"\n",
    "    }\n",
    "    def wrapper(curr_row, **kwargs):\n",
    "        content_id = curr_row['content_id']\n",
    "        has_seen_same_tag_as_lecture = False\n",
    "        has_seen_same_part_as_lecture = False\n",
    "        has_part_common_with_type_of = False\n",
    "        has_tag_common_with_type_of = False\n",
    "        has_tag_common_with_part_dict = False\n",
    "        has_type_of_common_with_part_dict = False\n",
    "        if prev_row['user_id'] == curr_row['user_id']:\n",
    "            if curr_row['content_type_id'] != 0:\n",
    "                prev_row['has_seen_lecture'] = True\n",
    "                prev_row['previous_lecture_hours'] = curr_row['hours']\n",
    "                prev_row['previous_lecture'] = lecture_dict[content_id]\n",
    "            else:\n",
    "                has_seen_same_tag_as_lecture = (str(prev_row['previous_lecture'].get(\"tag\", \"\")) in str(question_dict[content_id]['tags']).split())\n",
    "                has_seen_same_part_as_lecture = (prev_row['previous_lecture'].get(\"part\") == question_dict[content_id]['part'])\n",
    "                prev_type_of = prev_row['previous_lecture'].get(\"type_of\")\n",
    "                prev_part = prev_row['previous_lecture'].get(\"part\")\n",
    "                has_part_common_with_type_of = question_dict[content_id]['part'] in  lecture_comprehensive_type_of_dict.get(prev_type_of, {}).get('part', [])\n",
    "                has_tag_common_with_type_of = bool(set(map(int, str(question_dict[content_id]['tags']).split())).intersection(lecture_comprehensive_type_of_dict.get(prev_type_of, {}).get('tag', [])))\n",
    "                has_tag_common_with_part_dict = bool(set(map(int, str(question_dict[content_id]['tags']).split())).intersection(lecture_comprehensive_part_dict.get(prev_part, {}).get('tag', [])))\n",
    "                has_type_of_common_with_part_dict = prev_type_of in lecture_comprehensive_part_dict[question_dict[content_id]['part']]['type_of']\n",
    "        else:\n",
    "            prev_row['user_id'] = curr_row['user_id']\n",
    "            if curr_row['content_type_id'] != 0:\n",
    "                prev_row['has_seen_lecture'] = True\n",
    "                prev_row['previous_lecture_hours'] = curr_row['hours']\n",
    "                prev_row['previous_lecture'] = lecture_dict[content_id]\n",
    "            else:\n",
    "                prev_row['has_seen_lecture'] = False\n",
    "                prev_row['previous_lecture_hours'] = 0\n",
    "                prev_row['previous_lecture'] = {}\n",
    "\n",
    "        timestamp_difference = curr_row['hours'] - prev_row['previous_lecture_hours']\n",
    "        retention = func(timestamp_difference)\n",
    "        return retention, prev_row['has_seen_lecture'], has_seen_same_tag_as_lecture, has_seen_same_part_as_lecture, has_part_common_with_type_of, has_tag_common_with_type_of, has_tag_common_with_part_dict, has_type_of_common_with_part_dict\n",
    "    return wrapper\n",
    "\n",
    "@apply_filter_based_on_previous_row\n",
    "def running_retention(timestamp_difference):\n",
    "    retention = 1.48 / ((1.25 * timestamp_difference) + 1.48)\n",
    "    return retention\n",
    "\n",
    "train_df[\"retention\"], train_df[\"has_seen_lecture_before\"], train_df[\"has_seen_same_tag_as_lecture\"], train_df[\"has_seen_same_part_as_lecture\"], train_df[\"has_part_common_with_type_of\"], train_df[\"has_tag_common_with_type_of\"], train_df[\"has_tag_common_with_part_dict\"], train_df[\"has_type_of_common_with_part_dict\"] = zip(*train_df.apply(running_retention, axis=1))"
   ]
  },
  {
   "cell_type": "code",
   "execution_count": 316,
   "metadata": {},
   "outputs": [
    {
     "output_type": "execute_result",
     "data": {
      "text/plain": [
       "     row_id    timestamp  user_id  content_id  content_type_id  \\\n",
       "0         0            0      115        5692                0   \n",
       "1         1        56943      115        5716                0   \n",
       "2         2       118363      115         128                0   \n",
       "3         3       131167      115        7860                0   \n",
       "4         4       137965      115        7922                0   \n",
       "..      ...          ...      ...         ...              ...   \n",
       "995     995  15092368574    13134        2334                0   \n",
       "996     996  15092368574    13134        2333                0   \n",
       "997     997  15092493419    13134        2182                0   \n",
       "998     998  15092493419    13134        2184                0   \n",
       "999     999  15092493419    13134        2183                0   \n",
       "\n",
       "     task_container_id  user_answer  answered_correctly  \\\n",
       "0                    1            3                   1   \n",
       "1                    2            2                   1   \n",
       "2                    0            0                   1   \n",
       "3                    3            0                   1   \n",
       "4                    4            1                   1   \n",
       "..                 ...          ...                 ...   \n",
       "995                297            3                   0   \n",
       "996                297            0                   0   \n",
       "997                298            3                   0   \n",
       "998                298            0                   1   \n",
       "999                298            1                   1   \n",
       "\n",
       "     prior_question_elapsed_time  prior_question_had_explanation  ...  \\\n",
       "0                            NaN                            <NA>  ...   \n",
       "1                        37000.0                           False  ...   \n",
       "2                        55000.0                           False  ...   \n",
       "3                        19000.0                           False  ...   \n",
       "4                        11000.0                           False  ...   \n",
       "..                           ...                             ...  ...   \n",
       "995                      22333.0                            True  ...   \n",
       "996                      22333.0                            True  ...   \n",
       "997                      31666.0                            True  ...   \n",
       "998                      31666.0                            True  ...   \n",
       "999                      31666.0                            True  ...   \n",
       "\n",
       "     prior_minutes  prior_seconds  retention  has_seen_lecture_before  \\\n",
       "0              NaN            NaN   1.000000                    False   \n",
       "1         0.616667         37.000   0.986817                    False   \n",
       "2         0.916667         55.000   0.972981                    False   \n",
       "3         0.316667         19.000   0.970146                    False   \n",
       "4         0.183333         11.000   0.968647                    False   \n",
       "..             ...            ...        ...                      ...   \n",
       "995       0.372217         22.333   0.056078                     True   \n",
       "996       0.372217         22.333   0.056078                     True   \n",
       "997       0.527767         31.666   0.055986                     True   \n",
       "998       0.527767         31.666   0.055986                     True   \n",
       "999       0.527767         31.666   0.055986                     True   \n",
       "\n",
       "     has_seen_same_tag_as_lecture  has_seen_same_part_as_lecture  \\\n",
       "0                           False                          False   \n",
       "1                           False                          False   \n",
       "2                           False                          False   \n",
       "3                           False                          False   \n",
       "4                           False                          False   \n",
       "..                            ...                            ...   \n",
       "995                         False                          False   \n",
       "996                         False                          False   \n",
       "997                         False                          False   \n",
       "998                         False                          False   \n",
       "999                         False                          False   \n",
       "\n",
       "     has_part_common_with_type_of  has_tag_common_with_type_of  \\\n",
       "0                           False                        False   \n",
       "1                           False                        False   \n",
       "2                           False                        False   \n",
       "3                           False                        False   \n",
       "4                           False                        False   \n",
       "..                            ...                          ...   \n",
       "995                          True                         True   \n",
       "996                          True                         True   \n",
       "997                          True                         True   \n",
       "998                          True                         True   \n",
       "999                          True                         True   \n",
       "\n",
       "     has_tag_common_with_part_dict  has_type_of_common_with_part_dict  \n",
       "0                            False                              False  \n",
       "1                            False                              False  \n",
       "2                            False                              False  \n",
       "3                            False                              False  \n",
       "4                            False                              False  \n",
       "..                             ...                                ...  \n",
       "995                          False                               True  \n",
       "996                          False                               True  \n",
       "997                          False                               True  \n",
       "998                          False                               True  \n",
       "999                          False                               True  \n",
       "\n",
       "[1000 rows x 24 columns]"
      ],
      "text/html": "<div>\n<style scoped>\n    .dataframe tbody tr th:only-of-type {\n        vertical-align: middle;\n    }\n\n    .dataframe tbody tr th {\n        vertical-align: top;\n    }\n\n    .dataframe thead th {\n        text-align: right;\n    }\n</style>\n<table border=\"1\" class=\"dataframe\">\n  <thead>\n    <tr style=\"text-align: right;\">\n      <th></th>\n      <th>row_id</th>\n      <th>timestamp</th>\n      <th>user_id</th>\n      <th>content_id</th>\n      <th>content_type_id</th>\n      <th>task_container_id</th>\n      <th>user_answer</th>\n      <th>answered_correctly</th>\n      <th>prior_question_elapsed_time</th>\n      <th>prior_question_had_explanation</th>\n      <th>...</th>\n      <th>prior_minutes</th>\n      <th>prior_seconds</th>\n      <th>retention</th>\n      <th>has_seen_lecture_before</th>\n      <th>has_seen_same_tag_as_lecture</th>\n      <th>has_seen_same_part_as_lecture</th>\n      <th>has_part_common_with_type_of</th>\n      <th>has_tag_common_with_type_of</th>\n      <th>has_tag_common_with_part_dict</th>\n      <th>has_type_of_common_with_part_dict</th>\n    </tr>\n  </thead>\n  <tbody>\n    <tr>\n      <th>0</th>\n      <td>0</td>\n      <td>0</td>\n      <td>115</td>\n      <td>5692</td>\n      <td>0</td>\n      <td>1</td>\n      <td>3</td>\n      <td>1</td>\n      <td>NaN</td>\n      <td>&lt;NA&gt;</td>\n      <td>...</td>\n      <td>NaN</td>\n      <td>NaN</td>\n      <td>1.000000</td>\n      <td>False</td>\n      <td>False</td>\n      <td>False</td>\n      <td>False</td>\n      <td>False</td>\n      <td>False</td>\n      <td>False</td>\n    </tr>\n    <tr>\n      <th>1</th>\n      <td>1</td>\n      <td>56943</td>\n      <td>115</td>\n      <td>5716</td>\n      <td>0</td>\n      <td>2</td>\n      <td>2</td>\n      <td>1</td>\n      <td>37000.0</td>\n      <td>False</td>\n      <td>...</td>\n      <td>0.616667</td>\n      <td>37.000</td>\n      <td>0.986817</td>\n      <td>False</td>\n      <td>False</td>\n      <td>False</td>\n      <td>False</td>\n      <td>False</td>\n      <td>False</td>\n      <td>False</td>\n    </tr>\n    <tr>\n      <th>2</th>\n      <td>2</td>\n      <td>118363</td>\n      <td>115</td>\n      <td>128</td>\n      <td>0</td>\n      <td>0</td>\n      <td>0</td>\n      <td>1</td>\n      <td>55000.0</td>\n      <td>False</td>\n      <td>...</td>\n      <td>0.916667</td>\n      <td>55.000</td>\n      <td>0.972981</td>\n      <td>False</td>\n      <td>False</td>\n      <td>False</td>\n      <td>False</td>\n      <td>False</td>\n      <td>False</td>\n      <td>False</td>\n    </tr>\n    <tr>\n      <th>3</th>\n      <td>3</td>\n      <td>131167</td>\n      <td>115</td>\n      <td>7860</td>\n      <td>0</td>\n      <td>3</td>\n      <td>0</td>\n      <td>1</td>\n      <td>19000.0</td>\n      <td>False</td>\n      <td>...</td>\n      <td>0.316667</td>\n      <td>19.000</td>\n      <td>0.970146</td>\n      <td>False</td>\n      <td>False</td>\n      <td>False</td>\n      <td>False</td>\n      <td>False</td>\n      <td>False</td>\n      <td>False</td>\n    </tr>\n    <tr>\n      <th>4</th>\n      <td>4</td>\n      <td>137965</td>\n      <td>115</td>\n      <td>7922</td>\n      <td>0</td>\n      <td>4</td>\n      <td>1</td>\n      <td>1</td>\n      <td>11000.0</td>\n      <td>False</td>\n      <td>...</td>\n      <td>0.183333</td>\n      <td>11.000</td>\n      <td>0.968647</td>\n      <td>False</td>\n      <td>False</td>\n      <td>False</td>\n      <td>False</td>\n      <td>False</td>\n      <td>False</td>\n      <td>False</td>\n    </tr>\n    <tr>\n      <th>...</th>\n      <td>...</td>\n      <td>...</td>\n      <td>...</td>\n      <td>...</td>\n      <td>...</td>\n      <td>...</td>\n      <td>...</td>\n      <td>...</td>\n      <td>...</td>\n      <td>...</td>\n      <td>...</td>\n      <td>...</td>\n      <td>...</td>\n      <td>...</td>\n      <td>...</td>\n      <td>...</td>\n      <td>...</td>\n      <td>...</td>\n      <td>...</td>\n      <td>...</td>\n      <td>...</td>\n    </tr>\n    <tr>\n      <th>995</th>\n      <td>995</td>\n      <td>15092368574</td>\n      <td>13134</td>\n      <td>2334</td>\n      <td>0</td>\n      <td>297</td>\n      <td>3</td>\n      <td>0</td>\n      <td>22333.0</td>\n      <td>True</td>\n      <td>...</td>\n      <td>0.372217</td>\n      <td>22.333</td>\n      <td>0.056078</td>\n      <td>True</td>\n      <td>False</td>\n      <td>False</td>\n      <td>True</td>\n      <td>True</td>\n      <td>False</td>\n      <td>True</td>\n    </tr>\n    <tr>\n      <th>996</th>\n      <td>996</td>\n      <td>15092368574</td>\n      <td>13134</td>\n      <td>2333</td>\n      <td>0</td>\n      <td>297</td>\n      <td>0</td>\n      <td>0</td>\n      <td>22333.0</td>\n      <td>True</td>\n      <td>...</td>\n      <td>0.372217</td>\n      <td>22.333</td>\n      <td>0.056078</td>\n      <td>True</td>\n      <td>False</td>\n      <td>False</td>\n      <td>True</td>\n      <td>True</td>\n      <td>False</td>\n      <td>True</td>\n    </tr>\n    <tr>\n      <th>997</th>\n      <td>997</td>\n      <td>15092493419</td>\n      <td>13134</td>\n      <td>2182</td>\n      <td>0</td>\n      <td>298</td>\n      <td>3</td>\n      <td>0</td>\n      <td>31666.0</td>\n      <td>True</td>\n      <td>...</td>\n      <td>0.527767</td>\n      <td>31.666</td>\n      <td>0.055986</td>\n      <td>True</td>\n      <td>False</td>\n      <td>False</td>\n      <td>True</td>\n      <td>True</td>\n      <td>False</td>\n      <td>True</td>\n    </tr>\n    <tr>\n      <th>998</th>\n      <td>998</td>\n      <td>15092493419</td>\n      <td>13134</td>\n      <td>2184</td>\n      <td>0</td>\n      <td>298</td>\n      <td>0</td>\n      <td>1</td>\n      <td>31666.0</td>\n      <td>True</td>\n      <td>...</td>\n      <td>0.527767</td>\n      <td>31.666</td>\n      <td>0.055986</td>\n      <td>True</td>\n      <td>False</td>\n      <td>False</td>\n      <td>True</td>\n      <td>True</td>\n      <td>False</td>\n      <td>True</td>\n    </tr>\n    <tr>\n      <th>999</th>\n      <td>999</td>\n      <td>15092493419</td>\n      <td>13134</td>\n      <td>2183</td>\n      <td>0</td>\n      <td>298</td>\n      <td>1</td>\n      <td>1</td>\n      <td>31666.0</td>\n      <td>True</td>\n      <td>...</td>\n      <td>0.527767</td>\n      <td>31.666</td>\n      <td>0.055986</td>\n      <td>True</td>\n      <td>False</td>\n      <td>False</td>\n      <td>True</td>\n      <td>True</td>\n      <td>False</td>\n      <td>True</td>\n    </tr>\n  </tbody>\n</table>\n<p>1000 rows × 24 columns</p>\n</div>"
     },
     "metadata": {},
     "execution_count": 316
    }
   ],
   "source": [
    "train_df"
   ]
  },
  {
   "cell_type": "code",
   "execution_count": 317,
   "metadata": {},
   "outputs": [
    {
     "output_type": "execute_result",
     "data": {
      "text/plain": [
       "     row_id    timestamp  user_id  content_id  content_type_id  \\\n",
       "770     770  15014038675    13134        4683                0   \n",
       "771     771  15014061350    13134        5719                0   \n",
       "772     772  15015426698    13134        5905                0   \n",
       "773     773  15016111296    13134       10002                0   \n",
       "774     774  15016762442    13134        8165                0   \n",
       "775     775  15016774763    13134        4521                0   \n",
       "776     776  15016796241    13134        8786                0   \n",
       "777     777  15016826052    13134        9047                0   \n",
       "778     778  15016850331    13134        6004                0   \n",
       "779     779  15016872315    13134        5255                0   \n",
       "780     780  15016897668    13134        9087                0   \n",
       "781     781  15016928715    13134        4259                0   \n",
       "782     782  15019770367    13134       29544                1   \n",
       "783     783  15019799314    13134         853                0   \n",
       "784     784  15019835957    13134         738                0   \n",
       "785     785  15019879972    13134         834                0   \n",
       "786     786  15019915331    13134        1047                0   \n",
       "787     787  15019950450    13134         381                0   \n",
       "788     788  15019967974    13134        3153                1   \n",
       "789     789  15019992221    13134         805                0   \n",
       "790     790  15020023978    13134        1315                0   \n",
       "791     791  15020058343    13134       28921                1   \n",
       "792     792  15020072738    13134        4109                0   \n",
       "793     793  15020085314    13134        4131                0   \n",
       "794     794  15020268294    13134       10578                0   \n",
       "795     795  15020297831    13134        7962                0   \n",
       "796     796  15020328668    13134       10633                0   \n",
       "797     797  15020358421    13134       10444                0   \n",
       "798     798  15020400418    13134       10579                0   \n",
       "799     799  15020443982    13134        7892                0   \n",
       "\n",
       "     task_container_id  user_answer  answered_correctly  \\\n",
       "770                139            1                   1   \n",
       "771                140            2                   1   \n",
       "772                141            0                   1   \n",
       "773                142            1                   1   \n",
       "774                143            1                   1   \n",
       "775                144            0                   1   \n",
       "776                145            3                   1   \n",
       "777                146            3                   1   \n",
       "778                147            0                   1   \n",
       "779                148            0                   1   \n",
       "780                149            3                   1   \n",
       "781                150            1                   1   \n",
       "782                120           -1                  -1   \n",
       "783                151            0                   1   \n",
       "784                152            0                   0   \n",
       "785                153            0                   0   \n",
       "786                154            3                   0   \n",
       "787                155            1                   1   \n",
       "788                156           -1                  -1   \n",
       "789                157            1                   1   \n",
       "790                158            3                   1   \n",
       "791                159           -1                  -1   \n",
       "792                160            3                   1   \n",
       "793                161            3                   1   \n",
       "794                162            0                   1   \n",
       "795                163            3                   1   \n",
       "796                164            1                   1   \n",
       "797                165            0                   1   \n",
       "798                166            2                   1   \n",
       "799                167            2                   1   \n",
       "\n",
       "     prior_question_elapsed_time  prior_question_had_explanation  ...  \\\n",
       "770                      19000.0                            True  ...   \n",
       "771                       5000.0                            True  ...   \n",
       "772                       9000.0                            True  ...   \n",
       "773                      16000.0                            True  ...   \n",
       "774                      22000.0                            True  ...   \n",
       "775                      15000.0                            True  ...   \n",
       "776                       4000.0                            True  ...   \n",
       "777                      13000.0                            True  ...   \n",
       "778                      18000.0                            True  ...   \n",
       "779                      12000.0                            True  ...   \n",
       "780                      14000.0                            True  ...   \n",
       "781                      15000.0                            True  ...   \n",
       "782                          NaN                           False  ...   \n",
       "783                      19000.0                            True  ...   \n",
       "784                      18000.0                            True  ...   \n",
       "785                      17000.0                            True  ...   \n",
       "786                      17000.0                            True  ...   \n",
       "787                      15000.0                            True  ...   \n",
       "788                          NaN                           False  ...   \n",
       "789                      19000.0                            True  ...   \n",
       "790                      19000.0                            True  ...   \n",
       "791                          NaN                           False  ...   \n",
       "792                      17000.0                            True  ...   \n",
       "793                       8000.0                            True  ...   \n",
       "794                       4000.0                            True  ...   \n",
       "795                      16000.0                            True  ...   \n",
       "796                      22000.0                            True  ...   \n",
       "797                      23000.0                            True  ...   \n",
       "798                      21000.0                            True  ...   \n",
       "799                      24000.0                            True  ...   \n",
       "\n",
       "     prior_minutes  prior_seconds  retention  has_seen_lecture_before  \\\n",
       "770       0.316667           19.0   0.002060                     True   \n",
       "771       0.083333            5.0   0.002060                     True   \n",
       "772       0.150000            9.0   0.002058                     True   \n",
       "773       0.266667           16.0   0.002058                     True   \n",
       "774       0.366667           22.0   0.002057                     True   \n",
       "775       0.250000           15.0   0.002057                     True   \n",
       "776       0.066667            4.0   0.002057                     True   \n",
       "777       0.216667           13.0   0.002057                     True   \n",
       "778       0.300000           18.0   0.002057                     True   \n",
       "779       0.200000           12.0   0.002057                     True   \n",
       "780       0.233333           14.0   0.002057                     True   \n",
       "781       0.250000           15.0   0.002057                     True   \n",
       "782            NaN            NaN   1.000000                     True   \n",
       "783       0.316667           19.0   0.993255                     True   \n",
       "784       0.300000           18.0   0.984845                     True   \n",
       "785       0.283333           17.0   0.974930                     True   \n",
       "786       0.283333           17.0   0.967109                     True   \n",
       "787       0.250000           15.0   0.959463                     True   \n",
       "788            NaN            NaN   1.000000                     True   \n",
       "789       0.316667           19.0   0.994344                     True   \n",
       "790       0.316667           19.0   0.987031                     True   \n",
       "791            NaN            NaN   1.000000                     True   \n",
       "792       0.283333           17.0   0.996634                     True   \n",
       "793       0.133333            8.0   0.993712                     True   \n",
       "794       0.066667            4.0   0.953056                     True   \n",
       "795       0.266667           16.0   0.946803                     True   \n",
       "796       0.366667           22.0   0.940361                     True   \n",
       "797       0.383333           23.0   0.934229                     True   \n",
       "798       0.350000           21.0   0.925708                     True   \n",
       "799       0.400000           24.0   0.917032                     True   \n",
       "\n",
       "     has_seen_same_tag_as_lecture  has_seen_same_part_as_lecture  \\\n",
       "770                         False                          False   \n",
       "771                         False                          False   \n",
       "772                         False                          False   \n",
       "773                         False                          False   \n",
       "774                         False                          False   \n",
       "775                         False                          False   \n",
       "776                         False                          False   \n",
       "777                         False                          False   \n",
       "778                         False                          False   \n",
       "779                         False                          False   \n",
       "780                         False                          False   \n",
       "781                         False                          False   \n",
       "782                         False                          False   \n",
       "783                          True                           True   \n",
       "784                          True                           True   \n",
       "785                         False                           True   \n",
       "786                         False                           True   \n",
       "787                         False                           True   \n",
       "788                         False                          False   \n",
       "789                          True                           True   \n",
       "790                          True                           True   \n",
       "791                         False                          False   \n",
       "792                          True                           True   \n",
       "793                          True                           True   \n",
       "794                         False                          False   \n",
       "795                         False                          False   \n",
       "796                         False                          False   \n",
       "797                         False                          False   \n",
       "798                         False                          False   \n",
       "799                         False                          False   \n",
       "\n",
       "     has_part_common_with_type_of  has_tag_common_with_type_of  \\\n",
       "770                          True                         True   \n",
       "771                          True                         True   \n",
       "772                          True                         True   \n",
       "773                          True                         True   \n",
       "774                          True                         True   \n",
       "775                          True                         True   \n",
       "776                          True                         True   \n",
       "777                          True                         True   \n",
       "778                          True                         True   \n",
       "779                          True                         True   \n",
       "780                          True                         True   \n",
       "781                          True                         True   \n",
       "782                         False                        False   \n",
       "783                          True                         True   \n",
       "784                          True                         True   \n",
       "785                          True                         True   \n",
       "786                          True                         True   \n",
       "787                          True                         True   \n",
       "788                         False                        False   \n",
       "789                          True                         True   \n",
       "790                          True                         True   \n",
       "791                         False                        False   \n",
       "792                          True                         True   \n",
       "793                          True                         True   \n",
       "794                          True                         True   \n",
       "795                          True                         True   \n",
       "796                          True                         True   \n",
       "797                          True                         True   \n",
       "798                          True                         True   \n",
       "799                          True                         True   \n",
       "\n",
       "     has_tag_common_with_part_dict  has_type_of_common_with_part_dict  \n",
       "770                          False                               True  \n",
       "771                          False                               True  \n",
       "772                          False                               True  \n",
       "773                          False                               True  \n",
       "774                          False                               True  \n",
       "775                          False                               True  \n",
       "776                          False                               True  \n",
       "777                          False                               True  \n",
       "778                          False                               True  \n",
       "779                          False                               True  \n",
       "780                          False                               True  \n",
       "781                          False                               True  \n",
       "782                          False                              False  \n",
       "783                           True                               True  \n",
       "784                           True                               True  \n",
       "785                           True                               True  \n",
       "786                           True                               True  \n",
       "787                           True                               True  \n",
       "788                          False                              False  \n",
       "789                           True                               True  \n",
       "790                           True                               True  \n",
       "791                          False                              False  \n",
       "792                           True                               True  \n",
       "793                           True                               True  \n",
       "794                          False                               True  \n",
       "795                          False                               True  \n",
       "796                          False                               True  \n",
       "797                          False                               True  \n",
       "798                          False                               True  \n",
       "799                          False                               True  \n",
       "\n",
       "[30 rows x 24 columns]"
      ],
      "text/html": "<div>\n<style scoped>\n    .dataframe tbody tr th:only-of-type {\n        vertical-align: middle;\n    }\n\n    .dataframe tbody tr th {\n        vertical-align: top;\n    }\n\n    .dataframe thead th {\n        text-align: right;\n    }\n</style>\n<table border=\"1\" class=\"dataframe\">\n  <thead>\n    <tr style=\"text-align: right;\">\n      <th></th>\n      <th>row_id</th>\n      <th>timestamp</th>\n      <th>user_id</th>\n      <th>content_id</th>\n      <th>content_type_id</th>\n      <th>task_container_id</th>\n      <th>user_answer</th>\n      <th>answered_correctly</th>\n      <th>prior_question_elapsed_time</th>\n      <th>prior_question_had_explanation</th>\n      <th>...</th>\n      <th>prior_minutes</th>\n      <th>prior_seconds</th>\n      <th>retention</th>\n      <th>has_seen_lecture_before</th>\n      <th>has_seen_same_tag_as_lecture</th>\n      <th>has_seen_same_part_as_lecture</th>\n      <th>has_part_common_with_type_of</th>\n      <th>has_tag_common_with_type_of</th>\n      <th>has_tag_common_with_part_dict</th>\n      <th>has_type_of_common_with_part_dict</th>\n    </tr>\n  </thead>\n  <tbody>\n    <tr>\n      <th>770</th>\n      <td>770</td>\n      <td>15014038675</td>\n      <td>13134</td>\n      <td>4683</td>\n      <td>0</td>\n      <td>139</td>\n      <td>1</td>\n      <td>1</td>\n      <td>19000.0</td>\n      <td>True</td>\n      <td>...</td>\n      <td>0.316667</td>\n      <td>19.0</td>\n      <td>0.002060</td>\n      <td>True</td>\n      <td>False</td>\n      <td>False</td>\n      <td>True</td>\n      <td>True</td>\n      <td>False</td>\n      <td>True</td>\n    </tr>\n    <tr>\n      <th>771</th>\n      <td>771</td>\n      <td>15014061350</td>\n      <td>13134</td>\n      <td>5719</td>\n      <td>0</td>\n      <td>140</td>\n      <td>2</td>\n      <td>1</td>\n      <td>5000.0</td>\n      <td>True</td>\n      <td>...</td>\n      <td>0.083333</td>\n      <td>5.0</td>\n      <td>0.002060</td>\n      <td>True</td>\n      <td>False</td>\n      <td>False</td>\n      <td>True</td>\n      <td>True</td>\n      <td>False</td>\n      <td>True</td>\n    </tr>\n    <tr>\n      <th>772</th>\n      <td>772</td>\n      <td>15015426698</td>\n      <td>13134</td>\n      <td>5905</td>\n      <td>0</td>\n      <td>141</td>\n      <td>0</td>\n      <td>1</td>\n      <td>9000.0</td>\n      <td>True</td>\n      <td>...</td>\n      <td>0.150000</td>\n      <td>9.0</td>\n      <td>0.002058</td>\n      <td>True</td>\n      <td>False</td>\n      <td>False</td>\n      <td>True</td>\n      <td>True</td>\n      <td>False</td>\n      <td>True</td>\n    </tr>\n    <tr>\n      <th>773</th>\n      <td>773</td>\n      <td>15016111296</td>\n      <td>13134</td>\n      <td>10002</td>\n      <td>0</td>\n      <td>142</td>\n      <td>1</td>\n      <td>1</td>\n      <td>16000.0</td>\n      <td>True</td>\n      <td>...</td>\n      <td>0.266667</td>\n      <td>16.0</td>\n      <td>0.002058</td>\n      <td>True</td>\n      <td>False</td>\n      <td>False</td>\n      <td>True</td>\n      <td>True</td>\n      <td>False</td>\n      <td>True</td>\n    </tr>\n    <tr>\n      <th>774</th>\n      <td>774</td>\n      <td>15016762442</td>\n      <td>13134</td>\n      <td>8165</td>\n      <td>0</td>\n      <td>143</td>\n      <td>1</td>\n      <td>1</td>\n      <td>22000.0</td>\n      <td>True</td>\n      <td>...</td>\n      <td>0.366667</td>\n      <td>22.0</td>\n      <td>0.002057</td>\n      <td>True</td>\n      <td>False</td>\n      <td>False</td>\n      <td>True</td>\n      <td>True</td>\n      <td>False</td>\n      <td>True</td>\n    </tr>\n    <tr>\n      <th>775</th>\n      <td>775</td>\n      <td>15016774763</td>\n      <td>13134</td>\n      <td>4521</td>\n      <td>0</td>\n      <td>144</td>\n      <td>0</td>\n      <td>1</td>\n      <td>15000.0</td>\n      <td>True</td>\n      <td>...</td>\n      <td>0.250000</td>\n      <td>15.0</td>\n      <td>0.002057</td>\n      <td>True</td>\n      <td>False</td>\n      <td>False</td>\n      <td>True</td>\n      <td>True</td>\n      <td>False</td>\n      <td>True</td>\n    </tr>\n    <tr>\n      <th>776</th>\n      <td>776</td>\n      <td>15016796241</td>\n      <td>13134</td>\n      <td>8786</td>\n      <td>0</td>\n      <td>145</td>\n      <td>3</td>\n      <td>1</td>\n      <td>4000.0</td>\n      <td>True</td>\n      <td>...</td>\n      <td>0.066667</td>\n      <td>4.0</td>\n      <td>0.002057</td>\n      <td>True</td>\n      <td>False</td>\n      <td>False</td>\n      <td>True</td>\n      <td>True</td>\n      <td>False</td>\n      <td>True</td>\n    </tr>\n    <tr>\n      <th>777</th>\n      <td>777</td>\n      <td>15016826052</td>\n      <td>13134</td>\n      <td>9047</td>\n      <td>0</td>\n      <td>146</td>\n      <td>3</td>\n      <td>1</td>\n      <td>13000.0</td>\n      <td>True</td>\n      <td>...</td>\n      <td>0.216667</td>\n      <td>13.0</td>\n      <td>0.002057</td>\n      <td>True</td>\n      <td>False</td>\n      <td>False</td>\n      <td>True</td>\n      <td>True</td>\n      <td>False</td>\n      <td>True</td>\n    </tr>\n    <tr>\n      <th>778</th>\n      <td>778</td>\n      <td>15016850331</td>\n      <td>13134</td>\n      <td>6004</td>\n      <td>0</td>\n      <td>147</td>\n      <td>0</td>\n      <td>1</td>\n      <td>18000.0</td>\n      <td>True</td>\n      <td>...</td>\n      <td>0.300000</td>\n      <td>18.0</td>\n      <td>0.002057</td>\n      <td>True</td>\n      <td>False</td>\n      <td>False</td>\n      <td>True</td>\n      <td>True</td>\n      <td>False</td>\n      <td>True</td>\n    </tr>\n    <tr>\n      <th>779</th>\n      <td>779</td>\n      <td>15016872315</td>\n      <td>13134</td>\n      <td>5255</td>\n      <td>0</td>\n      <td>148</td>\n      <td>0</td>\n      <td>1</td>\n      <td>12000.0</td>\n      <td>True</td>\n      <td>...</td>\n      <td>0.200000</td>\n      <td>12.0</td>\n      <td>0.002057</td>\n      <td>True</td>\n      <td>False</td>\n      <td>False</td>\n      <td>True</td>\n      <td>True</td>\n      <td>False</td>\n      <td>True</td>\n    </tr>\n    <tr>\n      <th>780</th>\n      <td>780</td>\n      <td>15016897668</td>\n      <td>13134</td>\n      <td>9087</td>\n      <td>0</td>\n      <td>149</td>\n      <td>3</td>\n      <td>1</td>\n      <td>14000.0</td>\n      <td>True</td>\n      <td>...</td>\n      <td>0.233333</td>\n      <td>14.0</td>\n      <td>0.002057</td>\n      <td>True</td>\n      <td>False</td>\n      <td>False</td>\n      <td>True</td>\n      <td>True</td>\n      <td>False</td>\n      <td>True</td>\n    </tr>\n    <tr>\n      <th>781</th>\n      <td>781</td>\n      <td>15016928715</td>\n      <td>13134</td>\n      <td>4259</td>\n      <td>0</td>\n      <td>150</td>\n      <td>1</td>\n      <td>1</td>\n      <td>15000.0</td>\n      <td>True</td>\n      <td>...</td>\n      <td>0.250000</td>\n      <td>15.0</td>\n      <td>0.002057</td>\n      <td>True</td>\n      <td>False</td>\n      <td>False</td>\n      <td>True</td>\n      <td>True</td>\n      <td>False</td>\n      <td>True</td>\n    </tr>\n    <tr>\n      <th>782</th>\n      <td>782</td>\n      <td>15019770367</td>\n      <td>13134</td>\n      <td>29544</td>\n      <td>1</td>\n      <td>120</td>\n      <td>-1</td>\n      <td>-1</td>\n      <td>NaN</td>\n      <td>False</td>\n      <td>...</td>\n      <td>NaN</td>\n      <td>NaN</td>\n      <td>1.000000</td>\n      <td>True</td>\n      <td>False</td>\n      <td>False</td>\n      <td>False</td>\n      <td>False</td>\n      <td>False</td>\n      <td>False</td>\n    </tr>\n    <tr>\n      <th>783</th>\n      <td>783</td>\n      <td>15019799314</td>\n      <td>13134</td>\n      <td>853</td>\n      <td>0</td>\n      <td>151</td>\n      <td>0</td>\n      <td>1</td>\n      <td>19000.0</td>\n      <td>True</td>\n      <td>...</td>\n      <td>0.316667</td>\n      <td>19.0</td>\n      <td>0.993255</td>\n      <td>True</td>\n      <td>True</td>\n      <td>True</td>\n      <td>True</td>\n      <td>True</td>\n      <td>True</td>\n      <td>True</td>\n    </tr>\n    <tr>\n      <th>784</th>\n      <td>784</td>\n      <td>15019835957</td>\n      <td>13134</td>\n      <td>738</td>\n      <td>0</td>\n      <td>152</td>\n      <td>0</td>\n      <td>0</td>\n      <td>18000.0</td>\n      <td>True</td>\n      <td>...</td>\n      <td>0.300000</td>\n      <td>18.0</td>\n      <td>0.984845</td>\n      <td>True</td>\n      <td>True</td>\n      <td>True</td>\n      <td>True</td>\n      <td>True</td>\n      <td>True</td>\n      <td>True</td>\n    </tr>\n    <tr>\n      <th>785</th>\n      <td>785</td>\n      <td>15019879972</td>\n      <td>13134</td>\n      <td>834</td>\n      <td>0</td>\n      <td>153</td>\n      <td>0</td>\n      <td>0</td>\n      <td>17000.0</td>\n      <td>True</td>\n      <td>...</td>\n      <td>0.283333</td>\n      <td>17.0</td>\n      <td>0.974930</td>\n      <td>True</td>\n      <td>False</td>\n      <td>True</td>\n      <td>True</td>\n      <td>True</td>\n      <td>True</td>\n      <td>True</td>\n    </tr>\n    <tr>\n      <th>786</th>\n      <td>786</td>\n      <td>15019915331</td>\n      <td>13134</td>\n      <td>1047</td>\n      <td>0</td>\n      <td>154</td>\n      <td>3</td>\n      <td>0</td>\n      <td>17000.0</td>\n      <td>True</td>\n      <td>...</td>\n      <td>0.283333</td>\n      <td>17.0</td>\n      <td>0.967109</td>\n      <td>True</td>\n      <td>False</td>\n      <td>True</td>\n      <td>True</td>\n      <td>True</td>\n      <td>True</td>\n      <td>True</td>\n    </tr>\n    <tr>\n      <th>787</th>\n      <td>787</td>\n      <td>15019950450</td>\n      <td>13134</td>\n      <td>381</td>\n      <td>0</td>\n      <td>155</td>\n      <td>1</td>\n      <td>1</td>\n      <td>15000.0</td>\n      <td>True</td>\n      <td>...</td>\n      <td>0.250000</td>\n      <td>15.0</td>\n      <td>0.959463</td>\n      <td>True</td>\n      <td>False</td>\n      <td>True</td>\n      <td>True</td>\n      <td>True</td>\n      <td>True</td>\n      <td>True</td>\n    </tr>\n    <tr>\n      <th>788</th>\n      <td>788</td>\n      <td>15019967974</td>\n      <td>13134</td>\n      <td>3153</td>\n      <td>1</td>\n      <td>156</td>\n      <td>-1</td>\n      <td>-1</td>\n      <td>NaN</td>\n      <td>False</td>\n      <td>...</td>\n      <td>NaN</td>\n      <td>NaN</td>\n      <td>1.000000</td>\n      <td>True</td>\n      <td>False</td>\n      <td>False</td>\n      <td>False</td>\n      <td>False</td>\n      <td>False</td>\n      <td>False</td>\n    </tr>\n    <tr>\n      <th>789</th>\n      <td>789</td>\n      <td>15019992221</td>\n      <td>13134</td>\n      <td>805</td>\n      <td>0</td>\n      <td>157</td>\n      <td>1</td>\n      <td>1</td>\n      <td>19000.0</td>\n      <td>True</td>\n      <td>...</td>\n      <td>0.316667</td>\n      <td>19.0</td>\n      <td>0.994344</td>\n      <td>True</td>\n      <td>True</td>\n      <td>True</td>\n      <td>True</td>\n      <td>True</td>\n      <td>True</td>\n      <td>True</td>\n    </tr>\n    <tr>\n      <th>790</th>\n      <td>790</td>\n      <td>15020023978</td>\n      <td>13134</td>\n      <td>1315</td>\n      <td>0</td>\n      <td>158</td>\n      <td>3</td>\n      <td>1</td>\n      <td>19000.0</td>\n      <td>True</td>\n      <td>...</td>\n      <td>0.316667</td>\n      <td>19.0</td>\n      <td>0.987031</td>\n      <td>True</td>\n      <td>True</td>\n      <td>True</td>\n      <td>True</td>\n      <td>True</td>\n      <td>True</td>\n      <td>True</td>\n    </tr>\n    <tr>\n      <th>791</th>\n      <td>791</td>\n      <td>15020058343</td>\n      <td>13134</td>\n      <td>28921</td>\n      <td>1</td>\n      <td>159</td>\n      <td>-1</td>\n      <td>-1</td>\n      <td>NaN</td>\n      <td>False</td>\n      <td>...</td>\n      <td>NaN</td>\n      <td>NaN</td>\n      <td>1.000000</td>\n      <td>True</td>\n      <td>False</td>\n      <td>False</td>\n      <td>False</td>\n      <td>False</td>\n      <td>False</td>\n      <td>False</td>\n    </tr>\n    <tr>\n      <th>792</th>\n      <td>792</td>\n      <td>15020072738</td>\n      <td>13134</td>\n      <td>4109</td>\n      <td>0</td>\n      <td>160</td>\n      <td>3</td>\n      <td>1</td>\n      <td>17000.0</td>\n      <td>True</td>\n      <td>...</td>\n      <td>0.283333</td>\n      <td>17.0</td>\n      <td>0.996634</td>\n      <td>True</td>\n      <td>True</td>\n      <td>True</td>\n      <td>True</td>\n      <td>True</td>\n      <td>True</td>\n      <td>True</td>\n    </tr>\n    <tr>\n      <th>793</th>\n      <td>793</td>\n      <td>15020085314</td>\n      <td>13134</td>\n      <td>4131</td>\n      <td>0</td>\n      <td>161</td>\n      <td>3</td>\n      <td>1</td>\n      <td>8000.0</td>\n      <td>True</td>\n      <td>...</td>\n      <td>0.133333</td>\n      <td>8.0</td>\n      <td>0.993712</td>\n      <td>True</td>\n      <td>True</td>\n      <td>True</td>\n      <td>True</td>\n      <td>True</td>\n      <td>True</td>\n      <td>True</td>\n    </tr>\n    <tr>\n      <th>794</th>\n      <td>794</td>\n      <td>15020268294</td>\n      <td>13134</td>\n      <td>10578</td>\n      <td>0</td>\n      <td>162</td>\n      <td>0</td>\n      <td>1</td>\n      <td>4000.0</td>\n      <td>True</td>\n      <td>...</td>\n      <td>0.066667</td>\n      <td>4.0</td>\n      <td>0.953056</td>\n      <td>True</td>\n      <td>False</td>\n      <td>False</td>\n      <td>True</td>\n      <td>True</td>\n      <td>False</td>\n      <td>True</td>\n    </tr>\n    <tr>\n      <th>795</th>\n      <td>795</td>\n      <td>15020297831</td>\n      <td>13134</td>\n      <td>7962</td>\n      <td>0</td>\n      <td>163</td>\n      <td>3</td>\n      <td>1</td>\n      <td>16000.0</td>\n      <td>True</td>\n      <td>...</td>\n      <td>0.266667</td>\n      <td>16.0</td>\n      <td>0.946803</td>\n      <td>True</td>\n      <td>False</td>\n      <td>False</td>\n      <td>True</td>\n      <td>True</td>\n      <td>False</td>\n      <td>True</td>\n    </tr>\n    <tr>\n      <th>796</th>\n      <td>796</td>\n      <td>15020328668</td>\n      <td>13134</td>\n      <td>10633</td>\n      <td>0</td>\n      <td>164</td>\n      <td>1</td>\n      <td>1</td>\n      <td>22000.0</td>\n      <td>True</td>\n      <td>...</td>\n      <td>0.366667</td>\n      <td>22.0</td>\n      <td>0.940361</td>\n      <td>True</td>\n      <td>False</td>\n      <td>False</td>\n      <td>True</td>\n      <td>True</td>\n      <td>False</td>\n      <td>True</td>\n    </tr>\n    <tr>\n      <th>797</th>\n      <td>797</td>\n      <td>15020358421</td>\n      <td>13134</td>\n      <td>10444</td>\n      <td>0</td>\n      <td>165</td>\n      <td>0</td>\n      <td>1</td>\n      <td>23000.0</td>\n      <td>True</td>\n      <td>...</td>\n      <td>0.383333</td>\n      <td>23.0</td>\n      <td>0.934229</td>\n      <td>True</td>\n      <td>False</td>\n      <td>False</td>\n      <td>True</td>\n      <td>True</td>\n      <td>False</td>\n      <td>True</td>\n    </tr>\n    <tr>\n      <th>798</th>\n      <td>798</td>\n      <td>15020400418</td>\n      <td>13134</td>\n      <td>10579</td>\n      <td>0</td>\n      <td>166</td>\n      <td>2</td>\n      <td>1</td>\n      <td>21000.0</td>\n      <td>True</td>\n      <td>...</td>\n      <td>0.350000</td>\n      <td>21.0</td>\n      <td>0.925708</td>\n      <td>True</td>\n      <td>False</td>\n      <td>False</td>\n      <td>True</td>\n      <td>True</td>\n      <td>False</td>\n      <td>True</td>\n    </tr>\n    <tr>\n      <th>799</th>\n      <td>799</td>\n      <td>15020443982</td>\n      <td>13134</td>\n      <td>7892</td>\n      <td>0</td>\n      <td>167</td>\n      <td>2</td>\n      <td>1</td>\n      <td>24000.0</td>\n      <td>True</td>\n      <td>...</td>\n      <td>0.400000</td>\n      <td>24.0</td>\n      <td>0.917032</td>\n      <td>True</td>\n      <td>False</td>\n      <td>False</td>\n      <td>True</td>\n      <td>True</td>\n      <td>False</td>\n      <td>True</td>\n    </tr>\n  </tbody>\n</table>\n<p>30 rows × 24 columns</p>\n</div>"
     },
     "metadata": {},
     "execution_count": 317
    }
   ],
   "source": [
    "train_df[770:800]"
   ]
  },
  {
   "cell_type": "code",
   "execution_count": 323,
   "metadata": {},
   "outputs": [
    {
     "output_type": "execute_result",
     "data": {
      "text/plain": [
       "     row_id    timestamp  user_id  content_id  content_type_id  \\\n",
       "0         0            0      115        5692                0   \n",
       "1         1        56943      115        5716                0   \n",
       "2         2       118363      115         128                0   \n",
       "3         3       131167      115        7860                0   \n",
       "4         4       137965      115        7922                0   \n",
       "..      ...          ...      ...         ...              ...   \n",
       "685     685  12948517301    13134         868                0   \n",
       "686     686  12948521851    13134         868                0   \n",
       "687     687  12948556717    13134        1136                0   \n",
       "688     688  12948599939    13134         758                0   \n",
       "689     689  12948747295    13134         477                0   \n",
       "\n",
       "     task_container_id  user_answer  answered_correctly  \\\n",
       "0                    1            3                   1   \n",
       "1                    2            2                   1   \n",
       "2                    0            0                   1   \n",
       "3                    3            0                   1   \n",
       "4                    4            1                   1   \n",
       "..                 ...          ...                 ...   \n",
       "685                 54            0                   1   \n",
       "686                 53            3                   0   \n",
       "687                 55            0                   1   \n",
       "688                 56            0                   0   \n",
       "689                 57            3                   0   \n",
       "\n",
       "     prior_question_elapsed_time  prior_question_had_explanation  ...  \\\n",
       "0                            NaN                            <NA>  ...   \n",
       "1                        37000.0                           False  ...   \n",
       "2                        55000.0                           False  ...   \n",
       "3                        19000.0                           False  ...   \n",
       "4                        11000.0                           False  ...   \n",
       "..                           ...                             ...  ...   \n",
       "685                      12000.0                            True  ...   \n",
       "686                       7000.0                            True  ...   \n",
       "687                      23000.0                            True  ...   \n",
       "688                      18000.0                            True  ...   \n",
       "689                      25000.0                            True  ...   \n",
       "\n",
       "     prior_minutes  prior_seconds  retention  has_seen_lecture_before  \\\n",
       "0              NaN            NaN   1.000000                    False   \n",
       "1         0.616667           37.0   0.986817                    False   \n",
       "2         0.916667           55.0   0.972981                    False   \n",
       "3         0.316667           19.0   0.970146                    False   \n",
       "4         0.183333           11.0   0.968647                    False   \n",
       "..             ...            ...        ...                      ...   \n",
       "685       0.200000           12.0   0.000329                    False   \n",
       "686       0.116667            7.0   0.000329                    False   \n",
       "687       0.383333           23.0   0.000329                    False   \n",
       "688       0.300000           18.0   0.000329                    False   \n",
       "689       0.416667           25.0   0.000329                    False   \n",
       "\n",
       "     has_seen_same_tag_as_lecture  has_seen_same_part_as_lecture  \\\n",
       "0                           False                          False   \n",
       "1                           False                          False   \n",
       "2                           False                          False   \n",
       "3                           False                          False   \n",
       "4                           False                          False   \n",
       "..                            ...                            ...   \n",
       "685                         False                          False   \n",
       "686                         False                          False   \n",
       "687                         False                          False   \n",
       "688                         False                          False   \n",
       "689                         False                          False   \n",
       "\n",
       "     has_part_common_with_type_of  has_tag_common_with_type_of  \\\n",
       "0                           False                        False   \n",
       "1                           False                        False   \n",
       "2                           False                        False   \n",
       "3                           False                        False   \n",
       "4                           False                        False   \n",
       "..                            ...                          ...   \n",
       "685                         False                        False   \n",
       "686                         False                        False   \n",
       "687                         False                        False   \n",
       "688                         False                        False   \n",
       "689                         False                        False   \n",
       "\n",
       "     has_tag_common_with_part_dict  has_type_of_common_with_part_dict  \n",
       "0                            False                              False  \n",
       "1                            False                              False  \n",
       "2                            False                              False  \n",
       "3                            False                              False  \n",
       "4                            False                              False  \n",
       "..                             ...                                ...  \n",
       "685                          False                              False  \n",
       "686                          False                              False  \n",
       "687                          False                              False  \n",
       "688                          False                              False  \n",
       "689                          False                              False  \n",
       "\n",
       "[320 rows x 24 columns]"
      ],
      "text/html": "<div>\n<style scoped>\n    .dataframe tbody tr th:only-of-type {\n        vertical-align: middle;\n    }\n\n    .dataframe tbody tr th {\n        vertical-align: top;\n    }\n\n    .dataframe thead th {\n        text-align: right;\n    }\n</style>\n<table border=\"1\" class=\"dataframe\">\n  <thead>\n    <tr style=\"text-align: right;\">\n      <th></th>\n      <th>row_id</th>\n      <th>timestamp</th>\n      <th>user_id</th>\n      <th>content_id</th>\n      <th>content_type_id</th>\n      <th>task_container_id</th>\n      <th>user_answer</th>\n      <th>answered_correctly</th>\n      <th>prior_question_elapsed_time</th>\n      <th>prior_question_had_explanation</th>\n      <th>...</th>\n      <th>prior_minutes</th>\n      <th>prior_seconds</th>\n      <th>retention</th>\n      <th>has_seen_lecture_before</th>\n      <th>has_seen_same_tag_as_lecture</th>\n      <th>has_seen_same_part_as_lecture</th>\n      <th>has_part_common_with_type_of</th>\n      <th>has_tag_common_with_type_of</th>\n      <th>has_tag_common_with_part_dict</th>\n      <th>has_type_of_common_with_part_dict</th>\n    </tr>\n  </thead>\n  <tbody>\n    <tr>\n      <th>0</th>\n      <td>0</td>\n      <td>0</td>\n      <td>115</td>\n      <td>5692</td>\n      <td>0</td>\n      <td>1</td>\n      <td>3</td>\n      <td>1</td>\n      <td>NaN</td>\n      <td>&lt;NA&gt;</td>\n      <td>...</td>\n      <td>NaN</td>\n      <td>NaN</td>\n      <td>1.000000</td>\n      <td>False</td>\n      <td>False</td>\n      <td>False</td>\n      <td>False</td>\n      <td>False</td>\n      <td>False</td>\n      <td>False</td>\n    </tr>\n    <tr>\n      <th>1</th>\n      <td>1</td>\n      <td>56943</td>\n      <td>115</td>\n      <td>5716</td>\n      <td>0</td>\n      <td>2</td>\n      <td>2</td>\n      <td>1</td>\n      <td>37000.0</td>\n      <td>False</td>\n      <td>...</td>\n      <td>0.616667</td>\n      <td>37.0</td>\n      <td>0.986817</td>\n      <td>False</td>\n      <td>False</td>\n      <td>False</td>\n      <td>False</td>\n      <td>False</td>\n      <td>False</td>\n      <td>False</td>\n    </tr>\n    <tr>\n      <th>2</th>\n      <td>2</td>\n      <td>118363</td>\n      <td>115</td>\n      <td>128</td>\n      <td>0</td>\n      <td>0</td>\n      <td>0</td>\n      <td>1</td>\n      <td>55000.0</td>\n      <td>False</td>\n      <td>...</td>\n      <td>0.916667</td>\n      <td>55.0</td>\n      <td>0.972981</td>\n      <td>False</td>\n      <td>False</td>\n      <td>False</td>\n      <td>False</td>\n      <td>False</td>\n      <td>False</td>\n      <td>False</td>\n    </tr>\n    <tr>\n      <th>3</th>\n      <td>3</td>\n      <td>131167</td>\n      <td>115</td>\n      <td>7860</td>\n      <td>0</td>\n      <td>3</td>\n      <td>0</td>\n      <td>1</td>\n      <td>19000.0</td>\n      <td>False</td>\n      <td>...</td>\n      <td>0.316667</td>\n      <td>19.0</td>\n      <td>0.970146</td>\n      <td>False</td>\n      <td>False</td>\n      <td>False</td>\n      <td>False</td>\n      <td>False</td>\n      <td>False</td>\n      <td>False</td>\n    </tr>\n    <tr>\n      <th>4</th>\n      <td>4</td>\n      <td>137965</td>\n      <td>115</td>\n      <td>7922</td>\n      <td>0</td>\n      <td>4</td>\n      <td>1</td>\n      <td>1</td>\n      <td>11000.0</td>\n      <td>False</td>\n      <td>...</td>\n      <td>0.183333</td>\n      <td>11.0</td>\n      <td>0.968647</td>\n      <td>False</td>\n      <td>False</td>\n      <td>False</td>\n      <td>False</td>\n      <td>False</td>\n      <td>False</td>\n      <td>False</td>\n    </tr>\n    <tr>\n      <th>...</th>\n      <td>...</td>\n      <td>...</td>\n      <td>...</td>\n      <td>...</td>\n      <td>...</td>\n      <td>...</td>\n      <td>...</td>\n      <td>...</td>\n      <td>...</td>\n      <td>...</td>\n      <td>...</td>\n      <td>...</td>\n      <td>...</td>\n      <td>...</td>\n      <td>...</td>\n      <td>...</td>\n      <td>...</td>\n      <td>...</td>\n      <td>...</td>\n      <td>...</td>\n      <td>...</td>\n    </tr>\n    <tr>\n      <th>685</th>\n      <td>685</td>\n      <td>12948517301</td>\n      <td>13134</td>\n      <td>868</td>\n      <td>0</td>\n      <td>54</td>\n      <td>0</td>\n      <td>1</td>\n      <td>12000.0</td>\n      <td>True</td>\n      <td>...</td>\n      <td>0.200000</td>\n      <td>12.0</td>\n      <td>0.000329</td>\n      <td>False</td>\n      <td>False</td>\n      <td>False</td>\n      <td>False</td>\n      <td>False</td>\n      <td>False</td>\n      <td>False</td>\n    </tr>\n    <tr>\n      <th>686</th>\n      <td>686</td>\n      <td>12948521851</td>\n      <td>13134</td>\n      <td>868</td>\n      <td>0</td>\n      <td>53</td>\n      <td>3</td>\n      <td>0</td>\n      <td>7000.0</td>\n      <td>True</td>\n      <td>...</td>\n      <td>0.116667</td>\n      <td>7.0</td>\n      <td>0.000329</td>\n      <td>False</td>\n      <td>False</td>\n      <td>False</td>\n      <td>False</td>\n      <td>False</td>\n      <td>False</td>\n      <td>False</td>\n    </tr>\n    <tr>\n      <th>687</th>\n      <td>687</td>\n      <td>12948556717</td>\n      <td>13134</td>\n      <td>1136</td>\n      <td>0</td>\n      <td>55</td>\n      <td>0</td>\n      <td>1</td>\n      <td>23000.0</td>\n      <td>True</td>\n      <td>...</td>\n      <td>0.383333</td>\n      <td>23.0</td>\n      <td>0.000329</td>\n      <td>False</td>\n      <td>False</td>\n      <td>False</td>\n      <td>False</td>\n      <td>False</td>\n      <td>False</td>\n      <td>False</td>\n    </tr>\n    <tr>\n      <th>688</th>\n      <td>688</td>\n      <td>12948599939</td>\n      <td>13134</td>\n      <td>758</td>\n      <td>0</td>\n      <td>56</td>\n      <td>0</td>\n      <td>0</td>\n      <td>18000.0</td>\n      <td>True</td>\n      <td>...</td>\n      <td>0.300000</td>\n      <td>18.0</td>\n      <td>0.000329</td>\n      <td>False</td>\n      <td>False</td>\n      <td>False</td>\n      <td>False</td>\n      <td>False</td>\n      <td>False</td>\n      <td>False</td>\n    </tr>\n    <tr>\n      <th>689</th>\n      <td>689</td>\n      <td>12948747295</td>\n      <td>13134</td>\n      <td>477</td>\n      <td>0</td>\n      <td>57</td>\n      <td>3</td>\n      <td>0</td>\n      <td>25000.0</td>\n      <td>True</td>\n      <td>...</td>\n      <td>0.416667</td>\n      <td>25.0</td>\n      <td>0.000329</td>\n      <td>False</td>\n      <td>False</td>\n      <td>False</td>\n      <td>False</td>\n      <td>False</td>\n      <td>False</td>\n      <td>False</td>\n    </tr>\n  </tbody>\n</table>\n<p>320 rows × 24 columns</p>\n</div>"
     },
     "metadata": {},
     "execution_count": 323
    }
   ],
   "source": [
    "train_df[(train_df['has_type_of_common_with_part_dict']!=True) & (train_df['content_type_id']==0)]"
   ]
  },
  {
   "cell_type": "code",
   "execution_count": 68,
   "metadata": {},
   "outputs": [],
   "source": [
    "lectures_ids = train_df[train_df['content_type_id']!=0].content_id.unique()"
   ]
  },
  {
   "cell_type": "code",
   "execution_count": 74,
   "metadata": {},
   "outputs": [],
   "source": [
    "lecture_tags = lectures_df[lectures_df.lecture_id.isin(lectures_ids)].tag.unique()\n",
    "#tags.str.contains(r\"^27\", na=False)"
   ]
  },
  {
   "cell_type": "code",
   "execution_count": 106,
   "metadata": {},
   "outputs": [
    {
     "output_type": "execute_result",
     "data": {
      "text/plain": [
       "62"
      ]
     },
     "metadata": {},
     "execution_count": 106
    }
   ],
   "source": [
    "lecture_tags[0]"
   ]
  },
  {
   "cell_type": "code",
   "execution_count": 124,
   "metadata": {},
   "outputs": [],
   "source": [
    "questions_df['has_related_tag'] = questions_df.apply(lambda row: any([ str(tag) in str(row.tags).split() for tag in list(lecture_tags)]), axis=1)"
   ]
  },
  {
   "cell_type": "code",
   "execution_count": 125,
   "metadata": {},
   "outputs": [
    {
     "output_type": "execute_result",
     "data": {
      "text/plain": [
       "       question_id  bundle_id  correct_answer  part           tags  \\\n",
       "9                9          9               3     1      10 164 81   \n",
       "16              16         16               3     1      131 99 92   \n",
       "31              31         31               1     1  131 40 162 81   \n",
       "37              37         37               1     1      131 40 81   \n",
       "45              45         45               1     1  10 164 162 81   \n",
       "...            ...        ...             ...   ...            ...   \n",
       "13087        13087      13085               3     4      161 67 81   \n",
       "13089        13089      13088               0     4      161 12 81   \n",
       "13092        13092      13091               2     4      161 67 92   \n",
       "13385        13385      13385               0     5             52   \n",
       "13493        13493      13493               3     5             43   \n",
       "\n",
       "       has_related_tag  \n",
       "9                 True  \n",
       "16                True  \n",
       "31                True  \n",
       "37                True  \n",
       "45                True  \n",
       "...                ...  \n",
       "13087             True  \n",
       "13089             True  \n",
       "13092             True  \n",
       "13385             True  \n",
       "13493             True  \n",
       "\n",
       "[905 rows x 6 columns]"
      ],
      "text/html": "<div>\n<style scoped>\n    .dataframe tbody tr th:only-of-type {\n        vertical-align: middle;\n    }\n\n    .dataframe tbody tr th {\n        vertical-align: top;\n    }\n\n    .dataframe thead th {\n        text-align: right;\n    }\n</style>\n<table border=\"1\" class=\"dataframe\">\n  <thead>\n    <tr style=\"text-align: right;\">\n      <th></th>\n      <th>question_id</th>\n      <th>bundle_id</th>\n      <th>correct_answer</th>\n      <th>part</th>\n      <th>tags</th>\n      <th>has_related_tag</th>\n    </tr>\n  </thead>\n  <tbody>\n    <tr>\n      <th>9</th>\n      <td>9</td>\n      <td>9</td>\n      <td>3</td>\n      <td>1</td>\n      <td>10 164 81</td>\n      <td>True</td>\n    </tr>\n    <tr>\n      <th>16</th>\n      <td>16</td>\n      <td>16</td>\n      <td>3</td>\n      <td>1</td>\n      <td>131 99 92</td>\n      <td>True</td>\n    </tr>\n    <tr>\n      <th>31</th>\n      <td>31</td>\n      <td>31</td>\n      <td>1</td>\n      <td>1</td>\n      <td>131 40 162 81</td>\n      <td>True</td>\n    </tr>\n    <tr>\n      <th>37</th>\n      <td>37</td>\n      <td>37</td>\n      <td>1</td>\n      <td>1</td>\n      <td>131 40 81</td>\n      <td>True</td>\n    </tr>\n    <tr>\n      <th>45</th>\n      <td>45</td>\n      <td>45</td>\n      <td>1</td>\n      <td>1</td>\n      <td>10 164 162 81</td>\n      <td>True</td>\n    </tr>\n    <tr>\n      <th>...</th>\n      <td>...</td>\n      <td>...</td>\n      <td>...</td>\n      <td>...</td>\n      <td>...</td>\n      <td>...</td>\n    </tr>\n    <tr>\n      <th>13087</th>\n      <td>13087</td>\n      <td>13085</td>\n      <td>3</td>\n      <td>4</td>\n      <td>161 67 81</td>\n      <td>True</td>\n    </tr>\n    <tr>\n      <th>13089</th>\n      <td>13089</td>\n      <td>13088</td>\n      <td>0</td>\n      <td>4</td>\n      <td>161 12 81</td>\n      <td>True</td>\n    </tr>\n    <tr>\n      <th>13092</th>\n      <td>13092</td>\n      <td>13091</td>\n      <td>2</td>\n      <td>4</td>\n      <td>161 67 92</td>\n      <td>True</td>\n    </tr>\n    <tr>\n      <th>13385</th>\n      <td>13385</td>\n      <td>13385</td>\n      <td>0</td>\n      <td>5</td>\n      <td>52</td>\n      <td>True</td>\n    </tr>\n    <tr>\n      <th>13493</th>\n      <td>13493</td>\n      <td>13493</td>\n      <td>3</td>\n      <td>5</td>\n      <td>43</td>\n      <td>True</td>\n    </tr>\n  </tbody>\n</table>\n<p>905 rows × 6 columns</p>\n</div>"
     },
     "metadata": {},
     "execution_count": 125
    }
   ],
   "source": [
    "questions_df[questions_df['has_related_tag']]"
   ]
  },
  {
   "cell_type": "code",
   "execution_count": 309,
   "metadata": {},
   "outputs": [
    {
     "output_type": "execute_result",
     "data": {
      "text/plain": [
       "     row_id    timestamp  user_id  content_id  content_type_id  \\\n",
       "89       89       653762     2746        6808                1   \n",
       "117     117     10183847     5382       16736                1   \n",
       "212     212   1424348597     5382       30207                1   \n",
       "216     216   1425557777     5382       18545                1   \n",
       "295     295    405813029     8623       10540                1   \n",
       "302     302    406265768     8623       25843                1   \n",
       "323     323    577424049     8623       29544                1   \n",
       "409     409   3083871588    12741       20307                1   \n",
       "441     441   3263276452    12741       10688                1   \n",
       "486     486   3268387671    12741       10217                1   \n",
       "487     487   3577136075    12741        3852                1   \n",
       "561     561   3777499330    12741       18186                1   \n",
       "623     623   4465486358    12741       22792                1   \n",
       "690     690  12948802833    13134       21887                1   \n",
       "782     782  15019770367    13134       29544                1   \n",
       "788     788  15019967974    13134        3153                1   \n",
       "791     791  15020058343    13134       28921                1   \n",
       "803     803  15020622121    13134       28349                1   \n",
       "\n",
       "     task_container_id  user_answer  answered_correctly  \\\n",
       "89                  14           -1                  -1   \n",
       "117                 21           -1                  -1   \n",
       "212                104           -1                  -1   \n",
       "216                121           -1                  -1   \n",
       "295                 59           -1                  -1   \n",
       "302                 66           -1                  -1   \n",
       "323                 87           -1                  -1   \n",
       "409                 33           -1                  -1   \n",
       "441                 53           -1                  -1   \n",
       "486                 66           -1                  -1   \n",
       "487                 67           -1                  -1   \n",
       "561                 88           -1                  -1   \n",
       "623                106           -1                  -1   \n",
       "690                 58           -1                  -1   \n",
       "782                120           -1                  -1   \n",
       "788                156           -1                  -1   \n",
       "791                159           -1                  -1   \n",
       "803                172           -1                  -1   \n",
       "\n",
       "     prior_question_elapsed_time  prior_question_had_explanation  ...  \\\n",
       "89                           NaN                           False  ...   \n",
       "117                          NaN                           False  ...   \n",
       "212                          NaN                           False  ...   \n",
       "216                          NaN                           False  ...   \n",
       "295                          NaN                           False  ...   \n",
       "302                          NaN                           False  ...   \n",
       "323                          NaN                           False  ...   \n",
       "409                          NaN                           False  ...   \n",
       "441                          NaN                           False  ...   \n",
       "486                          NaN                           False  ...   \n",
       "487                          NaN                           False  ...   \n",
       "561                          NaN                           False  ...   \n",
       "623                          NaN                           False  ...   \n",
       "690                          NaN                           False  ...   \n",
       "782                          NaN                           False  ...   \n",
       "788                          NaN                           False  ...   \n",
       "791                          NaN                           False  ...   \n",
       "803                          NaN                           False  ...   \n",
       "\n",
       "     prior_minutes  prior_seconds  retention  has_seen_lecture_before  \\\n",
       "89             NaN            NaN        1.0                     True   \n",
       "117            NaN            NaN        1.0                     True   \n",
       "212            NaN            NaN        1.0                     True   \n",
       "216            NaN            NaN        1.0                     True   \n",
       "295            NaN            NaN        1.0                     True   \n",
       "302            NaN            NaN        1.0                     True   \n",
       "323            NaN            NaN        1.0                     True   \n",
       "409            NaN            NaN        1.0                     True   \n",
       "441            NaN            NaN        1.0                     True   \n",
       "486            NaN            NaN        1.0                     True   \n",
       "487            NaN            NaN        1.0                     True   \n",
       "561            NaN            NaN        1.0                     True   \n",
       "623            NaN            NaN        1.0                     True   \n",
       "690            NaN            NaN        1.0                     True   \n",
       "782            NaN            NaN        1.0                     True   \n",
       "788            NaN            NaN        1.0                     True   \n",
       "791            NaN            NaN        1.0                     True   \n",
       "803            NaN            NaN        1.0                     True   \n",
       "\n",
       "     has_seen_same_tag_as_lecture  has_seen_same_part_as_lecture  \\\n",
       "89                          False                          False   \n",
       "117                         False                          False   \n",
       "212                         False                          False   \n",
       "216                         False                          False   \n",
       "295                         False                          False   \n",
       "302                         False                          False   \n",
       "323                         False                          False   \n",
       "409                         False                          False   \n",
       "441                         False                          False   \n",
       "486                         False                          False   \n",
       "487                         False                          False   \n",
       "561                         False                          False   \n",
       "623                         False                          False   \n",
       "690                         False                          False   \n",
       "782                         False                          False   \n",
       "788                         False                          False   \n",
       "791                         False                          False   \n",
       "803                         False                          False   \n",
       "\n",
       "     has_part_common_with_type_of  has_tag_common_with_type_of  \\\n",
       "89                          False                        False   \n",
       "117                         False                        False   \n",
       "212                         False                        False   \n",
       "216                         False                        False   \n",
       "295                         False                        False   \n",
       "302                         False                        False   \n",
       "323                         False                        False   \n",
       "409                         False                        False   \n",
       "441                         False                        False   \n",
       "486                         False                        False   \n",
       "487                         False                        False   \n",
       "561                         False                        False   \n",
       "623                         False                        False   \n",
       "690                         False                        False   \n",
       "782                         False                        False   \n",
       "788                         False                        False   \n",
       "791                         False                        False   \n",
       "803                         False                        False   \n",
       "\n",
       "     has_tag_common_with_part_dict  has_type_of_common_with_part_dict  \n",
       "89                           False                              False  \n",
       "117                          False                              False  \n",
       "212                          False                              False  \n",
       "216                          False                              False  \n",
       "295                          False                              False  \n",
       "302                          False                              False  \n",
       "323                          False                              False  \n",
       "409                          False                              False  \n",
       "441                          False                              False  \n",
       "486                          False                              False  \n",
       "487                          False                              False  \n",
       "561                          False                              False  \n",
       "623                          False                              False  \n",
       "690                          False                              False  \n",
       "782                          False                              False  \n",
       "788                          False                              False  \n",
       "791                          False                              False  \n",
       "803                          False                              False  \n",
       "\n",
       "[18 rows x 24 columns]"
      ],
      "text/html": "<div>\n<style scoped>\n    .dataframe tbody tr th:only-of-type {\n        vertical-align: middle;\n    }\n\n    .dataframe tbody tr th {\n        vertical-align: top;\n    }\n\n    .dataframe thead th {\n        text-align: right;\n    }\n</style>\n<table border=\"1\" class=\"dataframe\">\n  <thead>\n    <tr style=\"text-align: right;\">\n      <th></th>\n      <th>row_id</th>\n      <th>timestamp</th>\n      <th>user_id</th>\n      <th>content_id</th>\n      <th>content_type_id</th>\n      <th>task_container_id</th>\n      <th>user_answer</th>\n      <th>answered_correctly</th>\n      <th>prior_question_elapsed_time</th>\n      <th>prior_question_had_explanation</th>\n      <th>...</th>\n      <th>prior_minutes</th>\n      <th>prior_seconds</th>\n      <th>retention</th>\n      <th>has_seen_lecture_before</th>\n      <th>has_seen_same_tag_as_lecture</th>\n      <th>has_seen_same_part_as_lecture</th>\n      <th>has_part_common_with_type_of</th>\n      <th>has_tag_common_with_type_of</th>\n      <th>has_tag_common_with_part_dict</th>\n      <th>has_type_of_common_with_part_dict</th>\n    </tr>\n  </thead>\n  <tbody>\n    <tr>\n      <th>89</th>\n      <td>89</td>\n      <td>653762</td>\n      <td>2746</td>\n      <td>6808</td>\n      <td>1</td>\n      <td>14</td>\n      <td>-1</td>\n      <td>-1</td>\n      <td>NaN</td>\n      <td>False</td>\n      <td>...</td>\n      <td>NaN</td>\n      <td>NaN</td>\n      <td>1.0</td>\n      <td>True</td>\n      <td>False</td>\n      <td>False</td>\n      <td>False</td>\n      <td>False</td>\n      <td>False</td>\n      <td>False</td>\n    </tr>\n    <tr>\n      <th>117</th>\n      <td>117</td>\n      <td>10183847</td>\n      <td>5382</td>\n      <td>16736</td>\n      <td>1</td>\n      <td>21</td>\n      <td>-1</td>\n      <td>-1</td>\n      <td>NaN</td>\n      <td>False</td>\n      <td>...</td>\n      <td>NaN</td>\n      <td>NaN</td>\n      <td>1.0</td>\n      <td>True</td>\n      <td>False</td>\n      <td>False</td>\n      <td>False</td>\n      <td>False</td>\n      <td>False</td>\n      <td>False</td>\n    </tr>\n    <tr>\n      <th>212</th>\n      <td>212</td>\n      <td>1424348597</td>\n      <td>5382</td>\n      <td>30207</td>\n      <td>1</td>\n      <td>104</td>\n      <td>-1</td>\n      <td>-1</td>\n      <td>NaN</td>\n      <td>False</td>\n      <td>...</td>\n      <td>NaN</td>\n      <td>NaN</td>\n      <td>1.0</td>\n      <td>True</td>\n      <td>False</td>\n      <td>False</td>\n      <td>False</td>\n      <td>False</td>\n      <td>False</td>\n      <td>False</td>\n    </tr>\n    <tr>\n      <th>216</th>\n      <td>216</td>\n      <td>1425557777</td>\n      <td>5382</td>\n      <td>18545</td>\n      <td>1</td>\n      <td>121</td>\n      <td>-1</td>\n      <td>-1</td>\n      <td>NaN</td>\n      <td>False</td>\n      <td>...</td>\n      <td>NaN</td>\n      <td>NaN</td>\n      <td>1.0</td>\n      <td>True</td>\n      <td>False</td>\n      <td>False</td>\n      <td>False</td>\n      <td>False</td>\n      <td>False</td>\n      <td>False</td>\n    </tr>\n    <tr>\n      <th>295</th>\n      <td>295</td>\n      <td>405813029</td>\n      <td>8623</td>\n      <td>10540</td>\n      <td>1</td>\n      <td>59</td>\n      <td>-1</td>\n      <td>-1</td>\n      <td>NaN</td>\n      <td>False</td>\n      <td>...</td>\n      <td>NaN</td>\n      <td>NaN</td>\n      <td>1.0</td>\n      <td>True</td>\n      <td>False</td>\n      <td>False</td>\n      <td>False</td>\n      <td>False</td>\n      <td>False</td>\n      <td>False</td>\n    </tr>\n    <tr>\n      <th>302</th>\n      <td>302</td>\n      <td>406265768</td>\n      <td>8623</td>\n      <td>25843</td>\n      <td>1</td>\n      <td>66</td>\n      <td>-1</td>\n      <td>-1</td>\n      <td>NaN</td>\n      <td>False</td>\n      <td>...</td>\n      <td>NaN</td>\n      <td>NaN</td>\n      <td>1.0</td>\n      <td>True</td>\n      <td>False</td>\n      <td>False</td>\n      <td>False</td>\n      <td>False</td>\n      <td>False</td>\n      <td>False</td>\n    </tr>\n    <tr>\n      <th>323</th>\n      <td>323</td>\n      <td>577424049</td>\n      <td>8623</td>\n      <td>29544</td>\n      <td>1</td>\n      <td>87</td>\n      <td>-1</td>\n      <td>-1</td>\n      <td>NaN</td>\n      <td>False</td>\n      <td>...</td>\n      <td>NaN</td>\n      <td>NaN</td>\n      <td>1.0</td>\n      <td>True</td>\n      <td>False</td>\n      <td>False</td>\n      <td>False</td>\n      <td>False</td>\n      <td>False</td>\n      <td>False</td>\n    </tr>\n    <tr>\n      <th>409</th>\n      <td>409</td>\n      <td>3083871588</td>\n      <td>12741</td>\n      <td>20307</td>\n      <td>1</td>\n      <td>33</td>\n      <td>-1</td>\n      <td>-1</td>\n      <td>NaN</td>\n      <td>False</td>\n      <td>...</td>\n      <td>NaN</td>\n      <td>NaN</td>\n      <td>1.0</td>\n      <td>True</td>\n      <td>False</td>\n      <td>False</td>\n      <td>False</td>\n      <td>False</td>\n      <td>False</td>\n      <td>False</td>\n    </tr>\n    <tr>\n      <th>441</th>\n      <td>441</td>\n      <td>3263276452</td>\n      <td>12741</td>\n      <td>10688</td>\n      <td>1</td>\n      <td>53</td>\n      <td>-1</td>\n      <td>-1</td>\n      <td>NaN</td>\n      <td>False</td>\n      <td>...</td>\n      <td>NaN</td>\n      <td>NaN</td>\n      <td>1.0</td>\n      <td>True</td>\n      <td>False</td>\n      <td>False</td>\n      <td>False</td>\n      <td>False</td>\n      <td>False</td>\n      <td>False</td>\n    </tr>\n    <tr>\n      <th>486</th>\n      <td>486</td>\n      <td>3268387671</td>\n      <td>12741</td>\n      <td>10217</td>\n      <td>1</td>\n      <td>66</td>\n      <td>-1</td>\n      <td>-1</td>\n      <td>NaN</td>\n      <td>False</td>\n      <td>...</td>\n      <td>NaN</td>\n      <td>NaN</td>\n      <td>1.0</td>\n      <td>True</td>\n      <td>False</td>\n      <td>False</td>\n      <td>False</td>\n      <td>False</td>\n      <td>False</td>\n      <td>False</td>\n    </tr>\n    <tr>\n      <th>487</th>\n      <td>487</td>\n      <td>3577136075</td>\n      <td>12741</td>\n      <td>3852</td>\n      <td>1</td>\n      <td>67</td>\n      <td>-1</td>\n      <td>-1</td>\n      <td>NaN</td>\n      <td>False</td>\n      <td>...</td>\n      <td>NaN</td>\n      <td>NaN</td>\n      <td>1.0</td>\n      <td>True</td>\n      <td>False</td>\n      <td>False</td>\n      <td>False</td>\n      <td>False</td>\n      <td>False</td>\n      <td>False</td>\n    </tr>\n    <tr>\n      <th>561</th>\n      <td>561</td>\n      <td>3777499330</td>\n      <td>12741</td>\n      <td>18186</td>\n      <td>1</td>\n      <td>88</td>\n      <td>-1</td>\n      <td>-1</td>\n      <td>NaN</td>\n      <td>False</td>\n      <td>...</td>\n      <td>NaN</td>\n      <td>NaN</td>\n      <td>1.0</td>\n      <td>True</td>\n      <td>False</td>\n      <td>False</td>\n      <td>False</td>\n      <td>False</td>\n      <td>False</td>\n      <td>False</td>\n    </tr>\n    <tr>\n      <th>623</th>\n      <td>623</td>\n      <td>4465486358</td>\n      <td>12741</td>\n      <td>22792</td>\n      <td>1</td>\n      <td>106</td>\n      <td>-1</td>\n      <td>-1</td>\n      <td>NaN</td>\n      <td>False</td>\n      <td>...</td>\n      <td>NaN</td>\n      <td>NaN</td>\n      <td>1.0</td>\n      <td>True</td>\n      <td>False</td>\n      <td>False</td>\n      <td>False</td>\n      <td>False</td>\n      <td>False</td>\n      <td>False</td>\n    </tr>\n    <tr>\n      <th>690</th>\n      <td>690</td>\n      <td>12948802833</td>\n      <td>13134</td>\n      <td>21887</td>\n      <td>1</td>\n      <td>58</td>\n      <td>-1</td>\n      <td>-1</td>\n      <td>NaN</td>\n      <td>False</td>\n      <td>...</td>\n      <td>NaN</td>\n      <td>NaN</td>\n      <td>1.0</td>\n      <td>True</td>\n      <td>False</td>\n      <td>False</td>\n      <td>False</td>\n      <td>False</td>\n      <td>False</td>\n      <td>False</td>\n    </tr>\n    <tr>\n      <th>782</th>\n      <td>782</td>\n      <td>15019770367</td>\n      <td>13134</td>\n      <td>29544</td>\n      <td>1</td>\n      <td>120</td>\n      <td>-1</td>\n      <td>-1</td>\n      <td>NaN</td>\n      <td>False</td>\n      <td>...</td>\n      <td>NaN</td>\n      <td>NaN</td>\n      <td>1.0</td>\n      <td>True</td>\n      <td>False</td>\n      <td>False</td>\n      <td>False</td>\n      <td>False</td>\n      <td>False</td>\n      <td>False</td>\n    </tr>\n    <tr>\n      <th>788</th>\n      <td>788</td>\n      <td>15019967974</td>\n      <td>13134</td>\n      <td>3153</td>\n      <td>1</td>\n      <td>156</td>\n      <td>-1</td>\n      <td>-1</td>\n      <td>NaN</td>\n      <td>False</td>\n      <td>...</td>\n      <td>NaN</td>\n      <td>NaN</td>\n      <td>1.0</td>\n      <td>True</td>\n      <td>False</td>\n      <td>False</td>\n      <td>False</td>\n      <td>False</td>\n      <td>False</td>\n      <td>False</td>\n    </tr>\n    <tr>\n      <th>791</th>\n      <td>791</td>\n      <td>15020058343</td>\n      <td>13134</td>\n      <td>28921</td>\n      <td>1</td>\n      <td>159</td>\n      <td>-1</td>\n      <td>-1</td>\n      <td>NaN</td>\n      <td>False</td>\n      <td>...</td>\n      <td>NaN</td>\n      <td>NaN</td>\n      <td>1.0</td>\n      <td>True</td>\n      <td>False</td>\n      <td>False</td>\n      <td>False</td>\n      <td>False</td>\n      <td>False</td>\n      <td>False</td>\n    </tr>\n    <tr>\n      <th>803</th>\n      <td>803</td>\n      <td>15020622121</td>\n      <td>13134</td>\n      <td>28349</td>\n      <td>1</td>\n      <td>172</td>\n      <td>-1</td>\n      <td>-1</td>\n      <td>NaN</td>\n      <td>False</td>\n      <td>...</td>\n      <td>NaN</td>\n      <td>NaN</td>\n      <td>1.0</td>\n      <td>True</td>\n      <td>False</td>\n      <td>False</td>\n      <td>False</td>\n      <td>False</td>\n      <td>False</td>\n      <td>False</td>\n    </tr>\n  </tbody>\n</table>\n<p>18 rows × 24 columns</p>\n</div>"
     },
     "metadata": {},
     "execution_count": 309
    }
   ],
   "source": [
    "train_df[train_df['content_type_id']!=0]"
   ]
  },
  {
   "cell_type": "code",
   "execution_count": null,
   "metadata": {},
   "outputs": [],
   "source": []
  }
 ]
}