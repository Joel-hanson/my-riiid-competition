{
 "metadata": {
  "language_info": {
   "codemirror_mode": {
    "name": "ipython",
    "version": 3
   },
   "file_extension": ".py",
   "mimetype": "text/x-python",
   "name": "python",
   "nbconvert_exporter": "python",
   "pygments_lexer": "ipython3",
   "version": "3.8.5-final"
  },
  "orig_nbformat": 2,
  "kernelspec": {
   "name": "python3",
   "display_name": "Python 3"
  }
 },
 "nbformat": 4,
 "nbformat_minor": 2,
 "cells": [
  {
   "source": [
    "#### Imports"
   ],
   "cell_type": "markdown",
   "metadata": {}
  },
  {
   "cell_type": "code",
   "execution_count": 1,
   "metadata": {},
   "outputs": [],
   "source": [
    "import pandas as pd\n",
    "import numpy as np\n",
    "pd.set_option('display.max_rows', 100)\n",
    "\n",
    "KAGGLE = 0"
   ]
  },
  {
   "source": [
    "#### Global Variables"
   ],
   "cell_type": "markdown",
   "metadata": {}
  },
  {
   "cell_type": "code",
   "execution_count": 2,
   "metadata": {},
   "outputs": [],
   "source": [
    "TRAIN_CSV_PATH = 'train.feather'\n",
    "QUESTIONS_CSV_PATH = 'questions.csv'\n",
    "LECTURES_CSV_PATH = 'lectures.csv'\n",
    "TEST_CSV_PATH = 'test.csv'\n",
    "SAMPLE_CSV_PATH = 'example_sample_submission.csv'\n",
    "\n",
    "if KAGGLE:\n",
    "    TRAIN_CSV_PATH = '/kaggle/input/riiid-test-answer-prediction/train.csv'\n",
    "    QUESTIONS_CSV_PATH = '/kaggle/input/riiid-test-answer-prediction/questions.csv'\n",
    "    LECTURES_CSV_PATH = '/kaggle/input/riiid-test-answer-prediction/lectures.csv'\n",
    "    TEST_CSV_PATH = '/kaggle/input/riiid-test-answer-prediction/test.csv'\n",
    "    SAMPLE_CSV_PATH = '/kaggle/input/riiid-test-answer-prediction/example_sample_submission.csv'\n",
    "\n",
    "COLUMN_TYPES = {\n",
    "    'row_id': 'int64',\n",
    "    'timestamp': 'int64',\n",
    "    'user_id': 'int32',\n",
    "    'content_id': 'int16',\n",
    "    'content_type_id': 'int8',\n",
    "    'task_container_id': 'int16',\n",
    "    'user_answer': 'int8',\n",
    "    'answered_correctly': 'int8',\n",
    "    'prior_question_elapsed_time': 'float32',\n",
    "    'prior_question_had_explanation': 'boolean'\n",
    "}\n"
   ]
  },
  {
   "cell_type": "code",
   "execution_count": 7,
   "metadata": {},
   "outputs": [],
   "source": [
    "# train_df = pd.read_csv(TRAIN_CSV_PATH, nrows=10**5, dtype=COLUMN_TYPES)\n",
    "train_df = pd.read_feather(TRAIN_CSV_PATH)\n",
    "questions_df = pd.read_csv(QUESTIONS_CSV_PATH)\n",
    "lectures_df = pd.read_csv(LECTURES_CSV_PATH)"
   ]
  },
  {
   "source": [
    "#### Check for user specific features"
   ],
   "cell_type": "markdown",
   "metadata": {}
  },
  {
   "cell_type": "code",
   "execution_count": 8,
   "metadata": {},
   "outputs": [
    {
     "output_type": "execute_result",
     "data": {
      "text/plain": [
       "              row_id  timestamp     user_id  content_id  content_type_id  \\\n",
       "0                  0          0         115        5692                0   \n",
       "1                  1      56943         115        5716                0   \n",
       "2                  2     118363         115         128                0   \n",
       "3                  3     131167         115        7860                0   \n",
       "4                  4     137965         115        7922                0   \n",
       "...              ...        ...         ...         ...              ...   \n",
       "101230327  101230327  428564420  2147482888        3586                0   \n",
       "101230328  101230328  428585000  2147482888        6341                0   \n",
       "101230329  101230329  428613475  2147482888        4212                0   \n",
       "101230330  101230330  428649406  2147482888        6343                0   \n",
       "101230331  101230331  428692118  2147482888        7995                0   \n",
       "\n",
       "           task_container_id  user_answer  answered_correctly  \\\n",
       "0                          1            3                   1   \n",
       "1                          2            2                   1   \n",
       "2                          0            0                   1   \n",
       "3                          3            0                   1   \n",
       "4                          4            1                   1   \n",
       "...                      ...          ...                 ...   \n",
       "101230327                 22            0                   1   \n",
       "101230328                 23            3                   1   \n",
       "101230329                 24            3                   1   \n",
       "101230330                 25            1                   0   \n",
       "101230331                 26            3                   1   \n",
       "\n",
       "           prior_question_elapsed_time  prior_question_had_explanation  \n",
       "0                                  NaN                            <NA>  \n",
       "1                              37000.0                           False  \n",
       "2                              55000.0                           False  \n",
       "3                              19000.0                           False  \n",
       "4                              11000.0                           False  \n",
       "...                                ...                             ...  \n",
       "101230327                      18000.0                            True  \n",
       "101230328                      14000.0                            True  \n",
       "101230329                      14000.0                            True  \n",
       "101230330                      22000.0                            True  \n",
       "101230331                      29000.0                            True  \n",
       "\n",
       "[101230332 rows x 10 columns]"
      ],
      "text/html": "<div>\n<style scoped>\n    .dataframe tbody tr th:only-of-type {\n        vertical-align: middle;\n    }\n\n    .dataframe tbody tr th {\n        vertical-align: top;\n    }\n\n    .dataframe thead th {\n        text-align: right;\n    }\n</style>\n<table border=\"1\" class=\"dataframe\">\n  <thead>\n    <tr style=\"text-align: right;\">\n      <th></th>\n      <th>row_id</th>\n      <th>timestamp</th>\n      <th>user_id</th>\n      <th>content_id</th>\n      <th>content_type_id</th>\n      <th>task_container_id</th>\n      <th>user_answer</th>\n      <th>answered_correctly</th>\n      <th>prior_question_elapsed_time</th>\n      <th>prior_question_had_explanation</th>\n    </tr>\n  </thead>\n  <tbody>\n    <tr>\n      <th>0</th>\n      <td>0</td>\n      <td>0</td>\n      <td>115</td>\n      <td>5692</td>\n      <td>0</td>\n      <td>1</td>\n      <td>3</td>\n      <td>1</td>\n      <td>NaN</td>\n      <td>&lt;NA&gt;</td>\n    </tr>\n    <tr>\n      <th>1</th>\n      <td>1</td>\n      <td>56943</td>\n      <td>115</td>\n      <td>5716</td>\n      <td>0</td>\n      <td>2</td>\n      <td>2</td>\n      <td>1</td>\n      <td>37000.0</td>\n      <td>False</td>\n    </tr>\n    <tr>\n      <th>2</th>\n      <td>2</td>\n      <td>118363</td>\n      <td>115</td>\n      <td>128</td>\n      <td>0</td>\n      <td>0</td>\n      <td>0</td>\n      <td>1</td>\n      <td>55000.0</td>\n      <td>False</td>\n    </tr>\n    <tr>\n      <th>3</th>\n      <td>3</td>\n      <td>131167</td>\n      <td>115</td>\n      <td>7860</td>\n      <td>0</td>\n      <td>3</td>\n      <td>0</td>\n      <td>1</td>\n      <td>19000.0</td>\n      <td>False</td>\n    </tr>\n    <tr>\n      <th>4</th>\n      <td>4</td>\n      <td>137965</td>\n      <td>115</td>\n      <td>7922</td>\n      <td>0</td>\n      <td>4</td>\n      <td>1</td>\n      <td>1</td>\n      <td>11000.0</td>\n      <td>False</td>\n    </tr>\n    <tr>\n      <th>...</th>\n      <td>...</td>\n      <td>...</td>\n      <td>...</td>\n      <td>...</td>\n      <td>...</td>\n      <td>...</td>\n      <td>...</td>\n      <td>...</td>\n      <td>...</td>\n      <td>...</td>\n    </tr>\n    <tr>\n      <th>101230327</th>\n      <td>101230327</td>\n      <td>428564420</td>\n      <td>2147482888</td>\n      <td>3586</td>\n      <td>0</td>\n      <td>22</td>\n      <td>0</td>\n      <td>1</td>\n      <td>18000.0</td>\n      <td>True</td>\n    </tr>\n    <tr>\n      <th>101230328</th>\n      <td>101230328</td>\n      <td>428585000</td>\n      <td>2147482888</td>\n      <td>6341</td>\n      <td>0</td>\n      <td>23</td>\n      <td>3</td>\n      <td>1</td>\n      <td>14000.0</td>\n      <td>True</td>\n    </tr>\n    <tr>\n      <th>101230329</th>\n      <td>101230329</td>\n      <td>428613475</td>\n      <td>2147482888</td>\n      <td>4212</td>\n      <td>0</td>\n      <td>24</td>\n      <td>3</td>\n      <td>1</td>\n      <td>14000.0</td>\n      <td>True</td>\n    </tr>\n    <tr>\n      <th>101230330</th>\n      <td>101230330</td>\n      <td>428649406</td>\n      <td>2147482888</td>\n      <td>6343</td>\n      <td>0</td>\n      <td>25</td>\n      <td>1</td>\n      <td>0</td>\n      <td>22000.0</td>\n      <td>True</td>\n    </tr>\n    <tr>\n      <th>101230331</th>\n      <td>101230331</td>\n      <td>428692118</td>\n      <td>2147482888</td>\n      <td>7995</td>\n      <td>0</td>\n      <td>26</td>\n      <td>3</td>\n      <td>1</td>\n      <td>29000.0</td>\n      <td>True</td>\n    </tr>\n  </tbody>\n</table>\n<p>101230332 rows × 10 columns</p>\n</div>"
     },
     "metadata": {},
     "execution_count": 8
    }
   ],
   "source": [
    "train_df"
   ]
  },
  {
   "source": [
    "##### 1. Get timestamp as hours and minutes"
   ],
   "cell_type": "markdown",
   "metadata": {}
  },
  {
   "cell_type": "code",
   "execution_count": 9,
   "metadata": {},
   "outputs": [
    {
     "output_type": "stream",
     "name": "stdout",
     "text": [
      "user ids:  [       115        124       2746 ... 2147481750 2147482216 2147482888] , user count:  393656\n"
     ]
    }
   ],
   "source": [
    "print(\"user ids: \", train_df.user_id.unique(), \", user count: \", len(train_df.user_id.unique()))"
   ]
  },
  {
   "cell_type": "code",
   "execution_count": 10,
   "metadata": {},
   "outputs": [
    {
     "output_type": "stream",
     "name": "stdout",
     "text": [
      "number of users with less interactions:           user_id  count\n393655  607601423      1 \n\nnumber of users with more interactions:      user_id  count\n0  801103753  17917 \n\n"
     ]
    }
   ],
   "source": [
    "df = train_df['user_id'].value_counts().reset_index()\n",
    "df.columns = [\n",
    "    'user_id', \n",
    "    'count'\n",
    "]\n",
    "df = df.sort_values('count')\n",
    "print(\"number of users with less interactions: {} \\n\".format(df[:1]))\n",
    "print(\"number of users with more interactions: {} \\n\".format(df[-1:]))"
   ]
  },
  {
   "cell_type": "code",
   "execution_count": 11,
   "metadata": {},
   "outputs": [],
   "source": [
    "student_id = 1283420"
   ]
  },
  {
   "cell_type": "code",
   "execution_count": 12,
   "metadata": {},
   "outputs": [],
   "source": [
    "feature_df = train_df[train_df['user_id']==student_id]"
   ]
  },
  {
   "source": [
    "def get_timestamp_in_parts(row):\n",
    "    millis = row.timestamp\n",
    "    seconds = (millis / 1000)\n",
    "    minutes = (seconds / 60)\n",
    "    hours = (minutes / 60)\n",
    "    days = (hours / 24)\n",
    "    return days, hours, minutes\n",
    "\n",
    "def get_prior_elasped_time_in_parts(row):\n",
    "    prior_millis = row.prior_question_elapsed_time\n",
    "    prior_seconds = (prior_millis / 1000)\n",
    "    prior_minutes = (prior_seconds / 60)\n",
    "    return prior_minutes, prior_seconds\n",
    "\n",
    "feature_df[['days', 'hours', 'minutes']] = [*feature_df.apply(lambda row: get_timestamp_in_parts(row), axis=1)]\n",
    "feature_df[['prior_minutes', 'prior_seconds']] = [*feature_df.apply(lambda row: get_prior_elasped_time_in_parts(row), axis=1)]"
   ],
   "cell_type": "code",
   "metadata": {},
   "execution_count": 13,
   "outputs": []
  },
  {
   "cell_type": "code",
   "execution_count": 14,
   "metadata": {},
   "outputs": [
    {
     "output_type": "execute_result",
     "data": {
      "text/plain": [
       "       row_id    timestamp  user_id  content_id  content_type_id  \\\n",
       "54058   54058            0  1283420        3822                0   \n",
       "54059   54059        29795  1283420         638                0   \n",
       "54060   54060        91982  1283420        4231                0   \n",
       "54061   54061       117342  1283420        7978                0   \n",
       "54062   54062       145733  1283420        8225                0   \n",
       "...       ...          ...      ...         ...              ...   \n",
       "61622   61622  22364257029  1283420        2041                0   \n",
       "61623   61623  22364257029  1283420        2039                0   \n",
       "61624   61624  22373215518  1283420        3401                0   \n",
       "61625   61625  22373215518  1283420        3400                0   \n",
       "61626   61626  22373215518  1283420        3399                0   \n",
       "\n",
       "       task_container_id  user_answer  answered_correctly  \\\n",
       "54058                  0            1                   1   \n",
       "54059                  1            0                   1   \n",
       "54060                  2            0                   0   \n",
       "54061                  3            3                   0   \n",
       "54062                  4            1                   1   \n",
       "...                  ...          ...                 ...   \n",
       "61622               5260            0                   1   \n",
       "61623               5260            3                   1   \n",
       "61624               5261            1                   1   \n",
       "61625               5261            2                   0   \n",
       "61626               5261            2                   1   \n",
       "\n",
       "       prior_question_elapsed_time  prior_question_had_explanation  \\\n",
       "54058                          NaN                            <NA>   \n",
       "54059                      11000.0                           False   \n",
       "54060                      28000.0                           False   \n",
       "54061                      60000.0                           False   \n",
       "54062                      23000.0                           False   \n",
       "...                            ...                             ...   \n",
       "61622                      16000.0                            True   \n",
       "61623                      16000.0                            True   \n",
       "61624                      26333.0                            True   \n",
       "61625                      26333.0                            True   \n",
       "61626                      26333.0                            True   \n",
       "\n",
       "             days        hours        minutes  prior_minutes  prior_seconds  \n",
       "54058    0.000000     0.000000       0.000000            NaN            NaN  \n",
       "54059    0.000345     0.008276       0.496583       0.183333         11.000  \n",
       "54060    0.001065     0.025551       1.533033       0.466667         28.000  \n",
       "54061    0.001358     0.032595       1.955700       1.000000         60.000  \n",
       "54062    0.001687     0.040481       2.428883       0.383333         23.000  \n",
       "...           ...          ...            ...            ...            ...  \n",
       "61622  258.845567  6212.293619  372737.617150       0.266667         16.000  \n",
       "61623  258.845567  6212.293619  372737.617150       0.266667         16.000  \n",
       "61624  258.949254  6214.782088  372886.925300       0.438883         26.333  \n",
       "61625  258.949254  6214.782088  372886.925300       0.438883         26.333  \n",
       "61626  258.949254  6214.782088  372886.925300       0.438883         26.333  \n",
       "\n",
       "[7569 rows x 15 columns]"
      ],
      "text/html": "<div>\n<style scoped>\n    .dataframe tbody tr th:only-of-type {\n        vertical-align: middle;\n    }\n\n    .dataframe tbody tr th {\n        vertical-align: top;\n    }\n\n    .dataframe thead th {\n        text-align: right;\n    }\n</style>\n<table border=\"1\" class=\"dataframe\">\n  <thead>\n    <tr style=\"text-align: right;\">\n      <th></th>\n      <th>row_id</th>\n      <th>timestamp</th>\n      <th>user_id</th>\n      <th>content_id</th>\n      <th>content_type_id</th>\n      <th>task_container_id</th>\n      <th>user_answer</th>\n      <th>answered_correctly</th>\n      <th>prior_question_elapsed_time</th>\n      <th>prior_question_had_explanation</th>\n      <th>days</th>\n      <th>hours</th>\n      <th>minutes</th>\n      <th>prior_minutes</th>\n      <th>prior_seconds</th>\n    </tr>\n  </thead>\n  <tbody>\n    <tr>\n      <th>54058</th>\n      <td>54058</td>\n      <td>0</td>\n      <td>1283420</td>\n      <td>3822</td>\n      <td>0</td>\n      <td>0</td>\n      <td>1</td>\n      <td>1</td>\n      <td>NaN</td>\n      <td>&lt;NA&gt;</td>\n      <td>0.000000</td>\n      <td>0.000000</td>\n      <td>0.000000</td>\n      <td>NaN</td>\n      <td>NaN</td>\n    </tr>\n    <tr>\n      <th>54059</th>\n      <td>54059</td>\n      <td>29795</td>\n      <td>1283420</td>\n      <td>638</td>\n      <td>0</td>\n      <td>1</td>\n      <td>0</td>\n      <td>1</td>\n      <td>11000.0</td>\n      <td>False</td>\n      <td>0.000345</td>\n      <td>0.008276</td>\n      <td>0.496583</td>\n      <td>0.183333</td>\n      <td>11.000</td>\n    </tr>\n    <tr>\n      <th>54060</th>\n      <td>54060</td>\n      <td>91982</td>\n      <td>1283420</td>\n      <td>4231</td>\n      <td>0</td>\n      <td>2</td>\n      <td>0</td>\n      <td>0</td>\n      <td>28000.0</td>\n      <td>False</td>\n      <td>0.001065</td>\n      <td>0.025551</td>\n      <td>1.533033</td>\n      <td>0.466667</td>\n      <td>28.000</td>\n    </tr>\n    <tr>\n      <th>54061</th>\n      <td>54061</td>\n      <td>117342</td>\n      <td>1283420</td>\n      <td>7978</td>\n      <td>0</td>\n      <td>3</td>\n      <td>3</td>\n      <td>0</td>\n      <td>60000.0</td>\n      <td>False</td>\n      <td>0.001358</td>\n      <td>0.032595</td>\n      <td>1.955700</td>\n      <td>1.000000</td>\n      <td>60.000</td>\n    </tr>\n    <tr>\n      <th>54062</th>\n      <td>54062</td>\n      <td>145733</td>\n      <td>1283420</td>\n      <td>8225</td>\n      <td>0</td>\n      <td>4</td>\n      <td>1</td>\n      <td>1</td>\n      <td>23000.0</td>\n      <td>False</td>\n      <td>0.001687</td>\n      <td>0.040481</td>\n      <td>2.428883</td>\n      <td>0.383333</td>\n      <td>23.000</td>\n    </tr>\n    <tr>\n      <th>...</th>\n      <td>...</td>\n      <td>...</td>\n      <td>...</td>\n      <td>...</td>\n      <td>...</td>\n      <td>...</td>\n      <td>...</td>\n      <td>...</td>\n      <td>...</td>\n      <td>...</td>\n      <td>...</td>\n      <td>...</td>\n      <td>...</td>\n      <td>...</td>\n      <td>...</td>\n    </tr>\n    <tr>\n      <th>61622</th>\n      <td>61622</td>\n      <td>22364257029</td>\n      <td>1283420</td>\n      <td>2041</td>\n      <td>0</td>\n      <td>5260</td>\n      <td>0</td>\n      <td>1</td>\n      <td>16000.0</td>\n      <td>True</td>\n      <td>258.845567</td>\n      <td>6212.293619</td>\n      <td>372737.617150</td>\n      <td>0.266667</td>\n      <td>16.000</td>\n    </tr>\n    <tr>\n      <th>61623</th>\n      <td>61623</td>\n      <td>22364257029</td>\n      <td>1283420</td>\n      <td>2039</td>\n      <td>0</td>\n      <td>5260</td>\n      <td>3</td>\n      <td>1</td>\n      <td>16000.0</td>\n      <td>True</td>\n      <td>258.845567</td>\n      <td>6212.293619</td>\n      <td>372737.617150</td>\n      <td>0.266667</td>\n      <td>16.000</td>\n    </tr>\n    <tr>\n      <th>61624</th>\n      <td>61624</td>\n      <td>22373215518</td>\n      <td>1283420</td>\n      <td>3401</td>\n      <td>0</td>\n      <td>5261</td>\n      <td>1</td>\n      <td>1</td>\n      <td>26333.0</td>\n      <td>True</td>\n      <td>258.949254</td>\n      <td>6214.782088</td>\n      <td>372886.925300</td>\n      <td>0.438883</td>\n      <td>26.333</td>\n    </tr>\n    <tr>\n      <th>61625</th>\n      <td>61625</td>\n      <td>22373215518</td>\n      <td>1283420</td>\n      <td>3400</td>\n      <td>0</td>\n      <td>5261</td>\n      <td>2</td>\n      <td>0</td>\n      <td>26333.0</td>\n      <td>True</td>\n      <td>258.949254</td>\n      <td>6214.782088</td>\n      <td>372886.925300</td>\n      <td>0.438883</td>\n      <td>26.333</td>\n    </tr>\n    <tr>\n      <th>61626</th>\n      <td>61626</td>\n      <td>22373215518</td>\n      <td>1283420</td>\n      <td>3399</td>\n      <td>0</td>\n      <td>5261</td>\n      <td>2</td>\n      <td>1</td>\n      <td>26333.0</td>\n      <td>True</td>\n      <td>258.949254</td>\n      <td>6214.782088</td>\n      <td>372886.925300</td>\n      <td>0.438883</td>\n      <td>26.333</td>\n    </tr>\n  </tbody>\n</table>\n<p>7569 rows × 15 columns</p>\n</div>"
     },
     "metadata": {},
     "execution_count": 14
    }
   ],
   "source": [
    "feature_df"
   ]
  },
  {
   "source": [
    "##### 2. Find the intro rows."
   ],
   "cell_type": "markdown",
   "metadata": {}
  },
  {
   "cell_type": "code",
   "execution_count": 17,
   "metadata": {},
   "outputs": [
    {
     "output_type": "execute_result",
     "data": {
      "text/plain": [
       "row_id                            1959032\n",
       "timestamp                         1959032\n",
       "user_id                           1959032\n",
       "content_id                        1959032\n",
       "content_type_id                   1959032\n",
       "task_container_id                 1959032\n",
       "user_answer                       1959032\n",
       "answered_correctly                1959032\n",
       "prior_question_elapsed_time             0\n",
       "prior_question_had_explanation    1959032\n",
       "dtype: int64"
      ]
     },
     "metadata": {},
     "execution_count": 17
    }
   ],
   "source": [
    "# There are no actions which are having elapsed time when the action is lecture and the explanation is false (it will be always false for lectures)\n",
    "train_df[(train_df.answered_correctly == -1) &  (train_df.prior_question_had_explanation==False)].count()"
   ]
  },
  {
   "cell_type": "code",
   "execution_count": 18,
   "metadata": {},
   "outputs": [
    {
     "output_type": "execute_result",
     "data": {
      "text/plain": [
       "row_id                            80\n",
       "timestamp                         80\n",
       "user_id                           80\n",
       "content_id                        80\n",
       "content_type_id                   80\n",
       "task_container_id                 80\n",
       "user_answer                       80\n",
       "answered_correctly                80\n",
       "prior_question_elapsed_time        0\n",
       "prior_question_had_explanation    80\n",
       "dtype: int64"
      ]
     },
     "metadata": {},
     "execution_count": 18
    }
   ],
   "source": [
    "train_df[(train_df.timestamp == 0) &  (train_df.content_type_id==1)].count()\n",
    "# There are 80 rows related to the intro lecutures"
   ]
  },
  {
   "cell_type": "code",
   "execution_count": 21,
   "metadata": {},
   "outputs": [
    {
     "output_type": "execute_result",
     "data": {
      "text/plain": [
       "393576"
      ]
     },
     "metadata": {},
     "execution_count": 21
    }
   ],
   "source": [
    "len(train_df[(train_df.timestamp == 0) &  (train_df.content_type_id==0)].user_id.unique())"
   ]
  },
  {
   "cell_type": "code",
   "execution_count": 28,
   "metadata": {},
   "outputs": [
    {
     "output_type": "execute_result",
     "data": {
      "text/plain": [
       "80"
      ]
     },
     "metadata": {},
     "execution_count": 28
    }
   ],
   "source": [
    "len(train_df[(train_df.timestamp == 0) &  (train_df.content_type_id==1)].user_id.unique())"
   ]
  },
  {
   "cell_type": "code",
   "execution_count": null,
   "metadata": {},
   "outputs": [],
   "source": [
    "# The unique user count is 393656\n",
    "# The count when added will be 393576 + 80"
   ]
  },
  {
   "cell_type": "code",
   "execution_count": 22,
   "metadata": {},
   "outputs": [
    {
     "output_type": "execute_result",
     "data": {
      "text/plain": [
       "65"
      ]
     },
     "metadata": {},
     "execution_count": 22
    }
   ],
   "source": [
    "# some of the intro are having the explanation\n",
    "len(train_df[~(train_df.timestamp == 0) & (train_df.prior_question_had_explanation.isnull())].user_id.unique())"
   ]
  },
  {
   "cell_type": "code",
   "execution_count": 24,
   "metadata": {},
   "outputs": [
    {
     "output_type": "execute_result",
     "data": {
      "text/plain": [
       "149605"
      ]
     },
     "metadata": {},
     "execution_count": 24
    }
   ],
   "source": [
    "# most of the elapsed time is null for intro sections\n",
    "len(train_df[~(train_df.timestamp == 0) & (train_df.prior_question_elapsed_time.isnull())].user_id.unique())\n"
   ]
  },
  {
   "cell_type": "code",
   "execution_count": 25,
   "metadata": {},
   "outputs": [
    {
     "output_type": "execute_result",
     "data": {
      "text/plain": [
       "              row_id  timestamp     user_id  content_id  content_type_id  \\\n",
       "0                  0          0         115        5692                0   \n",
       "46                46          0         124        7900                0   \n",
       "76                76          0        2746        5273                0   \n",
       "96                96          0        5382        5000                0   \n",
       "224              224          0        8623        3915                0   \n",
       "...              ...        ...         ...         ...              ...   \n",
       "101228989  101228989          0  2147470770        7900                0   \n",
       "101229217  101229217          0  2147470777        7900                0   \n",
       "101229975  101229975          0  2147481750        4137                0   \n",
       "101230025  101230025          0  2147482216        3748                0   \n",
       "101230305  101230305          0  2147482888        6147                0   \n",
       "\n",
       "           task_container_id  user_answer  answered_correctly  \\\n",
       "0                          1            3                   1   \n",
       "46                         0            0                   1   \n",
       "76                         0            1                   0   \n",
       "96                         0            0                   1   \n",
       "224                        0            3                   1   \n",
       "...                      ...          ...                 ...   \n",
       "101228989                  0            0                   1   \n",
       "101229217                  0            2                   0   \n",
       "101229975                  0            0                   0   \n",
       "101230025                  0            1                   0   \n",
       "101230305                  0            0                   1   \n",
       "\n",
       "           prior_question_elapsed_time  prior_question_had_explanation  \n",
       "0                                  NaN                            <NA>  \n",
       "46                                 NaN                            <NA>  \n",
       "76                                 NaN                            <NA>  \n",
       "96                                 NaN                            <NA>  \n",
       "224                                NaN                            <NA>  \n",
       "...                                ...                             ...  \n",
       "101228989                          NaN                            <NA>  \n",
       "101229217                          NaN                            <NA>  \n",
       "101229975                          NaN                            <NA>  \n",
       "101230025                          NaN                            <NA>  \n",
       "101230305                          NaN                            <NA>  \n",
       "\n",
       "[393656 rows x 10 columns]"
      ],
      "text/html": "<div>\n<style scoped>\n    .dataframe tbody tr th:only-of-type {\n        vertical-align: middle;\n    }\n\n    .dataframe tbody tr th {\n        vertical-align: top;\n    }\n\n    .dataframe thead th {\n        text-align: right;\n    }\n</style>\n<table border=\"1\" class=\"dataframe\">\n  <thead>\n    <tr style=\"text-align: right;\">\n      <th></th>\n      <th>row_id</th>\n      <th>timestamp</th>\n      <th>user_id</th>\n      <th>content_id</th>\n      <th>content_type_id</th>\n      <th>task_container_id</th>\n      <th>user_answer</th>\n      <th>answered_correctly</th>\n      <th>prior_question_elapsed_time</th>\n      <th>prior_question_had_explanation</th>\n    </tr>\n  </thead>\n  <tbody>\n    <tr>\n      <th>0</th>\n      <td>0</td>\n      <td>0</td>\n      <td>115</td>\n      <td>5692</td>\n      <td>0</td>\n      <td>1</td>\n      <td>3</td>\n      <td>1</td>\n      <td>NaN</td>\n      <td>&lt;NA&gt;</td>\n    </tr>\n    <tr>\n      <th>46</th>\n      <td>46</td>\n      <td>0</td>\n      <td>124</td>\n      <td>7900</td>\n      <td>0</td>\n      <td>0</td>\n      <td>0</td>\n      <td>1</td>\n      <td>NaN</td>\n      <td>&lt;NA&gt;</td>\n    </tr>\n    <tr>\n      <th>76</th>\n      <td>76</td>\n      <td>0</td>\n      <td>2746</td>\n      <td>5273</td>\n      <td>0</td>\n      <td>0</td>\n      <td>1</td>\n      <td>0</td>\n      <td>NaN</td>\n      <td>&lt;NA&gt;</td>\n    </tr>\n    <tr>\n      <th>96</th>\n      <td>96</td>\n      <td>0</td>\n      <td>5382</td>\n      <td>5000</td>\n      <td>0</td>\n      <td>0</td>\n      <td>0</td>\n      <td>1</td>\n      <td>NaN</td>\n      <td>&lt;NA&gt;</td>\n    </tr>\n    <tr>\n      <th>224</th>\n      <td>224</td>\n      <td>0</td>\n      <td>8623</td>\n      <td>3915</td>\n      <td>0</td>\n      <td>0</td>\n      <td>3</td>\n      <td>1</td>\n      <td>NaN</td>\n      <td>&lt;NA&gt;</td>\n    </tr>\n    <tr>\n      <th>...</th>\n      <td>...</td>\n      <td>...</td>\n      <td>...</td>\n      <td>...</td>\n      <td>...</td>\n      <td>...</td>\n      <td>...</td>\n      <td>...</td>\n      <td>...</td>\n      <td>...</td>\n    </tr>\n    <tr>\n      <th>101228989</th>\n      <td>101228989</td>\n      <td>0</td>\n      <td>2147470770</td>\n      <td>7900</td>\n      <td>0</td>\n      <td>0</td>\n      <td>0</td>\n      <td>1</td>\n      <td>NaN</td>\n      <td>&lt;NA&gt;</td>\n    </tr>\n    <tr>\n      <th>101229217</th>\n      <td>101229217</td>\n      <td>0</td>\n      <td>2147470777</td>\n      <td>7900</td>\n      <td>0</td>\n      <td>0</td>\n      <td>2</td>\n      <td>0</td>\n      <td>NaN</td>\n      <td>&lt;NA&gt;</td>\n    </tr>\n    <tr>\n      <th>101229975</th>\n      <td>101229975</td>\n      <td>0</td>\n      <td>2147481750</td>\n      <td>4137</td>\n      <td>0</td>\n      <td>0</td>\n      <td>0</td>\n      <td>0</td>\n      <td>NaN</td>\n      <td>&lt;NA&gt;</td>\n    </tr>\n    <tr>\n      <th>101230025</th>\n      <td>101230025</td>\n      <td>0</td>\n      <td>2147482216</td>\n      <td>3748</td>\n      <td>0</td>\n      <td>0</td>\n      <td>1</td>\n      <td>0</td>\n      <td>NaN</td>\n      <td>&lt;NA&gt;</td>\n    </tr>\n    <tr>\n      <th>101230305</th>\n      <td>101230305</td>\n      <td>0</td>\n      <td>2147482888</td>\n      <td>6147</td>\n      <td>0</td>\n      <td>0</td>\n      <td>0</td>\n      <td>1</td>\n      <td>NaN</td>\n      <td>&lt;NA&gt;</td>\n    </tr>\n  </tbody>\n</table>\n<p>393656 rows × 10 columns</p>\n</div>"
     },
     "metadata": {},
     "execution_count": 25
    }
   ],
   "source": [
    "dropped_duplicates = train_df.drop_duplicates(subset=['user_id'])\n",
    "dropped_duplicates"
   ]
  },
  {
   "cell_type": "code",
   "execution_count": 27,
   "metadata": {},
   "outputs": [
    {
     "output_type": "execute_result",
     "data": {
      "text/plain": [
       "393656"
      ]
     },
     "metadata": {},
     "execution_count": 27
    }
   ],
   "source": [
    "len(train_df[(train_df.timestamp == 0)].user_id.unique())\n",
    "# This proves that the timestamp 0 is the beginning for all the students"
   ]
  },
  {
   "cell_type": "code",
   "execution_count": 31,
   "metadata": {},
   "outputs": [
    {
     "output_type": "execute_result",
     "data": {
      "text/plain": [
       "   row_id  timestamp  user_id  content_id  content_type_id  task_container_id  \\\n",
       "0       0          0      115        5692                0                  1   \n",
       "1       1      56943      115        5716                0                  2   \n",
       "2       2     118363      115         128                0                  0   \n",
       "3       3     131167      115        7860                0                  3   \n",
       "4       4     137965      115        7922                0                  4   \n",
       "\n",
       "   user_answer  answered_correctly  prior_question_elapsed_time  \\\n",
       "0            3                   1                          NaN   \n",
       "1            2                   1                      37000.0   \n",
       "2            0                   1                      55000.0   \n",
       "3            0                   1                      19000.0   \n",
       "4            1                   1                      11000.0   \n",
       "\n",
       "   prior_question_had_explanation  intro_section  \n",
       "0                            <NA>           True  \n",
       "1                           False          False  \n",
       "2                           False          False  \n",
       "3                           False          False  \n",
       "4                           False          False  "
      ],
      "text/html": "<div>\n<style scoped>\n    .dataframe tbody tr th:only-of-type {\n        vertical-align: middle;\n    }\n\n    .dataframe tbody tr th {\n        vertical-align: top;\n    }\n\n    .dataframe thead th {\n        text-align: right;\n    }\n</style>\n<table border=\"1\" class=\"dataframe\">\n  <thead>\n    <tr style=\"text-align: right;\">\n      <th></th>\n      <th>row_id</th>\n      <th>timestamp</th>\n      <th>user_id</th>\n      <th>content_id</th>\n      <th>content_type_id</th>\n      <th>task_container_id</th>\n      <th>user_answer</th>\n      <th>answered_correctly</th>\n      <th>prior_question_elapsed_time</th>\n      <th>prior_question_had_explanation</th>\n      <th>intro_section</th>\n    </tr>\n  </thead>\n  <tbody>\n    <tr>\n      <th>0</th>\n      <td>0</td>\n      <td>0</td>\n      <td>115</td>\n      <td>5692</td>\n      <td>0</td>\n      <td>1</td>\n      <td>3</td>\n      <td>1</td>\n      <td>NaN</td>\n      <td>&lt;NA&gt;</td>\n      <td>True</td>\n    </tr>\n    <tr>\n      <th>1</th>\n      <td>1</td>\n      <td>56943</td>\n      <td>115</td>\n      <td>5716</td>\n      <td>0</td>\n      <td>2</td>\n      <td>2</td>\n      <td>1</td>\n      <td>37000.0</td>\n      <td>False</td>\n      <td>False</td>\n    </tr>\n    <tr>\n      <th>2</th>\n      <td>2</td>\n      <td>118363</td>\n      <td>115</td>\n      <td>128</td>\n      <td>0</td>\n      <td>0</td>\n      <td>0</td>\n      <td>1</td>\n      <td>55000.0</td>\n      <td>False</td>\n      <td>False</td>\n    </tr>\n    <tr>\n      <th>3</th>\n      <td>3</td>\n      <td>131167</td>\n      <td>115</td>\n      <td>7860</td>\n      <td>0</td>\n      <td>3</td>\n      <td>0</td>\n      <td>1</td>\n      <td>19000.0</td>\n      <td>False</td>\n      <td>False</td>\n    </tr>\n    <tr>\n      <th>4</th>\n      <td>4</td>\n      <td>137965</td>\n      <td>115</td>\n      <td>7922</td>\n      <td>0</td>\n      <td>4</td>\n      <td>1</td>\n      <td>1</td>\n      <td>11000.0</td>\n      <td>False</td>\n      <td>False</td>\n    </tr>\n  </tbody>\n</table>\n</div>"
     },
     "metadata": {},
     "execution_count": 31
    }
   ],
   "source": [
    "train_df['intro_section'] = np.where(train_df.timestamp == 0, True, False)\n",
    "train_df.head()"
   ]
  },
  {
   "source": [
    "##### 3. The actions after the lectures should be tagged with something."
   ],
   "cell_type": "markdown",
   "metadata": {}
  },
  {
   "cell_type": "code",
   "execution_count": 49,
   "metadata": {},
   "outputs": [
    {
     "output_type": "execute_result",
     "data": {
      "text/plain": [
       "       row_id   timestamp  user_id  content_id  content_type_id  \\\n",
       "54177   54177  1107546182  1283420       17124                1   \n",
       "54178   54178  1107572322  1283420        5347                0   \n",
       "54179   54179  1107613497  1283420        5330                0   \n",
       "54180   54180  1107657638  1283420        3990                0   \n",
       "54181   54181  1107714985  1283420        9150                0   \n",
       "54182   54182  1107794203  1283420        3717                0   \n",
       "54183   54183  1107909885  1283420        5166                0   \n",
       "54184   54184  1108052965  1283420        5672                0   \n",
       "54185   54185  1108186344  1283420        8958                0   \n",
       "54186   54186  1108306940  1283420        4474                0   \n",
       "54187   54187  1108401905  1283420        6185                0   \n",
       "54188   54188  1108438341  1283420        6393                0   \n",
       "54189   54189  1108660726  1283420        8696                0   \n",
       "54190   54190  1108936933  1283420        6402                0   \n",
       "54191   54191  1109018415  1283420        4771                0   \n",
       "54192   54192  1109081188  1283420        6016                0   \n",
       "54193   54193  1109106574  1283420        9442                0   \n",
       "54194   54194  1109137336  1283420        5948                0   \n",
       "54195   54195  1109197269  1283420        4766                0   \n",
       "54196   54196  1109302934  1283420        5052                0   \n",
       "54197   54197  1109459761  1283420        9764                0   \n",
       "54198   54198  1109554580  1283420        4370                0   \n",
       "54199   54199  1109677034  1283420        5008                0   \n",
       "54200   54200  1109737431  1283420        8487                0   \n",
       "54201   54201  1109816193  1283420        9594                0   \n",
       "54202   54202  1109879029  1283420        3893                0   \n",
       "54203   54203  1109924728  1283420        6349                0   \n",
       "54204   54204  1109997259  1283420        5896                0   \n",
       "54205   54205  1111466923  1283420        6563                0   \n",
       "54206   54206  1111466923  1283420        6562                0   \n",
       "54207   54207  1111466923  1283420        6564                0   \n",
       "54208   54208  1111466923  1283420        6561                0   \n",
       "54209   54209  1111667997  1283420        6759                0   \n",
       "54210   54210  1111667997  1283420        6758                0   \n",
       "54211   54211  1111667997  1283420        6760                0   \n",
       "54212   54212  1111667997  1283420        6757                0   \n",
       "54213   54213  1111866317  1283420       10233                0   \n",
       "54214   54214  1111866317  1283420       10232                0   \n",
       "54215   54215  1111866317  1283420       10235                0   \n",
       "54216   54216  1111866317  1283420       10234                0   \n",
       "54217   54217  1112095954  1283420        6919                0   \n",
       "54218   54218  1112095954  1283420        6916                0   \n",
       "54219   54219  1112095954  1283420        6918                0   \n",
       "54220   54220  1112095954  1283420        6917                0   \n",
       "54221   54221  1112370482  1283420       10078                0   \n",
       "54222   54222  1112370482  1283420       10079                0   \n",
       "54223   54223  1112370482  1283420       10080                0   \n",
       "54224   54224  1112370482  1283420       10081                0   \n",
       "54225   54225  1122498332  1283420        8704                0   \n",
       "54226   54226  1122588532  1283420        3878                0   \n",
       "54227   54227  1122754663  1283420        4481                0   \n",
       "54228   54228  1122805664  1283420        4428                0   \n",
       "54229   54229  1122835102  1283420        9641                0   \n",
       "54230   54230  1122865493  1283420        6129                0   \n",
       "54231   54231  1122890299  1283420        3641                0   \n",
       "54232   54232  1122929922  1283420        4029                0   \n",
       "54233   54233  1122947893  1283420        9561                0   \n",
       "54234   54234  1122982739  1283420        5447                0   \n",
       "54235   54235  1123053500  1283420        5664                0   \n",
       "54236   54236  1124282822  1283420        6481                1   \n",
       "54237   54237  1124300093  1283420        5664                0   \n",
       "54238   54238  1124316503  1283420        3945                0   \n",
       "54239   54239  1124447627  1283420        5668                0   \n",
       "54240   54240  1124512344  1283420        9058                0   \n",
       "54241   54241  1124874010  1283420       10070                0   \n",
       "54242   54242  1124874010  1283420       10071                0   \n",
       "54243   54243  1124874010  1283420       10072                0   \n",
       "54244   54244  1124874010  1283420       10073                0   \n",
       "54245   54245  1125185136  1283420       10213                0   \n",
       "54246   54246  1125185136  1283420       10214                0   \n",
       "54247   54247  1125185136  1283420       10212                0   \n",
       "54248   54248  1125185136  1283420       10215                0   \n",
       "54249   54249  1125431673  1283420        6490                0   \n",
       "54250   54250  1125431673  1283420        6491                0   \n",
       "54251   54251  1125431673  1283420        6492                0   \n",
       "54252   54252  1125431673  1283420        6489                0   \n",
       "54253   54253  1125788285  1283420       29695                1   \n",
       "54254   54254  1125869593  1283420        6490                0   \n",
       "54255   54255  1125869593  1283420        6489                0   \n",
       "54256   54256  1125869593  1283420        6491                0   \n",
       "54257   54257  1125869593  1283420        6492                0   \n",
       "54258   54258  1126052475  1283420        6615                0   \n",
       "54259   54259  1126052475  1283420        6616                0   \n",
       "54260   54260  1126052475  1283420        6614                0   \n",
       "54261   54261  1126052475  1283420        6613                0   \n",
       "54262   54262  1126263718  1283420        6602                0   \n",
       "54263   54263  1126263718  1283420        6601                0   \n",
       "54264   54264  1126263718  1283420        6603                0   \n",
       "54265   54265  1126263718  1283420        6604                0   \n",
       "54266   54266  1128117390  1283420       17326                1   \n",
       "54267   54267  1128200408  1283420        6845                0   \n",
       "54268   54268  1128200408  1283420        6846                0   \n",
       "54269   54269  1128200408  1283420        6847                0   \n",
       "54270   54270  1128200408  1283420        6848                0   \n",
       "54271   54271  1128283150  1283420         175                0   \n",
       "54272   54272  1128327592  1283420         149                0   \n",
       "54273   54273  1128364131  1283420       10677                0   \n",
       "54274   54274  1128405327  1283420        7903                0   \n",
       "54275   54275  1128447967  1283420          76                0   \n",
       "54276   54276  1128486265  1283420         776                0   \n",
       "\n",
       "       task_container_id  user_answer  answered_correctly  \\\n",
       "54177                 89           -1                  -1   \n",
       "54178                 90            2                   1   \n",
       "54179                 91            0                   1   \n",
       "54180                 88            1                   1   \n",
       "54181                 92            1                   0   \n",
       "54182                 93            2                   0   \n",
       "54183                 94            1                   1   \n",
       "54184                 95            0                   1   \n",
       "54185                 96            3                   1   \n",
       "54186                 97            1                   1   \n",
       "54187                 98            3                   1   \n",
       "54188                 99            0                   1   \n",
       "54189                100            0                   0   \n",
       "54190                101            2                   0   \n",
       "54191                102            0                   1   \n",
       "54192                103            3                   1   \n",
       "54193                104            0                   1   \n",
       "54194                105            1                   1   \n",
       "54195                106            0                   1   \n",
       "54196                107            3                   1   \n",
       "54197                108            0                   0   \n",
       "54198                109            1                   1   \n",
       "54199                110            2                   1   \n",
       "54200                111            0                   1   \n",
       "54201                112            2                   1   \n",
       "54202                113            2                   1   \n",
       "54203                114            1                   1   \n",
       "54204                115            0                   0   \n",
       "54205                116            1                   1   \n",
       "54206                116            1                   1   \n",
       "54207                116            0                   1   \n",
       "54208                116            2                   1   \n",
       "54209                117            0                   1   \n",
       "54210                117            2                   1   \n",
       "54211                117            1                   1   \n",
       "54212                117            0                   0   \n",
       "54213                118            0                   1   \n",
       "54214                118            3                   1   \n",
       "54215                118            1                   0   \n",
       "54216                118            3                   1   \n",
       "54217                119            0                   1   \n",
       "54218                119            1                   1   \n",
       "54219                119            0                   1   \n",
       "54220                119            2                   0   \n",
       "54221                120            0                   1   \n",
       "54222                120            3                   0   \n",
       "54223                120            1                   1   \n",
       "54224                120            2                   1   \n",
       "54225                121            1                   1   \n",
       "54226                122            2                   0   \n",
       "54227                123            3                   0   \n",
       "54228                124            0                   1   \n",
       "54229                125            0                   1   \n",
       "54230                126            1                   1   \n",
       "54231                127            2                   1   \n",
       "54232                128            1                   1   \n",
       "54233                129            3                   1   \n",
       "54234                130            3                   1   \n",
       "54235                131            0                   0   \n",
       "54236                133           -1                  -1   \n",
       "54237                134            3                   1   \n",
       "54238                135            2                   1   \n",
       "54239                132            2                   1   \n",
       "54240                136            2                   1   \n",
       "54241                137            1                   0   \n",
       "54242                137            1                   1   \n",
       "54243                137            2                   0   \n",
       "54244                137            1                   0   \n",
       "54245                138            0                   1   \n",
       "54246                138            0                   1   \n",
       "54247                138            3                   0   \n",
       "54248                138            1                   1   \n",
       "54249                139            2                   0   \n",
       "54250                139            0                   1   \n",
       "54251                139            0                   0   \n",
       "54252                139            3                   1   \n",
       "54253                141           -1                  -1   \n",
       "54254                142            1                   1   \n",
       "54255                142            3                   1   \n",
       "54256                142            0                   1   \n",
       "54257                142            3                   1   \n",
       "54258                140            3                   0   \n",
       "54259                140            1                   1   \n",
       "54260                140            2                   0   \n",
       "54261                140            3                   1   \n",
       "54262                143            0                   0   \n",
       "54263                143            2                   1   \n",
       "54264                143            0                   1   \n",
       "54265                143            0                   0   \n",
       "54266                144           -1                  -1   \n",
       "54267                145            3                   1   \n",
       "54268                145            3                   1   \n",
       "54269                145            3                   1   \n",
       "54270                145            3                   1   \n",
       "54271                146            0                   0   \n",
       "54272                147            2                   1   \n",
       "54273                148            1                   1   \n",
       "54274                149            3                   0   \n",
       "54275                150            3                   1   \n",
       "54276                151            1                   1   \n",
       "\n",
       "       prior_question_elapsed_time  prior_question_had_explanation  \\\n",
       "54177                          NaN                           False   \n",
       "54178                      37000.0                            True   \n",
       "54179                      12000.0                            True   \n",
       "54180                      26000.0                            True   \n",
       "54181                      21000.0                            True   \n",
       "54182                       7000.0                            True   \n",
       "54183                      26000.0                            True   \n",
       "54184                      35000.0                            True   \n",
       "54185                      59000.0                            True   \n",
       "54186                      65000.0                            True   \n",
       "54187                      38000.0                            True   \n",
       "54188                      42000.0                            True   \n",
       "54189                      15000.0                            True   \n",
       "54190                      24000.0                            True   \n",
       "54191                      59000.0                            True   \n",
       "54192                      35000.0                            True   \n",
       "54193                      28000.0                            True   \n",
       "54194                       7000.0                            True   \n",
       "54195                      14000.0                            True   \n",
       "54196                      21000.0                            True   \n",
       "54197                      57000.0                            True   \n",
       "54198                      68000.0                            True   \n",
       "54199                      15000.0                            True   \n",
       "54200                      82000.0                            True   \n",
       "54201                      19000.0                            True   \n",
       "54202                      40000.0                            True   \n",
       "54203                      24000.0                            True   \n",
       "54204                      16000.0                            True   \n",
       "54205                      45000.0                            True   \n",
       "54206                      45000.0                            True   \n",
       "54207                      45000.0                            True   \n",
       "54208                      45000.0                            True   \n",
       "54209                      47500.0                            True   \n",
       "54210                      47500.0                            True   \n",
       "54211                      47500.0                            True   \n",
       "54212                      47500.0                            True   \n",
       "54213                      31500.0                            True   \n",
       "54214                      31500.0                            True   \n",
       "54215                      31500.0                            True   \n",
       "54216                      31500.0                            True   \n",
       "54217                      29250.0                            True   \n",
       "54218                      29250.0                            True   \n",
       "54219                      29250.0                            True   \n",
       "54220                      29250.0                            True   \n",
       "54221                      38250.0                            True   \n",
       "54222                      38250.0                            True   \n",
       "54223                      38250.0                            True   \n",
       "54224                      38250.0                            True   \n",
       "54225                      42500.0                            True   \n",
       "54226                      13000.0                            True   \n",
       "54227                      18000.0                            True   \n",
       "54228                      65000.0                            True   \n",
       "54229                       7000.0                            True   \n",
       "54230                      17000.0                            True   \n",
       "54231                      22000.0                            True   \n",
       "54232                      13000.0                            True   \n",
       "54233                      27000.0                            True   \n",
       "54234                       8000.0                            True   \n",
       "54235                      16000.0                            True   \n",
       "54236                          NaN                           False   \n",
       "54237                      21000.0                            True   \n",
       "54238                      13000.0                            True   \n",
       "54239                      10000.0                            True   \n",
       "54240                      88000.0                            True   \n",
       "54241                      15000.0                            True   \n",
       "54242                      15000.0                            True   \n",
       "54243                      15000.0                            True   \n",
       "54244                      15000.0                            True   \n",
       "54245                      39000.0                            True   \n",
       "54246                      39000.0                            True   \n",
       "54247                      39000.0                            True   \n",
       "54248                      39000.0                            True   \n",
       "54249                      30250.0                            True   \n",
       "54250                      30250.0                            True   \n",
       "54251                      30250.0                            True   \n",
       "54252                      30250.0                            True   \n",
       "54253                          NaN                           False   \n",
       "54254                      42000.0                            True   \n",
       "54255                      42000.0                            True   \n",
       "54256                      42000.0                            True   \n",
       "54257                      42000.0                            True   \n",
       "54258                      18500.0                            True   \n",
       "54259                      18500.0                            True   \n",
       "54260                      18500.0                            True   \n",
       "54261                      18500.0                            True   \n",
       "54262                      32500.0                            True   \n",
       "54263                      32500.0                            True   \n",
       "54264                      32500.0                            True   \n",
       "54265                      32500.0                            True   \n",
       "54266                          NaN                           False   \n",
       "54267                      30750.0                            True   \n",
       "54268                      30750.0                            True   \n",
       "54269                      30750.0                            True   \n",
       "54270                      30750.0                            True   \n",
       "54271                      17250.0                            True   \n",
       "54272                      31000.0                            True   \n",
       "54273                      22000.0                            True   \n",
       "54274                      22000.0                            True   \n",
       "54275                      21000.0                            True   \n",
       "54276                      24000.0                            True   \n",
       "\n",
       "       intro_section  \n",
       "54177          False  \n",
       "54178          False  \n",
       "54179          False  \n",
       "54180          False  \n",
       "54181          False  \n",
       "54182          False  \n",
       "54183          False  \n",
       "54184          False  \n",
       "54185          False  \n",
       "54186          False  \n",
       "54187          False  \n",
       "54188          False  \n",
       "54189          False  \n",
       "54190          False  \n",
       "54191          False  \n",
       "54192          False  \n",
       "54193          False  \n",
       "54194          False  \n",
       "54195          False  \n",
       "54196          False  \n",
       "54197          False  \n",
       "54198          False  \n",
       "54199          False  \n",
       "54200          False  \n",
       "54201          False  \n",
       "54202          False  \n",
       "54203          False  \n",
       "54204          False  \n",
       "54205          False  \n",
       "54206          False  \n",
       "54207          False  \n",
       "54208          False  \n",
       "54209          False  \n",
       "54210          False  \n",
       "54211          False  \n",
       "54212          False  \n",
       "54213          False  \n",
       "54214          False  \n",
       "54215          False  \n",
       "54216          False  \n",
       "54217          False  \n",
       "54218          False  \n",
       "54219          False  \n",
       "54220          False  \n",
       "54221          False  \n",
       "54222          False  \n",
       "54223          False  \n",
       "54224          False  \n",
       "54225          False  \n",
       "54226          False  \n",
       "54227          False  \n",
       "54228          False  \n",
       "54229          False  \n",
       "54230          False  \n",
       "54231          False  \n",
       "54232          False  \n",
       "54233          False  \n",
       "54234          False  \n",
       "54235          False  \n",
       "54236          False  \n",
       "54237          False  \n",
       "54238          False  \n",
       "54239          False  \n",
       "54240          False  \n",
       "54241          False  \n",
       "54242          False  \n",
       "54243          False  \n",
       "54244          False  \n",
       "54245          False  \n",
       "54246          False  \n",
       "54247          False  \n",
       "54248          False  \n",
       "54249          False  \n",
       "54250          False  \n",
       "54251          False  \n",
       "54252          False  \n",
       "54253          False  \n",
       "54254          False  \n",
       "54255          False  \n",
       "54256          False  \n",
       "54257          False  \n",
       "54258          False  \n",
       "54259          False  \n",
       "54260          False  \n",
       "54261          False  \n",
       "54262          False  \n",
       "54263          False  \n",
       "54264          False  \n",
       "54265          False  \n",
       "54266          False  \n",
       "54267          False  \n",
       "54268          False  \n",
       "54269          False  \n",
       "54270          False  \n",
       "54271          False  \n",
       "54272          False  \n",
       "54273          False  \n",
       "54274          False  \n",
       "54275          False  \n",
       "54276          False  "
      ],
      "text/html": "<div>\n<style scoped>\n    .dataframe tbody tr th:only-of-type {\n        vertical-align: middle;\n    }\n\n    .dataframe tbody tr th {\n        vertical-align: top;\n    }\n\n    .dataframe thead th {\n        text-align: right;\n    }\n</style>\n<table border=\"1\" class=\"dataframe\">\n  <thead>\n    <tr style=\"text-align: right;\">\n      <th></th>\n      <th>row_id</th>\n      <th>timestamp</th>\n      <th>user_id</th>\n      <th>content_id</th>\n      <th>content_type_id</th>\n      <th>task_container_id</th>\n      <th>user_answer</th>\n      <th>answered_correctly</th>\n      <th>prior_question_elapsed_time</th>\n      <th>prior_question_had_explanation</th>\n      <th>intro_section</th>\n    </tr>\n  </thead>\n  <tbody>\n    <tr>\n      <th>54177</th>\n      <td>54177</td>\n      <td>1107546182</td>\n      <td>1283420</td>\n      <td>17124</td>\n      <td>1</td>\n      <td>89</td>\n      <td>-1</td>\n      <td>-1</td>\n      <td>NaN</td>\n      <td>False</td>\n      <td>False</td>\n    </tr>\n    <tr>\n      <th>54178</th>\n      <td>54178</td>\n      <td>1107572322</td>\n      <td>1283420</td>\n      <td>5347</td>\n      <td>0</td>\n      <td>90</td>\n      <td>2</td>\n      <td>1</td>\n      <td>37000.0</td>\n      <td>True</td>\n      <td>False</td>\n    </tr>\n    <tr>\n      <th>54179</th>\n      <td>54179</td>\n      <td>1107613497</td>\n      <td>1283420</td>\n      <td>5330</td>\n      <td>0</td>\n      <td>91</td>\n      <td>0</td>\n      <td>1</td>\n      <td>12000.0</td>\n      <td>True</td>\n      <td>False</td>\n    </tr>\n    <tr>\n      <th>54180</th>\n      <td>54180</td>\n      <td>1107657638</td>\n      <td>1283420</td>\n      <td>3990</td>\n      <td>0</td>\n      <td>88</td>\n      <td>1</td>\n      <td>1</td>\n      <td>26000.0</td>\n      <td>True</td>\n      <td>False</td>\n    </tr>\n    <tr>\n      <th>54181</th>\n      <td>54181</td>\n      <td>1107714985</td>\n      <td>1283420</td>\n      <td>9150</td>\n      <td>0</td>\n      <td>92</td>\n      <td>1</td>\n      <td>0</td>\n      <td>21000.0</td>\n      <td>True</td>\n      <td>False</td>\n    </tr>\n    <tr>\n      <th>54182</th>\n      <td>54182</td>\n      <td>1107794203</td>\n      <td>1283420</td>\n      <td>3717</td>\n      <td>0</td>\n      <td>93</td>\n      <td>2</td>\n      <td>0</td>\n      <td>7000.0</td>\n      <td>True</td>\n      <td>False</td>\n    </tr>\n    <tr>\n      <th>54183</th>\n      <td>54183</td>\n      <td>1107909885</td>\n      <td>1283420</td>\n      <td>5166</td>\n      <td>0</td>\n      <td>94</td>\n      <td>1</td>\n      <td>1</td>\n      <td>26000.0</td>\n      <td>True</td>\n      <td>False</td>\n    </tr>\n    <tr>\n      <th>54184</th>\n      <td>54184</td>\n      <td>1108052965</td>\n      <td>1283420</td>\n      <td>5672</td>\n      <td>0</td>\n      <td>95</td>\n      <td>0</td>\n      <td>1</td>\n      <td>35000.0</td>\n      <td>True</td>\n      <td>False</td>\n    </tr>\n    <tr>\n      <th>54185</th>\n      <td>54185</td>\n      <td>1108186344</td>\n      <td>1283420</td>\n      <td>8958</td>\n      <td>0</td>\n      <td>96</td>\n      <td>3</td>\n      <td>1</td>\n      <td>59000.0</td>\n      <td>True</td>\n      <td>False</td>\n    </tr>\n    <tr>\n      <th>54186</th>\n      <td>54186</td>\n      <td>1108306940</td>\n      <td>1283420</td>\n      <td>4474</td>\n      <td>0</td>\n      <td>97</td>\n      <td>1</td>\n      <td>1</td>\n      <td>65000.0</td>\n      <td>True</td>\n      <td>False</td>\n    </tr>\n    <tr>\n      <th>54187</th>\n      <td>54187</td>\n      <td>1108401905</td>\n      <td>1283420</td>\n      <td>6185</td>\n      <td>0</td>\n      <td>98</td>\n      <td>3</td>\n      <td>1</td>\n      <td>38000.0</td>\n      <td>True</td>\n      <td>False</td>\n    </tr>\n    <tr>\n      <th>54188</th>\n      <td>54188</td>\n      <td>1108438341</td>\n      <td>1283420</td>\n      <td>6393</td>\n      <td>0</td>\n      <td>99</td>\n      <td>0</td>\n      <td>1</td>\n      <td>42000.0</td>\n      <td>True</td>\n      <td>False</td>\n    </tr>\n    <tr>\n      <th>54189</th>\n      <td>54189</td>\n      <td>1108660726</td>\n      <td>1283420</td>\n      <td>8696</td>\n      <td>0</td>\n      <td>100</td>\n      <td>0</td>\n      <td>0</td>\n      <td>15000.0</td>\n      <td>True</td>\n      <td>False</td>\n    </tr>\n    <tr>\n      <th>54190</th>\n      <td>54190</td>\n      <td>1108936933</td>\n      <td>1283420</td>\n      <td>6402</td>\n      <td>0</td>\n      <td>101</td>\n      <td>2</td>\n      <td>0</td>\n      <td>24000.0</td>\n      <td>True</td>\n      <td>False</td>\n    </tr>\n    <tr>\n      <th>54191</th>\n      <td>54191</td>\n      <td>1109018415</td>\n      <td>1283420</td>\n      <td>4771</td>\n      <td>0</td>\n      <td>102</td>\n      <td>0</td>\n      <td>1</td>\n      <td>59000.0</td>\n      <td>True</td>\n      <td>False</td>\n    </tr>\n    <tr>\n      <th>54192</th>\n      <td>54192</td>\n      <td>1109081188</td>\n      <td>1283420</td>\n      <td>6016</td>\n      <td>0</td>\n      <td>103</td>\n      <td>3</td>\n      <td>1</td>\n      <td>35000.0</td>\n      <td>True</td>\n      <td>False</td>\n    </tr>\n    <tr>\n      <th>54193</th>\n      <td>54193</td>\n      <td>1109106574</td>\n      <td>1283420</td>\n      <td>9442</td>\n      <td>0</td>\n      <td>104</td>\n      <td>0</td>\n      <td>1</td>\n      <td>28000.0</td>\n      <td>True</td>\n      <td>False</td>\n    </tr>\n    <tr>\n      <th>54194</th>\n      <td>54194</td>\n      <td>1109137336</td>\n      <td>1283420</td>\n      <td>5948</td>\n      <td>0</td>\n      <td>105</td>\n      <td>1</td>\n      <td>1</td>\n      <td>7000.0</td>\n      <td>True</td>\n      <td>False</td>\n    </tr>\n    <tr>\n      <th>54195</th>\n      <td>54195</td>\n      <td>1109197269</td>\n      <td>1283420</td>\n      <td>4766</td>\n      <td>0</td>\n      <td>106</td>\n      <td>0</td>\n      <td>1</td>\n      <td>14000.0</td>\n      <td>True</td>\n      <td>False</td>\n    </tr>\n    <tr>\n      <th>54196</th>\n      <td>54196</td>\n      <td>1109302934</td>\n      <td>1283420</td>\n      <td>5052</td>\n      <td>0</td>\n      <td>107</td>\n      <td>3</td>\n      <td>1</td>\n      <td>21000.0</td>\n      <td>True</td>\n      <td>False</td>\n    </tr>\n    <tr>\n      <th>54197</th>\n      <td>54197</td>\n      <td>1109459761</td>\n      <td>1283420</td>\n      <td>9764</td>\n      <td>0</td>\n      <td>108</td>\n      <td>0</td>\n      <td>0</td>\n      <td>57000.0</td>\n      <td>True</td>\n      <td>False</td>\n    </tr>\n    <tr>\n      <th>54198</th>\n      <td>54198</td>\n      <td>1109554580</td>\n      <td>1283420</td>\n      <td>4370</td>\n      <td>0</td>\n      <td>109</td>\n      <td>1</td>\n      <td>1</td>\n      <td>68000.0</td>\n      <td>True</td>\n      <td>False</td>\n    </tr>\n    <tr>\n      <th>54199</th>\n      <td>54199</td>\n      <td>1109677034</td>\n      <td>1283420</td>\n      <td>5008</td>\n      <td>0</td>\n      <td>110</td>\n      <td>2</td>\n      <td>1</td>\n      <td>15000.0</td>\n      <td>True</td>\n      <td>False</td>\n    </tr>\n    <tr>\n      <th>54200</th>\n      <td>54200</td>\n      <td>1109737431</td>\n      <td>1283420</td>\n      <td>8487</td>\n      <td>0</td>\n      <td>111</td>\n      <td>0</td>\n      <td>1</td>\n      <td>82000.0</td>\n      <td>True</td>\n      <td>False</td>\n    </tr>\n    <tr>\n      <th>54201</th>\n      <td>54201</td>\n      <td>1109816193</td>\n      <td>1283420</td>\n      <td>9594</td>\n      <td>0</td>\n      <td>112</td>\n      <td>2</td>\n      <td>1</td>\n      <td>19000.0</td>\n      <td>True</td>\n      <td>False</td>\n    </tr>\n    <tr>\n      <th>54202</th>\n      <td>54202</td>\n      <td>1109879029</td>\n      <td>1283420</td>\n      <td>3893</td>\n      <td>0</td>\n      <td>113</td>\n      <td>2</td>\n      <td>1</td>\n      <td>40000.0</td>\n      <td>True</td>\n      <td>False</td>\n    </tr>\n    <tr>\n      <th>54203</th>\n      <td>54203</td>\n      <td>1109924728</td>\n      <td>1283420</td>\n      <td>6349</td>\n      <td>0</td>\n      <td>114</td>\n      <td>1</td>\n      <td>1</td>\n      <td>24000.0</td>\n      <td>True</td>\n      <td>False</td>\n    </tr>\n    <tr>\n      <th>54204</th>\n      <td>54204</td>\n      <td>1109997259</td>\n      <td>1283420</td>\n      <td>5896</td>\n      <td>0</td>\n      <td>115</td>\n      <td>0</td>\n      <td>0</td>\n      <td>16000.0</td>\n      <td>True</td>\n      <td>False</td>\n    </tr>\n    <tr>\n      <th>54205</th>\n      <td>54205</td>\n      <td>1111466923</td>\n      <td>1283420</td>\n      <td>6563</td>\n      <td>0</td>\n      <td>116</td>\n      <td>1</td>\n      <td>1</td>\n      <td>45000.0</td>\n      <td>True</td>\n      <td>False</td>\n    </tr>\n    <tr>\n      <th>54206</th>\n      <td>54206</td>\n      <td>1111466923</td>\n      <td>1283420</td>\n      <td>6562</td>\n      <td>0</td>\n      <td>116</td>\n      <td>1</td>\n      <td>1</td>\n      <td>45000.0</td>\n      <td>True</td>\n      <td>False</td>\n    </tr>\n    <tr>\n      <th>54207</th>\n      <td>54207</td>\n      <td>1111466923</td>\n      <td>1283420</td>\n      <td>6564</td>\n      <td>0</td>\n      <td>116</td>\n      <td>0</td>\n      <td>1</td>\n      <td>45000.0</td>\n      <td>True</td>\n      <td>False</td>\n    </tr>\n    <tr>\n      <th>54208</th>\n      <td>54208</td>\n      <td>1111466923</td>\n      <td>1283420</td>\n      <td>6561</td>\n      <td>0</td>\n      <td>116</td>\n      <td>2</td>\n      <td>1</td>\n      <td>45000.0</td>\n      <td>True</td>\n      <td>False</td>\n    </tr>\n    <tr>\n      <th>54209</th>\n      <td>54209</td>\n      <td>1111667997</td>\n      <td>1283420</td>\n      <td>6759</td>\n      <td>0</td>\n      <td>117</td>\n      <td>0</td>\n      <td>1</td>\n      <td>47500.0</td>\n      <td>True</td>\n      <td>False</td>\n    </tr>\n    <tr>\n      <th>54210</th>\n      <td>54210</td>\n      <td>1111667997</td>\n      <td>1283420</td>\n      <td>6758</td>\n      <td>0</td>\n      <td>117</td>\n      <td>2</td>\n      <td>1</td>\n      <td>47500.0</td>\n      <td>True</td>\n      <td>False</td>\n    </tr>\n    <tr>\n      <th>54211</th>\n      <td>54211</td>\n      <td>1111667997</td>\n      <td>1283420</td>\n      <td>6760</td>\n      <td>0</td>\n      <td>117</td>\n      <td>1</td>\n      <td>1</td>\n      <td>47500.0</td>\n      <td>True</td>\n      <td>False</td>\n    </tr>\n    <tr>\n      <th>54212</th>\n      <td>54212</td>\n      <td>1111667997</td>\n      <td>1283420</td>\n      <td>6757</td>\n      <td>0</td>\n      <td>117</td>\n      <td>0</td>\n      <td>0</td>\n      <td>47500.0</td>\n      <td>True</td>\n      <td>False</td>\n    </tr>\n    <tr>\n      <th>54213</th>\n      <td>54213</td>\n      <td>1111866317</td>\n      <td>1283420</td>\n      <td>10233</td>\n      <td>0</td>\n      <td>118</td>\n      <td>0</td>\n      <td>1</td>\n      <td>31500.0</td>\n      <td>True</td>\n      <td>False</td>\n    </tr>\n    <tr>\n      <th>54214</th>\n      <td>54214</td>\n      <td>1111866317</td>\n      <td>1283420</td>\n      <td>10232</td>\n      <td>0</td>\n      <td>118</td>\n      <td>3</td>\n      <td>1</td>\n      <td>31500.0</td>\n      <td>True</td>\n      <td>False</td>\n    </tr>\n    <tr>\n      <th>54215</th>\n      <td>54215</td>\n      <td>1111866317</td>\n      <td>1283420</td>\n      <td>10235</td>\n      <td>0</td>\n      <td>118</td>\n      <td>1</td>\n      <td>0</td>\n      <td>31500.0</td>\n      <td>True</td>\n      <td>False</td>\n    </tr>\n    <tr>\n      <th>54216</th>\n      <td>54216</td>\n      <td>1111866317</td>\n      <td>1283420</td>\n      <td>10234</td>\n      <td>0</td>\n      <td>118</td>\n      <td>3</td>\n      <td>1</td>\n      <td>31500.0</td>\n      <td>True</td>\n      <td>False</td>\n    </tr>\n    <tr>\n      <th>54217</th>\n      <td>54217</td>\n      <td>1112095954</td>\n      <td>1283420</td>\n      <td>6919</td>\n      <td>0</td>\n      <td>119</td>\n      <td>0</td>\n      <td>1</td>\n      <td>29250.0</td>\n      <td>True</td>\n      <td>False</td>\n    </tr>\n    <tr>\n      <th>54218</th>\n      <td>54218</td>\n      <td>1112095954</td>\n      <td>1283420</td>\n      <td>6916</td>\n      <td>0</td>\n      <td>119</td>\n      <td>1</td>\n      <td>1</td>\n      <td>29250.0</td>\n      <td>True</td>\n      <td>False</td>\n    </tr>\n    <tr>\n      <th>54219</th>\n      <td>54219</td>\n      <td>1112095954</td>\n      <td>1283420</td>\n      <td>6918</td>\n      <td>0</td>\n      <td>119</td>\n      <td>0</td>\n      <td>1</td>\n      <td>29250.0</td>\n      <td>True</td>\n      <td>False</td>\n    </tr>\n    <tr>\n      <th>54220</th>\n      <td>54220</td>\n      <td>1112095954</td>\n      <td>1283420</td>\n      <td>6917</td>\n      <td>0</td>\n      <td>119</td>\n      <td>2</td>\n      <td>0</td>\n      <td>29250.0</td>\n      <td>True</td>\n      <td>False</td>\n    </tr>\n    <tr>\n      <th>54221</th>\n      <td>54221</td>\n      <td>1112370482</td>\n      <td>1283420</td>\n      <td>10078</td>\n      <td>0</td>\n      <td>120</td>\n      <td>0</td>\n      <td>1</td>\n      <td>38250.0</td>\n      <td>True</td>\n      <td>False</td>\n    </tr>\n    <tr>\n      <th>54222</th>\n      <td>54222</td>\n      <td>1112370482</td>\n      <td>1283420</td>\n      <td>10079</td>\n      <td>0</td>\n      <td>120</td>\n      <td>3</td>\n      <td>0</td>\n      <td>38250.0</td>\n      <td>True</td>\n      <td>False</td>\n    </tr>\n    <tr>\n      <th>54223</th>\n      <td>54223</td>\n      <td>1112370482</td>\n      <td>1283420</td>\n      <td>10080</td>\n      <td>0</td>\n      <td>120</td>\n      <td>1</td>\n      <td>1</td>\n      <td>38250.0</td>\n      <td>True</td>\n      <td>False</td>\n    </tr>\n    <tr>\n      <th>54224</th>\n      <td>54224</td>\n      <td>1112370482</td>\n      <td>1283420</td>\n      <td>10081</td>\n      <td>0</td>\n      <td>120</td>\n      <td>2</td>\n      <td>1</td>\n      <td>38250.0</td>\n      <td>True</td>\n      <td>False</td>\n    </tr>\n    <tr>\n      <th>54225</th>\n      <td>54225</td>\n      <td>1122498332</td>\n      <td>1283420</td>\n      <td>8704</td>\n      <td>0</td>\n      <td>121</td>\n      <td>1</td>\n      <td>1</td>\n      <td>42500.0</td>\n      <td>True</td>\n      <td>False</td>\n    </tr>\n    <tr>\n      <th>54226</th>\n      <td>54226</td>\n      <td>1122588532</td>\n      <td>1283420</td>\n      <td>3878</td>\n      <td>0</td>\n      <td>122</td>\n      <td>2</td>\n      <td>0</td>\n      <td>13000.0</td>\n      <td>True</td>\n      <td>False</td>\n    </tr>\n    <tr>\n      <th>54227</th>\n      <td>54227</td>\n      <td>1122754663</td>\n      <td>1283420</td>\n      <td>4481</td>\n      <td>0</td>\n      <td>123</td>\n      <td>3</td>\n      <td>0</td>\n      <td>18000.0</td>\n      <td>True</td>\n      <td>False</td>\n    </tr>\n    <tr>\n      <th>54228</th>\n      <td>54228</td>\n      <td>1122805664</td>\n      <td>1283420</td>\n      <td>4428</td>\n      <td>0</td>\n      <td>124</td>\n      <td>0</td>\n      <td>1</td>\n      <td>65000.0</td>\n      <td>True</td>\n      <td>False</td>\n    </tr>\n    <tr>\n      <th>54229</th>\n      <td>54229</td>\n      <td>1122835102</td>\n      <td>1283420</td>\n      <td>9641</td>\n      <td>0</td>\n      <td>125</td>\n      <td>0</td>\n      <td>1</td>\n      <td>7000.0</td>\n      <td>True</td>\n      <td>False</td>\n    </tr>\n    <tr>\n      <th>54230</th>\n      <td>54230</td>\n      <td>1122865493</td>\n      <td>1283420</td>\n      <td>6129</td>\n      <td>0</td>\n      <td>126</td>\n      <td>1</td>\n      <td>1</td>\n      <td>17000.0</td>\n      <td>True</td>\n      <td>False</td>\n    </tr>\n    <tr>\n      <th>54231</th>\n      <td>54231</td>\n      <td>1122890299</td>\n      <td>1283420</td>\n      <td>3641</td>\n      <td>0</td>\n      <td>127</td>\n      <td>2</td>\n      <td>1</td>\n      <td>22000.0</td>\n      <td>True</td>\n      <td>False</td>\n    </tr>\n    <tr>\n      <th>54232</th>\n      <td>54232</td>\n      <td>1122929922</td>\n      <td>1283420</td>\n      <td>4029</td>\n      <td>0</td>\n      <td>128</td>\n      <td>1</td>\n      <td>1</td>\n      <td>13000.0</td>\n      <td>True</td>\n      <td>False</td>\n    </tr>\n    <tr>\n      <th>54233</th>\n      <td>54233</td>\n      <td>1122947893</td>\n      <td>1283420</td>\n      <td>9561</td>\n      <td>0</td>\n      <td>129</td>\n      <td>3</td>\n      <td>1</td>\n      <td>27000.0</td>\n      <td>True</td>\n      <td>False</td>\n    </tr>\n    <tr>\n      <th>54234</th>\n      <td>54234</td>\n      <td>1122982739</td>\n      <td>1283420</td>\n      <td>5447</td>\n      <td>0</td>\n      <td>130</td>\n      <td>3</td>\n      <td>1</td>\n      <td>8000.0</td>\n      <td>True</td>\n      <td>False</td>\n    </tr>\n    <tr>\n      <th>54235</th>\n      <td>54235</td>\n      <td>1123053500</td>\n      <td>1283420</td>\n      <td>5664</td>\n      <td>0</td>\n      <td>131</td>\n      <td>0</td>\n      <td>0</td>\n      <td>16000.0</td>\n      <td>True</td>\n      <td>False</td>\n    </tr>\n    <tr>\n      <th>54236</th>\n      <td>54236</td>\n      <td>1124282822</td>\n      <td>1283420</td>\n      <td>6481</td>\n      <td>1</td>\n      <td>133</td>\n      <td>-1</td>\n      <td>-1</td>\n      <td>NaN</td>\n      <td>False</td>\n      <td>False</td>\n    </tr>\n    <tr>\n      <th>54237</th>\n      <td>54237</td>\n      <td>1124300093</td>\n      <td>1283420</td>\n      <td>5664</td>\n      <td>0</td>\n      <td>134</td>\n      <td>3</td>\n      <td>1</td>\n      <td>21000.0</td>\n      <td>True</td>\n      <td>False</td>\n    </tr>\n    <tr>\n      <th>54238</th>\n      <td>54238</td>\n      <td>1124316503</td>\n      <td>1283420</td>\n      <td>3945</td>\n      <td>0</td>\n      <td>135</td>\n      <td>2</td>\n      <td>1</td>\n      <td>13000.0</td>\n      <td>True</td>\n      <td>False</td>\n    </tr>\n    <tr>\n      <th>54239</th>\n      <td>54239</td>\n      <td>1124447627</td>\n      <td>1283420</td>\n      <td>5668</td>\n      <td>0</td>\n      <td>132</td>\n      <td>2</td>\n      <td>1</td>\n      <td>10000.0</td>\n      <td>True</td>\n      <td>False</td>\n    </tr>\n    <tr>\n      <th>54240</th>\n      <td>54240</td>\n      <td>1124512344</td>\n      <td>1283420</td>\n      <td>9058</td>\n      <td>0</td>\n      <td>136</td>\n      <td>2</td>\n      <td>1</td>\n      <td>88000.0</td>\n      <td>True</td>\n      <td>False</td>\n    </tr>\n    <tr>\n      <th>54241</th>\n      <td>54241</td>\n      <td>1124874010</td>\n      <td>1283420</td>\n      <td>10070</td>\n      <td>0</td>\n      <td>137</td>\n      <td>1</td>\n      <td>0</td>\n      <td>15000.0</td>\n      <td>True</td>\n      <td>False</td>\n    </tr>\n    <tr>\n      <th>54242</th>\n      <td>54242</td>\n      <td>1124874010</td>\n      <td>1283420</td>\n      <td>10071</td>\n      <td>0</td>\n      <td>137</td>\n      <td>1</td>\n      <td>1</td>\n      <td>15000.0</td>\n      <td>True</td>\n      <td>False</td>\n    </tr>\n    <tr>\n      <th>54243</th>\n      <td>54243</td>\n      <td>1124874010</td>\n      <td>1283420</td>\n      <td>10072</td>\n      <td>0</td>\n      <td>137</td>\n      <td>2</td>\n      <td>0</td>\n      <td>15000.0</td>\n      <td>True</td>\n      <td>False</td>\n    </tr>\n    <tr>\n      <th>54244</th>\n      <td>54244</td>\n      <td>1124874010</td>\n      <td>1283420</td>\n      <td>10073</td>\n      <td>0</td>\n      <td>137</td>\n      <td>1</td>\n      <td>0</td>\n      <td>15000.0</td>\n      <td>True</td>\n      <td>False</td>\n    </tr>\n    <tr>\n      <th>54245</th>\n      <td>54245</td>\n      <td>1125185136</td>\n      <td>1283420</td>\n      <td>10213</td>\n      <td>0</td>\n      <td>138</td>\n      <td>0</td>\n      <td>1</td>\n      <td>39000.0</td>\n      <td>True</td>\n      <td>False</td>\n    </tr>\n    <tr>\n      <th>54246</th>\n      <td>54246</td>\n      <td>1125185136</td>\n      <td>1283420</td>\n      <td>10214</td>\n      <td>0</td>\n      <td>138</td>\n      <td>0</td>\n      <td>1</td>\n      <td>39000.0</td>\n      <td>True</td>\n      <td>False</td>\n    </tr>\n    <tr>\n      <th>54247</th>\n      <td>54247</td>\n      <td>1125185136</td>\n      <td>1283420</td>\n      <td>10212</td>\n      <td>0</td>\n      <td>138</td>\n      <td>3</td>\n      <td>0</td>\n      <td>39000.0</td>\n      <td>True</td>\n      <td>False</td>\n    </tr>\n    <tr>\n      <th>54248</th>\n      <td>54248</td>\n      <td>1125185136</td>\n      <td>1283420</td>\n      <td>10215</td>\n      <td>0</td>\n      <td>138</td>\n      <td>1</td>\n      <td>1</td>\n      <td>39000.0</td>\n      <td>True</td>\n      <td>False</td>\n    </tr>\n    <tr>\n      <th>54249</th>\n      <td>54249</td>\n      <td>1125431673</td>\n      <td>1283420</td>\n      <td>6490</td>\n      <td>0</td>\n      <td>139</td>\n      <td>2</td>\n      <td>0</td>\n      <td>30250.0</td>\n      <td>True</td>\n      <td>False</td>\n    </tr>\n    <tr>\n      <th>54250</th>\n      <td>54250</td>\n      <td>1125431673</td>\n      <td>1283420</td>\n      <td>6491</td>\n      <td>0</td>\n      <td>139</td>\n      <td>0</td>\n      <td>1</td>\n      <td>30250.0</td>\n      <td>True</td>\n      <td>False</td>\n    </tr>\n    <tr>\n      <th>54251</th>\n      <td>54251</td>\n      <td>1125431673</td>\n      <td>1283420</td>\n      <td>6492</td>\n      <td>0</td>\n      <td>139</td>\n      <td>0</td>\n      <td>0</td>\n      <td>30250.0</td>\n      <td>True</td>\n      <td>False</td>\n    </tr>\n    <tr>\n      <th>54252</th>\n      <td>54252</td>\n      <td>1125431673</td>\n      <td>1283420</td>\n      <td>6489</td>\n      <td>0</td>\n      <td>139</td>\n      <td>3</td>\n      <td>1</td>\n      <td>30250.0</td>\n      <td>True</td>\n      <td>False</td>\n    </tr>\n    <tr>\n      <th>54253</th>\n      <td>54253</td>\n      <td>1125788285</td>\n      <td>1283420</td>\n      <td>29695</td>\n      <td>1</td>\n      <td>141</td>\n      <td>-1</td>\n      <td>-1</td>\n      <td>NaN</td>\n      <td>False</td>\n      <td>False</td>\n    </tr>\n    <tr>\n      <th>54254</th>\n      <td>54254</td>\n      <td>1125869593</td>\n      <td>1283420</td>\n      <td>6490</td>\n      <td>0</td>\n      <td>142</td>\n      <td>1</td>\n      <td>1</td>\n      <td>42000.0</td>\n      <td>True</td>\n      <td>False</td>\n    </tr>\n    <tr>\n      <th>54255</th>\n      <td>54255</td>\n      <td>1125869593</td>\n      <td>1283420</td>\n      <td>6489</td>\n      <td>0</td>\n      <td>142</td>\n      <td>3</td>\n      <td>1</td>\n      <td>42000.0</td>\n      <td>True</td>\n      <td>False</td>\n    </tr>\n    <tr>\n      <th>54256</th>\n      <td>54256</td>\n      <td>1125869593</td>\n      <td>1283420</td>\n      <td>6491</td>\n      <td>0</td>\n      <td>142</td>\n      <td>0</td>\n      <td>1</td>\n      <td>42000.0</td>\n      <td>True</td>\n      <td>False</td>\n    </tr>\n    <tr>\n      <th>54257</th>\n      <td>54257</td>\n      <td>1125869593</td>\n      <td>1283420</td>\n      <td>6492</td>\n      <td>0</td>\n      <td>142</td>\n      <td>3</td>\n      <td>1</td>\n      <td>42000.0</td>\n      <td>True</td>\n      <td>False</td>\n    </tr>\n    <tr>\n      <th>54258</th>\n      <td>54258</td>\n      <td>1126052475</td>\n      <td>1283420</td>\n      <td>6615</td>\n      <td>0</td>\n      <td>140</td>\n      <td>3</td>\n      <td>0</td>\n      <td>18500.0</td>\n      <td>True</td>\n      <td>False</td>\n    </tr>\n    <tr>\n      <th>54259</th>\n      <td>54259</td>\n      <td>1126052475</td>\n      <td>1283420</td>\n      <td>6616</td>\n      <td>0</td>\n      <td>140</td>\n      <td>1</td>\n      <td>1</td>\n      <td>18500.0</td>\n      <td>True</td>\n      <td>False</td>\n    </tr>\n    <tr>\n      <th>54260</th>\n      <td>54260</td>\n      <td>1126052475</td>\n      <td>1283420</td>\n      <td>6614</td>\n      <td>0</td>\n      <td>140</td>\n      <td>2</td>\n      <td>0</td>\n      <td>18500.0</td>\n      <td>True</td>\n      <td>False</td>\n    </tr>\n    <tr>\n      <th>54261</th>\n      <td>54261</td>\n      <td>1126052475</td>\n      <td>1283420</td>\n      <td>6613</td>\n      <td>0</td>\n      <td>140</td>\n      <td>3</td>\n      <td>1</td>\n      <td>18500.0</td>\n      <td>True</td>\n      <td>False</td>\n    </tr>\n    <tr>\n      <th>54262</th>\n      <td>54262</td>\n      <td>1126263718</td>\n      <td>1283420</td>\n      <td>6602</td>\n      <td>0</td>\n      <td>143</td>\n      <td>0</td>\n      <td>0</td>\n      <td>32500.0</td>\n      <td>True</td>\n      <td>False</td>\n    </tr>\n    <tr>\n      <th>54263</th>\n      <td>54263</td>\n      <td>1126263718</td>\n      <td>1283420</td>\n      <td>6601</td>\n      <td>0</td>\n      <td>143</td>\n      <td>2</td>\n      <td>1</td>\n      <td>32500.0</td>\n      <td>True</td>\n      <td>False</td>\n    </tr>\n    <tr>\n      <th>54264</th>\n      <td>54264</td>\n      <td>1126263718</td>\n      <td>1283420</td>\n      <td>6603</td>\n      <td>0</td>\n      <td>143</td>\n      <td>0</td>\n      <td>1</td>\n      <td>32500.0</td>\n      <td>True</td>\n      <td>False</td>\n    </tr>\n    <tr>\n      <th>54265</th>\n      <td>54265</td>\n      <td>1126263718</td>\n      <td>1283420</td>\n      <td>6604</td>\n      <td>0</td>\n      <td>143</td>\n      <td>0</td>\n      <td>0</td>\n      <td>32500.0</td>\n      <td>True</td>\n      <td>False</td>\n    </tr>\n    <tr>\n      <th>54266</th>\n      <td>54266</td>\n      <td>1128117390</td>\n      <td>1283420</td>\n      <td>17326</td>\n      <td>1</td>\n      <td>144</td>\n      <td>-1</td>\n      <td>-1</td>\n      <td>NaN</td>\n      <td>False</td>\n      <td>False</td>\n    </tr>\n    <tr>\n      <th>54267</th>\n      <td>54267</td>\n      <td>1128200408</td>\n      <td>1283420</td>\n      <td>6845</td>\n      <td>0</td>\n      <td>145</td>\n      <td>3</td>\n      <td>1</td>\n      <td>30750.0</td>\n      <td>True</td>\n      <td>False</td>\n    </tr>\n    <tr>\n      <th>54268</th>\n      <td>54268</td>\n      <td>1128200408</td>\n      <td>1283420</td>\n      <td>6846</td>\n      <td>0</td>\n      <td>145</td>\n      <td>3</td>\n      <td>1</td>\n      <td>30750.0</td>\n      <td>True</td>\n      <td>False</td>\n    </tr>\n    <tr>\n      <th>54269</th>\n      <td>54269</td>\n      <td>1128200408</td>\n      <td>1283420</td>\n      <td>6847</td>\n      <td>0</td>\n      <td>145</td>\n      <td>3</td>\n      <td>1</td>\n      <td>30750.0</td>\n      <td>True</td>\n      <td>False</td>\n    </tr>\n    <tr>\n      <th>54270</th>\n      <td>54270</td>\n      <td>1128200408</td>\n      <td>1283420</td>\n      <td>6848</td>\n      <td>0</td>\n      <td>145</td>\n      <td>3</td>\n      <td>1</td>\n      <td>30750.0</td>\n      <td>True</td>\n      <td>False</td>\n    </tr>\n    <tr>\n      <th>54271</th>\n      <td>54271</td>\n      <td>1128283150</td>\n      <td>1283420</td>\n      <td>175</td>\n      <td>0</td>\n      <td>146</td>\n      <td>0</td>\n      <td>0</td>\n      <td>17250.0</td>\n      <td>True</td>\n      <td>False</td>\n    </tr>\n    <tr>\n      <th>54272</th>\n      <td>54272</td>\n      <td>1128327592</td>\n      <td>1283420</td>\n      <td>149</td>\n      <td>0</td>\n      <td>147</td>\n      <td>2</td>\n      <td>1</td>\n      <td>31000.0</td>\n      <td>True</td>\n      <td>False</td>\n    </tr>\n    <tr>\n      <th>54273</th>\n      <td>54273</td>\n      <td>1128364131</td>\n      <td>1283420</td>\n      <td>10677</td>\n      <td>0</td>\n      <td>148</td>\n      <td>1</td>\n      <td>1</td>\n      <td>22000.0</td>\n      <td>True</td>\n      <td>False</td>\n    </tr>\n    <tr>\n      <th>54274</th>\n      <td>54274</td>\n      <td>1128405327</td>\n      <td>1283420</td>\n      <td>7903</td>\n      <td>0</td>\n      <td>149</td>\n      <td>3</td>\n      <td>0</td>\n      <td>22000.0</td>\n      <td>True</td>\n      <td>False</td>\n    </tr>\n    <tr>\n      <th>54275</th>\n      <td>54275</td>\n      <td>1128447967</td>\n      <td>1283420</td>\n      <td>76</td>\n      <td>0</td>\n      <td>150</td>\n      <td>3</td>\n      <td>1</td>\n      <td>21000.0</td>\n      <td>True</td>\n      <td>False</td>\n    </tr>\n    <tr>\n      <th>54276</th>\n      <td>54276</td>\n      <td>1128486265</td>\n      <td>1283420</td>\n      <td>776</td>\n      <td>0</td>\n      <td>151</td>\n      <td>1</td>\n      <td>1</td>\n      <td>24000.0</td>\n      <td>True</td>\n      <td>False</td>\n    </tr>\n  </tbody>\n</table>\n</div>"
     },
     "metadata": {},
     "execution_count": 49
    }
   ],
   "source": [
    "train_df[(train_df['user_id']==student_id) & (train_df['row_id'] >= 54177)][:100]"
   ]
  },
  {
   "cell_type": "code",
   "execution_count": 53,
   "metadata": {},
   "outputs": [
    {
     "output_type": "execute_result",
     "data": {
      "text/plain": [
       "array(['concept', 'solving question', 'intention', 'starter'],\n",
       "      dtype=object)"
      ]
     },
     "metadata": {},
     "execution_count": 53
    }
   ],
   "source": [
    "lectures_df.type_of.unique()"
   ]
  },
  {
   "cell_type": "code",
   "execution_count": 61,
   "metadata": {},
   "outputs": [
    {
     "output_type": "execute_result",
     "data": {
      "text/plain": [
       "     lecture_id  tag  part  type_of\n",
       "54         4385  181     5  starter\n",
       "261       21169  151     5  starter\n",
       "362       28569   27     6  starter"
      ],
      "text/html": "<div>\n<style scoped>\n    .dataframe tbody tr th:only-of-type {\n        vertical-align: middle;\n    }\n\n    .dataframe tbody tr th {\n        vertical-align: top;\n    }\n\n    .dataframe thead th {\n        text-align: right;\n    }\n</style>\n<table border=\"1\" class=\"dataframe\">\n  <thead>\n    <tr style=\"text-align: right;\">\n      <th></th>\n      <th>lecture_id</th>\n      <th>tag</th>\n      <th>part</th>\n      <th>type_of</th>\n    </tr>\n  </thead>\n  <tbody>\n    <tr>\n      <th>54</th>\n      <td>4385</td>\n      <td>181</td>\n      <td>5</td>\n      <td>starter</td>\n    </tr>\n    <tr>\n      <th>261</th>\n      <td>21169</td>\n      <td>151</td>\n      <td>5</td>\n      <td>starter</td>\n    </tr>\n    <tr>\n      <th>362</th>\n      <td>28569</td>\n      <td>27</td>\n      <td>6</td>\n      <td>starter</td>\n    </tr>\n  </tbody>\n</table>\n</div>"
     },
     "metadata": {},
     "execution_count": 61
    }
   ],
   "source": [
    "lectures_df[lectures_df.type_of=='starter']"
   ]
  },
  {
   "cell_type": "code",
   "execution_count": 72,
   "metadata": {},
   "outputs": [],
   "source": [
    "starter_ids = train_df[(train_df.timestamp == 0)].task_container_id.unique()"
   ]
  },
  {
   "cell_type": "code",
   "execution_count": 73,
   "metadata": {},
   "outputs": [
    {
     "output_type": "execute_result",
     "data": {
      "text/plain": [
       "    question_id  bundle_id  correct_answer  part            tags\n",
       "0             0          0               0     1   51 131 162 38\n",
       "1             1          1               1     1       131 36 81\n",
       "2             2          2               0     1  131 101 162 92\n",
       "3             3          3               0     1  131 149 162 29\n",
       "4             4          4               3     1    131 5 162 38\n",
       "5             5          5               2     1  131 149 162 81\n",
       "6             6          6               2     1    10 94 162 92\n",
       "7             7          7               0     1   61 110 162 29\n",
       "8             8          8               3     1   131 13 162 92\n",
       "9             9          9               3     1       10 164 81\n",
       "10           10         10               0     1       131 36 38\n",
       "12           12         12               1     1       51 131 92\n",
       "13           13         13               1     1        131 5 29\n",
       "15           15         15               3     1       61 110 81\n",
       "16           16         16               3     1       131 99 92\n",
       "18           18         18               1     1       61 110 92"
      ],
      "text/html": "<div>\n<style scoped>\n    .dataframe tbody tr th:only-of-type {\n        vertical-align: middle;\n    }\n\n    .dataframe tbody tr th {\n        vertical-align: top;\n    }\n\n    .dataframe thead th {\n        text-align: right;\n    }\n</style>\n<table border=\"1\" class=\"dataframe\">\n  <thead>\n    <tr style=\"text-align: right;\">\n      <th></th>\n      <th>question_id</th>\n      <th>bundle_id</th>\n      <th>correct_answer</th>\n      <th>part</th>\n      <th>tags</th>\n    </tr>\n  </thead>\n  <tbody>\n    <tr>\n      <th>0</th>\n      <td>0</td>\n      <td>0</td>\n      <td>0</td>\n      <td>1</td>\n      <td>51 131 162 38</td>\n    </tr>\n    <tr>\n      <th>1</th>\n      <td>1</td>\n      <td>1</td>\n      <td>1</td>\n      <td>1</td>\n      <td>131 36 81</td>\n    </tr>\n    <tr>\n      <th>2</th>\n      <td>2</td>\n      <td>2</td>\n      <td>0</td>\n      <td>1</td>\n      <td>131 101 162 92</td>\n    </tr>\n    <tr>\n      <th>3</th>\n      <td>3</td>\n      <td>3</td>\n      <td>0</td>\n      <td>1</td>\n      <td>131 149 162 29</td>\n    </tr>\n    <tr>\n      <th>4</th>\n      <td>4</td>\n      <td>4</td>\n      <td>3</td>\n      <td>1</td>\n      <td>131 5 162 38</td>\n    </tr>\n    <tr>\n      <th>5</th>\n      <td>5</td>\n      <td>5</td>\n      <td>2</td>\n      <td>1</td>\n      <td>131 149 162 81</td>\n    </tr>\n    <tr>\n      <th>6</th>\n      <td>6</td>\n      <td>6</td>\n      <td>2</td>\n      <td>1</td>\n      <td>10 94 162 92</td>\n    </tr>\n    <tr>\n      <th>7</th>\n      <td>7</td>\n      <td>7</td>\n      <td>0</td>\n      <td>1</td>\n      <td>61 110 162 29</td>\n    </tr>\n    <tr>\n      <th>8</th>\n      <td>8</td>\n      <td>8</td>\n      <td>3</td>\n      <td>1</td>\n      <td>131 13 162 92</td>\n    </tr>\n    <tr>\n      <th>9</th>\n      <td>9</td>\n      <td>9</td>\n      <td>3</td>\n      <td>1</td>\n      <td>10 164 81</td>\n    </tr>\n    <tr>\n      <th>10</th>\n      <td>10</td>\n      <td>10</td>\n      <td>0</td>\n      <td>1</td>\n      <td>131 36 38</td>\n    </tr>\n    <tr>\n      <th>12</th>\n      <td>12</td>\n      <td>12</td>\n      <td>1</td>\n      <td>1</td>\n      <td>51 131 92</td>\n    </tr>\n    <tr>\n      <th>13</th>\n      <td>13</td>\n      <td>13</td>\n      <td>1</td>\n      <td>1</td>\n      <td>131 5 29</td>\n    </tr>\n    <tr>\n      <th>15</th>\n      <td>15</td>\n      <td>15</td>\n      <td>3</td>\n      <td>1</td>\n      <td>61 110 81</td>\n    </tr>\n    <tr>\n      <th>16</th>\n      <td>16</td>\n      <td>16</td>\n      <td>3</td>\n      <td>1</td>\n      <td>131 99 92</td>\n    </tr>\n    <tr>\n      <th>18</th>\n      <td>18</td>\n      <td>18</td>\n      <td>1</td>\n      <td>1</td>\n      <td>61 110 92</td>\n    </tr>\n  </tbody>\n</table>\n</div>"
     },
     "metadata": {},
     "execution_count": 73
    }
   ],
   "source": [
    "questions_df[questions_df.question_id.isin(starter_ids)]"
   ]
  },
  {
   "cell_type": "code",
   "execution_count": 74,
   "metadata": {},
   "outputs": [
    {
     "output_type": "execute_result",
     "data": {
      "text/plain": [
       "       question_id  bundle_id  correct_answer  part            tags\n",
       "0                0          0               0     1   51 131 162 38\n",
       "1                1          1               1     1       131 36 81\n",
       "2                2          2               0     1  131 101 162 92\n",
       "3                3          3               0     1  131 149 162 29\n",
       "4                4          4               3     1    131 5 162 38\n",
       "...            ...        ...             ...   ...             ...\n",
       "12930        12930      12930               0     1         9 10 92\n",
       "12931        12931      12931               2     1      131 104 92\n",
       "12932        12932      12932               0     1      131 187 92\n",
       "12933        12933      12933               3     1         9 10 92\n",
       "12934        12934      12934               2     1       131 93 92\n",
       "\n",
       "[992 rows x 5 columns]"
      ],
      "text/html": "<div>\n<style scoped>\n    .dataframe tbody tr th:only-of-type {\n        vertical-align: middle;\n    }\n\n    .dataframe tbody tr th {\n        vertical-align: top;\n    }\n\n    .dataframe thead th {\n        text-align: right;\n    }\n</style>\n<table border=\"1\" class=\"dataframe\">\n  <thead>\n    <tr style=\"text-align: right;\">\n      <th></th>\n      <th>question_id</th>\n      <th>bundle_id</th>\n      <th>correct_answer</th>\n      <th>part</th>\n      <th>tags</th>\n    </tr>\n  </thead>\n  <tbody>\n    <tr>\n      <th>0</th>\n      <td>0</td>\n      <td>0</td>\n      <td>0</td>\n      <td>1</td>\n      <td>51 131 162 38</td>\n    </tr>\n    <tr>\n      <th>1</th>\n      <td>1</td>\n      <td>1</td>\n      <td>1</td>\n      <td>1</td>\n      <td>131 36 81</td>\n    </tr>\n    <tr>\n      <th>2</th>\n      <td>2</td>\n      <td>2</td>\n      <td>0</td>\n      <td>1</td>\n      <td>131 101 162 92</td>\n    </tr>\n    <tr>\n      <th>3</th>\n      <td>3</td>\n      <td>3</td>\n      <td>0</td>\n      <td>1</td>\n      <td>131 149 162 29</td>\n    </tr>\n    <tr>\n      <th>4</th>\n      <td>4</td>\n      <td>4</td>\n      <td>3</td>\n      <td>1</td>\n      <td>131 5 162 38</td>\n    </tr>\n    <tr>\n      <th>...</th>\n      <td>...</td>\n      <td>...</td>\n      <td>...</td>\n      <td>...</td>\n      <td>...</td>\n    </tr>\n    <tr>\n      <th>12930</th>\n      <td>12930</td>\n      <td>12930</td>\n      <td>0</td>\n      <td>1</td>\n      <td>9 10 92</td>\n    </tr>\n    <tr>\n      <th>12931</th>\n      <td>12931</td>\n      <td>12931</td>\n      <td>2</td>\n      <td>1</td>\n      <td>131 104 92</td>\n    </tr>\n    <tr>\n      <th>12932</th>\n      <td>12932</td>\n      <td>12932</td>\n      <td>0</td>\n      <td>1</td>\n      <td>131 187 92</td>\n    </tr>\n    <tr>\n      <th>12933</th>\n      <td>12933</td>\n      <td>12933</td>\n      <td>3</td>\n      <td>1</td>\n      <td>9 10 92</td>\n    </tr>\n    <tr>\n      <th>12934</th>\n      <td>12934</td>\n      <td>12934</td>\n      <td>2</td>\n      <td>1</td>\n      <td>131 93 92</td>\n    </tr>\n  </tbody>\n</table>\n<p>992 rows × 5 columns</p>\n</div>"
     },
     "metadata": {},
     "execution_count": 74
    }
   ],
   "source": [
    "questions_df[questions_df.part == 1]"
   ]
  },
  {
   "cell_type": "code",
   "execution_count": 76,
   "metadata": {},
   "outputs": [
    {
     "output_type": "execute_result",
     "data": {
      "text/plain": [
       "              row_id  timestamp     user_id  content_id  content_type_id  \\\n",
       "1                  1      56943         115        5716                0   \n",
       "2                  2     118363         115         128                0   \n",
       "3                  3     131167         115        7860                0   \n",
       "4                  4     137965         115        7922                0   \n",
       "5                  5     157063         115         156                0   \n",
       "...              ...        ...         ...         ...              ...   \n",
       "101230317  101230317  254505467  2147482888        3642                0   \n",
       "101230318  101230318  254538722  2147482888        6012                0   \n",
       "101230320  101230320  428190226  2147482888        4496                0   \n",
       "101230321  101230321  428225923  2147482888        4425                0   \n",
       "101230323  101230323  428449609  2147482888        8711                0   \n",
       "\n",
       "           task_container_id  user_answer  answered_correctly  \\\n",
       "1                          2            2                   1   \n",
       "2                          0            0                   1   \n",
       "3                          3            0                   1   \n",
       "4                          4            1                   1   \n",
       "5                          5            2                   1   \n",
       "...                      ...          ...                 ...   \n",
       "101230317                 12            1                   0   \n",
       "101230318                 13            3                   1   \n",
       "101230320                 15            0                   1   \n",
       "101230321                 16            1                   0   \n",
       "101230323                 18            2                   0   \n",
       "\n",
       "           prior_question_elapsed_time  prior_question_had_explanation  \\\n",
       "1                              37000.0                           False   \n",
       "2                              55000.0                           False   \n",
       "3                              19000.0                           False   \n",
       "4                              11000.0                           False   \n",
       "5                               5000.0                           False   \n",
       "...                                ...                             ...   \n",
       "101230317                      33000.0                            True   \n",
       "101230318                      37000.0                            True   \n",
       "101230320                      25000.0                            True   \n",
       "101230321                      26000.0                            True   \n",
       "101230323                       9000.0                            True   \n",
       "\n",
       "           intro_section  \n",
       "1                  False  \n",
       "2                  False  \n",
       "3                  False  \n",
       "4                  False  \n",
       "5                  False  \n",
       "...                  ...  \n",
       "101230317          False  \n",
       "101230318          False  \n",
       "101230320          False  \n",
       "101230321          False  \n",
       "101230323          False  \n",
       "\n",
       "[7348496 rows x 11 columns]"
      ],
      "text/html": "<div>\n<style scoped>\n    .dataframe tbody tr th:only-of-type {\n        vertical-align: middle;\n    }\n\n    .dataframe tbody tr th {\n        vertical-align: top;\n    }\n\n    .dataframe thead th {\n        text-align: right;\n    }\n</style>\n<table border=\"1\" class=\"dataframe\">\n  <thead>\n    <tr style=\"text-align: right;\">\n      <th></th>\n      <th>row_id</th>\n      <th>timestamp</th>\n      <th>user_id</th>\n      <th>content_id</th>\n      <th>content_type_id</th>\n      <th>task_container_id</th>\n      <th>user_answer</th>\n      <th>answered_correctly</th>\n      <th>prior_question_elapsed_time</th>\n      <th>prior_question_had_explanation</th>\n      <th>intro_section</th>\n    </tr>\n  </thead>\n  <tbody>\n    <tr>\n      <th>1</th>\n      <td>1</td>\n      <td>56943</td>\n      <td>115</td>\n      <td>5716</td>\n      <td>0</td>\n      <td>2</td>\n      <td>2</td>\n      <td>1</td>\n      <td>37000.0</td>\n      <td>False</td>\n      <td>False</td>\n    </tr>\n    <tr>\n      <th>2</th>\n      <td>2</td>\n      <td>118363</td>\n      <td>115</td>\n      <td>128</td>\n      <td>0</td>\n      <td>0</td>\n      <td>0</td>\n      <td>1</td>\n      <td>55000.0</td>\n      <td>False</td>\n      <td>False</td>\n    </tr>\n    <tr>\n      <th>3</th>\n      <td>3</td>\n      <td>131167</td>\n      <td>115</td>\n      <td>7860</td>\n      <td>0</td>\n      <td>3</td>\n      <td>0</td>\n      <td>1</td>\n      <td>19000.0</td>\n      <td>False</td>\n      <td>False</td>\n    </tr>\n    <tr>\n      <th>4</th>\n      <td>4</td>\n      <td>137965</td>\n      <td>115</td>\n      <td>7922</td>\n      <td>0</td>\n      <td>4</td>\n      <td>1</td>\n      <td>1</td>\n      <td>11000.0</td>\n      <td>False</td>\n      <td>False</td>\n    </tr>\n    <tr>\n      <th>5</th>\n      <td>5</td>\n      <td>157063</td>\n      <td>115</td>\n      <td>156</td>\n      <td>0</td>\n      <td>5</td>\n      <td>2</td>\n      <td>1</td>\n      <td>5000.0</td>\n      <td>False</td>\n      <td>False</td>\n    </tr>\n    <tr>\n      <th>...</th>\n      <td>...</td>\n      <td>...</td>\n      <td>...</td>\n      <td>...</td>\n      <td>...</td>\n      <td>...</td>\n      <td>...</td>\n      <td>...</td>\n      <td>...</td>\n      <td>...</td>\n      <td>...</td>\n    </tr>\n    <tr>\n      <th>101230317</th>\n      <td>101230317</td>\n      <td>254505467</td>\n      <td>2147482888</td>\n      <td>3642</td>\n      <td>0</td>\n      <td>12</td>\n      <td>1</td>\n      <td>0</td>\n      <td>33000.0</td>\n      <td>True</td>\n      <td>False</td>\n    </tr>\n    <tr>\n      <th>101230318</th>\n      <td>101230318</td>\n      <td>254538722</td>\n      <td>2147482888</td>\n      <td>6012</td>\n      <td>0</td>\n      <td>13</td>\n      <td>3</td>\n      <td>1</td>\n      <td>37000.0</td>\n      <td>True</td>\n      <td>False</td>\n    </tr>\n    <tr>\n      <th>101230320</th>\n      <td>101230320</td>\n      <td>428190226</td>\n      <td>2147482888</td>\n      <td>4496</td>\n      <td>0</td>\n      <td>15</td>\n      <td>0</td>\n      <td>1</td>\n      <td>25000.0</td>\n      <td>True</td>\n      <td>False</td>\n    </tr>\n    <tr>\n      <th>101230321</th>\n      <td>101230321</td>\n      <td>428225923</td>\n      <td>2147482888</td>\n      <td>4425</td>\n      <td>0</td>\n      <td>16</td>\n      <td>1</td>\n      <td>0</td>\n      <td>26000.0</td>\n      <td>True</td>\n      <td>False</td>\n    </tr>\n    <tr>\n      <th>101230323</th>\n      <td>101230323</td>\n      <td>428449609</td>\n      <td>2147482888</td>\n      <td>8711</td>\n      <td>0</td>\n      <td>18</td>\n      <td>2</td>\n      <td>0</td>\n      <td>9000.0</td>\n      <td>True</td>\n      <td>False</td>\n    </tr>\n  </tbody>\n</table>\n<p>7348496 rows × 11 columns</p>\n</div>"
     },
     "metadata": {},
     "execution_count": 76
    }
   ],
   "source": [
    "train_df[(train_df.timestamp != 0) & (train_df.task_container_id.isin(starter_ids))]"
   ]
  },
  {
   "cell_type": "code",
   "execution_count": null,
   "metadata": {},
   "outputs": [],
   "source": [
    "# This shows that there a way more intro sections."
   ]
  },
  {
   "cell_type": "code",
   "execution_count": 78,
   "metadata": {},
   "outputs": [
    {
     "output_type": "execute_result",
     "data": {
      "text/plain": [
       "   row_id  timestamp  user_id  content_id  content_type_id  task_container_id  \\\n",
       "0       0          0      115        5692                0                  1   \n",
       "1       1      56943      115        5716                0                  2   \n",
       "2       2     118363      115         128                0                  0   \n",
       "3       3     131167      115        7860                0                  3   \n",
       "4       4     137965      115        7922                0                  4   \n",
       "\n",
       "   user_answer  answered_correctly  prior_question_elapsed_time  \\\n",
       "0            3                   1                          NaN   \n",
       "1            2                   1                      37000.0   \n",
       "2            0                   1                      55000.0   \n",
       "3            0                   1                      19000.0   \n",
       "4            1                   1                      11000.0   \n",
       "\n",
       "   prior_question_had_explanation  intro_section  \n",
       "0                            <NA>           True  \n",
       "1                           False           True  \n",
       "2                           False           True  \n",
       "3                           False           True  \n",
       "4                           False           True  "
      ],
      "text/html": "<div>\n<style scoped>\n    .dataframe tbody tr th:only-of-type {\n        vertical-align: middle;\n    }\n\n    .dataframe tbody tr th {\n        vertical-align: top;\n    }\n\n    .dataframe thead th {\n        text-align: right;\n    }\n</style>\n<table border=\"1\" class=\"dataframe\">\n  <thead>\n    <tr style=\"text-align: right;\">\n      <th></th>\n      <th>row_id</th>\n      <th>timestamp</th>\n      <th>user_id</th>\n      <th>content_id</th>\n      <th>content_type_id</th>\n      <th>task_container_id</th>\n      <th>user_answer</th>\n      <th>answered_correctly</th>\n      <th>prior_question_elapsed_time</th>\n      <th>prior_question_had_explanation</th>\n      <th>intro_section</th>\n    </tr>\n  </thead>\n  <tbody>\n    <tr>\n      <th>0</th>\n      <td>0</td>\n      <td>0</td>\n      <td>115</td>\n      <td>5692</td>\n      <td>0</td>\n      <td>1</td>\n      <td>3</td>\n      <td>1</td>\n      <td>NaN</td>\n      <td>&lt;NA&gt;</td>\n      <td>True</td>\n    </tr>\n    <tr>\n      <th>1</th>\n      <td>1</td>\n      <td>56943</td>\n      <td>115</td>\n      <td>5716</td>\n      <td>0</td>\n      <td>2</td>\n      <td>2</td>\n      <td>1</td>\n      <td>37000.0</td>\n      <td>False</td>\n      <td>True</td>\n    </tr>\n    <tr>\n      <th>2</th>\n      <td>2</td>\n      <td>118363</td>\n      <td>115</td>\n      <td>128</td>\n      <td>0</td>\n      <td>0</td>\n      <td>0</td>\n      <td>1</td>\n      <td>55000.0</td>\n      <td>False</td>\n      <td>True</td>\n    </tr>\n    <tr>\n      <th>3</th>\n      <td>3</td>\n      <td>131167</td>\n      <td>115</td>\n      <td>7860</td>\n      <td>0</td>\n      <td>3</td>\n      <td>0</td>\n      <td>1</td>\n      <td>19000.0</td>\n      <td>False</td>\n      <td>True</td>\n    </tr>\n    <tr>\n      <th>4</th>\n      <td>4</td>\n      <td>137965</td>\n      <td>115</td>\n      <td>7922</td>\n      <td>0</td>\n      <td>4</td>\n      <td>1</td>\n      <td>1</td>\n      <td>11000.0</td>\n      <td>False</td>\n      <td>True</td>\n    </tr>\n  </tbody>\n</table>\n</div>"
     },
     "metadata": {},
     "execution_count": 78
    }
   ],
   "source": [
    "train_df['intro_section'] = np.where(train_df.task_container_id.isin(starter_ids), True, False)\n",
    "train_df.head()"
   ]
  },
  {
   "cell_type": "code",
   "execution_count": null,
   "metadata": {},
   "outputs": [],
   "source": []
  }
 ]
}