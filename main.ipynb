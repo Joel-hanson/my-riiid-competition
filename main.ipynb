{
 "metadata": {
  "language_info": {
   "codemirror_mode": {
    "name": "ipython",
    "version": 3
   },
   "file_extension": ".py",
   "mimetype": "text/x-python",
   "name": "python",
   "nbconvert_exporter": "python",
   "pygments_lexer": "ipython3",
   "version": "3.8.5-final"
  },
  "orig_nbformat": 2,
  "kernelspec": {
   "name": "python3",
   "display_name": "Python 3.8.5 64-bit",
   "metadata": {
    "interpreter": {
     "hash": "4f505f879686e1f790cbcde16b7d0ad3222277933aef3abab0463f89f71cbbe9"
    }
   }
  }
 },
 "nbformat": 4,
 "nbformat_minor": 2,
 "cells": [
  {
   "source": [
    "#### Imports"
   ],
   "cell_type": "markdown",
   "metadata": {}
  },
  {
   "cell_type": "code",
   "execution_count": 1,
   "metadata": {},
   "outputs": [],
   "source": [
    "import pandas as pd\n",
    "import numpy as np\n",
    "pd.set_option('display.max_rows', 100)\n",
    "pd.set_option('display.float_format', lambda x: '%.5f' % x)\n",
    "\n",
    "KAGGLE = 0"
   ]
  },
  {
   "source": [
    "#### Global Variables"
   ],
   "cell_type": "markdown",
   "metadata": {}
  },
  {
   "cell_type": "code",
   "execution_count": 2,
   "metadata": {},
   "outputs": [],
   "source": [
    "TRAIN_CSV_PATH = 'train.feather'\n",
    "QUESTIONS_CSV_PATH = 'questions.csv'\n",
    "LECTURES_CSV_PATH = 'lectures.csv'\n",
    "TEST_CSV_PATH = 'test.csv'\n",
    "SAMPLE_CSV_PATH = 'example_sample_submission.csv'\n",
    "\n",
    "if KAGGLE:\n",
    "    TRAIN_CSV_PATH = '/kaggle/input/riiid-test-answer-prediction/train.csv'\n",
    "    QUESTIONS_CSV_PATH = '/kaggle/input/riiid-test-answer-prediction/questions.csv'\n",
    "    LECTURES_CSV_PATH = '/kaggle/input/riiid-test-answer-prediction/lectures.csv'\n",
    "    TEST_CSV_PATH = '/kaggle/input/riiid-test-answer-prediction/test.csv'\n",
    "    SAMPLE_CSV_PATH = '/kaggle/input/riiid-test-answer-prediction/example_sample_submission.csv'\n",
    "\n",
    "COLUMN_TYPES = {\n",
    "    'row_id': 'int64',\n",
    "    'timestamp': 'int64',\n",
    "    'user_id': 'int32',\n",
    "    'content_id': 'int16',\n",
    "    'content_type_id': 'int8',\n",
    "    'task_container_id': 'int16',\n",
    "    'user_answer': 'int8',\n",
    "    'answered_correctly': 'int8',\n",
    "    'prior_question_elapsed_time': 'float32',\n",
    "    'prior_question_had_explanation': 'boolean'\n",
    "}\n"
   ]
  },
  {
   "cell_type": "code",
   "execution_count": 3,
   "metadata": {},
   "outputs": [],
   "source": [
    "# train_df = pd.read_csv(TRAIN_CSV_PATH, nrows=10**5, dtype=COLUMN_TYPES)\n",
    "train_df = pd.read_feather(TRAIN_CSV_PATH)\n",
    "train_df = train_df.iloc[:1000]\n",
    "questions_df = pd.read_csv(QUESTIONS_CSV_PATH)\n",
    "lectures_df = pd.read_csv(LECTURES_CSV_PATH)"
   ]
  },
  {
   "source": [
    "#### Check for user specific features"
   ],
   "cell_type": "markdown",
   "metadata": {}
  },
  {
   "cell_type": "code",
   "execution_count": 4,
   "metadata": {},
   "outputs": [
    {
     "output_type": "execute_result",
     "data": {
      "text/plain": [
       "     row_id    timestamp  user_id  content_id  content_type_id  \\\n",
       "0         0            0      115        5692                0   \n",
       "1         1        56943      115        5716                0   \n",
       "2         2       118363      115         128                0   \n",
       "3         3       131167      115        7860                0   \n",
       "4         4       137965      115        7922                0   \n",
       "..      ...          ...      ...         ...              ...   \n",
       "995     995  15092368574    13134        2334                0   \n",
       "996     996  15092368574    13134        2333                0   \n",
       "997     997  15092493419    13134        2182                0   \n",
       "998     998  15092493419    13134        2184                0   \n",
       "999     999  15092493419    13134        2183                0   \n",
       "\n",
       "     task_container_id  user_answer  answered_correctly  \\\n",
       "0                    1            3                   1   \n",
       "1                    2            2                   1   \n",
       "2                    0            0                   1   \n",
       "3                    3            0                   1   \n",
       "4                    4            1                   1   \n",
       "..                 ...          ...                 ...   \n",
       "995                297            3                   0   \n",
       "996                297            0                   0   \n",
       "997                298            3                   0   \n",
       "998                298            0                   1   \n",
       "999                298            1                   1   \n",
       "\n",
       "     prior_question_elapsed_time  prior_question_had_explanation  \n",
       "0                            nan                            <NA>  \n",
       "1                    37000.00000                           False  \n",
       "2                    55000.00000                           False  \n",
       "3                    19000.00000                           False  \n",
       "4                    11000.00000                           False  \n",
       "..                           ...                             ...  \n",
       "995                  22333.00000                            True  \n",
       "996                  22333.00000                            True  \n",
       "997                  31666.00000                            True  \n",
       "998                  31666.00000                            True  \n",
       "999                  31666.00000                            True  \n",
       "\n",
       "[1000 rows x 10 columns]"
      ],
      "text/html": "<div>\n<style scoped>\n    .dataframe tbody tr th:only-of-type {\n        vertical-align: middle;\n    }\n\n    .dataframe tbody tr th {\n        vertical-align: top;\n    }\n\n    .dataframe thead th {\n        text-align: right;\n    }\n</style>\n<table border=\"1\" class=\"dataframe\">\n  <thead>\n    <tr style=\"text-align: right;\">\n      <th></th>\n      <th>row_id</th>\n      <th>timestamp</th>\n      <th>user_id</th>\n      <th>content_id</th>\n      <th>content_type_id</th>\n      <th>task_container_id</th>\n      <th>user_answer</th>\n      <th>answered_correctly</th>\n      <th>prior_question_elapsed_time</th>\n      <th>prior_question_had_explanation</th>\n    </tr>\n  </thead>\n  <tbody>\n    <tr>\n      <th>0</th>\n      <td>0</td>\n      <td>0</td>\n      <td>115</td>\n      <td>5692</td>\n      <td>0</td>\n      <td>1</td>\n      <td>3</td>\n      <td>1</td>\n      <td>nan</td>\n      <td>&lt;NA&gt;</td>\n    </tr>\n    <tr>\n      <th>1</th>\n      <td>1</td>\n      <td>56943</td>\n      <td>115</td>\n      <td>5716</td>\n      <td>0</td>\n      <td>2</td>\n      <td>2</td>\n      <td>1</td>\n      <td>37000.00000</td>\n      <td>False</td>\n    </tr>\n    <tr>\n      <th>2</th>\n      <td>2</td>\n      <td>118363</td>\n      <td>115</td>\n      <td>128</td>\n      <td>0</td>\n      <td>0</td>\n      <td>0</td>\n      <td>1</td>\n      <td>55000.00000</td>\n      <td>False</td>\n    </tr>\n    <tr>\n      <th>3</th>\n      <td>3</td>\n      <td>131167</td>\n      <td>115</td>\n      <td>7860</td>\n      <td>0</td>\n      <td>3</td>\n      <td>0</td>\n      <td>1</td>\n      <td>19000.00000</td>\n      <td>False</td>\n    </tr>\n    <tr>\n      <th>4</th>\n      <td>4</td>\n      <td>137965</td>\n      <td>115</td>\n      <td>7922</td>\n      <td>0</td>\n      <td>4</td>\n      <td>1</td>\n      <td>1</td>\n      <td>11000.00000</td>\n      <td>False</td>\n    </tr>\n    <tr>\n      <th>...</th>\n      <td>...</td>\n      <td>...</td>\n      <td>...</td>\n      <td>...</td>\n      <td>...</td>\n      <td>...</td>\n      <td>...</td>\n      <td>...</td>\n      <td>...</td>\n      <td>...</td>\n    </tr>\n    <tr>\n      <th>995</th>\n      <td>995</td>\n      <td>15092368574</td>\n      <td>13134</td>\n      <td>2334</td>\n      <td>0</td>\n      <td>297</td>\n      <td>3</td>\n      <td>0</td>\n      <td>22333.00000</td>\n      <td>True</td>\n    </tr>\n    <tr>\n      <th>996</th>\n      <td>996</td>\n      <td>15092368574</td>\n      <td>13134</td>\n      <td>2333</td>\n      <td>0</td>\n      <td>297</td>\n      <td>0</td>\n      <td>0</td>\n      <td>22333.00000</td>\n      <td>True</td>\n    </tr>\n    <tr>\n      <th>997</th>\n      <td>997</td>\n      <td>15092493419</td>\n      <td>13134</td>\n      <td>2182</td>\n      <td>0</td>\n      <td>298</td>\n      <td>3</td>\n      <td>0</td>\n      <td>31666.00000</td>\n      <td>True</td>\n    </tr>\n    <tr>\n      <th>998</th>\n      <td>998</td>\n      <td>15092493419</td>\n      <td>13134</td>\n      <td>2184</td>\n      <td>0</td>\n      <td>298</td>\n      <td>0</td>\n      <td>1</td>\n      <td>31666.00000</td>\n      <td>True</td>\n    </tr>\n    <tr>\n      <th>999</th>\n      <td>999</td>\n      <td>15092493419</td>\n      <td>13134</td>\n      <td>2183</td>\n      <td>0</td>\n      <td>298</td>\n      <td>1</td>\n      <td>1</td>\n      <td>31666.00000</td>\n      <td>True</td>\n    </tr>\n  </tbody>\n</table>\n<p>1000 rows × 10 columns</p>\n</div>"
     },
     "metadata": {},
     "execution_count": 4
    }
   ],
   "source": [
    "train_df"
   ]
  },
  {
   "source": [
    "##### 1. Get timestamp as hours and minutes"
   ],
   "cell_type": "markdown",
   "metadata": {}
  },
  {
   "cell_type": "code",
   "execution_count": 5,
   "metadata": {},
   "outputs": [
    {
     "output_type": "stream",
     "name": "stdout",
     "text": [
      "user ids:  [  115   124  2746  5382  8623  8701 12741 13134] , user count:  8\n"
     ]
    }
   ],
   "source": [
    "print(\"user ids: \", train_df.user_id.unique(), \", user count: \", len(train_df.user_id.unique()))"
   ]
  },
  {
   "cell_type": "code",
   "execution_count": 6,
   "metadata": {},
   "outputs": [
    {
     "output_type": "stream",
     "name": "stdout",
     "text": [
      "number of users with less interactions:    user_id  count\n7     8701     17 \n\nnumber of users with more interactions:    user_id  count\n0    13134    376 \n\n"
     ]
    }
   ],
   "source": [
    "df = train_df['user_id'].value_counts().reset_index()\n",
    "df.columns = [\n",
    "    'user_id', \n",
    "    'count'\n",
    "]\n",
    "df = df.sort_values('count')\n",
    "print(\"number of users with less interactions: {} \\n\".format(df[:1]))\n",
    "print(\"number of users with more interactions: {} \\n\".format(df[-1:]))"
   ]
  },
  {
   "cell_type": "code",
   "execution_count": 7,
   "metadata": {},
   "outputs": [],
   "source": [
    "student_id = 115"
   ]
  },
  {
   "cell_type": "code",
   "execution_count": 8,
   "metadata": {},
   "outputs": [],
   "source": [
    "feature_df = train_df[train_df['user_id']==student_id]"
   ]
  },
  {
   "cell_type": "code",
   "execution_count": 9,
   "metadata": {},
   "outputs": [],
   "source": [
    "def convert_timestamp_in_parts(millis):\n",
    "    seconds = (millis / 1000)\n",
    "    minutes = (seconds / 60)\n",
    "    hours = (minutes / 60)\n",
    "    days = (hours / 24)\n",
    "    return days, hours, minutes"
   ]
  },
  {
   "source": [
    "def get_timestamp_in_parts(row):\n",
    "    millis = row.timestamp\n",
    "    seconds = (millis / 1000)\n",
    "    minutes = (seconds / 60)\n",
    "    hours = (minutes / 60)\n",
    "    days = (hours / 24)\n",
    "    return days, hours, minutes\n",
    "\n",
    "def get_prior_elasped_time_in_parts(row):\n",
    "    prior_millis = row.prior_question_elapsed_time\n",
    "    prior_seconds = (prior_millis / 1000)\n",
    "    prior_minutes = (prior_seconds / 60)\n",
    "    return prior_minutes, prior_seconds\n",
    "\n",
    "feature_df[['days', 'hours', 'minutes']] = [*feature_df.apply(lambda row: get_timestamp_in_parts(row), axis=1)]\n",
    "feature_df[['prior_minutes', 'prior_seconds']] = [*feature_df.apply(lambda row: get_prior_elasped_time_in_parts(row), axis=1)]"
   ],
   "cell_type": "code",
   "metadata": {},
   "execution_count": 10,
   "outputs": []
  },
  {
   "cell_type": "code",
   "execution_count": 11,
   "metadata": {},
   "outputs": [],
   "source": [
    "train_df[['days', 'hours', 'minutes']] = [*train_df.apply(lambda row: get_timestamp_in_parts(row), axis=1)]\n",
    "train_df[['prior_minutes', 'prior_seconds']] = [*train_df.apply(lambda row: get_prior_elasped_time_in_parts(row), axis=1)]"
   ]
  },
  {
   "cell_type": "code",
   "execution_count": 12,
   "metadata": {},
   "outputs": [
    {
     "output_type": "execute_result",
     "data": {
      "text/plain": [
       "    row_id  timestamp  user_id  content_id  content_type_id  \\\n",
       "0        0          0      115        5692                0   \n",
       "1        1      56943      115        5716                0   \n",
       "2        2     118363      115         128                0   \n",
       "3        3     131167      115        7860                0   \n",
       "4        4     137965      115        7922                0   \n",
       "5        5     157063      115         156                0   \n",
       "6        6     176092      115          51                0   \n",
       "7        7     194190      115          50                0   \n",
       "8        8     212463      115        7896                0   \n",
       "9        9     230983      115        7863                0   \n",
       "10      10     255381      115         152                0   \n",
       "11      11     280033      115         104                0   \n",
       "12      12     302994      115         108                0   \n",
       "13      13     328686      115        7900                0   \n",
       "14      14     352686      115        7901                0   \n",
       "15      15     376162      115        7971                0   \n",
       "16      16     398020      115          25                0   \n",
       "17      17     418008      115         183                0   \n",
       "18      18     437272      115        7926                0   \n",
       "19      19     468511      115        7927                0   \n",
       "20      20     490100      115           4                0   \n",
       "21      21     510583      115        7984                0   \n",
       "22      22     534187      115          45                0   \n",
       "23      23     557677      115         185                0   \n",
       "24      24     575289      115          55                0   \n",
       "25      25     597863      115        7876                0   \n",
       "26      26     621464      115           6                0   \n",
       "27      27     645415      115         172                0   \n",
       "28      28     670520      115        7898                0   \n",
       "29      29     692971      115         175                0   \n",
       "30      30     710402      115         100                0   \n",
       "31      31     732421      115        7859                0   \n",
       "32      32    1219624      115          57                0   \n",
       "33      33    1252621      115        7948                0   \n",
       "34      34    1284094      115         151                0   \n",
       "35      35    1320874      115         167                0   \n",
       "36      36    1359412      115        7897                0   \n",
       "37      37    1415188      115        7882                0   \n",
       "38      38    1468285      115        7962                0   \n",
       "39      39  667861680      115        1278                0   \n",
       "40      40  667971812      115        2065                0   \n",
       "41      41  667971812      115        2064                0   \n",
       "42      42  667971812      115        2063                0   \n",
       "43      43  668090043      115        3363                0   \n",
       "44      44  668090043      115        3365                0   \n",
       "45      45  668090043      115        3364                0   \n",
       "\n",
       "    task_container_id  user_answer  answered_correctly  \\\n",
       "0                   1            3                   1   \n",
       "1                   2            2                   1   \n",
       "2                   0            0                   1   \n",
       "3                   3            0                   1   \n",
       "4                   4            1                   1   \n",
       "5                   5            2                   1   \n",
       "6                   6            0                   1   \n",
       "7                   7            3                   1   \n",
       "8                   8            2                   1   \n",
       "9                   9            0                   1   \n",
       "10                 10            2                   0   \n",
       "11                 11            1                   0   \n",
       "12                 12            1                   0   \n",
       "13                 13            0                   1   \n",
       "14                 14            1                   1   \n",
       "15                 15            2                   1   \n",
       "16                 16            1                   1   \n",
       "17                 17            0                   0   \n",
       "18                 18            1                   1   \n",
       "19                 19            3                   1   \n",
       "20                 20            1                   0   \n",
       "21                 21            3                   0   \n",
       "22                 22            2                   0   \n",
       "23                 23            3                   0   \n",
       "24                 24            3                   1   \n",
       "25                 25            3                   1   \n",
       "26                 26            2                   1   \n",
       "27                 27            1                   1   \n",
       "28                 28            2                   1   \n",
       "29                 29            0                   0   \n",
       "30                 30            0                   1   \n",
       "31                 31            3                   0   \n",
       "32                 32            0                   1   \n",
       "33                 33            0                   1   \n",
       "34                 34            3                   1   \n",
       "35                 35            2                   1   \n",
       "36                 36            3                   0   \n",
       "37                 37            2                   1   \n",
       "38                 38            3                   1   \n",
       "39                 39            3                   1   \n",
       "40                 40            2                   1   \n",
       "41                 40            1                   1   \n",
       "42                 40            3                   0   \n",
       "43                 41            1                   0   \n",
       "44                 41            0                   0   \n",
       "45                 41            1                   1   \n",
       "\n",
       "    prior_question_elapsed_time  prior_question_had_explanation    days  \\\n",
       "0                           nan                            <NA> 0.00000   \n",
       "1                   37000.00000                           False 0.00066   \n",
       "2                   55000.00000                           False 0.00137   \n",
       "3                   19000.00000                           False 0.00152   \n",
       "4                   11000.00000                           False 0.00160   \n",
       "5                    5000.00000                           False 0.00182   \n",
       "6                   17000.00000                           False 0.00204   \n",
       "7                   17000.00000                           False 0.00225   \n",
       "8                   16000.00000                           False 0.00246   \n",
       "9                   16000.00000                           False 0.00267   \n",
       "10                  17000.00000                           False 0.00296   \n",
       "11                  22000.00000                           False 0.00324   \n",
       "12                  23000.00000                           False 0.00351   \n",
       "13                  21000.00000                           False 0.00380   \n",
       "14                  24000.00000                           False 0.00408   \n",
       "15                  22000.00000                           False 0.00435   \n",
       "16                  21000.00000                           False 0.00461   \n",
       "17                  20000.00000                           False 0.00484   \n",
       "18                  18000.00000                           False 0.00506   \n",
       "19                  17000.00000                           False 0.00542   \n",
       "20                  29000.00000                           False 0.00567   \n",
       "21                  20000.00000                           False 0.00591   \n",
       "22                  19000.00000                           False 0.00618   \n",
       "23                  21000.00000                           False 0.00645   \n",
       "24                  22000.00000                           False 0.00666   \n",
       "25                  16000.00000                           False 0.00692   \n",
       "26                  20000.00000                           False 0.00719   \n",
       "27                  22000.00000                           False 0.00747   \n",
       "28                  22000.00000                           False 0.00776   \n",
       "29                  23000.00000                           False 0.00802   \n",
       "30                  20000.00000                           False 0.00822   \n",
       "31                  15000.00000                           False 0.00848   \n",
       "32                  20000.00000                           False 0.01412   \n",
       "33                  20000.00000                            True 0.01450   \n",
       "34                  22000.00000                            True 0.01486   \n",
       "35                  19000.00000                            True 0.01529   \n",
       "36                  17000.00000                            True 0.01573   \n",
       "37                  20000.00000                            True 0.01638   \n",
       "38                  17000.00000                            True 0.01699   \n",
       "39                  21000.00000                           False 7.72988   \n",
       "40                  17000.00000                           False 7.73116   \n",
       "41                  17000.00000                           False 7.73116   \n",
       "42                  17000.00000                           False 7.73116   \n",
       "43                  14333.00000                           False 7.73252   \n",
       "44                  14333.00000                           False 7.73252   \n",
       "45                  14333.00000                           False 7.73252   \n",
       "\n",
       "       hours     minutes  prior_minutes  prior_seconds  \n",
       "0    0.00000     0.00000            nan            nan  \n",
       "1    0.01582     0.94905        0.61667       37.00000  \n",
       "2    0.03288     1.97272        0.91667       55.00000  \n",
       "3    0.03644     2.18612        0.31667       19.00000  \n",
       "4    0.03832     2.29942        0.18333       11.00000  \n",
       "5    0.04363     2.61772        0.08333        5.00000  \n",
       "6    0.04891     2.93487        0.28333       17.00000  \n",
       "7    0.05394     3.23650        0.28333       17.00000  \n",
       "8    0.05902     3.54105        0.26667       16.00000  \n",
       "9    0.06416     3.84972        0.26667       16.00000  \n",
       "10   0.07094     4.25635        0.28333       17.00000  \n",
       "11   0.07779     4.66722        0.36667       22.00000  \n",
       "12   0.08417     5.04990        0.38333       23.00000  \n",
       "13   0.09130     5.47810        0.35000       21.00000  \n",
       "14   0.09797     5.87810        0.40000       24.00000  \n",
       "15   0.10449     6.26937        0.36667       22.00000  \n",
       "16   0.11056     6.63367        0.35000       21.00000  \n",
       "17   0.11611     6.96680        0.33333       20.00000  \n",
       "18   0.12146     7.28787        0.30000       18.00000  \n",
       "19   0.13014     7.80852        0.28333       17.00000  \n",
       "20   0.13614     8.16833        0.48333       29.00000  \n",
       "21   0.14183     8.50972        0.33333       20.00000  \n",
       "22   0.14839     8.90312        0.31667       19.00000  \n",
       "23   0.15491     9.29462        0.35000       21.00000  \n",
       "24   0.15980     9.58815        0.36667       22.00000  \n",
       "25   0.16607     9.96438        0.26667       16.00000  \n",
       "26   0.17263    10.35773        0.33333       20.00000  \n",
       "27   0.17928    10.75692        0.36667       22.00000  \n",
       "28   0.18626    11.17533        0.36667       22.00000  \n",
       "29   0.19249    11.54952        0.38333       23.00000  \n",
       "30   0.19733    11.84003        0.33333       20.00000  \n",
       "31   0.20345    12.20702        0.25000       15.00000  \n",
       "32   0.33878    20.32707        0.33333       20.00000  \n",
       "33   0.34795    20.87702        0.33333       20.00000  \n",
       "34   0.35669    21.40157        0.36667       22.00000  \n",
       "35   0.36691    22.01457        0.31667       19.00000  \n",
       "36   0.37761    22.65687        0.28333       17.00000  \n",
       "37   0.39311    23.58647        0.33333       20.00000  \n",
       "38   0.40786    24.47142        0.28333       17.00000  \n",
       "39 185.51713 11131.02800        0.35000       21.00000  \n",
       "40 185.54773 11132.86353        0.28333       17.00000  \n",
       "41 185.54773 11132.86353        0.28333       17.00000  \n",
       "42 185.54773 11132.86353        0.28333       17.00000  \n",
       "43 185.58057 11134.83405        0.23888       14.33300  \n",
       "44 185.58057 11134.83405        0.23888       14.33300  \n",
       "45 185.58057 11134.83405        0.23888       14.33300  "
      ],
      "text/html": "<div>\n<style scoped>\n    .dataframe tbody tr th:only-of-type {\n        vertical-align: middle;\n    }\n\n    .dataframe tbody tr th {\n        vertical-align: top;\n    }\n\n    .dataframe thead th {\n        text-align: right;\n    }\n</style>\n<table border=\"1\" class=\"dataframe\">\n  <thead>\n    <tr style=\"text-align: right;\">\n      <th></th>\n      <th>row_id</th>\n      <th>timestamp</th>\n      <th>user_id</th>\n      <th>content_id</th>\n      <th>content_type_id</th>\n      <th>task_container_id</th>\n      <th>user_answer</th>\n      <th>answered_correctly</th>\n      <th>prior_question_elapsed_time</th>\n      <th>prior_question_had_explanation</th>\n      <th>days</th>\n      <th>hours</th>\n      <th>minutes</th>\n      <th>prior_minutes</th>\n      <th>prior_seconds</th>\n    </tr>\n  </thead>\n  <tbody>\n    <tr>\n      <th>0</th>\n      <td>0</td>\n      <td>0</td>\n      <td>115</td>\n      <td>5692</td>\n      <td>0</td>\n      <td>1</td>\n      <td>3</td>\n      <td>1</td>\n      <td>nan</td>\n      <td>&lt;NA&gt;</td>\n      <td>0.00000</td>\n      <td>0.00000</td>\n      <td>0.00000</td>\n      <td>nan</td>\n      <td>nan</td>\n    </tr>\n    <tr>\n      <th>1</th>\n      <td>1</td>\n      <td>56943</td>\n      <td>115</td>\n      <td>5716</td>\n      <td>0</td>\n      <td>2</td>\n      <td>2</td>\n      <td>1</td>\n      <td>37000.00000</td>\n      <td>False</td>\n      <td>0.00066</td>\n      <td>0.01582</td>\n      <td>0.94905</td>\n      <td>0.61667</td>\n      <td>37.00000</td>\n    </tr>\n    <tr>\n      <th>2</th>\n      <td>2</td>\n      <td>118363</td>\n      <td>115</td>\n      <td>128</td>\n      <td>0</td>\n      <td>0</td>\n      <td>0</td>\n      <td>1</td>\n      <td>55000.00000</td>\n      <td>False</td>\n      <td>0.00137</td>\n      <td>0.03288</td>\n      <td>1.97272</td>\n      <td>0.91667</td>\n      <td>55.00000</td>\n    </tr>\n    <tr>\n      <th>3</th>\n      <td>3</td>\n      <td>131167</td>\n      <td>115</td>\n      <td>7860</td>\n      <td>0</td>\n      <td>3</td>\n      <td>0</td>\n      <td>1</td>\n      <td>19000.00000</td>\n      <td>False</td>\n      <td>0.00152</td>\n      <td>0.03644</td>\n      <td>2.18612</td>\n      <td>0.31667</td>\n      <td>19.00000</td>\n    </tr>\n    <tr>\n      <th>4</th>\n      <td>4</td>\n      <td>137965</td>\n      <td>115</td>\n      <td>7922</td>\n      <td>0</td>\n      <td>4</td>\n      <td>1</td>\n      <td>1</td>\n      <td>11000.00000</td>\n      <td>False</td>\n      <td>0.00160</td>\n      <td>0.03832</td>\n      <td>2.29942</td>\n      <td>0.18333</td>\n      <td>11.00000</td>\n    </tr>\n    <tr>\n      <th>5</th>\n      <td>5</td>\n      <td>157063</td>\n      <td>115</td>\n      <td>156</td>\n      <td>0</td>\n      <td>5</td>\n      <td>2</td>\n      <td>1</td>\n      <td>5000.00000</td>\n      <td>False</td>\n      <td>0.00182</td>\n      <td>0.04363</td>\n      <td>2.61772</td>\n      <td>0.08333</td>\n      <td>5.00000</td>\n    </tr>\n    <tr>\n      <th>6</th>\n      <td>6</td>\n      <td>176092</td>\n      <td>115</td>\n      <td>51</td>\n      <td>0</td>\n      <td>6</td>\n      <td>0</td>\n      <td>1</td>\n      <td>17000.00000</td>\n      <td>False</td>\n      <td>0.00204</td>\n      <td>0.04891</td>\n      <td>2.93487</td>\n      <td>0.28333</td>\n      <td>17.00000</td>\n    </tr>\n    <tr>\n      <th>7</th>\n      <td>7</td>\n      <td>194190</td>\n      <td>115</td>\n      <td>50</td>\n      <td>0</td>\n      <td>7</td>\n      <td>3</td>\n      <td>1</td>\n      <td>17000.00000</td>\n      <td>False</td>\n      <td>0.00225</td>\n      <td>0.05394</td>\n      <td>3.23650</td>\n      <td>0.28333</td>\n      <td>17.00000</td>\n    </tr>\n    <tr>\n      <th>8</th>\n      <td>8</td>\n      <td>212463</td>\n      <td>115</td>\n      <td>7896</td>\n      <td>0</td>\n      <td>8</td>\n      <td>2</td>\n      <td>1</td>\n      <td>16000.00000</td>\n      <td>False</td>\n      <td>0.00246</td>\n      <td>0.05902</td>\n      <td>3.54105</td>\n      <td>0.26667</td>\n      <td>16.00000</td>\n    </tr>\n    <tr>\n      <th>9</th>\n      <td>9</td>\n      <td>230983</td>\n      <td>115</td>\n      <td>7863</td>\n      <td>0</td>\n      <td>9</td>\n      <td>0</td>\n      <td>1</td>\n      <td>16000.00000</td>\n      <td>False</td>\n      <td>0.00267</td>\n      <td>0.06416</td>\n      <td>3.84972</td>\n      <td>0.26667</td>\n      <td>16.00000</td>\n    </tr>\n    <tr>\n      <th>10</th>\n      <td>10</td>\n      <td>255381</td>\n      <td>115</td>\n      <td>152</td>\n      <td>0</td>\n      <td>10</td>\n      <td>2</td>\n      <td>0</td>\n      <td>17000.00000</td>\n      <td>False</td>\n      <td>0.00296</td>\n      <td>0.07094</td>\n      <td>4.25635</td>\n      <td>0.28333</td>\n      <td>17.00000</td>\n    </tr>\n    <tr>\n      <th>11</th>\n      <td>11</td>\n      <td>280033</td>\n      <td>115</td>\n      <td>104</td>\n      <td>0</td>\n      <td>11</td>\n      <td>1</td>\n      <td>0</td>\n      <td>22000.00000</td>\n      <td>False</td>\n      <td>0.00324</td>\n      <td>0.07779</td>\n      <td>4.66722</td>\n      <td>0.36667</td>\n      <td>22.00000</td>\n    </tr>\n    <tr>\n      <th>12</th>\n      <td>12</td>\n      <td>302994</td>\n      <td>115</td>\n      <td>108</td>\n      <td>0</td>\n      <td>12</td>\n      <td>1</td>\n      <td>0</td>\n      <td>23000.00000</td>\n      <td>False</td>\n      <td>0.00351</td>\n      <td>0.08417</td>\n      <td>5.04990</td>\n      <td>0.38333</td>\n      <td>23.00000</td>\n    </tr>\n    <tr>\n      <th>13</th>\n      <td>13</td>\n      <td>328686</td>\n      <td>115</td>\n      <td>7900</td>\n      <td>0</td>\n      <td>13</td>\n      <td>0</td>\n      <td>1</td>\n      <td>21000.00000</td>\n      <td>False</td>\n      <td>0.00380</td>\n      <td>0.09130</td>\n      <td>5.47810</td>\n      <td>0.35000</td>\n      <td>21.00000</td>\n    </tr>\n    <tr>\n      <th>14</th>\n      <td>14</td>\n      <td>352686</td>\n      <td>115</td>\n      <td>7901</td>\n      <td>0</td>\n      <td>14</td>\n      <td>1</td>\n      <td>1</td>\n      <td>24000.00000</td>\n      <td>False</td>\n      <td>0.00408</td>\n      <td>0.09797</td>\n      <td>5.87810</td>\n      <td>0.40000</td>\n      <td>24.00000</td>\n    </tr>\n    <tr>\n      <th>15</th>\n      <td>15</td>\n      <td>376162</td>\n      <td>115</td>\n      <td>7971</td>\n      <td>0</td>\n      <td>15</td>\n      <td>2</td>\n      <td>1</td>\n      <td>22000.00000</td>\n      <td>False</td>\n      <td>0.00435</td>\n      <td>0.10449</td>\n      <td>6.26937</td>\n      <td>0.36667</td>\n      <td>22.00000</td>\n    </tr>\n    <tr>\n      <th>16</th>\n      <td>16</td>\n      <td>398020</td>\n      <td>115</td>\n      <td>25</td>\n      <td>0</td>\n      <td>16</td>\n      <td>1</td>\n      <td>1</td>\n      <td>21000.00000</td>\n      <td>False</td>\n      <td>0.00461</td>\n      <td>0.11056</td>\n      <td>6.63367</td>\n      <td>0.35000</td>\n      <td>21.00000</td>\n    </tr>\n    <tr>\n      <th>17</th>\n      <td>17</td>\n      <td>418008</td>\n      <td>115</td>\n      <td>183</td>\n      <td>0</td>\n      <td>17</td>\n      <td>0</td>\n      <td>0</td>\n      <td>20000.00000</td>\n      <td>False</td>\n      <td>0.00484</td>\n      <td>0.11611</td>\n      <td>6.96680</td>\n      <td>0.33333</td>\n      <td>20.00000</td>\n    </tr>\n    <tr>\n      <th>18</th>\n      <td>18</td>\n      <td>437272</td>\n      <td>115</td>\n      <td>7926</td>\n      <td>0</td>\n      <td>18</td>\n      <td>1</td>\n      <td>1</td>\n      <td>18000.00000</td>\n      <td>False</td>\n      <td>0.00506</td>\n      <td>0.12146</td>\n      <td>7.28787</td>\n      <td>0.30000</td>\n      <td>18.00000</td>\n    </tr>\n    <tr>\n      <th>19</th>\n      <td>19</td>\n      <td>468511</td>\n      <td>115</td>\n      <td>7927</td>\n      <td>0</td>\n      <td>19</td>\n      <td>3</td>\n      <td>1</td>\n      <td>17000.00000</td>\n      <td>False</td>\n      <td>0.00542</td>\n      <td>0.13014</td>\n      <td>7.80852</td>\n      <td>0.28333</td>\n      <td>17.00000</td>\n    </tr>\n    <tr>\n      <th>20</th>\n      <td>20</td>\n      <td>490100</td>\n      <td>115</td>\n      <td>4</td>\n      <td>0</td>\n      <td>20</td>\n      <td>1</td>\n      <td>0</td>\n      <td>29000.00000</td>\n      <td>False</td>\n      <td>0.00567</td>\n      <td>0.13614</td>\n      <td>8.16833</td>\n      <td>0.48333</td>\n      <td>29.00000</td>\n    </tr>\n    <tr>\n      <th>21</th>\n      <td>21</td>\n      <td>510583</td>\n      <td>115</td>\n      <td>7984</td>\n      <td>0</td>\n      <td>21</td>\n      <td>3</td>\n      <td>0</td>\n      <td>20000.00000</td>\n      <td>False</td>\n      <td>0.00591</td>\n      <td>0.14183</td>\n      <td>8.50972</td>\n      <td>0.33333</td>\n      <td>20.00000</td>\n    </tr>\n    <tr>\n      <th>22</th>\n      <td>22</td>\n      <td>534187</td>\n      <td>115</td>\n      <td>45</td>\n      <td>0</td>\n      <td>22</td>\n      <td>2</td>\n      <td>0</td>\n      <td>19000.00000</td>\n      <td>False</td>\n      <td>0.00618</td>\n      <td>0.14839</td>\n      <td>8.90312</td>\n      <td>0.31667</td>\n      <td>19.00000</td>\n    </tr>\n    <tr>\n      <th>23</th>\n      <td>23</td>\n      <td>557677</td>\n      <td>115</td>\n      <td>185</td>\n      <td>0</td>\n      <td>23</td>\n      <td>3</td>\n      <td>0</td>\n      <td>21000.00000</td>\n      <td>False</td>\n      <td>0.00645</td>\n      <td>0.15491</td>\n      <td>9.29462</td>\n      <td>0.35000</td>\n      <td>21.00000</td>\n    </tr>\n    <tr>\n      <th>24</th>\n      <td>24</td>\n      <td>575289</td>\n      <td>115</td>\n      <td>55</td>\n      <td>0</td>\n      <td>24</td>\n      <td>3</td>\n      <td>1</td>\n      <td>22000.00000</td>\n      <td>False</td>\n      <td>0.00666</td>\n      <td>0.15980</td>\n      <td>9.58815</td>\n      <td>0.36667</td>\n      <td>22.00000</td>\n    </tr>\n    <tr>\n      <th>25</th>\n      <td>25</td>\n      <td>597863</td>\n      <td>115</td>\n      <td>7876</td>\n      <td>0</td>\n      <td>25</td>\n      <td>3</td>\n      <td>1</td>\n      <td>16000.00000</td>\n      <td>False</td>\n      <td>0.00692</td>\n      <td>0.16607</td>\n      <td>9.96438</td>\n      <td>0.26667</td>\n      <td>16.00000</td>\n    </tr>\n    <tr>\n      <th>26</th>\n      <td>26</td>\n      <td>621464</td>\n      <td>115</td>\n      <td>6</td>\n      <td>0</td>\n      <td>26</td>\n      <td>2</td>\n      <td>1</td>\n      <td>20000.00000</td>\n      <td>False</td>\n      <td>0.00719</td>\n      <td>0.17263</td>\n      <td>10.35773</td>\n      <td>0.33333</td>\n      <td>20.00000</td>\n    </tr>\n    <tr>\n      <th>27</th>\n      <td>27</td>\n      <td>645415</td>\n      <td>115</td>\n      <td>172</td>\n      <td>0</td>\n      <td>27</td>\n      <td>1</td>\n      <td>1</td>\n      <td>22000.00000</td>\n      <td>False</td>\n      <td>0.00747</td>\n      <td>0.17928</td>\n      <td>10.75692</td>\n      <td>0.36667</td>\n      <td>22.00000</td>\n    </tr>\n    <tr>\n      <th>28</th>\n      <td>28</td>\n      <td>670520</td>\n      <td>115</td>\n      <td>7898</td>\n      <td>0</td>\n      <td>28</td>\n      <td>2</td>\n      <td>1</td>\n      <td>22000.00000</td>\n      <td>False</td>\n      <td>0.00776</td>\n      <td>0.18626</td>\n      <td>11.17533</td>\n      <td>0.36667</td>\n      <td>22.00000</td>\n    </tr>\n    <tr>\n      <th>29</th>\n      <td>29</td>\n      <td>692971</td>\n      <td>115</td>\n      <td>175</td>\n      <td>0</td>\n      <td>29</td>\n      <td>0</td>\n      <td>0</td>\n      <td>23000.00000</td>\n      <td>False</td>\n      <td>0.00802</td>\n      <td>0.19249</td>\n      <td>11.54952</td>\n      <td>0.38333</td>\n      <td>23.00000</td>\n    </tr>\n    <tr>\n      <th>30</th>\n      <td>30</td>\n      <td>710402</td>\n      <td>115</td>\n      <td>100</td>\n      <td>0</td>\n      <td>30</td>\n      <td>0</td>\n      <td>1</td>\n      <td>20000.00000</td>\n      <td>False</td>\n      <td>0.00822</td>\n      <td>0.19733</td>\n      <td>11.84003</td>\n      <td>0.33333</td>\n      <td>20.00000</td>\n    </tr>\n    <tr>\n      <th>31</th>\n      <td>31</td>\n      <td>732421</td>\n      <td>115</td>\n      <td>7859</td>\n      <td>0</td>\n      <td>31</td>\n      <td>3</td>\n      <td>0</td>\n      <td>15000.00000</td>\n      <td>False</td>\n      <td>0.00848</td>\n      <td>0.20345</td>\n      <td>12.20702</td>\n      <td>0.25000</td>\n      <td>15.00000</td>\n    </tr>\n    <tr>\n      <th>32</th>\n      <td>32</td>\n      <td>1219624</td>\n      <td>115</td>\n      <td>57</td>\n      <td>0</td>\n      <td>32</td>\n      <td>0</td>\n      <td>1</td>\n      <td>20000.00000</td>\n      <td>False</td>\n      <td>0.01412</td>\n      <td>0.33878</td>\n      <td>20.32707</td>\n      <td>0.33333</td>\n      <td>20.00000</td>\n    </tr>\n    <tr>\n      <th>33</th>\n      <td>33</td>\n      <td>1252621</td>\n      <td>115</td>\n      <td>7948</td>\n      <td>0</td>\n      <td>33</td>\n      <td>0</td>\n      <td>1</td>\n      <td>20000.00000</td>\n      <td>True</td>\n      <td>0.01450</td>\n      <td>0.34795</td>\n      <td>20.87702</td>\n      <td>0.33333</td>\n      <td>20.00000</td>\n    </tr>\n    <tr>\n      <th>34</th>\n      <td>34</td>\n      <td>1284094</td>\n      <td>115</td>\n      <td>151</td>\n      <td>0</td>\n      <td>34</td>\n      <td>3</td>\n      <td>1</td>\n      <td>22000.00000</td>\n      <td>True</td>\n      <td>0.01486</td>\n      <td>0.35669</td>\n      <td>21.40157</td>\n      <td>0.36667</td>\n      <td>22.00000</td>\n    </tr>\n    <tr>\n      <th>35</th>\n      <td>35</td>\n      <td>1320874</td>\n      <td>115</td>\n      <td>167</td>\n      <td>0</td>\n      <td>35</td>\n      <td>2</td>\n      <td>1</td>\n      <td>19000.00000</td>\n      <td>True</td>\n      <td>0.01529</td>\n      <td>0.36691</td>\n      <td>22.01457</td>\n      <td>0.31667</td>\n      <td>19.00000</td>\n    </tr>\n    <tr>\n      <th>36</th>\n      <td>36</td>\n      <td>1359412</td>\n      <td>115</td>\n      <td>7897</td>\n      <td>0</td>\n      <td>36</td>\n      <td>3</td>\n      <td>0</td>\n      <td>17000.00000</td>\n      <td>True</td>\n      <td>0.01573</td>\n      <td>0.37761</td>\n      <td>22.65687</td>\n      <td>0.28333</td>\n      <td>17.00000</td>\n    </tr>\n    <tr>\n      <th>37</th>\n      <td>37</td>\n      <td>1415188</td>\n      <td>115</td>\n      <td>7882</td>\n      <td>0</td>\n      <td>37</td>\n      <td>2</td>\n      <td>1</td>\n      <td>20000.00000</td>\n      <td>True</td>\n      <td>0.01638</td>\n      <td>0.39311</td>\n      <td>23.58647</td>\n      <td>0.33333</td>\n      <td>20.00000</td>\n    </tr>\n    <tr>\n      <th>38</th>\n      <td>38</td>\n      <td>1468285</td>\n      <td>115</td>\n      <td>7962</td>\n      <td>0</td>\n      <td>38</td>\n      <td>3</td>\n      <td>1</td>\n      <td>17000.00000</td>\n      <td>True</td>\n      <td>0.01699</td>\n      <td>0.40786</td>\n      <td>24.47142</td>\n      <td>0.28333</td>\n      <td>17.00000</td>\n    </tr>\n    <tr>\n      <th>39</th>\n      <td>39</td>\n      <td>667861680</td>\n      <td>115</td>\n      <td>1278</td>\n      <td>0</td>\n      <td>39</td>\n      <td>3</td>\n      <td>1</td>\n      <td>21000.00000</td>\n      <td>False</td>\n      <td>7.72988</td>\n      <td>185.51713</td>\n      <td>11131.02800</td>\n      <td>0.35000</td>\n      <td>21.00000</td>\n    </tr>\n    <tr>\n      <th>40</th>\n      <td>40</td>\n      <td>667971812</td>\n      <td>115</td>\n      <td>2065</td>\n      <td>0</td>\n      <td>40</td>\n      <td>2</td>\n      <td>1</td>\n      <td>17000.00000</td>\n      <td>False</td>\n      <td>7.73116</td>\n      <td>185.54773</td>\n      <td>11132.86353</td>\n      <td>0.28333</td>\n      <td>17.00000</td>\n    </tr>\n    <tr>\n      <th>41</th>\n      <td>41</td>\n      <td>667971812</td>\n      <td>115</td>\n      <td>2064</td>\n      <td>0</td>\n      <td>40</td>\n      <td>1</td>\n      <td>1</td>\n      <td>17000.00000</td>\n      <td>False</td>\n      <td>7.73116</td>\n      <td>185.54773</td>\n      <td>11132.86353</td>\n      <td>0.28333</td>\n      <td>17.00000</td>\n    </tr>\n    <tr>\n      <th>42</th>\n      <td>42</td>\n      <td>667971812</td>\n      <td>115</td>\n      <td>2063</td>\n      <td>0</td>\n      <td>40</td>\n      <td>3</td>\n      <td>0</td>\n      <td>17000.00000</td>\n      <td>False</td>\n      <td>7.73116</td>\n      <td>185.54773</td>\n      <td>11132.86353</td>\n      <td>0.28333</td>\n      <td>17.00000</td>\n    </tr>\n    <tr>\n      <th>43</th>\n      <td>43</td>\n      <td>668090043</td>\n      <td>115</td>\n      <td>3363</td>\n      <td>0</td>\n      <td>41</td>\n      <td>1</td>\n      <td>0</td>\n      <td>14333.00000</td>\n      <td>False</td>\n      <td>7.73252</td>\n      <td>185.58057</td>\n      <td>11134.83405</td>\n      <td>0.23888</td>\n      <td>14.33300</td>\n    </tr>\n    <tr>\n      <th>44</th>\n      <td>44</td>\n      <td>668090043</td>\n      <td>115</td>\n      <td>3365</td>\n      <td>0</td>\n      <td>41</td>\n      <td>0</td>\n      <td>0</td>\n      <td>14333.00000</td>\n      <td>False</td>\n      <td>7.73252</td>\n      <td>185.58057</td>\n      <td>11134.83405</td>\n      <td>0.23888</td>\n      <td>14.33300</td>\n    </tr>\n    <tr>\n      <th>45</th>\n      <td>45</td>\n      <td>668090043</td>\n      <td>115</td>\n      <td>3364</td>\n      <td>0</td>\n      <td>41</td>\n      <td>1</td>\n      <td>1</td>\n      <td>14333.00000</td>\n      <td>False</td>\n      <td>7.73252</td>\n      <td>185.58057</td>\n      <td>11134.83405</td>\n      <td>0.23888</td>\n      <td>14.33300</td>\n    </tr>\n  </tbody>\n</table>\n</div>"
     },
     "metadata": {},
     "execution_count": 12
    }
   ],
   "source": [
    "feature_df"
   ]
  },
  {
   "source": [
    "##### 2. Find the intro rows."
   ],
   "cell_type": "markdown",
   "metadata": {}
  },
  {
   "cell_type": "code",
   "execution_count": 13,
   "metadata": {},
   "outputs": [
    {
     "output_type": "execute_result",
     "data": {
      "text/plain": [
       "row_id                            18\n",
       "timestamp                         18\n",
       "user_id                           18\n",
       "content_id                        18\n",
       "content_type_id                   18\n",
       "task_container_id                 18\n",
       "user_answer                       18\n",
       "answered_correctly                18\n",
       "prior_question_elapsed_time        0\n",
       "prior_question_had_explanation    18\n",
       "days                              18\n",
       "hours                             18\n",
       "minutes                           18\n",
       "prior_minutes                      0\n",
       "prior_seconds                      0\n",
       "dtype: int64"
      ]
     },
     "metadata": {},
     "execution_count": 13
    }
   ],
   "source": [
    "# There are no actions which are having elapsed time when the action is lecture and the explanation is false (it will be always false for lectures)\n",
    "train_df[(train_df.answered_correctly == -1) &  (train_df.prior_question_had_explanation==False)].count()"
   ]
  },
  {
   "cell_type": "code",
   "execution_count": 14,
   "metadata": {},
   "outputs": [
    {
     "output_type": "execute_result",
     "data": {
      "text/plain": [
       "row_id                            0\n",
       "timestamp                         0\n",
       "user_id                           0\n",
       "content_id                        0\n",
       "content_type_id                   0\n",
       "task_container_id                 0\n",
       "user_answer                       0\n",
       "answered_correctly                0\n",
       "prior_question_elapsed_time       0\n",
       "prior_question_had_explanation    0\n",
       "days                              0\n",
       "hours                             0\n",
       "minutes                           0\n",
       "prior_minutes                     0\n",
       "prior_seconds                     0\n",
       "dtype: int64"
      ]
     },
     "metadata": {},
     "execution_count": 14
    }
   ],
   "source": [
    "train_df[(train_df.timestamp == 0) &  (train_df.content_type_id==1)].count()\n",
    "# There are 80 rows related to the intro lecutures"
   ]
  },
  {
   "cell_type": "code",
   "execution_count": 15,
   "metadata": {},
   "outputs": [
    {
     "output_type": "execute_result",
     "data": {
      "text/plain": [
       "8"
      ]
     },
     "metadata": {},
     "execution_count": 15
    }
   ],
   "source": [
    "len(train_df[(train_df.timestamp == 0) &  (train_df.content_type_id==0)].user_id.unique())"
   ]
  },
  {
   "cell_type": "code",
   "execution_count": 16,
   "metadata": {},
   "outputs": [
    {
     "output_type": "execute_result",
     "data": {
      "text/plain": [
       "0"
      ]
     },
     "metadata": {},
     "execution_count": 16
    }
   ],
   "source": [
    "len(train_df[(train_df.timestamp == 0) &  (train_df.content_type_id==1)].user_id.unique())"
   ]
  },
  {
   "cell_type": "code",
   "execution_count": 17,
   "metadata": {},
   "outputs": [],
   "source": [
    "# The unique user count is 393656\n",
    "# The count when added will be 393576 + 80"
   ]
  },
  {
   "cell_type": "code",
   "execution_count": 18,
   "metadata": {},
   "outputs": [
    {
     "output_type": "execute_result",
     "data": {
      "text/plain": [
       "0"
      ]
     },
     "metadata": {},
     "execution_count": 18
    }
   ],
   "source": [
    "# some of the intro are having the explanation\n",
    "len(train_df[~(train_df.timestamp == 0) & (train_df.prior_question_had_explanation.isnull())].user_id.unique())"
   ]
  },
  {
   "cell_type": "code",
   "execution_count": 19,
   "metadata": {},
   "outputs": [
    {
     "output_type": "execute_result",
     "data": {
      "text/plain": [
       "5"
      ]
     },
     "metadata": {},
     "execution_count": 19
    }
   ],
   "source": [
    "# most of the elapsed time is null for intro sections\n",
    "len(train_df[~(train_df.timestamp == 0) & (train_df.prior_question_elapsed_time.isnull())].user_id.unique())\n"
   ]
  },
  {
   "cell_type": "code",
   "execution_count": 20,
   "metadata": {},
   "outputs": [
    {
     "output_type": "execute_result",
     "data": {
      "text/plain": [
       "     row_id  timestamp  user_id  content_id  content_type_id  \\\n",
       "0         0          0      115        5692                0   \n",
       "46       46          0      124        7900                0   \n",
       "76       76          0     2746        5273                0   \n",
       "96       96          0     5382        5000                0   \n",
       "224     224          0     8623        3915                0   \n",
       "336     336          0     8701        3901                0   \n",
       "353     353          0    12741        5145                0   \n",
       "624     624          0    13134        3926                0   \n",
       "\n",
       "     task_container_id  user_answer  answered_correctly  \\\n",
       "0                    1            3                   1   \n",
       "46                   0            0                   1   \n",
       "76                   0            1                   0   \n",
       "96                   0            0                   1   \n",
       "224                  0            3                   1   \n",
       "336                  0            2                   1   \n",
       "353                  0            3                   0   \n",
       "624                  0            3                   1   \n",
       "\n",
       "     prior_question_elapsed_time  prior_question_had_explanation    days  \\\n",
       "0                            nan                            <NA> 0.00000   \n",
       "46                           nan                            <NA> 0.00000   \n",
       "76                           nan                            <NA> 0.00000   \n",
       "96                           nan                            <NA> 0.00000   \n",
       "224                          nan                            <NA> 0.00000   \n",
       "336                          nan                            <NA> 0.00000   \n",
       "353                          nan                            <NA> 0.00000   \n",
       "624                          nan                            <NA> 0.00000   \n",
       "\n",
       "      hours  minutes  prior_minutes  prior_seconds  \n",
       "0   0.00000  0.00000            nan            nan  \n",
       "46  0.00000  0.00000            nan            nan  \n",
       "76  0.00000  0.00000            nan            nan  \n",
       "96  0.00000  0.00000            nan            nan  \n",
       "224 0.00000  0.00000            nan            nan  \n",
       "336 0.00000  0.00000            nan            nan  \n",
       "353 0.00000  0.00000            nan            nan  \n",
       "624 0.00000  0.00000            nan            nan  "
      ],
      "text/html": "<div>\n<style scoped>\n    .dataframe tbody tr th:only-of-type {\n        vertical-align: middle;\n    }\n\n    .dataframe tbody tr th {\n        vertical-align: top;\n    }\n\n    .dataframe thead th {\n        text-align: right;\n    }\n</style>\n<table border=\"1\" class=\"dataframe\">\n  <thead>\n    <tr style=\"text-align: right;\">\n      <th></th>\n      <th>row_id</th>\n      <th>timestamp</th>\n      <th>user_id</th>\n      <th>content_id</th>\n      <th>content_type_id</th>\n      <th>task_container_id</th>\n      <th>user_answer</th>\n      <th>answered_correctly</th>\n      <th>prior_question_elapsed_time</th>\n      <th>prior_question_had_explanation</th>\n      <th>days</th>\n      <th>hours</th>\n      <th>minutes</th>\n      <th>prior_minutes</th>\n      <th>prior_seconds</th>\n    </tr>\n  </thead>\n  <tbody>\n    <tr>\n      <th>0</th>\n      <td>0</td>\n      <td>0</td>\n      <td>115</td>\n      <td>5692</td>\n      <td>0</td>\n      <td>1</td>\n      <td>3</td>\n      <td>1</td>\n      <td>nan</td>\n      <td>&lt;NA&gt;</td>\n      <td>0.00000</td>\n      <td>0.00000</td>\n      <td>0.00000</td>\n      <td>nan</td>\n      <td>nan</td>\n    </tr>\n    <tr>\n      <th>46</th>\n      <td>46</td>\n      <td>0</td>\n      <td>124</td>\n      <td>7900</td>\n      <td>0</td>\n      <td>0</td>\n      <td>0</td>\n      <td>1</td>\n      <td>nan</td>\n      <td>&lt;NA&gt;</td>\n      <td>0.00000</td>\n      <td>0.00000</td>\n      <td>0.00000</td>\n      <td>nan</td>\n      <td>nan</td>\n    </tr>\n    <tr>\n      <th>76</th>\n      <td>76</td>\n      <td>0</td>\n      <td>2746</td>\n      <td>5273</td>\n      <td>0</td>\n      <td>0</td>\n      <td>1</td>\n      <td>0</td>\n      <td>nan</td>\n      <td>&lt;NA&gt;</td>\n      <td>0.00000</td>\n      <td>0.00000</td>\n      <td>0.00000</td>\n      <td>nan</td>\n      <td>nan</td>\n    </tr>\n    <tr>\n      <th>96</th>\n      <td>96</td>\n      <td>0</td>\n      <td>5382</td>\n      <td>5000</td>\n      <td>0</td>\n      <td>0</td>\n      <td>0</td>\n      <td>1</td>\n      <td>nan</td>\n      <td>&lt;NA&gt;</td>\n      <td>0.00000</td>\n      <td>0.00000</td>\n      <td>0.00000</td>\n      <td>nan</td>\n      <td>nan</td>\n    </tr>\n    <tr>\n      <th>224</th>\n      <td>224</td>\n      <td>0</td>\n      <td>8623</td>\n      <td>3915</td>\n      <td>0</td>\n      <td>0</td>\n      <td>3</td>\n      <td>1</td>\n      <td>nan</td>\n      <td>&lt;NA&gt;</td>\n      <td>0.00000</td>\n      <td>0.00000</td>\n      <td>0.00000</td>\n      <td>nan</td>\n      <td>nan</td>\n    </tr>\n    <tr>\n      <th>336</th>\n      <td>336</td>\n      <td>0</td>\n      <td>8701</td>\n      <td>3901</td>\n      <td>0</td>\n      <td>0</td>\n      <td>2</td>\n      <td>1</td>\n      <td>nan</td>\n      <td>&lt;NA&gt;</td>\n      <td>0.00000</td>\n      <td>0.00000</td>\n      <td>0.00000</td>\n      <td>nan</td>\n      <td>nan</td>\n    </tr>\n    <tr>\n      <th>353</th>\n      <td>353</td>\n      <td>0</td>\n      <td>12741</td>\n      <td>5145</td>\n      <td>0</td>\n      <td>0</td>\n      <td>3</td>\n      <td>0</td>\n      <td>nan</td>\n      <td>&lt;NA&gt;</td>\n      <td>0.00000</td>\n      <td>0.00000</td>\n      <td>0.00000</td>\n      <td>nan</td>\n      <td>nan</td>\n    </tr>\n    <tr>\n      <th>624</th>\n      <td>624</td>\n      <td>0</td>\n      <td>13134</td>\n      <td>3926</td>\n      <td>0</td>\n      <td>0</td>\n      <td>3</td>\n      <td>1</td>\n      <td>nan</td>\n      <td>&lt;NA&gt;</td>\n      <td>0.00000</td>\n      <td>0.00000</td>\n      <td>0.00000</td>\n      <td>nan</td>\n      <td>nan</td>\n    </tr>\n  </tbody>\n</table>\n</div>"
     },
     "metadata": {},
     "execution_count": 20
    }
   ],
   "source": [
    "dropped_duplicates = train_df.drop_duplicates(subset=['user_id'])\n",
    "dropped_duplicates"
   ]
  },
  {
   "cell_type": "code",
   "execution_count": 21,
   "metadata": {},
   "outputs": [
    {
     "output_type": "execute_result",
     "data": {
      "text/plain": [
       "8"
      ]
     },
     "metadata": {},
     "execution_count": 21
    }
   ],
   "source": [
    "len(train_df[(train_df.timestamp == 0)].user_id.unique())\n",
    "# This proves that the timestamp 0 is the beginning for all the students"
   ]
  },
  {
   "cell_type": "code",
   "execution_count": 22,
   "metadata": {},
   "outputs": [
    {
     "output_type": "execute_result",
     "data": {
      "text/plain": [
       "   row_id  timestamp  user_id  content_id  content_type_id  task_container_id  \\\n",
       "0       0          0      115        5692                0                  1   \n",
       "1       1      56943      115        5716                0                  2   \n",
       "2       2     118363      115         128                0                  0   \n",
       "3       3     131167      115        7860                0                  3   \n",
       "4       4     137965      115        7922                0                  4   \n",
       "\n",
       "   user_answer  answered_correctly  prior_question_elapsed_time  \\\n",
       "0            3                   1                          nan   \n",
       "1            2                   1                  37000.00000   \n",
       "2            0                   1                  55000.00000   \n",
       "3            0                   1                  19000.00000   \n",
       "4            1                   1                  11000.00000   \n",
       "\n",
       "   prior_question_had_explanation    days   hours  minutes  prior_minutes  \\\n",
       "0                            <NA> 0.00000 0.00000  0.00000            nan   \n",
       "1                           False 0.00066 0.01582  0.94905        0.61667   \n",
       "2                           False 0.00137 0.03288  1.97272        0.91667   \n",
       "3                           False 0.00152 0.03644  2.18612        0.31667   \n",
       "4                           False 0.00160 0.03832  2.29942        0.18333   \n",
       "\n",
       "   prior_seconds  intro_section  \n",
       "0            nan           True  \n",
       "1       37.00000          False  \n",
       "2       55.00000          False  \n",
       "3       19.00000          False  \n",
       "4       11.00000          False  "
      ],
      "text/html": "<div>\n<style scoped>\n    .dataframe tbody tr th:only-of-type {\n        vertical-align: middle;\n    }\n\n    .dataframe tbody tr th {\n        vertical-align: top;\n    }\n\n    .dataframe thead th {\n        text-align: right;\n    }\n</style>\n<table border=\"1\" class=\"dataframe\">\n  <thead>\n    <tr style=\"text-align: right;\">\n      <th></th>\n      <th>row_id</th>\n      <th>timestamp</th>\n      <th>user_id</th>\n      <th>content_id</th>\n      <th>content_type_id</th>\n      <th>task_container_id</th>\n      <th>user_answer</th>\n      <th>answered_correctly</th>\n      <th>prior_question_elapsed_time</th>\n      <th>prior_question_had_explanation</th>\n      <th>days</th>\n      <th>hours</th>\n      <th>minutes</th>\n      <th>prior_minutes</th>\n      <th>prior_seconds</th>\n      <th>intro_section</th>\n    </tr>\n  </thead>\n  <tbody>\n    <tr>\n      <th>0</th>\n      <td>0</td>\n      <td>0</td>\n      <td>115</td>\n      <td>5692</td>\n      <td>0</td>\n      <td>1</td>\n      <td>3</td>\n      <td>1</td>\n      <td>nan</td>\n      <td>&lt;NA&gt;</td>\n      <td>0.00000</td>\n      <td>0.00000</td>\n      <td>0.00000</td>\n      <td>nan</td>\n      <td>nan</td>\n      <td>True</td>\n    </tr>\n    <tr>\n      <th>1</th>\n      <td>1</td>\n      <td>56943</td>\n      <td>115</td>\n      <td>5716</td>\n      <td>0</td>\n      <td>2</td>\n      <td>2</td>\n      <td>1</td>\n      <td>37000.00000</td>\n      <td>False</td>\n      <td>0.00066</td>\n      <td>0.01582</td>\n      <td>0.94905</td>\n      <td>0.61667</td>\n      <td>37.00000</td>\n      <td>False</td>\n    </tr>\n    <tr>\n      <th>2</th>\n      <td>2</td>\n      <td>118363</td>\n      <td>115</td>\n      <td>128</td>\n      <td>0</td>\n      <td>0</td>\n      <td>0</td>\n      <td>1</td>\n      <td>55000.00000</td>\n      <td>False</td>\n      <td>0.00137</td>\n      <td>0.03288</td>\n      <td>1.97272</td>\n      <td>0.91667</td>\n      <td>55.00000</td>\n      <td>False</td>\n    </tr>\n    <tr>\n      <th>3</th>\n      <td>3</td>\n      <td>131167</td>\n      <td>115</td>\n      <td>7860</td>\n      <td>0</td>\n      <td>3</td>\n      <td>0</td>\n      <td>1</td>\n      <td>19000.00000</td>\n      <td>False</td>\n      <td>0.00152</td>\n      <td>0.03644</td>\n      <td>2.18612</td>\n      <td>0.31667</td>\n      <td>19.00000</td>\n      <td>False</td>\n    </tr>\n    <tr>\n      <th>4</th>\n      <td>4</td>\n      <td>137965</td>\n      <td>115</td>\n      <td>7922</td>\n      <td>0</td>\n      <td>4</td>\n      <td>1</td>\n      <td>1</td>\n      <td>11000.00000</td>\n      <td>False</td>\n      <td>0.00160</td>\n      <td>0.03832</td>\n      <td>2.29942</td>\n      <td>0.18333</td>\n      <td>11.00000</td>\n      <td>False</td>\n    </tr>\n  </tbody>\n</table>\n</div>"
     },
     "metadata": {},
     "execution_count": 22
    }
   ],
   "source": [
    "train_df['intro_section'] = np.where(train_df.timestamp == 0, True, False)\n",
    "train_df.head()"
   ]
  },
  {
   "cell_type": "code",
   "execution_count": 23,
   "metadata": {},
   "outputs": [
    {
     "output_type": "execute_result",
     "data": {
      "text/plain": [
       "array(['concept', 'solving question', 'intention', 'starter'],\n",
       "      dtype=object)"
      ]
     },
     "metadata": {},
     "execution_count": 23
    }
   ],
   "source": [
    "lectures_df.type_of.unique()"
   ]
  },
  {
   "cell_type": "code",
   "execution_count": 24,
   "metadata": {},
   "outputs": [
    {
     "output_type": "execute_result",
     "data": {
      "text/plain": [
       "     lecture_id  tag  part  type_of\n",
       "54         4385  181     5  starter\n",
       "261       21169  151     5  starter\n",
       "362       28569   27     6  starter"
      ],
      "text/html": "<div>\n<style scoped>\n    .dataframe tbody tr th:only-of-type {\n        vertical-align: middle;\n    }\n\n    .dataframe tbody tr th {\n        vertical-align: top;\n    }\n\n    .dataframe thead th {\n        text-align: right;\n    }\n</style>\n<table border=\"1\" class=\"dataframe\">\n  <thead>\n    <tr style=\"text-align: right;\">\n      <th></th>\n      <th>lecture_id</th>\n      <th>tag</th>\n      <th>part</th>\n      <th>type_of</th>\n    </tr>\n  </thead>\n  <tbody>\n    <tr>\n      <th>54</th>\n      <td>4385</td>\n      <td>181</td>\n      <td>5</td>\n      <td>starter</td>\n    </tr>\n    <tr>\n      <th>261</th>\n      <td>21169</td>\n      <td>151</td>\n      <td>5</td>\n      <td>starter</td>\n    </tr>\n    <tr>\n      <th>362</th>\n      <td>28569</td>\n      <td>27</td>\n      <td>6</td>\n      <td>starter</td>\n    </tr>\n  </tbody>\n</table>\n</div>"
     },
     "metadata": {},
     "execution_count": 24
    }
   ],
   "source": [
    "lectures_df[lectures_df.type_of=='starter']"
   ]
  },
  {
   "cell_type": "code",
   "execution_count": 25,
   "metadata": {},
   "outputs": [
    {
     "output_type": "execute_result",
     "data": {
      "text/plain": [
       "     lecture_id  tag  part    type_of\n",
       "38         3153   62     2  intention\n",
       "65         5752    6     2  intention\n",
       "76         6808  129     2  intention\n",
       "103        8976   62     2  intention\n",
       "109        9554   69     2  intention\n",
       "174       14325   69     2  intention\n",
       "349       27699  129     2  intention"
      ],
      "text/html": "<div>\n<style scoped>\n    .dataframe tbody tr th:only-of-type {\n        vertical-align: middle;\n    }\n\n    .dataframe tbody tr th {\n        vertical-align: top;\n    }\n\n    .dataframe thead th {\n        text-align: right;\n    }\n</style>\n<table border=\"1\" class=\"dataframe\">\n  <thead>\n    <tr style=\"text-align: right;\">\n      <th></th>\n      <th>lecture_id</th>\n      <th>tag</th>\n      <th>part</th>\n      <th>type_of</th>\n    </tr>\n  </thead>\n  <tbody>\n    <tr>\n      <th>38</th>\n      <td>3153</td>\n      <td>62</td>\n      <td>2</td>\n      <td>intention</td>\n    </tr>\n    <tr>\n      <th>65</th>\n      <td>5752</td>\n      <td>6</td>\n      <td>2</td>\n      <td>intention</td>\n    </tr>\n    <tr>\n      <th>76</th>\n      <td>6808</td>\n      <td>129</td>\n      <td>2</td>\n      <td>intention</td>\n    </tr>\n    <tr>\n      <th>103</th>\n      <td>8976</td>\n      <td>62</td>\n      <td>2</td>\n      <td>intention</td>\n    </tr>\n    <tr>\n      <th>109</th>\n      <td>9554</td>\n      <td>69</td>\n      <td>2</td>\n      <td>intention</td>\n    </tr>\n    <tr>\n      <th>174</th>\n      <td>14325</td>\n      <td>69</td>\n      <td>2</td>\n      <td>intention</td>\n    </tr>\n    <tr>\n      <th>349</th>\n      <td>27699</td>\n      <td>129</td>\n      <td>2</td>\n      <td>intention</td>\n    </tr>\n  </tbody>\n</table>\n</div>"
     },
     "metadata": {},
     "execution_count": 25
    }
   ],
   "source": [
    "lectures_df[lectures_df.type_of=='intention']"
   ]
  },
  {
   "cell_type": "code",
   "execution_count": 26,
   "metadata": {},
   "outputs": [],
   "source": [
    "starter_ids = train_df[(train_df.timestamp == 0)].task_container_id.unique()"
   ]
  },
  {
   "cell_type": "code",
   "execution_count": 27,
   "metadata": {},
   "outputs": [
    {
     "output_type": "execute_result",
     "data": {
      "text/plain": [
       "   question_id  bundle_id  correct_answer  part           tags\n",
       "0            0          0               0     1  51 131 162 38\n",
       "1            1          1               1     1      131 36 81"
      ],
      "text/html": "<div>\n<style scoped>\n    .dataframe tbody tr th:only-of-type {\n        vertical-align: middle;\n    }\n\n    .dataframe tbody tr th {\n        vertical-align: top;\n    }\n\n    .dataframe thead th {\n        text-align: right;\n    }\n</style>\n<table border=\"1\" class=\"dataframe\">\n  <thead>\n    <tr style=\"text-align: right;\">\n      <th></th>\n      <th>question_id</th>\n      <th>bundle_id</th>\n      <th>correct_answer</th>\n      <th>part</th>\n      <th>tags</th>\n    </tr>\n  </thead>\n  <tbody>\n    <tr>\n      <th>0</th>\n      <td>0</td>\n      <td>0</td>\n      <td>0</td>\n      <td>1</td>\n      <td>51 131 162 38</td>\n    </tr>\n    <tr>\n      <th>1</th>\n      <td>1</td>\n      <td>1</td>\n      <td>1</td>\n      <td>1</td>\n      <td>131 36 81</td>\n    </tr>\n  </tbody>\n</table>\n</div>"
     },
     "metadata": {},
     "execution_count": 27
    }
   ],
   "source": [
    "questions_df[questions_df.bundle_id.isin(starter_ids)]"
   ]
  },
  {
   "cell_type": "code",
   "execution_count": 28,
   "metadata": {},
   "outputs": [
    {
     "output_type": "execute_result",
     "data": {
      "text/plain": [
       "       question_id  bundle_id  correct_answer  part            tags\n",
       "0                0          0               0     1   51 131 162 38\n",
       "1                1          1               1     1       131 36 81\n",
       "2                2          2               0     1  131 101 162 92\n",
       "3                3          3               0     1  131 149 162 29\n",
       "4                4          4               3     1    131 5 162 38\n",
       "...            ...        ...             ...   ...             ...\n",
       "12930        12930      12930               0     1         9 10 92\n",
       "12931        12931      12931               2     1      131 104 92\n",
       "12932        12932      12932               0     1      131 187 92\n",
       "12933        12933      12933               3     1         9 10 92\n",
       "12934        12934      12934               2     1       131 93 92\n",
       "\n",
       "[992 rows x 5 columns]"
      ],
      "text/html": "<div>\n<style scoped>\n    .dataframe tbody tr th:only-of-type {\n        vertical-align: middle;\n    }\n\n    .dataframe tbody tr th {\n        vertical-align: top;\n    }\n\n    .dataframe thead th {\n        text-align: right;\n    }\n</style>\n<table border=\"1\" class=\"dataframe\">\n  <thead>\n    <tr style=\"text-align: right;\">\n      <th></th>\n      <th>question_id</th>\n      <th>bundle_id</th>\n      <th>correct_answer</th>\n      <th>part</th>\n      <th>tags</th>\n    </tr>\n  </thead>\n  <tbody>\n    <tr>\n      <th>0</th>\n      <td>0</td>\n      <td>0</td>\n      <td>0</td>\n      <td>1</td>\n      <td>51 131 162 38</td>\n    </tr>\n    <tr>\n      <th>1</th>\n      <td>1</td>\n      <td>1</td>\n      <td>1</td>\n      <td>1</td>\n      <td>131 36 81</td>\n    </tr>\n    <tr>\n      <th>2</th>\n      <td>2</td>\n      <td>2</td>\n      <td>0</td>\n      <td>1</td>\n      <td>131 101 162 92</td>\n    </tr>\n    <tr>\n      <th>3</th>\n      <td>3</td>\n      <td>3</td>\n      <td>0</td>\n      <td>1</td>\n      <td>131 149 162 29</td>\n    </tr>\n    <tr>\n      <th>4</th>\n      <td>4</td>\n      <td>4</td>\n      <td>3</td>\n      <td>1</td>\n      <td>131 5 162 38</td>\n    </tr>\n    <tr>\n      <th>...</th>\n      <td>...</td>\n      <td>...</td>\n      <td>...</td>\n      <td>...</td>\n      <td>...</td>\n    </tr>\n    <tr>\n      <th>12930</th>\n      <td>12930</td>\n      <td>12930</td>\n      <td>0</td>\n      <td>1</td>\n      <td>9 10 92</td>\n    </tr>\n    <tr>\n      <th>12931</th>\n      <td>12931</td>\n      <td>12931</td>\n      <td>2</td>\n      <td>1</td>\n      <td>131 104 92</td>\n    </tr>\n    <tr>\n      <th>12932</th>\n      <td>12932</td>\n      <td>12932</td>\n      <td>0</td>\n      <td>1</td>\n      <td>131 187 92</td>\n    </tr>\n    <tr>\n      <th>12933</th>\n      <td>12933</td>\n      <td>12933</td>\n      <td>3</td>\n      <td>1</td>\n      <td>9 10 92</td>\n    </tr>\n    <tr>\n      <th>12934</th>\n      <td>12934</td>\n      <td>12934</td>\n      <td>2</td>\n      <td>1</td>\n      <td>131 93 92</td>\n    </tr>\n  </tbody>\n</table>\n<p>992 rows × 5 columns</p>\n</div>"
     },
     "metadata": {},
     "execution_count": 28
    }
   ],
   "source": [
    "questions_df[questions_df.part == 1]"
   ]
  },
  {
   "cell_type": "code",
   "execution_count": 29,
   "metadata": {},
   "outputs": [
    {
     "output_type": "execute_result",
     "data": {
      "text/plain": [
       "     row_id  timestamp  user_id  content_id  content_type_id  \\\n",
       "2         2     118363      115         128                0   \n",
       "47       47      32683      124        7876                0   \n",
       "77       77      21592     2746         758                0   \n",
       "97       97      39828     5382        3944                0   \n",
       "225     225      38769     8623        4750                0   \n",
       "337     337      17833     8701        6671                0   \n",
       "354     354      22273    12741        9691                0   \n",
       "625     625      23840    13134         564                0   \n",
       "\n",
       "     task_container_id  user_answer  answered_correctly  \\\n",
       "2                    0            0                   1   \n",
       "47                   1            0                   0   \n",
       "77                   1            0                   0   \n",
       "97                   1            1                   0   \n",
       "225                  1            1                   1   \n",
       "337                  1            0                   1   \n",
       "354                  1            3                   1   \n",
       "625                  1            1                   0   \n",
       "\n",
       "     prior_question_elapsed_time  prior_question_had_explanation    days  \\\n",
       "2                    55000.00000                           False 0.00137   \n",
       "47                   26000.00000                           False 0.00038   \n",
       "77                   28000.00000                           False 0.00025   \n",
       "97                   24000.00000                           False 0.00046   \n",
       "225                  16000.00000                           False 0.00045   \n",
       "337                  13000.00000                           False 0.00021   \n",
       "354                  13000.00000                           False 0.00026   \n",
       "625                  22000.00000                           False 0.00028   \n",
       "\n",
       "      hours  minutes  prior_minutes  prior_seconds  intro_section  \n",
       "2   0.03288  1.97272        0.91667       55.00000          False  \n",
       "47  0.00908  0.54472        0.43333       26.00000          False  \n",
       "77  0.00600  0.35987        0.46667       28.00000          False  \n",
       "97  0.01106  0.66380        0.40000       24.00000          False  \n",
       "225 0.01077  0.64615        0.26667       16.00000          False  \n",
       "337 0.00495  0.29722        0.21667       13.00000          False  \n",
       "354 0.00619  0.37122        0.21667       13.00000          False  \n",
       "625 0.00662  0.39733        0.36667       22.00000          False  "
      ],
      "text/html": "<div>\n<style scoped>\n    .dataframe tbody tr th:only-of-type {\n        vertical-align: middle;\n    }\n\n    .dataframe tbody tr th {\n        vertical-align: top;\n    }\n\n    .dataframe thead th {\n        text-align: right;\n    }\n</style>\n<table border=\"1\" class=\"dataframe\">\n  <thead>\n    <tr style=\"text-align: right;\">\n      <th></th>\n      <th>row_id</th>\n      <th>timestamp</th>\n      <th>user_id</th>\n      <th>content_id</th>\n      <th>content_type_id</th>\n      <th>task_container_id</th>\n      <th>user_answer</th>\n      <th>answered_correctly</th>\n      <th>prior_question_elapsed_time</th>\n      <th>prior_question_had_explanation</th>\n      <th>days</th>\n      <th>hours</th>\n      <th>minutes</th>\n      <th>prior_minutes</th>\n      <th>prior_seconds</th>\n      <th>intro_section</th>\n    </tr>\n  </thead>\n  <tbody>\n    <tr>\n      <th>2</th>\n      <td>2</td>\n      <td>118363</td>\n      <td>115</td>\n      <td>128</td>\n      <td>0</td>\n      <td>0</td>\n      <td>0</td>\n      <td>1</td>\n      <td>55000.00000</td>\n      <td>False</td>\n      <td>0.00137</td>\n      <td>0.03288</td>\n      <td>1.97272</td>\n      <td>0.91667</td>\n      <td>55.00000</td>\n      <td>False</td>\n    </tr>\n    <tr>\n      <th>47</th>\n      <td>47</td>\n      <td>32683</td>\n      <td>124</td>\n      <td>7876</td>\n      <td>0</td>\n      <td>1</td>\n      <td>0</td>\n      <td>0</td>\n      <td>26000.00000</td>\n      <td>False</td>\n      <td>0.00038</td>\n      <td>0.00908</td>\n      <td>0.54472</td>\n      <td>0.43333</td>\n      <td>26.00000</td>\n      <td>False</td>\n    </tr>\n    <tr>\n      <th>77</th>\n      <td>77</td>\n      <td>21592</td>\n      <td>2746</td>\n      <td>758</td>\n      <td>0</td>\n      <td>1</td>\n      <td>0</td>\n      <td>0</td>\n      <td>28000.00000</td>\n      <td>False</td>\n      <td>0.00025</td>\n      <td>0.00600</td>\n      <td>0.35987</td>\n      <td>0.46667</td>\n      <td>28.00000</td>\n      <td>False</td>\n    </tr>\n    <tr>\n      <th>97</th>\n      <td>97</td>\n      <td>39828</td>\n      <td>5382</td>\n      <td>3944</td>\n      <td>0</td>\n      <td>1</td>\n      <td>1</td>\n      <td>0</td>\n      <td>24000.00000</td>\n      <td>False</td>\n      <td>0.00046</td>\n      <td>0.01106</td>\n      <td>0.66380</td>\n      <td>0.40000</td>\n      <td>24.00000</td>\n      <td>False</td>\n    </tr>\n    <tr>\n      <th>225</th>\n      <td>225</td>\n      <td>38769</td>\n      <td>8623</td>\n      <td>4750</td>\n      <td>0</td>\n      <td>1</td>\n      <td>1</td>\n      <td>1</td>\n      <td>16000.00000</td>\n      <td>False</td>\n      <td>0.00045</td>\n      <td>0.01077</td>\n      <td>0.64615</td>\n      <td>0.26667</td>\n      <td>16.00000</td>\n      <td>False</td>\n    </tr>\n    <tr>\n      <th>337</th>\n      <td>337</td>\n      <td>17833</td>\n      <td>8701</td>\n      <td>6671</td>\n      <td>0</td>\n      <td>1</td>\n      <td>0</td>\n      <td>1</td>\n      <td>13000.00000</td>\n      <td>False</td>\n      <td>0.00021</td>\n      <td>0.00495</td>\n      <td>0.29722</td>\n      <td>0.21667</td>\n      <td>13.00000</td>\n      <td>False</td>\n    </tr>\n    <tr>\n      <th>354</th>\n      <td>354</td>\n      <td>22273</td>\n      <td>12741</td>\n      <td>9691</td>\n      <td>0</td>\n      <td>1</td>\n      <td>3</td>\n      <td>1</td>\n      <td>13000.00000</td>\n      <td>False</td>\n      <td>0.00026</td>\n      <td>0.00619</td>\n      <td>0.37122</td>\n      <td>0.21667</td>\n      <td>13.00000</td>\n      <td>False</td>\n    </tr>\n    <tr>\n      <th>625</th>\n      <td>625</td>\n      <td>23840</td>\n      <td>13134</td>\n      <td>564</td>\n      <td>0</td>\n      <td>1</td>\n      <td>1</td>\n      <td>0</td>\n      <td>22000.00000</td>\n      <td>False</td>\n      <td>0.00028</td>\n      <td>0.00662</td>\n      <td>0.39733</td>\n      <td>0.36667</td>\n      <td>22.00000</td>\n      <td>False</td>\n    </tr>\n  </tbody>\n</table>\n</div>"
     },
     "metadata": {},
     "execution_count": 29
    }
   ],
   "source": [
    "train_df[(train_df.timestamp != 0) & (train_df.task_container_id.isin(starter_ids))]"
   ]
  },
  {
   "cell_type": "code",
   "execution_count": 30,
   "metadata": {},
   "outputs": [],
   "source": [
    "# This shows that there a way more intro sections."
   ]
  },
  {
   "cell_type": "code",
   "execution_count": 31,
   "metadata": {},
   "outputs": [
    {
     "output_type": "execute_result",
     "data": {
      "text/plain": [
       "   row_id  timestamp  user_id  content_id  content_type_id  task_container_id  \\\n",
       "0       0          0      115        5692                0                  1   \n",
       "1       1      56943      115        5716                0                  2   \n",
       "2       2     118363      115         128                0                  0   \n",
       "3       3     131167      115        7860                0                  3   \n",
       "4       4     137965      115        7922                0                  4   \n",
       "\n",
       "   user_answer  answered_correctly  prior_question_elapsed_time  \\\n",
       "0            3                   1                          nan   \n",
       "1            2                   1                  37000.00000   \n",
       "2            0                   1                  55000.00000   \n",
       "3            0                   1                  19000.00000   \n",
       "4            1                   1                  11000.00000   \n",
       "\n",
       "   prior_question_had_explanation    days   hours  minutes  prior_minutes  \\\n",
       "0                            <NA> 0.00000 0.00000  0.00000            nan   \n",
       "1                           False 0.00066 0.01582  0.94905        0.61667   \n",
       "2                           False 0.00137 0.03288  1.97272        0.91667   \n",
       "3                           False 0.00152 0.03644  2.18612        0.31667   \n",
       "4                           False 0.00160 0.03832  2.29942        0.18333   \n",
       "\n",
       "   prior_seconds  intro_section  \n",
       "0            nan           True  \n",
       "1       37.00000          False  \n",
       "2       55.00000           True  \n",
       "3       19.00000          False  \n",
       "4       11.00000          False  "
      ],
      "text/html": "<div>\n<style scoped>\n    .dataframe tbody tr th:only-of-type {\n        vertical-align: middle;\n    }\n\n    .dataframe tbody tr th {\n        vertical-align: top;\n    }\n\n    .dataframe thead th {\n        text-align: right;\n    }\n</style>\n<table border=\"1\" class=\"dataframe\">\n  <thead>\n    <tr style=\"text-align: right;\">\n      <th></th>\n      <th>row_id</th>\n      <th>timestamp</th>\n      <th>user_id</th>\n      <th>content_id</th>\n      <th>content_type_id</th>\n      <th>task_container_id</th>\n      <th>user_answer</th>\n      <th>answered_correctly</th>\n      <th>prior_question_elapsed_time</th>\n      <th>prior_question_had_explanation</th>\n      <th>days</th>\n      <th>hours</th>\n      <th>minutes</th>\n      <th>prior_minutes</th>\n      <th>prior_seconds</th>\n      <th>intro_section</th>\n    </tr>\n  </thead>\n  <tbody>\n    <tr>\n      <th>0</th>\n      <td>0</td>\n      <td>0</td>\n      <td>115</td>\n      <td>5692</td>\n      <td>0</td>\n      <td>1</td>\n      <td>3</td>\n      <td>1</td>\n      <td>nan</td>\n      <td>&lt;NA&gt;</td>\n      <td>0.00000</td>\n      <td>0.00000</td>\n      <td>0.00000</td>\n      <td>nan</td>\n      <td>nan</td>\n      <td>True</td>\n    </tr>\n    <tr>\n      <th>1</th>\n      <td>1</td>\n      <td>56943</td>\n      <td>115</td>\n      <td>5716</td>\n      <td>0</td>\n      <td>2</td>\n      <td>2</td>\n      <td>1</td>\n      <td>37000.00000</td>\n      <td>False</td>\n      <td>0.00066</td>\n      <td>0.01582</td>\n      <td>0.94905</td>\n      <td>0.61667</td>\n      <td>37.00000</td>\n      <td>False</td>\n    </tr>\n    <tr>\n      <th>2</th>\n      <td>2</td>\n      <td>118363</td>\n      <td>115</td>\n      <td>128</td>\n      <td>0</td>\n      <td>0</td>\n      <td>0</td>\n      <td>1</td>\n      <td>55000.00000</td>\n      <td>False</td>\n      <td>0.00137</td>\n      <td>0.03288</td>\n      <td>1.97272</td>\n      <td>0.91667</td>\n      <td>55.00000</td>\n      <td>True</td>\n    </tr>\n    <tr>\n      <th>3</th>\n      <td>3</td>\n      <td>131167</td>\n      <td>115</td>\n      <td>7860</td>\n      <td>0</td>\n      <td>3</td>\n      <td>0</td>\n      <td>1</td>\n      <td>19000.00000</td>\n      <td>False</td>\n      <td>0.00152</td>\n      <td>0.03644</td>\n      <td>2.18612</td>\n      <td>0.31667</td>\n      <td>19.00000</td>\n      <td>False</td>\n    </tr>\n    <tr>\n      <th>4</th>\n      <td>4</td>\n      <td>137965</td>\n      <td>115</td>\n      <td>7922</td>\n      <td>0</td>\n      <td>4</td>\n      <td>1</td>\n      <td>1</td>\n      <td>11000.00000</td>\n      <td>False</td>\n      <td>0.00160</td>\n      <td>0.03832</td>\n      <td>2.29942</td>\n      <td>0.18333</td>\n      <td>11.00000</td>\n      <td>False</td>\n    </tr>\n  </tbody>\n</table>\n</div>"
     },
     "metadata": {},
     "execution_count": 31
    }
   ],
   "source": [
    "train_df['intro_section'] = np.where(train_df.task_container_id.isin(starter_ids), True, False)\n",
    "train_df.head()"
   ]
  },
  {
   "source": [
    "##### 3. The actions after the lectures should be tagged with something."
   ],
   "cell_type": "markdown",
   "metadata": {}
  },
  {
   "cell_type": "code",
   "execution_count": 32,
   "metadata": {},
   "outputs": [
    {
     "output_type": "execute_result",
     "data": {
      "text/plain": [
       "Empty DataFrame\n",
       "Columns: [row_id, timestamp, user_id, content_id, content_type_id, task_container_id, user_answer, answered_correctly, prior_question_elapsed_time, prior_question_had_explanation, days, hours, minutes, prior_minutes, prior_seconds, intro_section]\n",
       "Index: []"
      ],
      "text/html": "<div>\n<style scoped>\n    .dataframe tbody tr th:only-of-type {\n        vertical-align: middle;\n    }\n\n    .dataframe tbody tr th {\n        vertical-align: top;\n    }\n\n    .dataframe thead th {\n        text-align: right;\n    }\n</style>\n<table border=\"1\" class=\"dataframe\">\n  <thead>\n    <tr style=\"text-align: right;\">\n      <th></th>\n      <th>row_id</th>\n      <th>timestamp</th>\n      <th>user_id</th>\n      <th>content_id</th>\n      <th>content_type_id</th>\n      <th>task_container_id</th>\n      <th>user_answer</th>\n      <th>answered_correctly</th>\n      <th>prior_question_elapsed_time</th>\n      <th>prior_question_had_explanation</th>\n      <th>days</th>\n      <th>hours</th>\n      <th>minutes</th>\n      <th>prior_minutes</th>\n      <th>prior_seconds</th>\n      <th>intro_section</th>\n    </tr>\n  </thead>\n  <tbody>\n  </tbody>\n</table>\n</div>"
     },
     "metadata": {},
     "execution_count": 32
    }
   ],
   "source": [
    "train_df[(train_df['user_id']==student_id) & (train_df['row_id'] >= 54177)][:100]"
   ]
  },
  {
   "cell_type": "code",
   "execution_count": 33,
   "metadata": {},
   "outputs": [],
   "source": [
    "# Things to do here with the issue with the lecture things being more positive towards answering\n",
    "# we have to combine the question and lectures to do something like this\n",
    "# 1. There rows which come after the lecture should be values based on the tag or the type of question\n",
    "# example: if the user is having the lecture on concept and the question is based on some other type then the value given will not be correct so we have to come up with some thing brillent to check this.\n",
    "# 2. Time is a great factor to look out for, the time the lecture is seen and the time at which it is answer will be depentent"
   ]
  },
  {
   "cell_type": "code",
   "execution_count": 34,
   "metadata": {},
   "outputs": [],
   "source": [
    "# First we will check what all question and lecture relate"
   ]
  },
  {
   "cell_type": "code",
   "execution_count": 35,
   "metadata": {},
   "outputs": [
    {
     "output_type": "execute_result",
     "data": {
      "text/plain": [
       "array([181, 151,  27])"
      ]
     },
     "metadata": {},
     "execution_count": 35
    }
   ],
   "source": [
    "lectures_df[lectures_df.type_of==\"starter\"].tag.unique()"
   ]
  },
  {
   "cell_type": "code",
   "execution_count": 36,
   "metadata": {},
   "outputs": [
    {
     "output_type": "execute_result",
     "data": {
      "text/plain": [
       "       question_id  bundle_id  correct_answer  part    tags\n",
       "6484          6484       6481               1     6      27\n",
       "6488          6488       6485               3     6  27 162\n",
       "6492          6492       6489               3     6      27\n",
       "6496          6496       6493               0     6      27\n",
       "6498          6498       6497               3     6      27\n",
       "...            ...        ...             ...   ...     ...\n",
       "11182        11182      11179               3     6      27\n",
       "11616        11616      11615               0     6      27\n",
       "11621        11621      11619               2     6      27\n",
       "11626        11626      11623               1     6      27\n",
       "11630        11630      11627               1     6      27\n",
       "\n",
       "[302 rows x 5 columns]"
      ],
      "text/html": "<div>\n<style scoped>\n    .dataframe tbody tr th:only-of-type {\n        vertical-align: middle;\n    }\n\n    .dataframe tbody tr th {\n        vertical-align: top;\n    }\n\n    .dataframe thead th {\n        text-align: right;\n    }\n</style>\n<table border=\"1\" class=\"dataframe\">\n  <thead>\n    <tr style=\"text-align: right;\">\n      <th></th>\n      <th>question_id</th>\n      <th>bundle_id</th>\n      <th>correct_answer</th>\n      <th>part</th>\n      <th>tags</th>\n    </tr>\n  </thead>\n  <tbody>\n    <tr>\n      <th>6484</th>\n      <td>6484</td>\n      <td>6481</td>\n      <td>1</td>\n      <td>6</td>\n      <td>27</td>\n    </tr>\n    <tr>\n      <th>6488</th>\n      <td>6488</td>\n      <td>6485</td>\n      <td>3</td>\n      <td>6</td>\n      <td>27 162</td>\n    </tr>\n    <tr>\n      <th>6492</th>\n      <td>6492</td>\n      <td>6489</td>\n      <td>3</td>\n      <td>6</td>\n      <td>27</td>\n    </tr>\n    <tr>\n      <th>6496</th>\n      <td>6496</td>\n      <td>6493</td>\n      <td>0</td>\n      <td>6</td>\n      <td>27</td>\n    </tr>\n    <tr>\n      <th>6498</th>\n      <td>6498</td>\n      <td>6497</td>\n      <td>3</td>\n      <td>6</td>\n      <td>27</td>\n    </tr>\n    <tr>\n      <th>...</th>\n      <td>...</td>\n      <td>...</td>\n      <td>...</td>\n      <td>...</td>\n      <td>...</td>\n    </tr>\n    <tr>\n      <th>11182</th>\n      <td>11182</td>\n      <td>11179</td>\n      <td>3</td>\n      <td>6</td>\n      <td>27</td>\n    </tr>\n    <tr>\n      <th>11616</th>\n      <td>11616</td>\n      <td>11615</td>\n      <td>0</td>\n      <td>6</td>\n      <td>27</td>\n    </tr>\n    <tr>\n      <th>11621</th>\n      <td>11621</td>\n      <td>11619</td>\n      <td>2</td>\n      <td>6</td>\n      <td>27</td>\n    </tr>\n    <tr>\n      <th>11626</th>\n      <td>11626</td>\n      <td>11623</td>\n      <td>1</td>\n      <td>6</td>\n      <td>27</td>\n    </tr>\n    <tr>\n      <th>11630</th>\n      <td>11630</td>\n      <td>11627</td>\n      <td>1</td>\n      <td>6</td>\n      <td>27</td>\n    </tr>\n  </tbody>\n</table>\n<p>302 rows × 5 columns</p>\n</div>"
     },
     "metadata": {},
     "execution_count": 36
    }
   ],
   "source": [
    "questions_df[questions_df.tags.str.contains(r\"^27\", na=False)]"
   ]
  },
  {
   "cell_type": "code",
   "execution_count": 37,
   "metadata": {},
   "outputs": [
    {
     "output_type": "execute_result",
     "data": {
      "text/plain": [
       "       question_id  bundle_id  correct_answer  part            tags\n",
       "0                0          0               0     1   51 131 162 38\n",
       "1                1          1               1     1       131 36 81\n",
       "2                2          2               0     1  131 101 162 92\n",
       "3                3          3               0     1  131 149 162 29\n",
       "4                4          4               3     1    131 5 162 38\n",
       "...            ...        ...             ...   ...             ...\n",
       "13518        13518      13518               3     5              14\n",
       "13519        13519      13519               3     5               8\n",
       "13520        13520      13520               2     5              73\n",
       "13521        13521      13521               0     5             125\n",
       "13522        13522      13522               3     5              55\n",
       "\n",
       "[13523 rows x 5 columns]"
      ],
      "text/html": "<div>\n<style scoped>\n    .dataframe tbody tr th:only-of-type {\n        vertical-align: middle;\n    }\n\n    .dataframe tbody tr th {\n        vertical-align: top;\n    }\n\n    .dataframe thead th {\n        text-align: right;\n    }\n</style>\n<table border=\"1\" class=\"dataframe\">\n  <thead>\n    <tr style=\"text-align: right;\">\n      <th></th>\n      <th>question_id</th>\n      <th>bundle_id</th>\n      <th>correct_answer</th>\n      <th>part</th>\n      <th>tags</th>\n    </tr>\n  </thead>\n  <tbody>\n    <tr>\n      <th>0</th>\n      <td>0</td>\n      <td>0</td>\n      <td>0</td>\n      <td>1</td>\n      <td>51 131 162 38</td>\n    </tr>\n    <tr>\n      <th>1</th>\n      <td>1</td>\n      <td>1</td>\n      <td>1</td>\n      <td>1</td>\n      <td>131 36 81</td>\n    </tr>\n    <tr>\n      <th>2</th>\n      <td>2</td>\n      <td>2</td>\n      <td>0</td>\n      <td>1</td>\n      <td>131 101 162 92</td>\n    </tr>\n    <tr>\n      <th>3</th>\n      <td>3</td>\n      <td>3</td>\n      <td>0</td>\n      <td>1</td>\n      <td>131 149 162 29</td>\n    </tr>\n    <tr>\n      <th>4</th>\n      <td>4</td>\n      <td>4</td>\n      <td>3</td>\n      <td>1</td>\n      <td>131 5 162 38</td>\n    </tr>\n    <tr>\n      <th>...</th>\n      <td>...</td>\n      <td>...</td>\n      <td>...</td>\n      <td>...</td>\n      <td>...</td>\n    </tr>\n    <tr>\n      <th>13518</th>\n      <td>13518</td>\n      <td>13518</td>\n      <td>3</td>\n      <td>5</td>\n      <td>14</td>\n    </tr>\n    <tr>\n      <th>13519</th>\n      <td>13519</td>\n      <td>13519</td>\n      <td>3</td>\n      <td>5</td>\n      <td>8</td>\n    </tr>\n    <tr>\n      <th>13520</th>\n      <td>13520</td>\n      <td>13520</td>\n      <td>2</td>\n      <td>5</td>\n      <td>73</td>\n    </tr>\n    <tr>\n      <th>13521</th>\n      <td>13521</td>\n      <td>13521</td>\n      <td>0</td>\n      <td>5</td>\n      <td>125</td>\n    </tr>\n    <tr>\n      <th>13522</th>\n      <td>13522</td>\n      <td>13522</td>\n      <td>3</td>\n      <td>5</td>\n      <td>55</td>\n    </tr>\n  </tbody>\n</table>\n<p>13523 rows × 5 columns</p>\n</div>"
     },
     "metadata": {},
     "execution_count": 37
    }
   ],
   "source": [
    "questions_df"
   ]
  },
  {
   "cell_type": "code",
   "execution_count": 38,
   "metadata": {},
   "outputs": [
    {
     "output_type": "execute_result",
     "data": {
      "text/plain": [
       "     lecture_id  tag  part           type_of\n",
       "0            89  159     5           concept\n",
       "1           100   70     1           concept\n",
       "2           185   45     6           concept\n",
       "3           192   79     5  solving question\n",
       "4           317  156     5  solving question\n",
       "..          ...  ...   ...               ...\n",
       "413       32535    8     5  solving question\n",
       "414       32570  113     3  solving question\n",
       "415       32604   24     6           concept\n",
       "416       32625  142     2           concept\n",
       "417       32736   82     3           concept\n",
       "\n",
       "[418 rows x 4 columns]"
      ],
      "text/html": "<div>\n<style scoped>\n    .dataframe tbody tr th:only-of-type {\n        vertical-align: middle;\n    }\n\n    .dataframe tbody tr th {\n        vertical-align: top;\n    }\n\n    .dataframe thead th {\n        text-align: right;\n    }\n</style>\n<table border=\"1\" class=\"dataframe\">\n  <thead>\n    <tr style=\"text-align: right;\">\n      <th></th>\n      <th>lecture_id</th>\n      <th>tag</th>\n      <th>part</th>\n      <th>type_of</th>\n    </tr>\n  </thead>\n  <tbody>\n    <tr>\n      <th>0</th>\n      <td>89</td>\n      <td>159</td>\n      <td>5</td>\n      <td>concept</td>\n    </tr>\n    <tr>\n      <th>1</th>\n      <td>100</td>\n      <td>70</td>\n      <td>1</td>\n      <td>concept</td>\n    </tr>\n    <tr>\n      <th>2</th>\n      <td>185</td>\n      <td>45</td>\n      <td>6</td>\n      <td>concept</td>\n    </tr>\n    <tr>\n      <th>3</th>\n      <td>192</td>\n      <td>79</td>\n      <td>5</td>\n      <td>solving question</td>\n    </tr>\n    <tr>\n      <th>4</th>\n      <td>317</td>\n      <td>156</td>\n      <td>5</td>\n      <td>solving question</td>\n    </tr>\n    <tr>\n      <th>...</th>\n      <td>...</td>\n      <td>...</td>\n      <td>...</td>\n      <td>...</td>\n    </tr>\n    <tr>\n      <th>413</th>\n      <td>32535</td>\n      <td>8</td>\n      <td>5</td>\n      <td>solving question</td>\n    </tr>\n    <tr>\n      <th>414</th>\n      <td>32570</td>\n      <td>113</td>\n      <td>3</td>\n      <td>solving question</td>\n    </tr>\n    <tr>\n      <th>415</th>\n      <td>32604</td>\n      <td>24</td>\n      <td>6</td>\n      <td>concept</td>\n    </tr>\n    <tr>\n      <th>416</th>\n      <td>32625</td>\n      <td>142</td>\n      <td>2</td>\n      <td>concept</td>\n    </tr>\n    <tr>\n      <th>417</th>\n      <td>32736</td>\n      <td>82</td>\n      <td>3</td>\n      <td>concept</td>\n    </tr>\n  </tbody>\n</table>\n<p>418 rows × 4 columns</p>\n</div>"
     },
     "metadata": {},
     "execution_count": 38
    }
   ],
   "source": [
    "lectures_df"
   ]
  },
  {
   "cell_type": "code",
   "execution_count": 39,
   "metadata": {},
   "outputs": [],
   "source": [
    "feature_df = train_df.join(questions_df.set_index(\"question_id\"), 'content_id', how='left')"
   ]
  },
  {
   "cell_type": "code",
   "execution_count": 40,
   "metadata": {},
   "outputs": [],
   "source": [
    "lecture_dict = lectures_df.set_index(\"lecture_id\").to_dict(orient=\"index\")\n",
    "lecture_comprehensive_type_of_dict = lectures_df.set_index('type_of').groupby(level=0).apply(lambda row: row.to_dict('list')).to_dict()\n",
    "lecture_comprehensive_part_dict = lectures_df.set_index('part').groupby(level=0).apply(lambda row: row.to_dict('list')).to_dict()"
   ]
  },
  {
   "cell_type": "code",
   "execution_count": 41,
   "metadata": {},
   "outputs": [],
   "source": [
    "question_dict = questions_df.set_index(\"question_id\").to_dict(orient=\"index\")\n"
   ]
  },
  {
   "cell_type": "code",
   "execution_count": 42,
   "metadata": {},
   "outputs": [],
   "source": [
    "for key in lecture_comprehensive_part_dict:\n",
    "    lecture_comprehensive_part_dict[key]['tag'] = list(set(lecture_comprehensive_part_dict[key]['tag']))\n",
    "    lecture_comprehensive_part_dict[key]['type_of'] = list(set(lecture_comprehensive_part_dict[key]['type_of']))\n",
    "\n",
    "for key in lecture_comprehensive_type_of_dict:\n",
    "    lecture_comprehensive_type_of_dict[key]['tag'] = list(set(lecture_comprehensive_type_of_dict[key]['tag']))\n",
    "    lecture_comprehensive_type_of_dict[key]['part'] = list(set(lecture_comprehensive_type_of_dict[key]['part']))"
   ]
  },
  {
   "cell_type": "code",
   "execution_count": 43,
   "metadata": {},
   "outputs": [
    {
     "output_type": "stream",
     "name": "stdout",
     "text": [
      "['concept', 'solving question']\n['concept', 'intention', 'solving question']\n['concept', 'solving question']\n['concept', 'solving question']\n['concept', 'starter', 'solving question']\n['concept', 'starter', 'solving question']\n['concept', 'solving question']\n"
     ]
    }
   ],
   "source": [
    "for key in lecture_comprehensive_part_dict:\n",
    "    print(lecture_comprehensive_part_dict[key]['type_of'])"
   ]
  },
  {
   "cell_type": "code",
   "execution_count": 44,
   "metadata": {},
   "outputs": [],
   "source": [
    "questions_dict = questions_df.set_index('question_id').to_dict(orient='index')"
   ]
  },
  {
   "cell_type": "code",
   "execution_count": 45,
   "metadata": {},
   "outputs": [
    {
     "output_type": "execute_result",
     "data": {
      "text/plain": [
       "{'bundle_id': 13247, 'correct_answer': 1, 'part': 3, 'tags': '136 81 92'}"
      ]
     },
     "metadata": {},
     "execution_count": 45
    }
   ],
   "source": [
    "question_dict[13249]"
   ]
  },
  {
   "cell_type": "code",
   "execution_count": 46,
   "metadata": {},
   "outputs": [
    {
     "output_type": "execute_result",
     "data": {
      "text/plain": [
       "False"
      ]
     },
     "metadata": {},
     "execution_count": 46
    }
   ],
   "source": [
    "question_dict[13249] in lecture_comprehensive_type_of_dict['starter']['part']"
   ]
  },
  {
   "cell_type": "code",
   "execution_count": 47,
   "metadata": {},
   "outputs": [],
   "source": [
    "def apply_filter_based_on_previous_row(func):\n",
    "    prev_row = {\n",
    "        \"has_seen_lecture\": False,\n",
    "        \"previous_lecture_hours\": 0,\n",
    "        \"previous_lecture\": {},\n",
    "        \"user_id\": \"\"\n",
    "    }\n",
    "    def wrapper(curr_row, **kwargs):\n",
    "        content_id = curr_row['content_id']\n",
    "        has_seen_same_tag_as_lecture = False\n",
    "        has_seen_same_part_as_lecture = False\n",
    "        has_part_common_with_type_of = False\n",
    "        has_tag_common_with_type_of = False\n",
    "        has_tag_common_with_part_dict = False\n",
    "        has_type_of_common_with_part_dict = False\n",
    "        if prev_row['user_id'] == curr_row['user_id']:\n",
    "            if curr_row['content_type_id'] != 0:\n",
    "                prev_row['has_seen_lecture'] = True\n",
    "                prev_row['previous_lecture_hours'] = curr_row['hours']\n",
    "                prev_row['previous_lecture'] = lecture_dict[content_id]\n",
    "            else:\n",
    "                has_seen_same_tag_as_lecture = (str(prev_row['previous_lecture'].get(\"tag\", \"\")) in str(question_dict[content_id]['tags']).split())\n",
    "                has_seen_same_part_as_lecture = (prev_row['previous_lecture'].get(\"part\") == question_dict[content_id]['part'])\n",
    "                prev_type_of = prev_row['previous_lecture'].get(\"type_of\")\n",
    "                prev_part = prev_row['previous_lecture'].get(\"part\")\n",
    "                has_part_common_with_type_of = question_dict[content_id]['part'] in  lecture_comprehensive_type_of_dict.get(prev_type_of, {}).get('part', [])\n",
    "                has_tag_common_with_type_of = bool(set(map(int, str(question_dict[content_id]['tags']).split())).intersection(lecture_comprehensive_type_of_dict.get(prev_type_of, {}).get('tag', [])))\n",
    "                has_tag_common_with_part_dict = bool(set(map(int, str(question_dict[content_id]['tags']).split())).intersection(lecture_comprehensive_part_dict.get(prev_part, {}).get('tag', [])))\n",
    "                has_type_of_common_with_part_dict = prev_type_of in lecture_comprehensive_part_dict[question_dict[content_id]['part']]['type_of']\n",
    "        else:\n",
    "            prev_row['user_id'] = curr_row['user_id']\n",
    "            if curr_row['content_type_id'] != 0:\n",
    "                prev_row['has_seen_lecture'] = True\n",
    "                prev_row['previous_lecture_hours'] = curr_row['hours']\n",
    "                prev_row['previous_lecture'] = lecture_dict[content_id]\n",
    "            else:\n",
    "                prev_row['has_seen_lecture'] = False\n",
    "                prev_row['previous_lecture_hours'] = 0\n",
    "                prev_row['previous_lecture'] = {}\n",
    "\n",
    "        timestamp_difference = curr_row['hours'] - prev_row['previous_lecture_hours']\n",
    "        retention = func(timestamp_difference)\n",
    "        return retention, prev_row['has_seen_lecture'], has_seen_same_tag_as_lecture, has_seen_same_part_as_lecture, has_part_common_with_type_of, has_tag_common_with_type_of, has_tag_common_with_part_dict, has_type_of_common_with_part_dict\n",
    "    return wrapper\n",
    "\n",
    "@apply_filter_based_on_previous_row\n",
    "def running_retention(timestamp_difference):\n",
    "    retention = 1.48 / ((1.25 * timestamp_difference) + 1.48)\n",
    "    return retention\n",
    "\n",
    "train_df[\"retention\"], train_df[\"has_seen_lecture_before\"], train_df[\"has_seen_same_tag_as_lecture\"], train_df[\"has_seen_same_part_as_lecture\"], train_df[\"has_part_common_with_type_of\"], train_df[\"has_tag_common_with_type_of\"], train_df[\"has_tag_common_with_part_dict\"], train_df[\"has_type_of_common_with_part_dict\"] = zip(*train_df.apply(running_retention, axis=1))"
   ]
  },
  {
   "cell_type": "code",
   "execution_count": 48,
   "metadata": {},
   "outputs": [
    {
     "output_type": "execute_result",
     "data": {
      "text/plain": [
       "     row_id    timestamp  user_id  content_id  content_type_id  \\\n",
       "770     770  15014038675    13134        4683                0   \n",
       "771     771  15014061350    13134        5719                0   \n",
       "772     772  15015426698    13134        5905                0   \n",
       "773     773  15016111296    13134       10002                0   \n",
       "774     774  15016762442    13134        8165                0   \n",
       "775     775  15016774763    13134        4521                0   \n",
       "776     776  15016796241    13134        8786                0   \n",
       "777     777  15016826052    13134        9047                0   \n",
       "778     778  15016850331    13134        6004                0   \n",
       "779     779  15016872315    13134        5255                0   \n",
       "780     780  15016897668    13134        9087                0   \n",
       "781     781  15016928715    13134        4259                0   \n",
       "782     782  15019770367    13134       29544                1   \n",
       "783     783  15019799314    13134         853                0   \n",
       "784     784  15019835957    13134         738                0   \n",
       "785     785  15019879972    13134         834                0   \n",
       "786     786  15019915331    13134        1047                0   \n",
       "787     787  15019950450    13134         381                0   \n",
       "788     788  15019967974    13134        3153                1   \n",
       "789     789  15019992221    13134         805                0   \n",
       "790     790  15020023978    13134        1315                0   \n",
       "791     791  15020058343    13134       28921                1   \n",
       "792     792  15020072738    13134        4109                0   \n",
       "793     793  15020085314    13134        4131                0   \n",
       "794     794  15020268294    13134       10578                0   \n",
       "795     795  15020297831    13134        7962                0   \n",
       "796     796  15020328668    13134       10633                0   \n",
       "797     797  15020358421    13134       10444                0   \n",
       "798     798  15020400418    13134       10579                0   \n",
       "799     799  15020443982    13134        7892                0   \n",
       "\n",
       "     task_container_id  user_answer  answered_correctly  \\\n",
       "770                139            1                   1   \n",
       "771                140            2                   1   \n",
       "772                141            0                   1   \n",
       "773                142            1                   1   \n",
       "774                143            1                   1   \n",
       "775                144            0                   1   \n",
       "776                145            3                   1   \n",
       "777                146            3                   1   \n",
       "778                147            0                   1   \n",
       "779                148            0                   1   \n",
       "780                149            3                   1   \n",
       "781                150            1                   1   \n",
       "782                120           -1                  -1   \n",
       "783                151            0                   1   \n",
       "784                152            0                   0   \n",
       "785                153            0                   0   \n",
       "786                154            3                   0   \n",
       "787                155            1                   1   \n",
       "788                156           -1                  -1   \n",
       "789                157            1                   1   \n",
       "790                158            3                   1   \n",
       "791                159           -1                  -1   \n",
       "792                160            3                   1   \n",
       "793                161            3                   1   \n",
       "794                162            0                   1   \n",
       "795                163            3                   1   \n",
       "796                164            1                   1   \n",
       "797                165            0                   1   \n",
       "798                166            2                   1   \n",
       "799                167            2                   1   \n",
       "\n",
       "     prior_question_elapsed_time  prior_question_had_explanation  ...  \\\n",
       "770                  19000.00000                            True  ...   \n",
       "771                   5000.00000                            True  ...   \n",
       "772                   9000.00000                            True  ...   \n",
       "773                  16000.00000                            True  ...   \n",
       "774                  22000.00000                            True  ...   \n",
       "775                  15000.00000                            True  ...   \n",
       "776                   4000.00000                            True  ...   \n",
       "777                  13000.00000                            True  ...   \n",
       "778                  18000.00000                            True  ...   \n",
       "779                  12000.00000                            True  ...   \n",
       "780                  14000.00000                            True  ...   \n",
       "781                  15000.00000                            True  ...   \n",
       "782                          nan                           False  ...   \n",
       "783                  19000.00000                            True  ...   \n",
       "784                  18000.00000                            True  ...   \n",
       "785                  17000.00000                            True  ...   \n",
       "786                  17000.00000                            True  ...   \n",
       "787                  15000.00000                            True  ...   \n",
       "788                          nan                           False  ...   \n",
       "789                  19000.00000                            True  ...   \n",
       "790                  19000.00000                            True  ...   \n",
       "791                          nan                           False  ...   \n",
       "792                  17000.00000                            True  ...   \n",
       "793                   8000.00000                            True  ...   \n",
       "794                   4000.00000                            True  ...   \n",
       "795                  16000.00000                            True  ...   \n",
       "796                  22000.00000                            True  ...   \n",
       "797                  23000.00000                            True  ...   \n",
       "798                  21000.00000                            True  ...   \n",
       "799                  24000.00000                            True  ...   \n",
       "\n",
       "     prior_seconds  intro_section  retention  has_seen_lecture_before  \\\n",
       "770       19.00000          False    0.00206                     True   \n",
       "771        5.00000          False    0.00206                     True   \n",
       "772        9.00000          False    0.00206                     True   \n",
       "773       16.00000          False    0.00206                     True   \n",
       "774       22.00000          False    0.00206                     True   \n",
       "775       15.00000          False    0.00206                     True   \n",
       "776        4.00000          False    0.00206                     True   \n",
       "777       13.00000          False    0.00206                     True   \n",
       "778       18.00000          False    0.00206                     True   \n",
       "779       12.00000          False    0.00206                     True   \n",
       "780       14.00000          False    0.00206                     True   \n",
       "781       15.00000          False    0.00206                     True   \n",
       "782            nan          False    1.00000                     True   \n",
       "783       19.00000          False    0.99325                     True   \n",
       "784       18.00000          False    0.98485                     True   \n",
       "785       17.00000          False    0.97493                     True   \n",
       "786       17.00000          False    0.96711                     True   \n",
       "787       15.00000          False    0.95946                     True   \n",
       "788            nan          False    1.00000                     True   \n",
       "789       19.00000          False    0.99434                     True   \n",
       "790       19.00000          False    0.98703                     True   \n",
       "791            nan          False    1.00000                     True   \n",
       "792       17.00000          False    0.99663                     True   \n",
       "793        8.00000          False    0.99371                     True   \n",
       "794        4.00000          False    0.95306                     True   \n",
       "795       16.00000          False    0.94680                     True   \n",
       "796       22.00000          False    0.94036                     True   \n",
       "797       23.00000          False    0.93423                     True   \n",
       "798       21.00000          False    0.92571                     True   \n",
       "799       24.00000          False    0.91703                     True   \n",
       "\n",
       "     has_seen_same_tag_as_lecture  has_seen_same_part_as_lecture  \\\n",
       "770                         False                          False   \n",
       "771                         False                          False   \n",
       "772                         False                          False   \n",
       "773                         False                          False   \n",
       "774                         False                          False   \n",
       "775                         False                          False   \n",
       "776                         False                          False   \n",
       "777                         False                          False   \n",
       "778                         False                          False   \n",
       "779                         False                          False   \n",
       "780                         False                          False   \n",
       "781                         False                          False   \n",
       "782                         False                          False   \n",
       "783                          True                           True   \n",
       "784                          True                           True   \n",
       "785                         False                           True   \n",
       "786                         False                           True   \n",
       "787                         False                           True   \n",
       "788                         False                          False   \n",
       "789                          True                           True   \n",
       "790                          True                           True   \n",
       "791                         False                          False   \n",
       "792                          True                           True   \n",
       "793                          True                           True   \n",
       "794                         False                          False   \n",
       "795                         False                          False   \n",
       "796                         False                          False   \n",
       "797                         False                          False   \n",
       "798                         False                          False   \n",
       "799                         False                          False   \n",
       "\n",
       "     has_part_common_with_type_of  has_tag_common_with_type_of  \\\n",
       "770                          True                         True   \n",
       "771                          True                         True   \n",
       "772                          True                         True   \n",
       "773                          True                         True   \n",
       "774                          True                         True   \n",
       "775                          True                         True   \n",
       "776                          True                         True   \n",
       "777                          True                         True   \n",
       "778                          True                         True   \n",
       "779                          True                         True   \n",
       "780                          True                         True   \n",
       "781                          True                         True   \n",
       "782                         False                        False   \n",
       "783                          True                         True   \n",
       "784                          True                         True   \n",
       "785                          True                         True   \n",
       "786                          True                         True   \n",
       "787                          True                         True   \n",
       "788                         False                        False   \n",
       "789                          True                         True   \n",
       "790                          True                         True   \n",
       "791                         False                        False   \n",
       "792                          True                         True   \n",
       "793                          True                         True   \n",
       "794                          True                         True   \n",
       "795                          True                         True   \n",
       "796                          True                         True   \n",
       "797                          True                         True   \n",
       "798                          True                         True   \n",
       "799                          True                         True   \n",
       "\n",
       "     has_tag_common_with_part_dict  has_type_of_common_with_part_dict  \n",
       "770                          False                               True  \n",
       "771                          False                               True  \n",
       "772                          False                               True  \n",
       "773                          False                               True  \n",
       "774                          False                               True  \n",
       "775                          False                               True  \n",
       "776                          False                               True  \n",
       "777                          False                               True  \n",
       "778                          False                               True  \n",
       "779                          False                               True  \n",
       "780                          False                               True  \n",
       "781                          False                               True  \n",
       "782                          False                              False  \n",
       "783                           True                               True  \n",
       "784                           True                               True  \n",
       "785                           True                               True  \n",
       "786                           True                               True  \n",
       "787                           True                               True  \n",
       "788                          False                              False  \n",
       "789                           True                               True  \n",
       "790                           True                               True  \n",
       "791                          False                              False  \n",
       "792                           True                               True  \n",
       "793                           True                               True  \n",
       "794                          False                               True  \n",
       "795                          False                               True  \n",
       "796                          False                               True  \n",
       "797                          False                               True  \n",
       "798                          False                               True  \n",
       "799                          False                               True  \n",
       "\n",
       "[30 rows x 24 columns]"
      ],
      "text/html": "<div>\n<style scoped>\n    .dataframe tbody tr th:only-of-type {\n        vertical-align: middle;\n    }\n\n    .dataframe tbody tr th {\n        vertical-align: top;\n    }\n\n    .dataframe thead th {\n        text-align: right;\n    }\n</style>\n<table border=\"1\" class=\"dataframe\">\n  <thead>\n    <tr style=\"text-align: right;\">\n      <th></th>\n      <th>row_id</th>\n      <th>timestamp</th>\n      <th>user_id</th>\n      <th>content_id</th>\n      <th>content_type_id</th>\n      <th>task_container_id</th>\n      <th>user_answer</th>\n      <th>answered_correctly</th>\n      <th>prior_question_elapsed_time</th>\n      <th>prior_question_had_explanation</th>\n      <th>...</th>\n      <th>prior_seconds</th>\n      <th>intro_section</th>\n      <th>retention</th>\n      <th>has_seen_lecture_before</th>\n      <th>has_seen_same_tag_as_lecture</th>\n      <th>has_seen_same_part_as_lecture</th>\n      <th>has_part_common_with_type_of</th>\n      <th>has_tag_common_with_type_of</th>\n      <th>has_tag_common_with_part_dict</th>\n      <th>has_type_of_common_with_part_dict</th>\n    </tr>\n  </thead>\n  <tbody>\n    <tr>\n      <th>770</th>\n      <td>770</td>\n      <td>15014038675</td>\n      <td>13134</td>\n      <td>4683</td>\n      <td>0</td>\n      <td>139</td>\n      <td>1</td>\n      <td>1</td>\n      <td>19000.00000</td>\n      <td>True</td>\n      <td>...</td>\n      <td>19.00000</td>\n      <td>False</td>\n      <td>0.00206</td>\n      <td>True</td>\n      <td>False</td>\n      <td>False</td>\n      <td>True</td>\n      <td>True</td>\n      <td>False</td>\n      <td>True</td>\n    </tr>\n    <tr>\n      <th>771</th>\n      <td>771</td>\n      <td>15014061350</td>\n      <td>13134</td>\n      <td>5719</td>\n      <td>0</td>\n      <td>140</td>\n      <td>2</td>\n      <td>1</td>\n      <td>5000.00000</td>\n      <td>True</td>\n      <td>...</td>\n      <td>5.00000</td>\n      <td>False</td>\n      <td>0.00206</td>\n      <td>True</td>\n      <td>False</td>\n      <td>False</td>\n      <td>True</td>\n      <td>True</td>\n      <td>False</td>\n      <td>True</td>\n    </tr>\n    <tr>\n      <th>772</th>\n      <td>772</td>\n      <td>15015426698</td>\n      <td>13134</td>\n      <td>5905</td>\n      <td>0</td>\n      <td>141</td>\n      <td>0</td>\n      <td>1</td>\n      <td>9000.00000</td>\n      <td>True</td>\n      <td>...</td>\n      <td>9.00000</td>\n      <td>False</td>\n      <td>0.00206</td>\n      <td>True</td>\n      <td>False</td>\n      <td>False</td>\n      <td>True</td>\n      <td>True</td>\n      <td>False</td>\n      <td>True</td>\n    </tr>\n    <tr>\n      <th>773</th>\n      <td>773</td>\n      <td>15016111296</td>\n      <td>13134</td>\n      <td>10002</td>\n      <td>0</td>\n      <td>142</td>\n      <td>1</td>\n      <td>1</td>\n      <td>16000.00000</td>\n      <td>True</td>\n      <td>...</td>\n      <td>16.00000</td>\n      <td>False</td>\n      <td>0.00206</td>\n      <td>True</td>\n      <td>False</td>\n      <td>False</td>\n      <td>True</td>\n      <td>True</td>\n      <td>False</td>\n      <td>True</td>\n    </tr>\n    <tr>\n      <th>774</th>\n      <td>774</td>\n      <td>15016762442</td>\n      <td>13134</td>\n      <td>8165</td>\n      <td>0</td>\n      <td>143</td>\n      <td>1</td>\n      <td>1</td>\n      <td>22000.00000</td>\n      <td>True</td>\n      <td>...</td>\n      <td>22.00000</td>\n      <td>False</td>\n      <td>0.00206</td>\n      <td>True</td>\n      <td>False</td>\n      <td>False</td>\n      <td>True</td>\n      <td>True</td>\n      <td>False</td>\n      <td>True</td>\n    </tr>\n    <tr>\n      <th>775</th>\n      <td>775</td>\n      <td>15016774763</td>\n      <td>13134</td>\n      <td>4521</td>\n      <td>0</td>\n      <td>144</td>\n      <td>0</td>\n      <td>1</td>\n      <td>15000.00000</td>\n      <td>True</td>\n      <td>...</td>\n      <td>15.00000</td>\n      <td>False</td>\n      <td>0.00206</td>\n      <td>True</td>\n      <td>False</td>\n      <td>False</td>\n      <td>True</td>\n      <td>True</td>\n      <td>False</td>\n      <td>True</td>\n    </tr>\n    <tr>\n      <th>776</th>\n      <td>776</td>\n      <td>15016796241</td>\n      <td>13134</td>\n      <td>8786</td>\n      <td>0</td>\n      <td>145</td>\n      <td>3</td>\n      <td>1</td>\n      <td>4000.00000</td>\n      <td>True</td>\n      <td>...</td>\n      <td>4.00000</td>\n      <td>False</td>\n      <td>0.00206</td>\n      <td>True</td>\n      <td>False</td>\n      <td>False</td>\n      <td>True</td>\n      <td>True</td>\n      <td>False</td>\n      <td>True</td>\n    </tr>\n    <tr>\n      <th>777</th>\n      <td>777</td>\n      <td>15016826052</td>\n      <td>13134</td>\n      <td>9047</td>\n      <td>0</td>\n      <td>146</td>\n      <td>3</td>\n      <td>1</td>\n      <td>13000.00000</td>\n      <td>True</td>\n      <td>...</td>\n      <td>13.00000</td>\n      <td>False</td>\n      <td>0.00206</td>\n      <td>True</td>\n      <td>False</td>\n      <td>False</td>\n      <td>True</td>\n      <td>True</td>\n      <td>False</td>\n      <td>True</td>\n    </tr>\n    <tr>\n      <th>778</th>\n      <td>778</td>\n      <td>15016850331</td>\n      <td>13134</td>\n      <td>6004</td>\n      <td>0</td>\n      <td>147</td>\n      <td>0</td>\n      <td>1</td>\n      <td>18000.00000</td>\n      <td>True</td>\n      <td>...</td>\n      <td>18.00000</td>\n      <td>False</td>\n      <td>0.00206</td>\n      <td>True</td>\n      <td>False</td>\n      <td>False</td>\n      <td>True</td>\n      <td>True</td>\n      <td>False</td>\n      <td>True</td>\n    </tr>\n    <tr>\n      <th>779</th>\n      <td>779</td>\n      <td>15016872315</td>\n      <td>13134</td>\n      <td>5255</td>\n      <td>0</td>\n      <td>148</td>\n      <td>0</td>\n      <td>1</td>\n      <td>12000.00000</td>\n      <td>True</td>\n      <td>...</td>\n      <td>12.00000</td>\n      <td>False</td>\n      <td>0.00206</td>\n      <td>True</td>\n      <td>False</td>\n      <td>False</td>\n      <td>True</td>\n      <td>True</td>\n      <td>False</td>\n      <td>True</td>\n    </tr>\n    <tr>\n      <th>780</th>\n      <td>780</td>\n      <td>15016897668</td>\n      <td>13134</td>\n      <td>9087</td>\n      <td>0</td>\n      <td>149</td>\n      <td>3</td>\n      <td>1</td>\n      <td>14000.00000</td>\n      <td>True</td>\n      <td>...</td>\n      <td>14.00000</td>\n      <td>False</td>\n      <td>0.00206</td>\n      <td>True</td>\n      <td>False</td>\n      <td>False</td>\n      <td>True</td>\n      <td>True</td>\n      <td>False</td>\n      <td>True</td>\n    </tr>\n    <tr>\n      <th>781</th>\n      <td>781</td>\n      <td>15016928715</td>\n      <td>13134</td>\n      <td>4259</td>\n      <td>0</td>\n      <td>150</td>\n      <td>1</td>\n      <td>1</td>\n      <td>15000.00000</td>\n      <td>True</td>\n      <td>...</td>\n      <td>15.00000</td>\n      <td>False</td>\n      <td>0.00206</td>\n      <td>True</td>\n      <td>False</td>\n      <td>False</td>\n      <td>True</td>\n      <td>True</td>\n      <td>False</td>\n      <td>True</td>\n    </tr>\n    <tr>\n      <th>782</th>\n      <td>782</td>\n      <td>15019770367</td>\n      <td>13134</td>\n      <td>29544</td>\n      <td>1</td>\n      <td>120</td>\n      <td>-1</td>\n      <td>-1</td>\n      <td>nan</td>\n      <td>False</td>\n      <td>...</td>\n      <td>nan</td>\n      <td>False</td>\n      <td>1.00000</td>\n      <td>True</td>\n      <td>False</td>\n      <td>False</td>\n      <td>False</td>\n      <td>False</td>\n      <td>False</td>\n      <td>False</td>\n    </tr>\n    <tr>\n      <th>783</th>\n      <td>783</td>\n      <td>15019799314</td>\n      <td>13134</td>\n      <td>853</td>\n      <td>0</td>\n      <td>151</td>\n      <td>0</td>\n      <td>1</td>\n      <td>19000.00000</td>\n      <td>True</td>\n      <td>...</td>\n      <td>19.00000</td>\n      <td>False</td>\n      <td>0.99325</td>\n      <td>True</td>\n      <td>True</td>\n      <td>True</td>\n      <td>True</td>\n      <td>True</td>\n      <td>True</td>\n      <td>True</td>\n    </tr>\n    <tr>\n      <th>784</th>\n      <td>784</td>\n      <td>15019835957</td>\n      <td>13134</td>\n      <td>738</td>\n      <td>0</td>\n      <td>152</td>\n      <td>0</td>\n      <td>0</td>\n      <td>18000.00000</td>\n      <td>True</td>\n      <td>...</td>\n      <td>18.00000</td>\n      <td>False</td>\n      <td>0.98485</td>\n      <td>True</td>\n      <td>True</td>\n      <td>True</td>\n      <td>True</td>\n      <td>True</td>\n      <td>True</td>\n      <td>True</td>\n    </tr>\n    <tr>\n      <th>785</th>\n      <td>785</td>\n      <td>15019879972</td>\n      <td>13134</td>\n      <td>834</td>\n      <td>0</td>\n      <td>153</td>\n      <td>0</td>\n      <td>0</td>\n      <td>17000.00000</td>\n      <td>True</td>\n      <td>...</td>\n      <td>17.00000</td>\n      <td>False</td>\n      <td>0.97493</td>\n      <td>True</td>\n      <td>False</td>\n      <td>True</td>\n      <td>True</td>\n      <td>True</td>\n      <td>True</td>\n      <td>True</td>\n    </tr>\n    <tr>\n      <th>786</th>\n      <td>786</td>\n      <td>15019915331</td>\n      <td>13134</td>\n      <td>1047</td>\n      <td>0</td>\n      <td>154</td>\n      <td>3</td>\n      <td>0</td>\n      <td>17000.00000</td>\n      <td>True</td>\n      <td>...</td>\n      <td>17.00000</td>\n      <td>False</td>\n      <td>0.96711</td>\n      <td>True</td>\n      <td>False</td>\n      <td>True</td>\n      <td>True</td>\n      <td>True</td>\n      <td>True</td>\n      <td>True</td>\n    </tr>\n    <tr>\n      <th>787</th>\n      <td>787</td>\n      <td>15019950450</td>\n      <td>13134</td>\n      <td>381</td>\n      <td>0</td>\n      <td>155</td>\n      <td>1</td>\n      <td>1</td>\n      <td>15000.00000</td>\n      <td>True</td>\n      <td>...</td>\n      <td>15.00000</td>\n      <td>False</td>\n      <td>0.95946</td>\n      <td>True</td>\n      <td>False</td>\n      <td>True</td>\n      <td>True</td>\n      <td>True</td>\n      <td>True</td>\n      <td>True</td>\n    </tr>\n    <tr>\n      <th>788</th>\n      <td>788</td>\n      <td>15019967974</td>\n      <td>13134</td>\n      <td>3153</td>\n      <td>1</td>\n      <td>156</td>\n      <td>-1</td>\n      <td>-1</td>\n      <td>nan</td>\n      <td>False</td>\n      <td>...</td>\n      <td>nan</td>\n      <td>False</td>\n      <td>1.00000</td>\n      <td>True</td>\n      <td>False</td>\n      <td>False</td>\n      <td>False</td>\n      <td>False</td>\n      <td>False</td>\n      <td>False</td>\n    </tr>\n    <tr>\n      <th>789</th>\n      <td>789</td>\n      <td>15019992221</td>\n      <td>13134</td>\n      <td>805</td>\n      <td>0</td>\n      <td>157</td>\n      <td>1</td>\n      <td>1</td>\n      <td>19000.00000</td>\n      <td>True</td>\n      <td>...</td>\n      <td>19.00000</td>\n      <td>False</td>\n      <td>0.99434</td>\n      <td>True</td>\n      <td>True</td>\n      <td>True</td>\n      <td>True</td>\n      <td>True</td>\n      <td>True</td>\n      <td>True</td>\n    </tr>\n    <tr>\n      <th>790</th>\n      <td>790</td>\n      <td>15020023978</td>\n      <td>13134</td>\n      <td>1315</td>\n      <td>0</td>\n      <td>158</td>\n      <td>3</td>\n      <td>1</td>\n      <td>19000.00000</td>\n      <td>True</td>\n      <td>...</td>\n      <td>19.00000</td>\n      <td>False</td>\n      <td>0.98703</td>\n      <td>True</td>\n      <td>True</td>\n      <td>True</td>\n      <td>True</td>\n      <td>True</td>\n      <td>True</td>\n      <td>True</td>\n    </tr>\n    <tr>\n      <th>791</th>\n      <td>791</td>\n      <td>15020058343</td>\n      <td>13134</td>\n      <td>28921</td>\n      <td>1</td>\n      <td>159</td>\n      <td>-1</td>\n      <td>-1</td>\n      <td>nan</td>\n      <td>False</td>\n      <td>...</td>\n      <td>nan</td>\n      <td>False</td>\n      <td>1.00000</td>\n      <td>True</td>\n      <td>False</td>\n      <td>False</td>\n      <td>False</td>\n      <td>False</td>\n      <td>False</td>\n      <td>False</td>\n    </tr>\n    <tr>\n      <th>792</th>\n      <td>792</td>\n      <td>15020072738</td>\n      <td>13134</td>\n      <td>4109</td>\n      <td>0</td>\n      <td>160</td>\n      <td>3</td>\n      <td>1</td>\n      <td>17000.00000</td>\n      <td>True</td>\n      <td>...</td>\n      <td>17.00000</td>\n      <td>False</td>\n      <td>0.99663</td>\n      <td>True</td>\n      <td>True</td>\n      <td>True</td>\n      <td>True</td>\n      <td>True</td>\n      <td>True</td>\n      <td>True</td>\n    </tr>\n    <tr>\n      <th>793</th>\n      <td>793</td>\n      <td>15020085314</td>\n      <td>13134</td>\n      <td>4131</td>\n      <td>0</td>\n      <td>161</td>\n      <td>3</td>\n      <td>1</td>\n      <td>8000.00000</td>\n      <td>True</td>\n      <td>...</td>\n      <td>8.00000</td>\n      <td>False</td>\n      <td>0.99371</td>\n      <td>True</td>\n      <td>True</td>\n      <td>True</td>\n      <td>True</td>\n      <td>True</td>\n      <td>True</td>\n      <td>True</td>\n    </tr>\n    <tr>\n      <th>794</th>\n      <td>794</td>\n      <td>15020268294</td>\n      <td>13134</td>\n      <td>10578</td>\n      <td>0</td>\n      <td>162</td>\n      <td>0</td>\n      <td>1</td>\n      <td>4000.00000</td>\n      <td>True</td>\n      <td>...</td>\n      <td>4.00000</td>\n      <td>False</td>\n      <td>0.95306</td>\n      <td>True</td>\n      <td>False</td>\n      <td>False</td>\n      <td>True</td>\n      <td>True</td>\n      <td>False</td>\n      <td>True</td>\n    </tr>\n    <tr>\n      <th>795</th>\n      <td>795</td>\n      <td>15020297831</td>\n      <td>13134</td>\n      <td>7962</td>\n      <td>0</td>\n      <td>163</td>\n      <td>3</td>\n      <td>1</td>\n      <td>16000.00000</td>\n      <td>True</td>\n      <td>...</td>\n      <td>16.00000</td>\n      <td>False</td>\n      <td>0.94680</td>\n      <td>True</td>\n      <td>False</td>\n      <td>False</td>\n      <td>True</td>\n      <td>True</td>\n      <td>False</td>\n      <td>True</td>\n    </tr>\n    <tr>\n      <th>796</th>\n      <td>796</td>\n      <td>15020328668</td>\n      <td>13134</td>\n      <td>10633</td>\n      <td>0</td>\n      <td>164</td>\n      <td>1</td>\n      <td>1</td>\n      <td>22000.00000</td>\n      <td>True</td>\n      <td>...</td>\n      <td>22.00000</td>\n      <td>False</td>\n      <td>0.94036</td>\n      <td>True</td>\n      <td>False</td>\n      <td>False</td>\n      <td>True</td>\n      <td>True</td>\n      <td>False</td>\n      <td>True</td>\n    </tr>\n    <tr>\n      <th>797</th>\n      <td>797</td>\n      <td>15020358421</td>\n      <td>13134</td>\n      <td>10444</td>\n      <td>0</td>\n      <td>165</td>\n      <td>0</td>\n      <td>1</td>\n      <td>23000.00000</td>\n      <td>True</td>\n      <td>...</td>\n      <td>23.00000</td>\n      <td>False</td>\n      <td>0.93423</td>\n      <td>True</td>\n      <td>False</td>\n      <td>False</td>\n      <td>True</td>\n      <td>True</td>\n      <td>False</td>\n      <td>True</td>\n    </tr>\n    <tr>\n      <th>798</th>\n      <td>798</td>\n      <td>15020400418</td>\n      <td>13134</td>\n      <td>10579</td>\n      <td>0</td>\n      <td>166</td>\n      <td>2</td>\n      <td>1</td>\n      <td>21000.00000</td>\n      <td>True</td>\n      <td>...</td>\n      <td>21.00000</td>\n      <td>False</td>\n      <td>0.92571</td>\n      <td>True</td>\n      <td>False</td>\n      <td>False</td>\n      <td>True</td>\n      <td>True</td>\n      <td>False</td>\n      <td>True</td>\n    </tr>\n    <tr>\n      <th>799</th>\n      <td>799</td>\n      <td>15020443982</td>\n      <td>13134</td>\n      <td>7892</td>\n      <td>0</td>\n      <td>167</td>\n      <td>2</td>\n      <td>1</td>\n      <td>24000.00000</td>\n      <td>True</td>\n      <td>...</td>\n      <td>24.00000</td>\n      <td>False</td>\n      <td>0.91703</td>\n      <td>True</td>\n      <td>False</td>\n      <td>False</td>\n      <td>True</td>\n      <td>True</td>\n      <td>False</td>\n      <td>True</td>\n    </tr>\n  </tbody>\n</table>\n<p>30 rows × 24 columns</p>\n</div>"
     },
     "metadata": {},
     "execution_count": 48
    }
   ],
   "source": [
    "train_df[770:800]"
   ]
  },
  {
   "source": [
    "##### 4. lets find the average time took for each question"
   ],
   "cell_type": "markdown",
   "metadata": {}
  },
  {
   "cell_type": "code",
   "execution_count": 49,
   "metadata": {},
   "outputs": [],
   "source": [
    "# The average time per question can be considered based on the every candidate or based on the current candidate previous question answering time."
   ]
  },
  {
   "cell_type": "code",
   "execution_count": 50,
   "metadata": {},
   "outputs": [],
   "source": [
    "user_average_time_to_elapsed_dict = train_df[train_df['content_type_id']==0].groupby(\"user_id\").prior_question_elapsed_time.mean().to_dict()"
   ]
  },
  {
   "cell_type": "code",
   "execution_count": 51,
   "metadata": {},
   "outputs": [],
   "source": [
    "train_df['question_took_more_than_average_user_time'] = train_df[train_df['content_type_id'] == 0].apply(lambda row: row.prior_question_elapsed_time > user_average_time_to_elapsed_dict[row.user_id], axis=1)"
   ]
  },
  {
   "cell_type": "code",
   "execution_count": 52,
   "metadata": {},
   "outputs": [],
   "source": [
    "# check average question answering time\n",
    "average_question_prior_question_elapsed_time_dict = train_df[train_df['content_type_id']==0].groupby([\"content_id\"]).prior_question_elapsed_time.mean().to_dict()"
   ]
  },
  {
   "source": [
    "train_df.sort_values(['user_id', 'timestamp'], inplace=True)\n",
    "bundle_time_relation_dict = {}\n",
    "\n",
    "prev_row = {\n",
    "    \"user_id\": \"\",\n",
    "    \"bundle_id\": \"\",\n",
    "    \"previous_bundle_elapsed_time\": \"\"\n",
    "}\n",
    "def get_question_time_taken(curr_row):\n",
    "    current_bundle_id = question_dict[curr_row.content_id]['bundle_id']\n",
    "    if prev_row['user_id'] == curr_row['user_id']:\n",
    "        if prev_row['bundle_id'] == current_bundle_id:\n",
    "            time_taken_for_question = prev_row['previous_bundle_elapsed_time']\n",
    "        else:\n",
    "            time_taken_for_question = curr_row['prior_question_elapsed_time']\n",
    "            prev_row['previous_bundle_elapsed_time'] = curr_row['prior_question_elapsed_time']\n",
    "            prev_row['bundle_id'] = current_bundle_id\n",
    "    else:\n",
    "        prev_row['bundle_id'] = current_bundle_id\n",
    "        prev_row['previous_bundle_elapsed_time'] = curr_row['prior_question_elapsed_time']\n",
    "        time_taken_for_question = None\n",
    "    prev_row['user_id'] = curr_row.user_id\n",
    "    return time_taken_for_question\n",
    "\n",
    "\n",
    "for index, row in train_df[train_df['content_type_id'] == 0].iloc[::-1].iterrows():\n",
    "    if row.content_id in bundle_time_relation_dict and bundle_time_relation_dict:\n",
    "        bundle_time_relation_dict[row.content_id].append(get_question_time_taken(row))\n",
    "    else:\n",
    "        bundle_time_relation_dict[row.content_id] = [get_question_time_taken(row)]"
   ],
   "cell_type": "code",
   "metadata": {},
   "execution_count": 53,
   "outputs": []
  },
  {
   "source": [
    "##### 5. Now lets find out the lag time"
   ],
   "cell_type": "markdown",
   "metadata": {}
  },
  {
   "cell_type": "code",
   "execution_count": 54,
   "metadata": {},
   "outputs": [],
   "source": [
    "# lag time\n",
    "train_df['event_time'] = train_df[train_df['content_type_id'] == 0][['user_id', 'timestamp']].groupby(['user_id'])['timestamp'].diff()\n",
    "train_df['shift_event_time'] = train_df['event_time'].shift(-1)\n",
    "train_df['shift_elapsed_time'] = train_df['prior_question_elapsed_time'].shift(-1)\n",
    "train_df['event_lag_time'] = train_df[train_df['content_type_id'] == 0]['shift_event_time'] - train_df[train_df['content_type_id'] == 0]['shift_elapsed_time']"
   ]
  },
  {
   "cell_type": "code",
   "execution_count": 55,
   "metadata": {},
   "outputs": [],
   "source": [
    "train_df_elapsed_time_groupby = train_df[train_df['content_type_id'] == 0][['content_id', 'shift_elapsed_time']].groupby(['content_id']).shift_elapsed_time\n",
    "individual_question_min_time_dict = train_df_elapsed_time_groupby.min().to_dict()\n",
    "individual_question_mean_time_dict = train_df_elapsed_time_groupby.mean().to_dict()\n",
    "\n",
    "del train_df_elapsed_time_groupby"
   ]
  },
  {
   "cell_type": "code",
   "execution_count": 56,
   "metadata": {},
   "outputs": [],
   "source": [
    "# def get_lag_time(content_id, shift_event_time):\n",
    "#     question_min_time = individual_question_min_time_dict[content_id]\n",
    "#     return shift_event_time - question_min_time\n",
    "\n",
    "# train_df['lag_time'] = train_df[train_df['content_type_id'] == 0].apply(lambda row: get_lag_time(row.content_id, row.shift_event_time), axis=1)\n",
    "def get_prior_elapsed_time_difference(content_id, shift_elapsed_time):\n",
    "    question_min_time = individual_question_min_time_dict[content_id]\n",
    "    return shift_elapsed_time - question_min_time\n",
    "\n",
    "train_df['lag_time'] = train_df[train_df['content_type_id'] == 0].apply(lambda row: get_prior_elapsed_time_difference(row.content_id, row.shift_elapsed_time), axis=1)"
   ]
  },
  {
   "cell_type": "code",
   "execution_count": 57,
   "metadata": {},
   "outputs": [],
   "source": [
    "def has_elapsed_time_greater_than_average_time(content_id, shift_elapsed_time):\n",
    "    question_min_time = individual_question_mean_time_dict[content_id]\n",
    "    return shift_elapsed_time > question_min_time\n",
    "\n",
    "train_df['answered_late'] = train_df[train_df['content_type_id'] == 0].apply(lambda row: has_elapsed_time_greater_than_average_time(row.content_id, row.shift_elapsed_time), axis=1)"
   ]
  },
  {
   "cell_type": "code",
   "execution_count": 58,
   "metadata": {},
   "outputs": [
    {
     "output_type": "execute_result",
     "data": {
      "text/plain": [
       "     row_id    timestamp  user_id  content_id  content_type_id  \\\n",
       "0         0            0      115        5692                0   \n",
       "1         1        56943      115        5716                0   \n",
       "2         2       118363      115         128                0   \n",
       "3         3       131167      115        7860                0   \n",
       "4         4       137965      115        7922                0   \n",
       "..      ...          ...      ...         ...              ...   \n",
       "995     995  15092368574    13134        2334                0   \n",
       "996     996  15092368574    13134        2333                0   \n",
       "997     997  15092493419    13134        2182                0   \n",
       "998     998  15092493419    13134        2184                0   \n",
       "999     999  15092493419    13134        2183                0   \n",
       "\n",
       "     task_container_id  user_answer  answered_correctly  \\\n",
       "0                    1            3                   1   \n",
       "1                    2            2                   1   \n",
       "2                    0            0                   1   \n",
       "3                    3            0                   1   \n",
       "4                    4            1                   1   \n",
       "..                 ...          ...                 ...   \n",
       "995                297            3                   0   \n",
       "996                297            0                   0   \n",
       "997                298            3                   0   \n",
       "998                298            0                   1   \n",
       "999                298            1                   1   \n",
       "\n",
       "     prior_question_elapsed_time  prior_question_had_explanation  ...  \\\n",
       "0                            nan                            <NA>  ...   \n",
       "1                    37000.00000                           False  ...   \n",
       "2                    55000.00000                           False  ...   \n",
       "3                    19000.00000                           False  ...   \n",
       "4                    11000.00000                           False  ...   \n",
       "..                           ...                             ...  ...   \n",
       "995                  22333.00000                            True  ...   \n",
       "996                  22333.00000                            True  ...   \n",
       "997                  31666.00000                            True  ...   \n",
       "998                  31666.00000                            True  ...   \n",
       "999                  31666.00000                            True  ...   \n",
       "\n",
       "     has_tag_common_with_type_of  has_tag_common_with_part_dict  \\\n",
       "0                          False                          False   \n",
       "1                          False                          False   \n",
       "2                          False                          False   \n",
       "3                          False                          False   \n",
       "4                          False                          False   \n",
       "..                           ...                            ...   \n",
       "995                         True                          False   \n",
       "996                         True                          False   \n",
       "997                         True                          False   \n",
       "998                         True                          False   \n",
       "999                         True                          False   \n",
       "\n",
       "     has_type_of_common_with_part_dict  \\\n",
       "0                                False   \n",
       "1                                False   \n",
       "2                                False   \n",
       "3                                False   \n",
       "4                                False   \n",
       "..                                 ...   \n",
       "995                               True   \n",
       "996                               True   \n",
       "997                               True   \n",
       "998                               True   \n",
       "999                               True   \n",
       "\n",
       "     question_took_more_than_average_user_time   event_time  shift_event_time  \\\n",
       "0                                        False          nan       56943.00000   \n",
       "1                                         True  56943.00000       61420.00000   \n",
       "2                                         True  61420.00000       12804.00000   \n",
       "3                                        False  12804.00000        6798.00000   \n",
       "4                                        False   6798.00000       19098.00000   \n",
       "..                                         ...          ...               ...   \n",
       "995                                       True      0.00000           0.00000   \n",
       "996                                       True      0.00000      124845.00000   \n",
       "997                                       True 124845.00000           0.00000   \n",
       "998                                       True      0.00000           0.00000   \n",
       "999                                       True      0.00000               nan   \n",
       "\n",
       "     shift_elapsed_time  event_lag_time  lag_time  answered_late  \n",
       "0           37000.00000     19943.00000   0.00000          False  \n",
       "1           55000.00000      6420.00000   0.00000          False  \n",
       "2           19000.00000     -6196.00000   0.00000          False  \n",
       "3           11000.00000     -4202.00000   0.00000          False  \n",
       "4            5000.00000     14098.00000   0.00000          False  \n",
       "..                  ...             ...       ...            ...  \n",
       "995         22333.00000    -22333.00000   0.00000          False  \n",
       "996         31666.00000     93179.00000   0.00000          False  \n",
       "997         31666.00000    -31666.00000   0.00000          False  \n",
       "998         31666.00000    -31666.00000   0.00000          False  \n",
       "999                 nan             nan       nan          False  \n",
       "\n",
       "[1000 rows x 31 columns]"
      ],
      "text/html": "<div>\n<style scoped>\n    .dataframe tbody tr th:only-of-type {\n        vertical-align: middle;\n    }\n\n    .dataframe tbody tr th {\n        vertical-align: top;\n    }\n\n    .dataframe thead th {\n        text-align: right;\n    }\n</style>\n<table border=\"1\" class=\"dataframe\">\n  <thead>\n    <tr style=\"text-align: right;\">\n      <th></th>\n      <th>row_id</th>\n      <th>timestamp</th>\n      <th>user_id</th>\n      <th>content_id</th>\n      <th>content_type_id</th>\n      <th>task_container_id</th>\n      <th>user_answer</th>\n      <th>answered_correctly</th>\n      <th>prior_question_elapsed_time</th>\n      <th>prior_question_had_explanation</th>\n      <th>...</th>\n      <th>has_tag_common_with_type_of</th>\n      <th>has_tag_common_with_part_dict</th>\n      <th>has_type_of_common_with_part_dict</th>\n      <th>question_took_more_than_average_user_time</th>\n      <th>event_time</th>\n      <th>shift_event_time</th>\n      <th>shift_elapsed_time</th>\n      <th>event_lag_time</th>\n      <th>lag_time</th>\n      <th>answered_late</th>\n    </tr>\n  </thead>\n  <tbody>\n    <tr>\n      <th>0</th>\n      <td>0</td>\n      <td>0</td>\n      <td>115</td>\n      <td>5692</td>\n      <td>0</td>\n      <td>1</td>\n      <td>3</td>\n      <td>1</td>\n      <td>nan</td>\n      <td>&lt;NA&gt;</td>\n      <td>...</td>\n      <td>False</td>\n      <td>False</td>\n      <td>False</td>\n      <td>False</td>\n      <td>nan</td>\n      <td>56943.00000</td>\n      <td>37000.00000</td>\n      <td>19943.00000</td>\n      <td>0.00000</td>\n      <td>False</td>\n    </tr>\n    <tr>\n      <th>1</th>\n      <td>1</td>\n      <td>56943</td>\n      <td>115</td>\n      <td>5716</td>\n      <td>0</td>\n      <td>2</td>\n      <td>2</td>\n      <td>1</td>\n      <td>37000.00000</td>\n      <td>False</td>\n      <td>...</td>\n      <td>False</td>\n      <td>False</td>\n      <td>False</td>\n      <td>True</td>\n      <td>56943.00000</td>\n      <td>61420.00000</td>\n      <td>55000.00000</td>\n      <td>6420.00000</td>\n      <td>0.00000</td>\n      <td>False</td>\n    </tr>\n    <tr>\n      <th>2</th>\n      <td>2</td>\n      <td>118363</td>\n      <td>115</td>\n      <td>128</td>\n      <td>0</td>\n      <td>0</td>\n      <td>0</td>\n      <td>1</td>\n      <td>55000.00000</td>\n      <td>False</td>\n      <td>...</td>\n      <td>False</td>\n      <td>False</td>\n      <td>False</td>\n      <td>True</td>\n      <td>61420.00000</td>\n      <td>12804.00000</td>\n      <td>19000.00000</td>\n      <td>-6196.00000</td>\n      <td>0.00000</td>\n      <td>False</td>\n    </tr>\n    <tr>\n      <th>3</th>\n      <td>3</td>\n      <td>131167</td>\n      <td>115</td>\n      <td>7860</td>\n      <td>0</td>\n      <td>3</td>\n      <td>0</td>\n      <td>1</td>\n      <td>19000.00000</td>\n      <td>False</td>\n      <td>...</td>\n      <td>False</td>\n      <td>False</td>\n      <td>False</td>\n      <td>False</td>\n      <td>12804.00000</td>\n      <td>6798.00000</td>\n      <td>11000.00000</td>\n      <td>-4202.00000</td>\n      <td>0.00000</td>\n      <td>False</td>\n    </tr>\n    <tr>\n      <th>4</th>\n      <td>4</td>\n      <td>137965</td>\n      <td>115</td>\n      <td>7922</td>\n      <td>0</td>\n      <td>4</td>\n      <td>1</td>\n      <td>1</td>\n      <td>11000.00000</td>\n      <td>False</td>\n      <td>...</td>\n      <td>False</td>\n      <td>False</td>\n      <td>False</td>\n      <td>False</td>\n      <td>6798.00000</td>\n      <td>19098.00000</td>\n      <td>5000.00000</td>\n      <td>14098.00000</td>\n      <td>0.00000</td>\n      <td>False</td>\n    </tr>\n    <tr>\n      <th>...</th>\n      <td>...</td>\n      <td>...</td>\n      <td>...</td>\n      <td>...</td>\n      <td>...</td>\n      <td>...</td>\n      <td>...</td>\n      <td>...</td>\n      <td>...</td>\n      <td>...</td>\n      <td>...</td>\n      <td>...</td>\n      <td>...</td>\n      <td>...</td>\n      <td>...</td>\n      <td>...</td>\n      <td>...</td>\n      <td>...</td>\n      <td>...</td>\n      <td>...</td>\n      <td>...</td>\n    </tr>\n    <tr>\n      <th>995</th>\n      <td>995</td>\n      <td>15092368574</td>\n      <td>13134</td>\n      <td>2334</td>\n      <td>0</td>\n      <td>297</td>\n      <td>3</td>\n      <td>0</td>\n      <td>22333.00000</td>\n      <td>True</td>\n      <td>...</td>\n      <td>True</td>\n      <td>False</td>\n      <td>True</td>\n      <td>True</td>\n      <td>0.00000</td>\n      <td>0.00000</td>\n      <td>22333.00000</td>\n      <td>-22333.00000</td>\n      <td>0.00000</td>\n      <td>False</td>\n    </tr>\n    <tr>\n      <th>996</th>\n      <td>996</td>\n      <td>15092368574</td>\n      <td>13134</td>\n      <td>2333</td>\n      <td>0</td>\n      <td>297</td>\n      <td>0</td>\n      <td>0</td>\n      <td>22333.00000</td>\n      <td>True</td>\n      <td>...</td>\n      <td>True</td>\n      <td>False</td>\n      <td>True</td>\n      <td>True</td>\n      <td>0.00000</td>\n      <td>124845.00000</td>\n      <td>31666.00000</td>\n      <td>93179.00000</td>\n      <td>0.00000</td>\n      <td>False</td>\n    </tr>\n    <tr>\n      <th>997</th>\n      <td>997</td>\n      <td>15092493419</td>\n      <td>13134</td>\n      <td>2182</td>\n      <td>0</td>\n      <td>298</td>\n      <td>3</td>\n      <td>0</td>\n      <td>31666.00000</td>\n      <td>True</td>\n      <td>...</td>\n      <td>True</td>\n      <td>False</td>\n      <td>True</td>\n      <td>True</td>\n      <td>124845.00000</td>\n      <td>0.00000</td>\n      <td>31666.00000</td>\n      <td>-31666.00000</td>\n      <td>0.00000</td>\n      <td>False</td>\n    </tr>\n    <tr>\n      <th>998</th>\n      <td>998</td>\n      <td>15092493419</td>\n      <td>13134</td>\n      <td>2184</td>\n      <td>0</td>\n      <td>298</td>\n      <td>0</td>\n      <td>1</td>\n      <td>31666.00000</td>\n      <td>True</td>\n      <td>...</td>\n      <td>True</td>\n      <td>False</td>\n      <td>True</td>\n      <td>True</td>\n      <td>0.00000</td>\n      <td>0.00000</td>\n      <td>31666.00000</td>\n      <td>-31666.00000</td>\n      <td>0.00000</td>\n      <td>False</td>\n    </tr>\n    <tr>\n      <th>999</th>\n      <td>999</td>\n      <td>15092493419</td>\n      <td>13134</td>\n      <td>2183</td>\n      <td>0</td>\n      <td>298</td>\n      <td>1</td>\n      <td>1</td>\n      <td>31666.00000</td>\n      <td>True</td>\n      <td>...</td>\n      <td>True</td>\n      <td>False</td>\n      <td>True</td>\n      <td>True</td>\n      <td>0.00000</td>\n      <td>nan</td>\n      <td>nan</td>\n      <td>nan</td>\n      <td>nan</td>\n      <td>False</td>\n    </tr>\n  </tbody>\n</table>\n<p>1000 rows × 31 columns</p>\n</div>"
     },
     "metadata": {},
     "execution_count": 58
    }
   ],
   "source": [
    "train_df"
   ]
  },
  {
   "cell_type": "code",
   "execution_count": 59,
   "metadata": {},
   "outputs": [],
   "source": [
    "average_question_timestamp_difference_dict = train_df[(train_df['content_type_id'] == 0) & (train_df['shift_event_time'] < 3600000)][['content_id', 'shift_event_time']].groupby('content_id').shift_event_time.mean().to_dict()"
   ]
  },
  {
   "cell_type": "code",
   "execution_count": 60,
   "metadata": {},
   "outputs": [],
   "source": [
    "def has_event_time_greater_than_average(content_id, event_time):\n",
    "    average_question_time = average_question_timestamp_difference_dict.get(content_id, 0)\n",
    "    return event_time > average_question_time\n",
    "\n",
    "train_df['event_time_greater_than_average'] = train_df[train_df['content_type_id'] == 0].apply(lambda row: has_event_time_greater_than_average(row.content_id, row.shift_event_time), axis=1)"
   ]
  },
  {
   "cell_type": "code",
   "execution_count": 61,
   "metadata": {},
   "outputs": [
    {
     "output_type": "execute_result",
     "data": {
      "text/plain": [
       "     row_id    timestamp  user_id  content_id  content_type_id  \\\n",
       "0         0            0      115        5692                0   \n",
       "1         1        56943      115        5716                0   \n",
       "2         2       118363      115         128                0   \n",
       "3         3       131167      115        7860                0   \n",
       "4         4       137965      115        7922                0   \n",
       "..      ...          ...      ...         ...              ...   \n",
       "995     995  15092368574    13134        2334                0   \n",
       "996     996  15092368574    13134        2333                0   \n",
       "997     997  15092493419    13134        2182                0   \n",
       "998     998  15092493419    13134        2184                0   \n",
       "999     999  15092493419    13134        2183                0   \n",
       "\n",
       "     task_container_id  user_answer  answered_correctly  \\\n",
       "0                    1            3                   1   \n",
       "1                    2            2                   1   \n",
       "2                    0            0                   1   \n",
       "3                    3            0                   1   \n",
       "4                    4            1                   1   \n",
       "..                 ...          ...                 ...   \n",
       "995                297            3                   0   \n",
       "996                297            0                   0   \n",
       "997                298            3                   0   \n",
       "998                298            0                   1   \n",
       "999                298            1                   1   \n",
       "\n",
       "     prior_question_elapsed_time  prior_question_had_explanation  ...  \\\n",
       "0                            nan                            <NA>  ...   \n",
       "1                    37000.00000                           False  ...   \n",
       "2                    55000.00000                           False  ...   \n",
       "3                    19000.00000                           False  ...   \n",
       "4                    11000.00000                           False  ...   \n",
       "..                           ...                             ...  ...   \n",
       "995                  22333.00000                            True  ...   \n",
       "996                  22333.00000                            True  ...   \n",
       "997                  31666.00000                            True  ...   \n",
       "998                  31666.00000                            True  ...   \n",
       "999                  31666.00000                            True  ...   \n",
       "\n",
       "     has_tag_common_with_part_dict  has_type_of_common_with_part_dict  \\\n",
       "0                            False                              False   \n",
       "1                            False                              False   \n",
       "2                            False                              False   \n",
       "3                            False                              False   \n",
       "4                            False                              False   \n",
       "..                             ...                                ...   \n",
       "995                          False                               True   \n",
       "996                          False                               True   \n",
       "997                          False                               True   \n",
       "998                          False                               True   \n",
       "999                          False                               True   \n",
       "\n",
       "     question_took_more_than_average_user_time   event_time  shift_event_time  \\\n",
       "0                                        False          nan       56943.00000   \n",
       "1                                         True  56943.00000       61420.00000   \n",
       "2                                         True  61420.00000       12804.00000   \n",
       "3                                        False  12804.00000        6798.00000   \n",
       "4                                        False   6798.00000       19098.00000   \n",
       "..                                         ...          ...               ...   \n",
       "995                                       True      0.00000           0.00000   \n",
       "996                                       True      0.00000      124845.00000   \n",
       "997                                       True 124845.00000           0.00000   \n",
       "998                                       True      0.00000           0.00000   \n",
       "999                                       True      0.00000               nan   \n",
       "\n",
       "     shift_elapsed_time  event_lag_time  lag_time  answered_late  \\\n",
       "0           37000.00000     19943.00000   0.00000          False   \n",
       "1           55000.00000      6420.00000   0.00000          False   \n",
       "2           19000.00000     -6196.00000   0.00000          False   \n",
       "3           11000.00000     -4202.00000   0.00000          False   \n",
       "4            5000.00000     14098.00000   0.00000          False   \n",
       "..                  ...             ...       ...            ...   \n",
       "995         22333.00000    -22333.00000   0.00000          False   \n",
       "996         31666.00000     93179.00000   0.00000          False   \n",
       "997         31666.00000    -31666.00000   0.00000          False   \n",
       "998         31666.00000    -31666.00000   0.00000          False   \n",
       "999                 nan             nan       nan          False   \n",
       "\n",
       "     event_time_greater_than_average  \n",
       "0                              False  \n",
       "1                              False  \n",
       "2                              False  \n",
       "3                              False  \n",
       "4                              False  \n",
       "..                               ...  \n",
       "995                            False  \n",
       "996                            False  \n",
       "997                            False  \n",
       "998                            False  \n",
       "999                            False  \n",
       "\n",
       "[1000 rows x 32 columns]"
      ],
      "text/html": "<div>\n<style scoped>\n    .dataframe tbody tr th:only-of-type {\n        vertical-align: middle;\n    }\n\n    .dataframe tbody tr th {\n        vertical-align: top;\n    }\n\n    .dataframe thead th {\n        text-align: right;\n    }\n</style>\n<table border=\"1\" class=\"dataframe\">\n  <thead>\n    <tr style=\"text-align: right;\">\n      <th></th>\n      <th>row_id</th>\n      <th>timestamp</th>\n      <th>user_id</th>\n      <th>content_id</th>\n      <th>content_type_id</th>\n      <th>task_container_id</th>\n      <th>user_answer</th>\n      <th>answered_correctly</th>\n      <th>prior_question_elapsed_time</th>\n      <th>prior_question_had_explanation</th>\n      <th>...</th>\n      <th>has_tag_common_with_part_dict</th>\n      <th>has_type_of_common_with_part_dict</th>\n      <th>question_took_more_than_average_user_time</th>\n      <th>event_time</th>\n      <th>shift_event_time</th>\n      <th>shift_elapsed_time</th>\n      <th>event_lag_time</th>\n      <th>lag_time</th>\n      <th>answered_late</th>\n      <th>event_time_greater_than_average</th>\n    </tr>\n  </thead>\n  <tbody>\n    <tr>\n      <th>0</th>\n      <td>0</td>\n      <td>0</td>\n      <td>115</td>\n      <td>5692</td>\n      <td>0</td>\n      <td>1</td>\n      <td>3</td>\n      <td>1</td>\n      <td>nan</td>\n      <td>&lt;NA&gt;</td>\n      <td>...</td>\n      <td>False</td>\n      <td>False</td>\n      <td>False</td>\n      <td>nan</td>\n      <td>56943.00000</td>\n      <td>37000.00000</td>\n      <td>19943.00000</td>\n      <td>0.00000</td>\n      <td>False</td>\n      <td>False</td>\n    </tr>\n    <tr>\n      <th>1</th>\n      <td>1</td>\n      <td>56943</td>\n      <td>115</td>\n      <td>5716</td>\n      <td>0</td>\n      <td>2</td>\n      <td>2</td>\n      <td>1</td>\n      <td>37000.00000</td>\n      <td>False</td>\n      <td>...</td>\n      <td>False</td>\n      <td>False</td>\n      <td>True</td>\n      <td>56943.00000</td>\n      <td>61420.00000</td>\n      <td>55000.00000</td>\n      <td>6420.00000</td>\n      <td>0.00000</td>\n      <td>False</td>\n      <td>False</td>\n    </tr>\n    <tr>\n      <th>2</th>\n      <td>2</td>\n      <td>118363</td>\n      <td>115</td>\n      <td>128</td>\n      <td>0</td>\n      <td>0</td>\n      <td>0</td>\n      <td>1</td>\n      <td>55000.00000</td>\n      <td>False</td>\n      <td>...</td>\n      <td>False</td>\n      <td>False</td>\n      <td>True</td>\n      <td>61420.00000</td>\n      <td>12804.00000</td>\n      <td>19000.00000</td>\n      <td>-6196.00000</td>\n      <td>0.00000</td>\n      <td>False</td>\n      <td>False</td>\n    </tr>\n    <tr>\n      <th>3</th>\n      <td>3</td>\n      <td>131167</td>\n      <td>115</td>\n      <td>7860</td>\n      <td>0</td>\n      <td>3</td>\n      <td>0</td>\n      <td>1</td>\n      <td>19000.00000</td>\n      <td>False</td>\n      <td>...</td>\n      <td>False</td>\n      <td>False</td>\n      <td>False</td>\n      <td>12804.00000</td>\n      <td>6798.00000</td>\n      <td>11000.00000</td>\n      <td>-4202.00000</td>\n      <td>0.00000</td>\n      <td>False</td>\n      <td>False</td>\n    </tr>\n    <tr>\n      <th>4</th>\n      <td>4</td>\n      <td>137965</td>\n      <td>115</td>\n      <td>7922</td>\n      <td>0</td>\n      <td>4</td>\n      <td>1</td>\n      <td>1</td>\n      <td>11000.00000</td>\n      <td>False</td>\n      <td>...</td>\n      <td>False</td>\n      <td>False</td>\n      <td>False</td>\n      <td>6798.00000</td>\n      <td>19098.00000</td>\n      <td>5000.00000</td>\n      <td>14098.00000</td>\n      <td>0.00000</td>\n      <td>False</td>\n      <td>False</td>\n    </tr>\n    <tr>\n      <th>...</th>\n      <td>...</td>\n      <td>...</td>\n      <td>...</td>\n      <td>...</td>\n      <td>...</td>\n      <td>...</td>\n      <td>...</td>\n      <td>...</td>\n      <td>...</td>\n      <td>...</td>\n      <td>...</td>\n      <td>...</td>\n      <td>...</td>\n      <td>...</td>\n      <td>...</td>\n      <td>...</td>\n      <td>...</td>\n      <td>...</td>\n      <td>...</td>\n      <td>...</td>\n      <td>...</td>\n    </tr>\n    <tr>\n      <th>995</th>\n      <td>995</td>\n      <td>15092368574</td>\n      <td>13134</td>\n      <td>2334</td>\n      <td>0</td>\n      <td>297</td>\n      <td>3</td>\n      <td>0</td>\n      <td>22333.00000</td>\n      <td>True</td>\n      <td>...</td>\n      <td>False</td>\n      <td>True</td>\n      <td>True</td>\n      <td>0.00000</td>\n      <td>0.00000</td>\n      <td>22333.00000</td>\n      <td>-22333.00000</td>\n      <td>0.00000</td>\n      <td>False</td>\n      <td>False</td>\n    </tr>\n    <tr>\n      <th>996</th>\n      <td>996</td>\n      <td>15092368574</td>\n      <td>13134</td>\n      <td>2333</td>\n      <td>0</td>\n      <td>297</td>\n      <td>0</td>\n      <td>0</td>\n      <td>22333.00000</td>\n      <td>True</td>\n      <td>...</td>\n      <td>False</td>\n      <td>True</td>\n      <td>True</td>\n      <td>0.00000</td>\n      <td>124845.00000</td>\n      <td>31666.00000</td>\n      <td>93179.00000</td>\n      <td>0.00000</td>\n      <td>False</td>\n      <td>False</td>\n    </tr>\n    <tr>\n      <th>997</th>\n      <td>997</td>\n      <td>15092493419</td>\n      <td>13134</td>\n      <td>2182</td>\n      <td>0</td>\n      <td>298</td>\n      <td>3</td>\n      <td>0</td>\n      <td>31666.00000</td>\n      <td>True</td>\n      <td>...</td>\n      <td>False</td>\n      <td>True</td>\n      <td>True</td>\n      <td>124845.00000</td>\n      <td>0.00000</td>\n      <td>31666.00000</td>\n      <td>-31666.00000</td>\n      <td>0.00000</td>\n      <td>False</td>\n      <td>False</td>\n    </tr>\n    <tr>\n      <th>998</th>\n      <td>998</td>\n      <td>15092493419</td>\n      <td>13134</td>\n      <td>2184</td>\n      <td>0</td>\n      <td>298</td>\n      <td>0</td>\n      <td>1</td>\n      <td>31666.00000</td>\n      <td>True</td>\n      <td>...</td>\n      <td>False</td>\n      <td>True</td>\n      <td>True</td>\n      <td>0.00000</td>\n      <td>0.00000</td>\n      <td>31666.00000</td>\n      <td>-31666.00000</td>\n      <td>0.00000</td>\n      <td>False</td>\n      <td>False</td>\n    </tr>\n    <tr>\n      <th>999</th>\n      <td>999</td>\n      <td>15092493419</td>\n      <td>13134</td>\n      <td>2183</td>\n      <td>0</td>\n      <td>298</td>\n      <td>1</td>\n      <td>1</td>\n      <td>31666.00000</td>\n      <td>True</td>\n      <td>...</td>\n      <td>False</td>\n      <td>True</td>\n      <td>True</td>\n      <td>0.00000</td>\n      <td>nan</td>\n      <td>nan</td>\n      <td>nan</td>\n      <td>nan</td>\n      <td>False</td>\n      <td>False</td>\n    </tr>\n  </tbody>\n</table>\n<p>1000 rows × 32 columns</p>\n</div>"
     },
     "metadata": {},
     "execution_count": 61
    }
   ],
   "source": [
    "train_df"
   ]
  },
  {
   "source": [
    "##### 6. Find the toughest questions"
   ],
   "cell_type": "markdown",
   "metadata": {}
  },
  {
   "cell_type": "code",
   "execution_count": 62,
   "metadata": {},
   "outputs": [
    {
     "output_type": "stream",
     "name": "stdout",
     "text": [
      "There are 188 different tags\n"
     ]
    }
   ],
   "source": [
    "# get all the complete tags of the question\n",
    "questions_df['tags'] = questions_df['tags'].astype(str)\n",
    "\n",
    "tags = [value.split() for value in questions_df[questions_df.tags != \"nan\"].tags.values]\n",
    "tags = [item for elem in tags for item in elem]\n",
    "tags = set(tags)\n",
    "tags = list(tags)\n",
    "print(f'There are {len(tags)} different tags')"
   ]
  },
  {
   "cell_type": "code",
   "execution_count": 63,
   "metadata": {},
   "outputs": [
    {
     "output_type": "execute_result",
     "data": {
      "text/plain": [
       "   question_id  bundle_id  correct_answer  part            tags   wrong  \\\n",
       "0            0          0               0     1   51 131 162 38     nan   \n",
       "1            1          1               1     1       131 36 81     nan   \n",
       "2            2          2               0     1  131 101 162 92 1.00000   \n",
       "3            3          3               0     1  131 149 162 29     nan   \n",
       "4            4          4               3     1    131 5 162 38 1.00000   \n",
       "\n",
       "    right  percentage_correct  \n",
       "0     nan                 nan  \n",
       "1     nan                 nan  \n",
       "2 0.00000             0.00000  \n",
       "3     nan                 nan  \n",
       "4 0.00000             0.00000  "
      ],
      "text/html": "<div>\n<style scoped>\n    .dataframe tbody tr th:only-of-type {\n        vertical-align: middle;\n    }\n\n    .dataframe tbody tr th {\n        vertical-align: top;\n    }\n\n    .dataframe thead th {\n        text-align: right;\n    }\n</style>\n<table border=\"1\" class=\"dataframe\">\n  <thead>\n    <tr style=\"text-align: right;\">\n      <th></th>\n      <th>question_id</th>\n      <th>bundle_id</th>\n      <th>correct_answer</th>\n      <th>part</th>\n      <th>tags</th>\n      <th>wrong</th>\n      <th>right</th>\n      <th>percentage_correct</th>\n    </tr>\n  </thead>\n  <tbody>\n    <tr>\n      <th>0</th>\n      <td>0</td>\n      <td>0</td>\n      <td>0</td>\n      <td>1</td>\n      <td>51 131 162 38</td>\n      <td>nan</td>\n      <td>nan</td>\n      <td>nan</td>\n    </tr>\n    <tr>\n      <th>1</th>\n      <td>1</td>\n      <td>1</td>\n      <td>1</td>\n      <td>1</td>\n      <td>131 36 81</td>\n      <td>nan</td>\n      <td>nan</td>\n      <td>nan</td>\n    </tr>\n    <tr>\n      <th>2</th>\n      <td>2</td>\n      <td>2</td>\n      <td>0</td>\n      <td>1</td>\n      <td>131 101 162 92</td>\n      <td>1.00000</td>\n      <td>0.00000</td>\n      <td>0.00000</td>\n    </tr>\n    <tr>\n      <th>3</th>\n      <td>3</td>\n      <td>3</td>\n      <td>0</td>\n      <td>1</td>\n      <td>131 149 162 29</td>\n      <td>nan</td>\n      <td>nan</td>\n      <td>nan</td>\n    </tr>\n    <tr>\n      <th>4</th>\n      <td>4</td>\n      <td>4</td>\n      <td>3</td>\n      <td>1</td>\n      <td>131 5 162 38</td>\n      <td>1.00000</td>\n      <td>0.00000</td>\n      <td>0.00000</td>\n    </tr>\n  </tbody>\n</table>\n</div>"
     },
     "metadata": {},
     "execution_count": 63
    }
   ],
   "source": [
    "# Find the wrong and right question based on correctly answered\n",
    "correct = train_df[train_df.answered_correctly != -1].groupby([\"content_id\", 'answered_correctly'], as_index=False).size()\n",
    "correct = correct.pivot(index= \"content_id\", columns='answered_correctly', values='size')\n",
    "correct.columns = ['wrong', 'right']\n",
    "correct = correct.fillna(0)\n",
    "correct[['wrong', 'right']] = correct[['wrong', 'right']].astype(int)\n",
    "questions_df = questions_df.merge(correct, left_on = \"question_id\", right_on = \"content_id\", how = \"left\")\n",
    "questions_df['percentage_correct'] = questions_df.right / (questions_df.right + questions_df.wrong)\n",
    "questions_df.head()\n",
    "\n",
    "# questions_df.drop([\"wrong_x\", \"right_x\", \"wrong_y\", \"right_y\"], axis=1, inplace=True)"
   ]
  },
  {
   "cell_type": "code",
   "execution_count": 64,
   "metadata": {},
   "outputs": [
    {
     "output_type": "execute_result",
     "data": {
      "text/plain": [
       "   question_id  bundle_id  correct_answer  part                 tags   wrong  \\\n",
       "0            0          0               0     1   [51, 131, 162, 38]     nan   \n",
       "1            1          1               1     1        [131, 36, 81]     nan   \n",
       "2            2          2               0     1  [131, 101, 162, 92] 1.00000   \n",
       "3            3          3               0     1  [131, 149, 162, 29]     nan   \n",
       "4            4          4               3     1    [131, 5, 162, 38] 1.00000   \n",
       "\n",
       "    right  percentage_correct        tags_str  \n",
       "0     nan                 nan   51 131 162 38  \n",
       "1     nan                 nan       131 36 81  \n",
       "2 0.00000             0.00000  131 101 162 92  \n",
       "3     nan                 nan  131 149 162 29  \n",
       "4 0.00000             0.00000    131 5 162 38  "
      ],
      "text/html": "<div>\n<style scoped>\n    .dataframe tbody tr th:only-of-type {\n        vertical-align: middle;\n    }\n\n    .dataframe tbody tr th {\n        vertical-align: top;\n    }\n\n    .dataframe thead th {\n        text-align: right;\n    }\n</style>\n<table border=\"1\" class=\"dataframe\">\n  <thead>\n    <tr style=\"text-align: right;\">\n      <th></th>\n      <th>question_id</th>\n      <th>bundle_id</th>\n      <th>correct_answer</th>\n      <th>part</th>\n      <th>tags</th>\n      <th>wrong</th>\n      <th>right</th>\n      <th>percentage_correct</th>\n      <th>tags_str</th>\n    </tr>\n  </thead>\n  <tbody>\n    <tr>\n      <th>0</th>\n      <td>0</td>\n      <td>0</td>\n      <td>0</td>\n      <td>1</td>\n      <td>[51, 131, 162, 38]</td>\n      <td>nan</td>\n      <td>nan</td>\n      <td>nan</td>\n      <td>51 131 162 38</td>\n    </tr>\n    <tr>\n      <th>1</th>\n      <td>1</td>\n      <td>1</td>\n      <td>1</td>\n      <td>1</td>\n      <td>[131, 36, 81]</td>\n      <td>nan</td>\n      <td>nan</td>\n      <td>nan</td>\n      <td>131 36 81</td>\n    </tr>\n    <tr>\n      <th>2</th>\n      <td>2</td>\n      <td>2</td>\n      <td>0</td>\n      <td>1</td>\n      <td>[131, 101, 162, 92]</td>\n      <td>1.00000</td>\n      <td>0.00000</td>\n      <td>0.00000</td>\n      <td>131 101 162 92</td>\n    </tr>\n    <tr>\n      <th>3</th>\n      <td>3</td>\n      <td>3</td>\n      <td>0</td>\n      <td>1</td>\n      <td>[131, 149, 162, 29]</td>\n      <td>nan</td>\n      <td>nan</td>\n      <td>nan</td>\n      <td>131 149 162 29</td>\n    </tr>\n    <tr>\n      <th>4</th>\n      <td>4</td>\n      <td>4</td>\n      <td>3</td>\n      <td>1</td>\n      <td>[131, 5, 162, 38]</td>\n      <td>1.00000</td>\n      <td>0.00000</td>\n      <td>0.00000</td>\n      <td>131 5 162 38</td>\n    </tr>\n  </tbody>\n</table>\n</div>"
     },
     "metadata": {},
     "execution_count": 64
    }
   ],
   "source": [
    "# Find the wrong and right question tags based on correctly answered\n",
    "tags_list = [value.split() for value in questions_df.tags.values]\n",
    "questions_df['tags_str'] = questions_df['tags']\n",
    "questions_df['tags'] = tags_list\n",
    "questions_df.head()"
   ]
  },
  {
   "cell_type": "code",
   "execution_count": 65,
   "metadata": {},
   "outputs": [
    {
     "output_type": "execute_result",
     "data": {
      "text/plain": [
       "     wrong  right  total_questions  question_ids_with_tag  percent_correct\n",
       "tag                                                                       \n",
       "124      4      0                4                     12          0.00000\n",
       "123      1      0                1                     29          0.00000\n",
       "134      2      0                2                     65          0.00000\n",
       "31       1      0                1                     10          0.00000\n",
       "170      3      0                3                     25          0.00000"
      ],
      "text/html": "<div>\n<style scoped>\n    .dataframe tbody tr th:only-of-type {\n        vertical-align: middle;\n    }\n\n    .dataframe tbody tr th {\n        vertical-align: top;\n    }\n\n    .dataframe thead th {\n        text-align: right;\n    }\n</style>\n<table border=\"1\" class=\"dataframe\">\n  <thead>\n    <tr style=\"text-align: right;\">\n      <th></th>\n      <th>wrong</th>\n      <th>right</th>\n      <th>total_questions</th>\n      <th>question_ids_with_tag</th>\n      <th>percent_correct</th>\n    </tr>\n    <tr>\n      <th>tag</th>\n      <th></th>\n      <th></th>\n      <th></th>\n      <th></th>\n      <th></th>\n    </tr>\n  </thead>\n  <tbody>\n    <tr>\n      <th>124</th>\n      <td>4</td>\n      <td>0</td>\n      <td>4</td>\n      <td>12</td>\n      <td>0.00000</td>\n    </tr>\n    <tr>\n      <th>123</th>\n      <td>1</td>\n      <td>0</td>\n      <td>1</td>\n      <td>29</td>\n      <td>0.00000</td>\n    </tr>\n    <tr>\n      <th>134</th>\n      <td>2</td>\n      <td>0</td>\n      <td>2</td>\n      <td>65</td>\n      <td>0.00000</td>\n    </tr>\n    <tr>\n      <th>31</th>\n      <td>1</td>\n      <td>0</td>\n      <td>1</td>\n      <td>10</td>\n      <td>0.00000</td>\n    </tr>\n    <tr>\n      <th>170</th>\n      <td>3</td>\n      <td>0</td>\n      <td>3</td>\n      <td>25</td>\n      <td>0.00000</td>\n    </tr>\n  </tbody>\n</table>\n</div>"
     },
     "metadata": {},
     "execution_count": 65
    }
   ],
   "source": [
    "tags_df = pd.DataFrame()\n",
    "for x in range(len(tags)):\n",
    "    df = questions_df[questions_df.tags.apply(lambda l: tags[x] in l)]\n",
    "    df1 = df.agg({'wrong': ['sum'], 'right': ['sum']})\n",
    "    df1['total_questions'] = df1.wrong + df1.right\n",
    "    df1['question_ids_with_tag'] = len(df)\n",
    "    df1['tag'] = tags[x]\n",
    "    df1 = df1.set_index('tag')\n",
    "    tags_df = tags_df.append(df1)\n",
    "\n",
    "tags_df[['wrong', 'right', 'total_questions']] = tags_df[['wrong', 'right', 'total_questions']].astype(int)\n",
    "tags_df['percent_correct'] = tags_df.right / tags_df.total_questions\n",
    "tags_df = tags_df.sort_values(by = \"percent_correct\")\n",
    "\n",
    "tags_df.head()"
   ]
  },
  {
   "cell_type": "code",
   "execution_count": 66,
   "metadata": {},
   "outputs": [],
   "source": [
    "def is_question_above_average_answering(row):\n",
    "    percentage_correct = questions_df[questions_df[\"question_id\"] == row.content_id].percentage_correct.values\n",
    "    if percentage_correct:\n",
    "        return percentage_correct[0] > 0.5\n",
    "    return False\n",
    "\n",
    "def is_all_tags_above_average_answering(row):\n",
    "    tags_answer_percentages = []\n",
    "    tags = questions_df[questions_df[\"question_id\"] == row.content_id].tags.values\n",
    "    if not tags:\n",
    "        return False\n",
    "    tags = tags[0]\n",
    "    for tag in tags:\n",
    "        tags_answer_percentages.append(tags_df.loc[tag].percent_correct)\n",
    "    overall_tag_percentage = sum(tags_answer_percentages) / len(tags)\n",
    "    return overall_tag_percentage > 0.5\n",
    "\n",
    "train_df['question_has_above_average_correctness'] = train_df.apply(lambda row: is_question_above_average_answering(row), axis=1)\n",
    "train_df['tag_has_above_average_correctness'] = train_df.apply(lambda row: is_all_tags_above_average_answering(row), axis=1)"
   ]
  },
  {
   "cell_type": "code",
   "execution_count": 67,
   "metadata": {},
   "outputs": [
    {
     "output_type": "execute_result",
     "data": {
      "text/plain": [
       "     row_id    timestamp  user_id  content_id  content_type_id  \\\n",
       "0         0            0      115        5692                0   \n",
       "1         1        56943      115        5716                0   \n",
       "2         2       118363      115         128                0   \n",
       "3         3       131167      115        7860                0   \n",
       "4         4       137965      115        7922                0   \n",
       "..      ...          ...      ...         ...              ...   \n",
       "995     995  15092368574    13134        2334                0   \n",
       "996     996  15092368574    13134        2333                0   \n",
       "997     997  15092493419    13134        2182                0   \n",
       "998     998  15092493419    13134        2184                0   \n",
       "999     999  15092493419    13134        2183                0   \n",
       "\n",
       "     task_container_id  user_answer  answered_correctly  \\\n",
       "0                    1            3                   1   \n",
       "1                    2            2                   1   \n",
       "2                    0            0                   1   \n",
       "3                    3            0                   1   \n",
       "4                    4            1                   1   \n",
       "..                 ...          ...                 ...   \n",
       "995                297            3                   0   \n",
       "996                297            0                   0   \n",
       "997                298            3                   0   \n",
       "998                298            0                   1   \n",
       "999                298            1                   1   \n",
       "\n",
       "     prior_question_elapsed_time  prior_question_had_explanation  ...  \\\n",
       "0                            nan                            <NA>  ...   \n",
       "1                    37000.00000                           False  ...   \n",
       "2                    55000.00000                           False  ...   \n",
       "3                    19000.00000                           False  ...   \n",
       "4                    11000.00000                           False  ...   \n",
       "..                           ...                             ...  ...   \n",
       "995                  22333.00000                            True  ...   \n",
       "996                  22333.00000                            True  ...   \n",
       "997                  31666.00000                            True  ...   \n",
       "998                  31666.00000                            True  ...   \n",
       "999                  31666.00000                            True  ...   \n",
       "\n",
       "     question_took_more_than_average_user_time   event_time  shift_event_time  \\\n",
       "0                                        False          nan       56943.00000   \n",
       "1                                         True  56943.00000       61420.00000   \n",
       "2                                         True  61420.00000       12804.00000   \n",
       "3                                        False  12804.00000        6798.00000   \n",
       "4                                        False   6798.00000       19098.00000   \n",
       "..                                         ...          ...               ...   \n",
       "995                                       True      0.00000           0.00000   \n",
       "996                                       True      0.00000      124845.00000   \n",
       "997                                       True 124845.00000           0.00000   \n",
       "998                                       True      0.00000           0.00000   \n",
       "999                                       True      0.00000               nan   \n",
       "\n",
       "     shift_elapsed_time  event_lag_time  lag_time  answered_late  \\\n",
       "0           37000.00000     19943.00000   0.00000          False   \n",
       "1           55000.00000      6420.00000   0.00000          False   \n",
       "2           19000.00000     -6196.00000   0.00000          False   \n",
       "3           11000.00000     -4202.00000   0.00000          False   \n",
       "4            5000.00000     14098.00000   0.00000          False   \n",
       "..                  ...             ...       ...            ...   \n",
       "995         22333.00000    -22333.00000   0.00000          False   \n",
       "996         31666.00000     93179.00000   0.00000          False   \n",
       "997         31666.00000    -31666.00000   0.00000          False   \n",
       "998         31666.00000    -31666.00000   0.00000          False   \n",
       "999                 nan             nan       nan          False   \n",
       "\n",
       "     event_time_greater_than_average  question_has_above_average_correctness  \\\n",
       "0                              False                                    True   \n",
       "1                              False                                    True   \n",
       "2                              False                                    True   \n",
       "3                              False                                    True   \n",
       "4                              False                                    True   \n",
       "..                               ...                                     ...   \n",
       "995                            False                                   False   \n",
       "996                            False                                   False   \n",
       "997                            False                                   False   \n",
       "998                            False                                    True   \n",
       "999                            False                                    True   \n",
       "\n",
       "     tag_has_above_average_correctness  \n",
       "0                                 True  \n",
       "1                                 True  \n",
       "2                                 True  \n",
       "3                                 True  \n",
       "4                                 True  \n",
       "..                                 ...  \n",
       "995                               True  \n",
       "996                               True  \n",
       "997                               True  \n",
       "998                               True  \n",
       "999                               True  \n",
       "\n",
       "[1000 rows x 34 columns]"
      ],
      "text/html": "<div>\n<style scoped>\n    .dataframe tbody tr th:only-of-type {\n        vertical-align: middle;\n    }\n\n    .dataframe tbody tr th {\n        vertical-align: top;\n    }\n\n    .dataframe thead th {\n        text-align: right;\n    }\n</style>\n<table border=\"1\" class=\"dataframe\">\n  <thead>\n    <tr style=\"text-align: right;\">\n      <th></th>\n      <th>row_id</th>\n      <th>timestamp</th>\n      <th>user_id</th>\n      <th>content_id</th>\n      <th>content_type_id</th>\n      <th>task_container_id</th>\n      <th>user_answer</th>\n      <th>answered_correctly</th>\n      <th>prior_question_elapsed_time</th>\n      <th>prior_question_had_explanation</th>\n      <th>...</th>\n      <th>question_took_more_than_average_user_time</th>\n      <th>event_time</th>\n      <th>shift_event_time</th>\n      <th>shift_elapsed_time</th>\n      <th>event_lag_time</th>\n      <th>lag_time</th>\n      <th>answered_late</th>\n      <th>event_time_greater_than_average</th>\n      <th>question_has_above_average_correctness</th>\n      <th>tag_has_above_average_correctness</th>\n    </tr>\n  </thead>\n  <tbody>\n    <tr>\n      <th>0</th>\n      <td>0</td>\n      <td>0</td>\n      <td>115</td>\n      <td>5692</td>\n      <td>0</td>\n      <td>1</td>\n      <td>3</td>\n      <td>1</td>\n      <td>nan</td>\n      <td>&lt;NA&gt;</td>\n      <td>...</td>\n      <td>False</td>\n      <td>nan</td>\n      <td>56943.00000</td>\n      <td>37000.00000</td>\n      <td>19943.00000</td>\n      <td>0.00000</td>\n      <td>False</td>\n      <td>False</td>\n      <td>True</td>\n      <td>True</td>\n    </tr>\n    <tr>\n      <th>1</th>\n      <td>1</td>\n      <td>56943</td>\n      <td>115</td>\n      <td>5716</td>\n      <td>0</td>\n      <td>2</td>\n      <td>2</td>\n      <td>1</td>\n      <td>37000.00000</td>\n      <td>False</td>\n      <td>...</td>\n      <td>True</td>\n      <td>56943.00000</td>\n      <td>61420.00000</td>\n      <td>55000.00000</td>\n      <td>6420.00000</td>\n      <td>0.00000</td>\n      <td>False</td>\n      <td>False</td>\n      <td>True</td>\n      <td>True</td>\n    </tr>\n    <tr>\n      <th>2</th>\n      <td>2</td>\n      <td>118363</td>\n      <td>115</td>\n      <td>128</td>\n      <td>0</td>\n      <td>0</td>\n      <td>0</td>\n      <td>1</td>\n      <td>55000.00000</td>\n      <td>False</td>\n      <td>...</td>\n      <td>True</td>\n      <td>61420.00000</td>\n      <td>12804.00000</td>\n      <td>19000.00000</td>\n      <td>-6196.00000</td>\n      <td>0.00000</td>\n      <td>False</td>\n      <td>False</td>\n      <td>True</td>\n      <td>True</td>\n    </tr>\n    <tr>\n      <th>3</th>\n      <td>3</td>\n      <td>131167</td>\n      <td>115</td>\n      <td>7860</td>\n      <td>0</td>\n      <td>3</td>\n      <td>0</td>\n      <td>1</td>\n      <td>19000.00000</td>\n      <td>False</td>\n      <td>...</td>\n      <td>False</td>\n      <td>12804.00000</td>\n      <td>6798.00000</td>\n      <td>11000.00000</td>\n      <td>-4202.00000</td>\n      <td>0.00000</td>\n      <td>False</td>\n      <td>False</td>\n      <td>True</td>\n      <td>True</td>\n    </tr>\n    <tr>\n      <th>4</th>\n      <td>4</td>\n      <td>137965</td>\n      <td>115</td>\n      <td>7922</td>\n      <td>0</td>\n      <td>4</td>\n      <td>1</td>\n      <td>1</td>\n      <td>11000.00000</td>\n      <td>False</td>\n      <td>...</td>\n      <td>False</td>\n      <td>6798.00000</td>\n      <td>19098.00000</td>\n      <td>5000.00000</td>\n      <td>14098.00000</td>\n      <td>0.00000</td>\n      <td>False</td>\n      <td>False</td>\n      <td>True</td>\n      <td>True</td>\n    </tr>\n    <tr>\n      <th>...</th>\n      <td>...</td>\n      <td>...</td>\n      <td>...</td>\n      <td>...</td>\n      <td>...</td>\n      <td>...</td>\n      <td>...</td>\n      <td>...</td>\n      <td>...</td>\n      <td>...</td>\n      <td>...</td>\n      <td>...</td>\n      <td>...</td>\n      <td>...</td>\n      <td>...</td>\n      <td>...</td>\n      <td>...</td>\n      <td>...</td>\n      <td>...</td>\n      <td>...</td>\n      <td>...</td>\n    </tr>\n    <tr>\n      <th>995</th>\n      <td>995</td>\n      <td>15092368574</td>\n      <td>13134</td>\n      <td>2334</td>\n      <td>0</td>\n      <td>297</td>\n      <td>3</td>\n      <td>0</td>\n      <td>22333.00000</td>\n      <td>True</td>\n      <td>...</td>\n      <td>True</td>\n      <td>0.00000</td>\n      <td>0.00000</td>\n      <td>22333.00000</td>\n      <td>-22333.00000</td>\n      <td>0.00000</td>\n      <td>False</td>\n      <td>False</td>\n      <td>False</td>\n      <td>True</td>\n    </tr>\n    <tr>\n      <th>996</th>\n      <td>996</td>\n      <td>15092368574</td>\n      <td>13134</td>\n      <td>2333</td>\n      <td>0</td>\n      <td>297</td>\n      <td>0</td>\n      <td>0</td>\n      <td>22333.00000</td>\n      <td>True</td>\n      <td>...</td>\n      <td>True</td>\n      <td>0.00000</td>\n      <td>124845.00000</td>\n      <td>31666.00000</td>\n      <td>93179.00000</td>\n      <td>0.00000</td>\n      <td>False</td>\n      <td>False</td>\n      <td>False</td>\n      <td>True</td>\n    </tr>\n    <tr>\n      <th>997</th>\n      <td>997</td>\n      <td>15092493419</td>\n      <td>13134</td>\n      <td>2182</td>\n      <td>0</td>\n      <td>298</td>\n      <td>3</td>\n      <td>0</td>\n      <td>31666.00000</td>\n      <td>True</td>\n      <td>...</td>\n      <td>True</td>\n      <td>124845.00000</td>\n      <td>0.00000</td>\n      <td>31666.00000</td>\n      <td>-31666.00000</td>\n      <td>0.00000</td>\n      <td>False</td>\n      <td>False</td>\n      <td>False</td>\n      <td>True</td>\n    </tr>\n    <tr>\n      <th>998</th>\n      <td>998</td>\n      <td>15092493419</td>\n      <td>13134</td>\n      <td>2184</td>\n      <td>0</td>\n      <td>298</td>\n      <td>0</td>\n      <td>1</td>\n      <td>31666.00000</td>\n      <td>True</td>\n      <td>...</td>\n      <td>True</td>\n      <td>0.00000</td>\n      <td>0.00000</td>\n      <td>31666.00000</td>\n      <td>-31666.00000</td>\n      <td>0.00000</td>\n      <td>False</td>\n      <td>False</td>\n      <td>True</td>\n      <td>True</td>\n    </tr>\n    <tr>\n      <th>999</th>\n      <td>999</td>\n      <td>15092493419</td>\n      <td>13134</td>\n      <td>2183</td>\n      <td>0</td>\n      <td>298</td>\n      <td>1</td>\n      <td>1</td>\n      <td>31666.00000</td>\n      <td>True</td>\n      <td>...</td>\n      <td>True</td>\n      <td>0.00000</td>\n      <td>nan</td>\n      <td>nan</td>\n      <td>nan</td>\n      <td>nan</td>\n      <td>False</td>\n      <td>False</td>\n      <td>True</td>\n      <td>True</td>\n    </tr>\n  </tbody>\n</table>\n<p>1000 rows × 34 columns</p>\n</div>"
     },
     "metadata": {},
     "execution_count": 67
    }
   ],
   "source": [
    "train_df"
   ]
  },
  {
   "source": [
    "##### 6. toughtest questions relates to the lag time and the elapsed time"
   ],
   "cell_type": "markdown",
   "metadata": {}
  },
  {
   "cell_type": "code",
   "execution_count": 68,
   "metadata": {},
   "outputs": [
    {
     "output_type": "execute_result",
     "data": {
      "text/plain": [
       "             lag_time  question_has_above_average_correctness\n",
       "content_id                                                   \n",
       "2             0.00000                                       0\n",
       "4             0.00000                                       0\n",
       "6             0.00000                                       1\n",
       "9             0.00000                                       0\n",
       "18         1000.00000                                       2\n",
       "...               ...                                     ...\n",
       "12550         0.00000                                       0\n",
       "12551         0.00000                                       1\n",
       "12576         0.00000                                       1\n",
       "12577         0.00000                                       1\n",
       "12578         0.00000                                       1\n",
       "\n",
       "[871 rows x 2 columns]"
      ],
      "text/html": "<div>\n<style scoped>\n    .dataframe tbody tr th:only-of-type {\n        vertical-align: middle;\n    }\n\n    .dataframe tbody tr th {\n        vertical-align: top;\n    }\n\n    .dataframe thead th {\n        text-align: right;\n    }\n</style>\n<table border=\"1\" class=\"dataframe\">\n  <thead>\n    <tr style=\"text-align: right;\">\n      <th></th>\n      <th>lag_time</th>\n      <th>question_has_above_average_correctness</th>\n    </tr>\n    <tr>\n      <th>content_id</th>\n      <th></th>\n      <th></th>\n    </tr>\n  </thead>\n  <tbody>\n    <tr>\n      <th>2</th>\n      <td>0.00000</td>\n      <td>0</td>\n    </tr>\n    <tr>\n      <th>4</th>\n      <td>0.00000</td>\n      <td>0</td>\n    </tr>\n    <tr>\n      <th>6</th>\n      <td>0.00000</td>\n      <td>1</td>\n    </tr>\n    <tr>\n      <th>9</th>\n      <td>0.00000</td>\n      <td>0</td>\n    </tr>\n    <tr>\n      <th>18</th>\n      <td>1000.00000</td>\n      <td>2</td>\n    </tr>\n    <tr>\n      <th>...</th>\n      <td>...</td>\n      <td>...</td>\n    </tr>\n    <tr>\n      <th>12550</th>\n      <td>0.00000</td>\n      <td>0</td>\n    </tr>\n    <tr>\n      <th>12551</th>\n      <td>0.00000</td>\n      <td>1</td>\n    </tr>\n    <tr>\n      <th>12576</th>\n      <td>0.00000</td>\n      <td>1</td>\n    </tr>\n    <tr>\n      <th>12577</th>\n      <td>0.00000</td>\n      <td>1</td>\n    </tr>\n    <tr>\n      <th>12578</th>\n      <td>0.00000</td>\n      <td>1</td>\n    </tr>\n  </tbody>\n</table>\n<p>871 rows × 2 columns</p>\n</div>"
     },
     "metadata": {},
     "execution_count": 68
    }
   ],
   "source": [
    "train_df[(train_df['content_type_id']==0)][['content_id', 'lag_time', 'question_has_above_average_correctness']].groupby(['content_id']).sum()\n",
    "# The graph needs to be drawn to get more details"
   ]
  },
  {
   "cell_type": "code",
   "execution_count": 69,
   "metadata": {},
   "outputs": [
    {
     "output_type": "execute_result",
     "data": {
      "text/plain": [
       "            shift_elapsed_time  question_has_above_average_correctness\n",
       "content_id                                                            \n",
       "2                  26000.00000                                       0\n",
       "4                  20000.00000                                       0\n",
       "6                  22000.00000                                       1\n",
       "9                      0.00000                                       0\n",
       "18                 51000.00000                                       2\n",
       "...                        ...                                     ...\n",
       "12550              32000.00000                                       0\n",
       "12551              32000.00000                                       1\n",
       "12576              34666.00000                                       1\n",
       "12577              25000.00000                                       1\n",
       "12578              34666.00000                                       1\n",
       "\n",
       "[871 rows x 2 columns]"
      ],
      "text/html": "<div>\n<style scoped>\n    .dataframe tbody tr th:only-of-type {\n        vertical-align: middle;\n    }\n\n    .dataframe tbody tr th {\n        vertical-align: top;\n    }\n\n    .dataframe thead th {\n        text-align: right;\n    }\n</style>\n<table border=\"1\" class=\"dataframe\">\n  <thead>\n    <tr style=\"text-align: right;\">\n      <th></th>\n      <th>shift_elapsed_time</th>\n      <th>question_has_above_average_correctness</th>\n    </tr>\n    <tr>\n      <th>content_id</th>\n      <th></th>\n      <th></th>\n    </tr>\n  </thead>\n  <tbody>\n    <tr>\n      <th>2</th>\n      <td>26000.00000</td>\n      <td>0</td>\n    </tr>\n    <tr>\n      <th>4</th>\n      <td>20000.00000</td>\n      <td>0</td>\n    </tr>\n    <tr>\n      <th>6</th>\n      <td>22000.00000</td>\n      <td>1</td>\n    </tr>\n    <tr>\n      <th>9</th>\n      <td>0.00000</td>\n      <td>0</td>\n    </tr>\n    <tr>\n      <th>18</th>\n      <td>51000.00000</td>\n      <td>2</td>\n    </tr>\n    <tr>\n      <th>...</th>\n      <td>...</td>\n      <td>...</td>\n    </tr>\n    <tr>\n      <th>12550</th>\n      <td>32000.00000</td>\n      <td>0</td>\n    </tr>\n    <tr>\n      <th>12551</th>\n      <td>32000.00000</td>\n      <td>1</td>\n    </tr>\n    <tr>\n      <th>12576</th>\n      <td>34666.00000</td>\n      <td>1</td>\n    </tr>\n    <tr>\n      <th>12577</th>\n      <td>25000.00000</td>\n      <td>1</td>\n    </tr>\n    <tr>\n      <th>12578</th>\n      <td>34666.00000</td>\n      <td>1</td>\n    </tr>\n  </tbody>\n</table>\n<p>871 rows × 2 columns</p>\n</div>"
     },
     "metadata": {},
     "execution_count": 69
    }
   ],
   "source": [
    "train_df[(train_df['content_type_id']==0)][['content_id', 'shift_elapsed_time', 'question_has_above_average_correctness']].groupby(['content_id']).sum()"
   ]
  },
  {
   "cell_type": "code",
   "execution_count": 70,
   "metadata": {},
   "outputs": [],
   "source": [
    "# 1. Lag time based on the min/average question time - Done\n",
    "# 2. Check if the average question time is greater than or not - Done\n",
    "# 3. The timestamp is greater or not - Done\n",
    "# 4. check if the top users and top interactions has any relation - Must be run on full dataset\n",
    "# 5. Find the toughest question - Done\n",
    "# 6. Find if the toughest question relates to the lag time\n",
    "# 7. Find if the toughest question relates to the elapsed time\n"
   ]
  },
  {
   "source": [
    "##### 7. The questions asked based on the ai system or repeated questions asked should be checked"
   ],
   "cell_type": "markdown",
   "metadata": {}
  },
  {
   "cell_type": "code",
   "execution_count": 85,
   "metadata": {},
   "outputs": [],
   "source": [
    "train_df['days_int'] = train_df.apply(lambda row: int(row.days), axis=1)"
   ]
  },
  {
   "cell_type": "code",
   "execution_count": 109,
   "metadata": {},
   "outputs": [],
   "source": [
    "previous_data = {}\n",
    "def check_if_same_day_same_question_asked(row):\n",
    "    if (row.user_id, row.content_id) in previous_data:\n",
    "        if previous_data[(row.user_id, row.content_id)].get(\"day\") != row.days_int:\n",
    "            previous_data[(row.user_id, row.content_id)][\"day\"] =  row.days_int\n",
    "            return False\n",
    "        return True\n",
    "    else:\n",
    "        previous_data[(row.user_id, row.content_id)] = {\"day\": row.days_int}\n",
    "        return False\n",
    "\n",
    "train_df[train_df['content_type_id'] == 0]['same_day_question_asked'] = train_df[train_df['content_type_id'] == 0][['content_id', 'user_id', 'days_int']].apply(lambda row: check_if_same_day_same_question_asked(row), axis=1)"
   ]
  },
  {
   "cell_type": "code",
   "execution_count": 120,
   "metadata": {},
   "outputs": [],
   "source": [
    "previous_days_data = {}\n",
    "def check_if_repeated_question_asked(row):\n",
    "    if (row.user_id, row.content_id) in previous_days_data:\n",
    "        previous_days_data[(row.user_id, row.content_id)][\"days\"].append(row.days_int)\n",
    "        return True\n",
    "    else:\n",
    "        previous_days_data[(row.user_id, row.content_id)] = {\"days\": [row.days_int]}\n",
    "        return False\n",
    "\n",
    "train_df['repeated_question'] = train_df[train_df['content_type_id'] == 0][['content_id', 'user_id', 'days_int']].apply(lambda row: check_if_repeated_question_asked(row), axis=1)"
   ]
  }
 ]
}